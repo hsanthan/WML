{
 "cells": [
  {
   "cell_type": "code",
   "execution_count": 46,
   "id": "ebfc7733-a6f9-4399-bde6-c1bc4a8e3226",
   "metadata": {},
   "outputs": [
    {
     "name": "stdout",
     "output_type": "stream",
     "text": [
      "Requirement already satisfied: requests>=2.22.0 in /Users/hema/opt/anaconda3/lib/python3.9/site-packages (from -r requirements.txt (line 1)) (2.31.0)\n",
      "Requirement already satisfied: ibm-cloud-sdk-core>=3.3.6 in /Users/hema/opt/anaconda3/lib/python3.9/site-packages (from -r requirements.txt (line 2)) (3.16.0)\n",
      "Requirement already satisfied: ibm-watson>=5.3.0 in /Users/hema/opt/anaconda3/lib/python3.9/site-packages (from -r requirements.txt (line 3)) (8.0.0)\n",
      "Requirement already satisfied: charset-normalizer<4,>=2 in /Users/hema/opt/anaconda3/lib/python3.9/site-packages (from requests>=2.22.0->-r requirements.txt (line 1)) (2.0.4)\n",
      "Requirement already satisfied: idna<4,>=2.5 in /Users/hema/opt/anaconda3/lib/python3.9/site-packages (from requests>=2.22.0->-r requirements.txt (line 1)) (3.3)\n",
      "Requirement already satisfied: urllib3<3,>=1.21.1 in /Users/hema/opt/anaconda3/lib/python3.9/site-packages (from requests>=2.22.0->-r requirements.txt (line 1)) (1.26.7)\n",
      "Requirement already satisfied: certifi>=2017.4.17 in /Users/hema/opt/anaconda3/lib/python3.9/site-packages (from requests>=2.22.0->-r requirements.txt (line 1)) (2022.12.7)\n",
      "Requirement already satisfied: python-dateutil<3.0.0,>=2.5.3 in /Users/hema/opt/anaconda3/lib/python3.9/site-packages (from ibm-cloud-sdk-core>=3.3.6->-r requirements.txt (line 2)) (2.8.2)\n",
      "Requirement already satisfied: PyJWT<3.0.0,>=2.4.0 in /Users/hema/opt/anaconda3/lib/python3.9/site-packages (from ibm-cloud-sdk-core>=3.3.6->-r requirements.txt (line 2)) (2.4.0)\n",
      "Requirement already satisfied: websocket-client>=1.1.0 in /Users/hema/opt/anaconda3/lib/python3.9/site-packages (from ibm-watson>=5.3.0->-r requirements.txt (line 3)) (1.5.1)\n",
      "Requirement already satisfied: six>=1.5 in /Users/hema/opt/anaconda3/lib/python3.9/site-packages (from python-dateutil<3.0.0,>=2.5.3->ibm-cloud-sdk-core>=3.3.6->-r requirements.txt (line 2)) (1.12.0)\n",
      "\u001b[33mDEPRECATION: qiskit-nature 0.5.1 has a non-standard dependency specifier qiskit-terra>=0.22.*. pip 24.1 will enforce this behaviour change. A possible replacement is to upgrade to a newer version of qiskit-nature or contact the author to suggest that they release a version with a conforming dependency specifiers. Discussion can be found at https://github.com/pypa/pip/issues/12063\u001b[0m\u001b[33m\n",
      "\u001b[0m\u001b[33mDEPRECATION: textract 1.6.5 has a non-standard dependency specifier extract-msg<=0.29.*. pip 24.1 will enforce this behaviour change. A possible replacement is to upgrade to a newer version of textract or contact the author to suggest that they release a version with a conforming dependency specifiers. Discussion can be found at https://github.com/pypa/pip/issues/12063\u001b[0m\u001b[33m\n",
      "\u001b[0m\n",
      "\u001b[1m[\u001b[0m\u001b[34;49mnotice\u001b[0m\u001b[1;39;49m]\u001b[0m\u001b[39;49m A new release of pip is available: \u001b[0m\u001b[31;49m24.0\u001b[0m\u001b[39;49m -> \u001b[0m\u001b[32;49m24.2\u001b[0m\n",
      "\u001b[1m[\u001b[0m\u001b[34;49mnotice\u001b[0m\u001b[1;39;49m]\u001b[0m\u001b[39;49m To update, run: \u001b[0m\u001b[32;49mpip install --upgrade pip\u001b[0m\n"
     ]
    }
   ],
   "source": [
    "!pip3 install -r requirements.txt"
   ]
  },
  {
   "cell_type": "code",
   "execution_count": 51,
   "id": "cdbb0710-37ba-474d-8d90-521771b73b36",
   "metadata": {},
   "outputs": [],
   "source": [
    "from requests.auth import HTTPBasicAuth\n",
    "from ibm_cloud_sdk_core.api_exception import ApiException\n",
    "from ibm_watson import DiscoveryV2\n",
    "from ibm_cloud_sdk_core.authenticators import IAMAuthenticator\n",
    "\n",
    "import json\n",
    "from ibm_watson import DiscoveryV2\n",
    "from ibm_cloud_sdk_core.authenticators import CloudPakForDataAuthenticator\n",
    "import DiscoveryDetails as dt\n",
    "\n",
    "\n",
    "from pprint import pprint"
   ]
  },
  {
   "cell_type": "markdown",
   "id": "7103ceba-d029-4574-b21a-611de6f7c306",
   "metadata": {},
   "source": [
    "- get the api key and url from the resources list page\n",
    "- https://cloud.ibm.com/services/discovery/crn%3Av1%3Abluemix%3Apublic%3Adiscovery%3Aus-south%3Aa%2F46c4f2c9bc554c8293a3574f4d0bee64%3A550014a0-5903-4e54-9704-42e2d5847a42%3A%3A?paneId=manage\n",
    "- project id from the projects -> integrate and deploy --> API Information"
   ]
  },
  {
   "cell_type": "code",
   "execution_count": 52,
   "id": "78b6541f-24d4-4d2e-b579-84cce95fbbe7",
   "metadata": {},
   "outputs": [],
   "source": [
    "#cloud_apikey = 'yejHZ5NsoHKD37gncG4dOUZlMbmKA4gWrnvNRMPpaLu2'\n",
    "apikey = 'upuzegAg8qE2aHwOob6ai-r9uENdUeA-5ZUExvy-5Juc' # from the WD resource list https://cloud.ibm.com/services/discovery/crn%3Av1%3Abluemix%3Apublic%3Adiscovery%3Aus-south%3Aa%2F46c4f2c9bc554c8293a3574f4d0bee64%3A550014a0-5903-4e54-9704-42e2d5847a42%3A%3A?paneId=manage\n",
    "project_id = 'acfe53ea-a6e5-4c1d-a05c-352a145a4ca3'\n",
    "#collection_id = 'xxxxxxxx-xxxx-xxxx-xxxx-xxxxxxxxx'\n",
    "#url = 'https://api.xxxx.discovery.watson.cloud.ibm.com/instances/xxxxxxxxxxxx'\n",
    "url = 'https://api.us-south.discovery.watson.cloud.ibm.com/instances/550014a0-5903-4e54-9704-42e2d5847a42'\n",
    "version = '2020-08-30'\n",
    "\n",
    "\n",
    "authenticator = IAMAuthenticator(apikey)\n",
    "discovery = DiscoveryV2(\n",
    "    version=version,\n",
    "    authenticator=authenticator\n",
    ")\n",
    "\n",
    "\n",
    "discovery.set_service_url(url)#('https://us-south.discovery.watson.cloud.ibm.com')\n",
    "discovery.set_disable_ssl_verification(True)\n",
    "\n",
    "#https://us-south.discovery.watson.cloud.ibm.com/v2/instances/crn%3Av1%3Abluemix%3Apublic%3Adiscovery%3Aus-south%3Aa%2F46c4f2c9bc554c8293a3574f4d0bee64%3A550014a0-5903-4e54-9704-42e2d5847a42%3A%3A/\n",
    "#projects/ec800c2a-ecc1-49ca-a3fd-f7a9addf2e43/workspace/preview/"
   ]
  },
  {
   "cell_type": "code",
   "execution_count": 136,
   "id": "bb023bae-6503-45b4-b81f-4822577119ce",
   "metadata": {},
   "outputs": [
    {
     "name": "stderr",
     "output_type": "stream",
     "text": [
      "/Users/hema/opt/anaconda3/envs/DND/lib/python3.10/site-packages/urllib3/connectionpool.py:1099: InsecureRequestWarning: Unverified HTTPS request is being made to host 'api.us-south.discovery.watson.cloud.ibm.com'. Adding certificate verification is strongly advised. See: https://urllib3.readthedocs.io/en/latest/advanced-usage.html#tls-warnings\n",
      "  warnings.warn(\n"
     ]
    }
   ],
   "source": [
    "\n",
    "response = discovery.list_collections(\n",
    "  project_id = project_id\n",
    ").get_result()\n"
   ]
  },
  {
   "cell_type": "code",
   "execution_count": 137,
   "id": "7da23dc0-6104-409b-bca5-ca094d009ade",
   "metadata": {},
   "outputs": [
    {
     "name": "stdout",
     "output_type": "stream",
     "text": [
      "{\n",
      "  \"collections\": [\n",
      "    {\n",
      "      \"name\": \"RelTrain Collection 2\",\n",
      "      \"collection_id\": \"9304a6de-75dc-bc3f-0000-0191deb87ae0\"\n",
      "    }\n",
      "  ]\n",
      "}\n"
     ]
    }
   ],
   "source": [
    "print(json.dumps(response, indent=2))\n",
    "#pprint(response)"
   ]
  },
  {
   "cell_type": "code",
   "execution_count": 138,
   "id": "19a61cf7-7427-472a-a5c4-6ef75ad21907",
   "metadata": {},
   "outputs": [],
   "source": [
    "collection_id = response['collections'][0]['collection_id']"
   ]
  },
  {
   "cell_type": "code",
   "execution_count": 139,
   "id": "345a7189-31c3-40f2-bb1b-5c78cba126f5",
   "metadata": {},
   "outputs": [
    {
     "data": {
      "text/plain": [
       "'9304a6de-75dc-bc3f-0000-0191deb87ae0'"
      ]
     },
     "execution_count": 139,
     "metadata": {},
     "output_type": "execute_result"
    }
   ],
   "source": [
    "collection_id"
   ]
  },
  {
   "cell_type": "code",
   "execution_count": 140,
   "id": "df857e53-337a-440f-b981-66a9b3effa3c",
   "metadata": {},
   "outputs": [
    {
     "name": "stderr",
     "output_type": "stream",
     "text": [
      "/Users/hema/opt/anaconda3/envs/DND/lib/python3.10/site-packages/urllib3/connectionpool.py:1099: InsecureRequestWarning: Unverified HTTPS request is being made to host 'api.us-south.discovery.watson.cloud.ibm.com'. Adding certificate verification is strongly advised. See: https://urllib3.readthedocs.io/en/latest/advanced-usage.html#tls-warnings\n",
      "  warnings.warn(\n"
     ]
    }
   ],
   "source": [
    "Question = 'What are the list of illnesses and the exclusions from a critical illness cover?'\n",
    "result = discovery.query(\n",
    "                project_id=project_id,\n",
    "                query=question,\n",
    "                count=5\n",
    "            ).get_result()"
   ]
  },
  {
   "cell_type": "code",
   "execution_count": 141,
   "id": "f7896f61-0463-41ec-b093-791bd21e3639",
   "metadata": {},
   "outputs": [
    {
     "data": {
      "text/plain": [
       "{'matching_results': 1,\n",
       " 'retrieval_details': {'document_retrieval_strategy': 'untrained'},\n",
       " 'aggregations': [{'type': 'term',\n",
       "   'field': 'enriched_text.entities.text',\n",
       "   'name': 'entities',\n",
       "   'results': [{'key': '$2.50', 'matching_results': 1},\n",
       "    {'key': '$25,000', 'matching_results': 1},\n",
       "    {'key': '$5,000', 'matching_results': 1},\n",
       "    {'key': '$50,000', 'matching_results': 1},\n",
       "    {'key': '1', 'matching_results': 1},\n",
       "    {'key': '1-844-528-0583', 'matching_results': 1},\n",
       "    {'key': '1-877-893-9893', 'matching_results': 1},\n",
       "    {'key': '1.0', 'matching_results': 1},\n",
       "    {'key': '10', 'matching_results': 1},\n",
       "    {'key': '100 \\nmilliliters', 'matching_results': 1}]}],\n",
       " 'results': [{'document_id': '04711489-3a1a-4cf9-a8b1-026003bdb83a',\n",
       "   'result_metadata': {'collection_id': '9304a6de-75dc-bc3f-0000-0191deb87ae0'},\n",
       "   'enriched_text': [{'entities': [{'model_name': 'natural_language_understanding',\n",
       "       'mentions': [{'confidence': 0.3750491,\n",
       "         'location': {'end': 52, 'begin': 35},\n",
       "         'text': 'Illness Insurance'}],\n",
       "       'text': 'Illness Insurance',\n",
       "       'type': 'Organization'},\n",
       "      {'model_name': 'natural_language_understanding',\n",
       "       'mentions': [{'confidence': 0.7815165,\n",
       "         'location': {'end': 122, 'begin': 96},\n",
       "         'text': 'Sun Life Assurance Company'}],\n",
       "       'text': 'Sun Life Assurance Company',\n",
       "       'type': 'Organization'},\n",
       "      {'model_name': 'natural_language_understanding',\n",
       "       'mentions': [{'confidence': 0.60482615,\n",
       "         'location': {'end': 132, 'begin': 126},\n",
       "         'text': 'Canada'},\n",
       "        {'confidence': 0.9876522,\n",
       "         'location': {'end': 771, 'begin': 765},\n",
       "         'text': 'Canada'},\n",
       "        {'confidence': 0.98162234,\n",
       "         'location': {'end': 1152, 'begin': 1146},\n",
       "         'text': 'Canada'},\n",
       "        {'confidence': 0.99271846,\n",
       "         'location': {'end': 11053, 'begin': 11047},\n",
       "         'text': 'Canada'},\n",
       "        {'confidence': 0.9849572,\n",
       "         'location': {'end': 13437, 'begin': 13431},\n",
       "         'text': 'Canada'},\n",
       "        {'confidence': 0.9806656,\n",
       "         'location': {'end': 13825, 'begin': 13819},\n",
       "         'text': 'Canada'},\n",
       "        {'confidence': 0.99347925,\n",
       "         'location': {'end': 23330, 'begin': 23324},\n",
       "         'text': 'Canada'}],\n",
       "       'text': 'Canada',\n",
       "       'type': 'Location'},\n",
       "      {'model_name': 'natural_language_understanding',\n",
       "       'mentions': [{'confidence': 0.58860725,\n",
       "         'location': {'end': 184, 'begin': 170},\n",
       "         'text': 'Sun Life group'}],\n",
       "       'text': 'Sun Life group',\n",
       "       'type': 'Organization'},\n",
       "      {'model_name': 'natural_language_understanding',\n",
       "       'mentions': [{'confidence': 0.24056856,\n",
       "         'location': {'end': 206, 'begin': 198},\n",
       "         'text': 'SUN LIFE'},\n",
       "        {'confidence': 0.24056856,\n",
       "         'location': {'end': 3491, 'begin': 3483},\n",
       "         'text': 'SUN LIFE'},\n",
       "        {'confidence': 0.24056856,\n",
       "         'location': {'end': 4603, 'begin': 4595},\n",
       "         'text': 'SUN LIFE'},\n",
       "        {'confidence': 0.24056856,\n",
       "         'location': {'end': 6651, 'begin': 6643},\n",
       "         'text': 'SUN LIFE'},\n",
       "        {'confidence': 0.24056856,\n",
       "         'location': {'end': 8928, 'begin': 8920},\n",
       "         'text': 'SUN LIFE'},\n",
       "        {'confidence': 0.24056856,\n",
       "         'location': {'end': 11383, 'begin': 11375},\n",
       "         'text': 'SUN LIFE'},\n",
       "        {'confidence': 0.24056856,\n",
       "         'location': {'end': 14552, 'begin': 14544},\n",
       "         'text': 'SUN LIFE'},\n",
       "        {'confidence': 0.24056856,\n",
       "         'location': {'end': 17690, 'begin': 17682},\n",
       "         'text': 'SUN LIFE'},\n",
       "        {'confidence': 0.24056856,\n",
       "         'location': {'end': 19902, 'begin': 19894},\n",
       "         'text': 'SUN LIFE'},\n",
       "        {'confidence': 0.24056856,\n",
       "         'location': {'end': 22511, 'begin': 22503},\n",
       "         'text': 'SUN LIFE'}],\n",
       "       'text': 'SUN LIFE',\n",
       "       'type': 'Organization'},\n",
       "      {'model_name': 'natural_language_understanding',\n",
       "       'mentions': [{'confidence': 0.8,\n",
       "         'location': {'end': 211, 'begin': 210},\n",
       "         'text': '2'}],\n",
       "       'text': '2',\n",
       "       'type': 'Number'},\n",
       "      {'model_name': 'natural_language_understanding',\n",
       "       'mentions': [{'confidence': 0.64903176,\n",
       "         'location': {'end': 247, 'begin': 227},\n",
       "         'text': 'Express CI Insurance'},\n",
       "        {'confidence': 0.62148833,\n",
       "         'location': {'end': 3529, 'begin': 3509},\n",
       "         'text': 'Express CI Insurance'},\n",
       "        {'confidence': 0.65838903,\n",
       "         'location': {'end': 4644, 'begin': 4624},\n",
       "         'text': 'Express CI Insurance'},\n",
       "        {'confidence': 0.46791664,\n",
       "         'location': {'end': 6689, 'begin': 6669},\n",
       "         'text': 'Express CI Insurance'},\n",
       "        {'confidence': 0.67353487,\n",
       "         'location': {'end': 8969, 'begin': 8949},\n",
       "         'text': 'Express CI Insurance'},\n",
       "        {'confidence': 0.49982014,\n",
       "         'location': {'end': 11421, 'begin': 11401},\n",
       "         'text': 'Express CI Insurance'},\n",
       "        {'confidence': 0.67212296,\n",
       "         'location': {'end': 14593, 'begin': 14573},\n",
       "         'text': 'Express CI Insurance'},\n",
       "        {'confidence': 0.5046503,\n",
       "         'location': {'end': 17728, 'begin': 17708},\n",
       "         'text': 'Express CI Insurance'},\n",
       "        {'confidence': 0.6591149,\n",
       "         'location': {'end': 19944, 'begin': 19924},\n",
       "         'text': 'Express CI Insurance'},\n",
       "        {'confidence': 0.4435812,\n",
       "         'location': {'end': 22549, 'begin': 22529},\n",
       "         'text': 'Express CI Insurance'}],\n",
       "       'text': 'Express CI Insurance',\n",
       "       'type': 'Organization'},\n",
       "      {'model_name': 'natural_language_understanding',\n",
       "       'mentions': [{'confidence': 0.3529925,\n",
       "         'location': {'end': 485, 'begin': 439},\n",
       "         'text': 'Express Critical Illness (CI) Insurance policy'}],\n",
       "       'text': 'Express Critical Illness (CI) Insurance policy',\n",
       "       'type': 'Organization'},\n",
       "      {'model_name': 'natural_language_understanding',\n",
       "       'mentions': [{'confidence': 0.8048919,\n",
       "         'location': {'end': 729, 'begin': 719},\n",
       "         'text': 'specialist'},\n",
       "        {'confidence': 0.8124613,\n",
       "         'location': {'end': 785, 'begin': 775},\n",
       "         'text': 'specialist'},\n",
       "        {'confidence': 0.6144151,\n",
       "         'location': {'end': 1065, 'begin': 1055},\n",
       "         'text': 'specialist'},\n",
       "        {'confidence': 0.79162395,\n",
       "         'location': {'end': 4863, 'begin': 4853},\n",
       "         'text': 'specialist'},\n",
       "        {'confidence': 0.80688477,\n",
       "         'location': {'end': 8469, 'begin': 8459},\n",
       "         'text': 'specialist'},\n",
       "        {'confidence': 0.8017951,\n",
       "         'location': {'end': 9501, 'begin': 9491},\n",
       "         'text': 'specialist'},\n",
       "        {'confidence': 0.7980002,\n",
       "         'location': {'end': 10119, 'begin': 10109},\n",
       "         'text': 'specialist'},\n",
       "        {'confidence': 0.7980002,\n",
       "         'location': {'end': 10580, 'begin': 10570},\n",
       "         'text': 'specialist'},\n",
       "        {'confidence': 0.7854121,\n",
       "         'location': {'end': 11295, 'begin': 11285},\n",
       "         'text': 'specialist'},\n",
       "        {'confidence': 0.7854121,\n",
       "         'location': {'end': 11939, 'begin': 11929},\n",
       "         'text': 'specialist'},\n",
       "        {'confidence': 0.80745494,\n",
       "         'location': {'end': 13395, 'begin': 13385},\n",
       "         'text': 'specialist'},\n",
       "        {'confidence': 0.8081932,\n",
       "         'location': {'end': 13451, 'begin': 13441},\n",
       "         'text': 'specialist'},\n",
       "        {'confidence': 0.69627404,\n",
       "         'location': {'end': 13737, 'begin': 13727},\n",
       "         'text': 'specialist'},\n",
       "        {'confidence': 0.73825026,\n",
       "         'location': {'end': 13976, 'begin': 13966},\n",
       "         'text': 'specialist'},\n",
       "        {'confidence': 0.7980002,\n",
       "         'location': {'end': 18089, 'begin': 18079},\n",
       "         'text': 'specialist'},\n",
       "        {'confidence': 0.79162395,\n",
       "         'location': {'end': 18371, 'begin': 18361},\n",
       "         'text': 'specialist'},\n",
       "        {'confidence': 0.7980002,\n",
       "         'location': {'end': 21738, 'begin': 21728},\n",
       "         'text': 'specialist'},\n",
       "        {'confidence': 0.80688477,\n",
       "         'location': {'end': 22424, 'begin': 22414},\n",
       "         'text': 'specialist'},\n",
       "        {'confidence': 0.7854121,\n",
       "         'location': {'end': 23571, 'begin': 23561},\n",
       "         'text': 'specialist'},\n",
       "        {'confidence': 0.7854121,\n",
       "         'location': {'end': 24151, 'begin': 24141},\n",
       "         'text': 'specialist'},\n",
       "        {'confidence': 0.8017951,\n",
       "         'location': {'end': 24749, 'begin': 24739},\n",
       "         'text': 'specialist'}],\n",
       "       'text': 'specialist',\n",
       "       'type': 'JobTitle'},\n",
       "      {'model_name': 'natural_language_understanding',\n",
       "       'mentions': [{'confidence': 0.79127157,\n",
       "         'location': {'end': 820, 'begin': 800},\n",
       "         'text': 'medical practitioner'},\n",
       "        {'confidence': 0.8001355,\n",
       "         'location': {'end': 1131, 'begin': 1111},\n",
       "         'text': 'medical practitioner'},\n",
       "        {'confidence': 0.7948192,\n",
       "         'location': {'end': 13486, 'begin': 13466},\n",
       "         'text': 'medical practitioner'},\n",
       "        {'confidence': 0.8125367,\n",
       "         'location': {'end': 13804, 'begin': 13784},\n",
       "         'text': 'medical practitioner'}],\n",
       "       'text': 'medical practitioner',\n",
       "       'type': 'JobTitle'},\n",
       "      {'model_name': 'natural_language_understanding',\n",
       "       'mentions': [{'confidence': 0.5365306,\n",
       "         'location': {'end': 1371, 'begin': 1337},\n",
       "         'text': 'Express Critical Illness Insurance'}],\n",
       "       'text': 'Express Critical Illness Insurance',\n",
       "       'type': 'Organization'},\n",
       "      {'model_name': 'natural_language_understanding',\n",
       "       'mentions': [{'confidence': 0.7277276,\n",
       "         'location': {'end': 1473, 'begin': 1447},\n",
       "         'text': 'Critical Illness Insurance'}],\n",
       "       'text': 'Critical Illness Insurance',\n",
       "       'type': 'Organization'},\n",
       "      {'model_name': 'natural_language_understanding',\n",
       "       'mentions': [{'confidence': 0.6439603,\n",
       "         'location': {'end': 1555, 'begin': 1519},\n",
       "         'text': 'Sun Life Assurance Company of Canada'},\n",
       "        {'confidence': 0.54534584,\n",
       "         'location': {'end': 25524, 'begin': 25488},\n",
       "         'text': 'Sun Life Assurance Company of Canada'}],\n",
       "       'text': 'Sun Life Assurance Company of Canada',\n",
       "       'type': 'Organization'},\n",
       "      {'model_name': 'natural_language_understanding',\n",
       "       'mentions': [{'confidence': 0.61642736,\n",
       "         'location': {'end': 1598, 'begin': 1573},\n",
       "         'text': 'Sun Life \\nFinancial group'}],\n",
       "       'text': 'Sun Life \\nFinancial group',\n",
       "       'type': 'Organization'},\n",
       "      {'model_name': 'natural_language_understanding',\n",
       "       'mentions': [{'confidence': 0.8,\n",
       "         'location': {'end': 2044, 'begin': 2020},\n",
       "         'text': 'www.sunlife.ca/ExpressCI'}],\n",
       "       'text': 'www.sunlife.ca/ExpressCI',\n",
       "       'type': 'URL'},\n",
       "      {'model_name': 'natural_language_understanding',\n",
       "       'mentions': [{'confidence': 0.8,\n",
       "         'location': {'end': 2069, 'begin': 2055},\n",
       "         'text': '1-877-893-9893'}],\n",
       "       'text': '1-877-893-9893',\n",
       "       'type': 'PhoneNumber'},\n",
       "      {'model_name': 'natural_language_understanding',\n",
       "       'mentions': [{'confidence': 0.5933424,\n",
       "         'location': {'end': 2656, 'begin': 2649},\n",
       "         'text': '2 years'}],\n",
       "       'text': '2 years',\n",
       "       'type': 'Duration'},\n",
       "      {'model_name': 'natural_language_understanding',\n",
       "       'mentions': [{'confidence': 0.57515883,\n",
       "         'location': {'end': 2911, 'begin': 2902},\n",
       "         'text': '12 months'},\n",
       "        {'confidence': 0.63797,\n",
       "         'location': {'end': 3113, 'begin': 3104},\n",
       "         'text': '12 months'},\n",
       "        {'confidence': 0.57992953,\n",
       "         'location': {'end': 15312, 'begin': 15303},\n",
       "         'text': '12 months'},\n",
       "        {'confidence': 0.5995256,\n",
       "         'location': {'end': 15514, 'begin': 15505},\n",
       "         'text': '12 months'}],\n",
       "       'text': '12 months',\n",
       "       'type': 'Duration'},\n",
       "      {'model_name': 'natural_language_understanding',\n",
       "       'mentions': [{'confidence': 0.97054964,\n",
       "         'location': {'end': 3219, 'begin': 3210},\n",
       "         'text': 'physician'},\n",
       "        {'confidence': 0.9583594,\n",
       "         'location': {'end': 3447, 'begin': 3438},\n",
       "         'text': 'physician'},\n",
       "        {'confidence': 0.97155285,\n",
       "         'location': {'end': 15614, 'begin': 15605},\n",
       "         'text': 'physician'},\n",
       "        {'confidence': 0.9612205,\n",
       "         'location': {'end': 15852, 'begin': 15843},\n",
       "         'text': 'physician'}],\n",
       "       'text': 'physician',\n",
       "       'type': 'JobTitle'},\n",
       "      {'model_name': 'natural_language_understanding',\n",
       "       'mentions': [{'confidence': 0.70163155,\n",
       "         'location': {'end': 3253, 'begin': 3229},\n",
       "         'text': 'health care practitioner'},\n",
       "        {'confidence': 0.6557954,\n",
       "         'location': {'end': 3481, 'begin': 3457},\n",
       "         'text': 'health care practitioner'},\n",
       "        {'confidence': 0.71026725,\n",
       "         'location': {'end': 15648, 'begin': 15624},\n",
       "         'text': 'health care practitioner'},\n",
       "        {'confidence': 0.6597617,\n",
       "         'location': {'end': 15886, 'begin': 15862},\n",
       "         'text': 'health care practitioner'}],\n",
       "       'text': 'health care practitioner',\n",
       "       'type': 'JobTitle'},\n",
       "      {'model_name': 'natural_language_understanding',\n",
       "       'mentions': [{'confidence': 0.8,\n",
       "         'location': {'end': 3544, 'begin': 3543},\n",
       "         'text': '3'}],\n",
       "       'text': '3',\n",
       "       'type': 'Number'},\n",
       "      {'model_name': 'natural_language_understanding',\n",
       "       'mentions': [{'confidence': 0.31644613,\n",
       "         'location': {'end': 3852, 'begin': 3841},\n",
       "         'text': '18-65 years'},\n",
       "        {'confidence': 0.31644613,\n",
       "         'location': {'end': 3895, 'begin': 3884},\n",
       "         'text': '18-65 years'},\n",
       "        {'confidence': 0.32673383,\n",
       "         'location': {'end': 3938, 'begin': 3927},\n",
       "         'text': '18-65 years'}],\n",
       "       'text': '18-65 years',\n",
       "       'type': 'Duration'},\n",
       "      {'model_name': 'natural_language_understanding',\n",
       "       'mentions': [{'confidence': 0.9917241,\n",
       "         'location': {'end': 3996, 'begin': 3989},\n",
       "         'text': '$25,000'},\n",
       "        {'confidence': 0.9939953,\n",
       "         'location': {'end': 4006, 'begin': 3999},\n",
       "         'text': '$25,000'}],\n",
       "       'text': '$25,000',\n",
       "       'type': 'Money'},\n",
       "      {'model_name': 'natural_language_understanding',\n",
       "       'mentions': [{'confidence': 0.9874354,\n",
       "         'location': {'end': 4016, 'begin': 4009},\n",
       "         'text': '$50,000'}],\n",
       "       'text': '$50,000',\n",
       "       'type': 'Money'},\n",
       "      {'model_name': 'natural_language_understanding',\n",
       "       'mentions': [{'confidence': 0.992481,\n",
       "         'location': {'end': 4025, 'begin': 4019},\n",
       "         'text': '$5,000'},\n",
       "        {'confidence': 0.97645384,\n",
       "         'location': {'end': 4584, 'begin': 4578},\n",
       "         'text': '$5,000'},\n",
       "        {'confidence': 0.99661,\n",
       "         'location': {'end': 12855, 'begin': 12849},\n",
       "         'text': '$5,000'}],\n",
       "       'text': '$5,000',\n",
       "       'type': 'Money'},\n",
       "      {'model_name': 'natural_language_understanding',\n",
       "       'mentions': [{'confidence': 0.8945567,\n",
       "         'location': {'end': 4095, 'begin': 4090},\n",
       "         'text': 'first'},\n",
       "        {'confidence': 0.91641337,\n",
       "         'location': {'end': 6257, 'begin': 6252},\n",
       "         'text': 'first'},\n",
       "        {'confidence': 0.8832916,\n",
       "         'location': {'end': 7284, 'begin': 7279},\n",
       "         'text': 'first'},\n",
       "        {'confidence': 0.86941147,\n",
       "         'location': {'end': 12078, 'begin': 12073},\n",
       "         'text': 'first'},\n",
       "        {'confidence': 0.91641337,\n",
       "         'location': {'end': 19759, 'begin': 19754},\n",
       "         'text': 'first'},\n",
       "        {'confidence': 0.8832916,\n",
       "         'location': {'end': 20784, 'begin': 20779},\n",
       "         'text': 'first'}],\n",
       "       'text': 'first',\n",
       "       'type': 'Ordinal'},\n",
       "      {'model_name': 'natural_language_understanding',\n",
       "       'mentions': [{'confidence': 0.55362153,\n",
       "         'location': {'end': 4103, 'begin': 4096},\n",
       "         'text': '5 years'},\n",
       "        {'confidence': 0.53432024,\n",
       "         'location': {'end': 12086, 'begin': 12079},\n",
       "         'text': '5 years'}],\n",
       "       'text': '5 years',\n",
       "       'type': 'Duration'},\n",
       "      {'model_name': 'natural_language_understanding',\n",
       "       'mentions': [{'confidence': 0.5266929,\n",
       "         'location': {'end': 4152, 'begin': 4129},\n",
       "         'text': 'Teladoc Medical Experts'},\n",
       "        {'confidence': 0.7100002,\n",
       "         'location': {'end': 12724, 'begin': 12701},\n",
       "         'text': 'Teladoc Medical Experts'}],\n",
       "       'text': 'Teladoc Medical Experts',\n",
       "       'type': 'Organization'},\n",
       "      {'model_name': 'natural_language_understanding',\n",
       "       'mentions': [{'confidence': 0.6423395,\n",
       "         'location': {'end': 4245, 'begin': 4230},\n",
       "         'text': 'Teladoc Medical'},\n",
       "        {'confidence': 0.6557871,\n",
       "         'location': {'end': 12327, 'begin': 12312},\n",
       "         'text': 'Teladoc Medical'}],\n",
       "       'text': 'Teladoc Medical',\n",
       "       'type': 'Organization'},\n",
       "      {'model_name': 'natural_language_understanding',\n",
       "       'mentions': [{'confidence': 0.8,\n",
       "         'location': {'end': 4521, 'begin': 4520},\n",
       "         'text': '5'},\n",
       "        {'confidence': 0.8,\n",
       "         'location': {'end': 6704, 'begin': 6703},\n",
       "         'text': '5'},\n",
       "        {'confidence': 0.8,\n",
       "         'location': {'end': 12796, 'begin': 12795},\n",
       "         'text': '5'}],\n",
       "       'text': '5',\n",
       "       'type': 'Number'},\n",
       "      {'model_name': 'natural_language_understanding',\n",
       "       'mentions': [{'confidence': 0.98773754,\n",
       "         'location': {'end': 4540, 'begin': 4535},\n",
       "         'text': '$2.50'},\n",
       "        {'confidence': 0.9963949,\n",
       "         'location': {'end': 12815, 'begin': 12810},\n",
       "         'text': '$2.50'}],\n",
       "       'text': '$2.50',\n",
       "       'type': 'Money'},\n",
       "      {'model_name': 'natural_language_understanding',\n",
       "       'mentions': [{'confidence': 0.3135226,\n",
       "         'location': {'end': 4552, 'begin': 4543},\n",
       "         'text': 'per month'}],\n",
       "       'text': 'per month',\n",
       "       'type': 'Duration'},\n",
       "      {'model_name': 'natural_language_understanding',\n",
       "       'mentions': [{'confidence': 0.8,\n",
       "         'location': {'end': 4608, 'begin': 4607},\n",
       "         'text': '4'}],\n",
       "       'text': '4',\n",
       "       'type': 'Number'},\n",
       "      {'model_name': 'natural_language_understanding',\n",
       "       'mentions': [{'confidence': 0.4401211,\n",
       "         'location': {'end': 4908, 'begin': 4901},\n",
       "         'text': '30 days'},\n",
       "        {'confidence': 0.4401211,\n",
       "         'location': {'end': 8514, 'begin': 8507},\n",
       "         'text': '30 days'},\n",
       "        {'confidence': 0.44001752,\n",
       "         'location': {'end': 9546, 'begin': 9539},\n",
       "         'text': '30 days'},\n",
       "        {'confidence': 0.43876714,\n",
       "         'location': {'end': 10166, 'begin': 10159},\n",
       "         'text': '30 days'},\n",
       "        {'confidence': 0.43876714,\n",
       "         'location': {'end': 10627, 'begin': 10620},\n",
       "         'text': '30 days'},\n",
       "        {'confidence': 0.4401211,\n",
       "         'location': {'end': 11340, 'begin': 11333},\n",
       "         'text': '30 days'},\n",
       "        {'confidence': 0.45240432,\n",
       "         'location': {'end': 11986, 'begin': 11979},\n",
       "         'text': '30 days'},\n",
       "        {'confidence': 0.43431413,\n",
       "         'location': {'end': 18133, 'begin': 18126},\n",
       "         'text': '30 days'},\n",
       "        {'confidence': 0.43564498,\n",
       "         'location': {'end': 18415, 'begin': 18408},\n",
       "         'text': '30 days'},\n",
       "        {'confidence': 0.43431413,\n",
       "         'location': {'end': 21782, 'begin': 21775},\n",
       "         'text': '30 days'},\n",
       "        {'confidence': 0.43564498,\n",
       "         'location': {'end': 22468, 'begin': 22461},\n",
       "         'text': '30 days'},\n",
       "        {'confidence': 0.43564498,\n",
       "         'location': {'end': 23615, 'begin': 23608},\n",
       "         'text': '30 days'},\n",
       "        {'confidence': 0.44787684,\n",
       "         'location': {'end': 24197, 'begin': 24190},\n",
       "         'text': '30 days'},\n",
       "        {'confidence': 0.44001752,\n",
       "         'location': {'end': 24794, 'begin': 24787},\n",
       "         'text': '30 days'}],\n",
       "       'text': '30 days',\n",
       "       'type': 'Duration'},\n",
       "      {'model_name': 'natural_language_understanding',\n",
       "       'mentions': [{'confidence': 0.8,\n",
       "         'location': {'end': 5196, 'begin': 5195},\n",
       "         'text': '1'},\n",
       "        {'confidence': 0.8,\n",
       "         'location': {'end': 18702, 'begin': 18701},\n",
       "         'text': '1'}],\n",
       "       'text': '1',\n",
       "       'type': 'Number'},\n",
       "      {'model_name': 'natural_language_understanding',\n",
       "       'mentions': [{'confidence': 0.8,\n",
       "         'location': {'end': 5252, 'begin': 5249},\n",
       "         'text': '1.0'},\n",
       "        {'confidence': 0.8,\n",
       "         'location': {'end': 18758, 'begin': 18755},\n",
       "         'text': '1.0'}],\n",
       "       'text': '1.0',\n",
       "       'type': 'Number'},\n",
       "      {'model_name': 'natural_language_understanding',\n",
       "       'mentions': [{'confidence': 0.88758075,\n",
       "         'location': {'end': 5302, 'begin': 5297},\n",
       "         'text': 'Clark'},\n",
       "        {'confidence': 0.88758075,\n",
       "         'location': {'end': 18808, 'begin': 18803},\n",
       "         'text': 'Clark'}],\n",
       "       'text': 'Clark',\n",
       "       'type': 'Person'},\n",
       "      {'model_name': 'natural_language_understanding',\n",
       "       'mentions': [{'confidence': 0.4283453,\n",
       "         'location': {'end': 5591, 'begin': 5584},\n",
       "         'text': '90 days'},\n",
       "        {'confidence': 0.42743173,\n",
       "         'location': {'end': 19096, 'begin': 19089},\n",
       "         'text': '90 days'}],\n",
       "       'text': '90 days',\n",
       "       'type': 'Duration'},\n",
       "      {'model_name': 'natural_language_understanding',\n",
       "       'mentions': [{'confidence': 0.57147145,\n",
       "         'location': {'end': 6775, 'begin': 6767},\n",
       "         'text': '6 months'},\n",
       "        {'confidence': 0.57147145,\n",
       "         'location': {'end': 20276, 'begin': 20268},\n",
       "         'text': '6 months'}],\n",
       "       'text': '6 months',\n",
       "       'type': 'Duration'},\n",
       "      {'model_name': 'natural_language_understanding',\n",
       "       'mentions': [{'confidence': 0.8,\n",
       "         'location': {'end': 8116, 'begin': 8113},\n",
       "         'text': 'one'},\n",
       "        {'confidence': 0.8,\n",
       "         'location': {'end': 10337, 'begin': 10334},\n",
       "         'text': 'one'},\n",
       "        {'confidence': 0.8,\n",
       "         'location': {'end': 14882, 'begin': 14879},\n",
       "         'text': 'one'},\n",
       "        {'confidence': 0.8,\n",
       "         'location': {'end': 21495, 'begin': 21492},\n",
       "         'text': 'one'},\n",
       "        {'confidence': 0.8,\n",
       "         'location': {'end': 22071, 'begin': 22068},\n",
       "         'text': 'one'}],\n",
       "       'text': 'one',\n",
       "       'type': 'Number'},\n",
       "      {'model_name': 'natural_language_understanding',\n",
       "       'mentions': [{'confidence': 0.8,\n",
       "         'location': {'end': 8933, 'begin': 8932},\n",
       "         'text': '6'}],\n",
       "       'text': '6',\n",
       "       'type': 'Number'},\n",
       "      {'model_name': 'natural_language_understanding',\n",
       "       'mentions': [{'confidence': 0.2416047,\n",
       "         'location': {'end': 9328, 'begin': 9311},\n",
       "         'text': 'more than 30 days'},\n",
       "        {'confidence': 0.24697386,\n",
       "         'location': {'end': 24578, 'begin': 24561},\n",
       "         'text': 'more than 30 days'}],\n",
       "       'text': 'more than 30 days',\n",
       "       'type': 'Duration'},\n",
       "      {'model_name': 'natural_language_understanding',\n",
       "       'mentions': [{'confidence': 0.8772316,\n",
       "         'location': {'end': 11075, 'begin': 11062},\n",
       "         'text': 'United States'},\n",
       "        {'confidence': 0.86818755,\n",
       "         'location': {'end': 23352, 'begin': 23339},\n",
       "         'text': 'United States'}],\n",
       "       'text': 'United States',\n",
       "       'type': 'Location'},\n",
       "      {'model_name': 'natural_language_understanding',\n",
       "       'mentions': [{'confidence': 0.40133965,\n",
       "         'location': {'end': 11223, 'begin': 11206},\n",
       "         'text': 'transplant centre'},\n",
       "        {'confidence': 0.40663165,\n",
       "         'location': {'end': 23499, 'begin': 23482},\n",
       "         'text': 'transplant centre'}],\n",
       "       'text': 'transplant centre',\n",
       "       'type': 'Facility'},\n",
       "      {'model_name': 'natural_language_understanding',\n",
       "       'mentions': [{'confidence': 0.8,\n",
       "         'location': {'end': 11436, 'begin': 11435},\n",
       "         'text': '7'}],\n",
       "       'text': '7',\n",
       "       'type': 'Number'},\n",
       "      {'model_name': 'natural_language_understanding',\n",
       "       'mentions': [{'confidence': 0.6614446,\n",
       "         'location': {'end': 12138, 'begin': 12113},\n",
       "         'text': 'Teladoc Medical ExpertsTM'}],\n",
       "       'text': 'Teladoc Medical ExpertsTM',\n",
       "       'type': 'Organization'},\n",
       "      {'model_name': 'natural_language_understanding',\n",
       "       'mentions': [{'confidence': 0.63451,\n",
       "         'location': {'end': 12554, 'begin': 12548},\n",
       "         'text': 'expert'}],\n",
       "       'text': 'expert',\n",
       "       'type': 'JobTitle'},\n",
       "      {'model_name': 'natural_language_understanding',\n",
       "       'mentions': [{'confidence': 0.52710795,\n",
       "         'location': {'end': 12748, 'begin': 12740},\n",
       "         'text': '4 months'}],\n",
       "       'text': '4 months',\n",
       "       'type': 'Duration'},\n",
       "      {'model_name': 'natural_language_understanding',\n",
       "       'mentions': [{'confidence': 0.16214982,\n",
       "         'location': {'end': 12825, 'begin': 12820},\n",
       "         'text': 'month'}],\n",
       "       'text': 'month',\n",
       "       'type': 'Duration'},\n",
       "      {'model_name': 'natural_language_understanding',\n",
       "       'mentions': [{'confidence': 0.35033888,\n",
       "         'location': {'end': 14000, 'begin': 13980},\n",
       "         'text': 'medical professional'}],\n",
       "       'text': 'medical professional',\n",
       "       'type': 'JobTitle'},\n",
       "      {'model_name': 'natural_language_understanding',\n",
       "       'mentions': [{'confidence': 0.55638397,\n",
       "         'location': {'end': 14151, 'begin': 14133},\n",
       "         'text': 'business associate'}],\n",
       "       'text': 'business associate',\n",
       "       'type': 'JobTitle'},\n",
       "      {'model_name': 'natural_language_understanding',\n",
       "       'mentions': [{'confidence': 0.8,\n",
       "         'location': {'end': 14557, 'begin': 14556},\n",
       "         'text': '8'}],\n",
       "       'text': '8',\n",
       "       'type': 'Number'},\n",
       "      {'model_name': 'natural_language_understanding',\n",
       "       'mentions': [{'confidence': 0.43117478,\n",
       "         'location': {'end': 16225, 'begin': 16212},\n",
       "         'text': '80 milligrams'}],\n",
       "       'text': '80 milligrams',\n",
       "       'type': 'Measure'},\n",
       "      {'model_name': 'natural_language_understanding',\n",
       "       'mentions': [{'confidence': 0.53960586,\n",
       "         'location': {'end': 16257, 'begin': 16241},\n",
       "         'text': '100 \\nmilliliters'}],\n",
       "       'text': '100 \\nmilliliters',\n",
       "       'type': 'Measure'},\n",
       "      {'model_name': 'natural_language_understanding',\n",
       "       'mentions': [{'confidence': 0.42510638,\n",
       "         'location': {'end': 16886, 'begin': 16857},\n",
       "         'text': 'licensed medical practitioner'}],\n",
       "       'text': 'licensed medical practitioner',\n",
       "       'type': 'JobTitle'},\n",
       "      {'model_name': 'natural_language_understanding',\n",
       "       'mentions': [{'confidence': 0.9372425,\n",
       "         'location': {'end': 17411, 'begin': 17407},\n",
       "         'text': '18th'}],\n",
       "       'text': '18th',\n",
       "       'type': 'Ordinal'},\n",
       "      {'model_name': 'natural_language_understanding',\n",
       "       'mentions': [{'confidence': 0.8,\n",
       "         'location': {'end': 17743, 'begin': 17742},\n",
       "         'text': '9'}],\n",
       "       'text': '9',\n",
       "       'type': 'Number'},\n",
       "      {'model_name': 'natural_language_understanding',\n",
       "       'mentions': [{'confidence': 0.8,\n",
       "         'location': {'end': 19908, 'begin': 19906},\n",
       "         'text': '10'}],\n",
       "       'text': '10',\n",
       "       'type': 'Number'},\n",
       "      {'model_name': 'natural_language_understanding',\n",
       "       'mentions': [{'confidence': 0.8,\n",
       "         'location': {'end': 22565, 'begin': 22563},\n",
       "         'text': '11'}],\n",
       "       'text': '11',\n",
       "       'type': 'Number'},\n",
       "      {'model_name': 'natural_language_understanding',\n",
       "       'mentions': [{'confidence': 0.09802818,\n",
       "         'location': {'end': 25146, 'begin': 25119},\n",
       "         'text': 'licensed Financial Services'}],\n",
       "       'text': 'licensed Financial Services',\n",
       "       'type': 'JobTitle'},\n",
       "      {'model_name': 'natural_language_understanding',\n",
       "       'mentions': [{'confidence': 0.69286585,\n",
       "         'location': {'end': 25158, 'begin': 25148},\n",
       "         'text': 'Consultant'}],\n",
       "       'text': 'Consultant',\n",
       "       'type': 'JobTitle'},\n",
       "      {'model_name': 'natural_language_understanding',\n",
       "       'mentions': [{'confidence': 0.8,\n",
       "         'location': {'end': 25176, 'begin': 25162},\n",
       "         'text': '1-844-528-0583'}],\n",
       "       'text': '1-844-528-0583',\n",
       "       'type': 'PhoneNumber'},\n",
       "      {'model_name': 'natural_language_understanding',\n",
       "       'mentions': [{'confidence': 0.9156328,\n",
       "         'location': {'end': 25183, 'begin': 25177},\n",
       "         'text': 'Monday'}],\n",
       "       'text': 'Monday',\n",
       "       'type': 'Date'},\n",
       "      {'model_name': 'natural_language_understanding',\n",
       "       'mentions': [{'confidence': 0.9258975,\n",
       "         'location': {'end': 25193, 'begin': 25187},\n",
       "         'text': 'Friday'}],\n",
       "       'text': 'Friday',\n",
       "       'type': 'Date'},\n",
       "      {'model_name': 'natural_language_understanding',\n",
       "       'mentions': [{'confidence': 0.20448877,\n",
       "         'location': {'end': 25222, 'begin': 25204},\n",
       "         'text': '8 a.m. – 8 p.m. ET'}],\n",
       "       'text': '8 a.m. – 8 p.m. ET',\n",
       "       'type': 'Time'},\n",
       "      {'model_name': 'natural_language_understanding',\n",
       "       'mentions': [{'confidence': 0.75897187,\n",
       "         'location': {'end': 25266, 'begin': 25239},\n",
       "         'text': 'Financial Security Advisors'}],\n",
       "       'text': 'Financial Security Advisors',\n",
       "       'type': 'JobTitle'},\n",
       "      {'model_name': 'natural_language_understanding',\n",
       "       'mentions': [{'confidence': 0.4046357,\n",
       "         'location': {'end': 25292, 'begin': 25274},\n",
       "         'text': 'province of Quebec'}],\n",
       "       'text': 'province of Quebec',\n",
       "       'type': 'Location'},\n",
       "      {'model_name': 'natural_language_understanding',\n",
       "       'mentions': [{'confidence': 0.41374037,\n",
       "         'location': {'end': 25299, 'begin': 25295},\n",
       "         'text': '2021'},\n",
       "        {'confidence': 0.7599577,\n",
       "         'location': {'end': 25530, 'begin': 25526},\n",
       "         'text': '2021'}],\n",
       "       'text': '2021',\n",
       "       'type': 'Date'},\n",
       "      {'model_name': 'natural_language_understanding',\n",
       "       'mentions': [{'confidence': 0.6090305,\n",
       "         'location': {'end': 25320, 'begin': 25300},\n",
       "         'text': 'Teladoc Health, Inc.'}],\n",
       "       'text': 'Teladoc Health, Inc.',\n",
       "       'type': 'Organization'},\n",
       "      {'model_name': 'natural_language_understanding',\n",
       "       'mentions': [{'confidence': 0.83596385,\n",
       "         'location': {'end': 25349, 'begin': 25342},\n",
       "         'text': 'Teladoc'},\n",
       "        {'confidence': 0.8757776,\n",
       "         'location': {'end': 25358, 'begin': 25351},\n",
       "         'text': 'Teladoc'},\n",
       "        {'confidence': 0.9184307,\n",
       "         'location': {'end': 25422, 'begin': 25415},\n",
       "         'text': 'Teladoc'}],\n",
       "       'text': 'Teladoc',\n",
       "       'type': 'Organization'},\n",
       "      {'model_name': 'natural_language_understanding',\n",
       "       'mentions': [{'confidence': 0.6330621,\n",
       "         'location': {'end': 25375, 'begin': 25360},\n",
       "         'text': 'Medical Experts'}],\n",
       "       'text': 'Medical Experts',\n",
       "       'type': 'JobTitle'},\n",
       "      {'model_name': 'natural_language_understanding',\n",
       "       'mentions': [{'confidence': 0.6562213,\n",
       "         'location': {'end': 25396, 'begin': 25384},\n",
       "         'text': 'Teladoc logo'}],\n",
       "       'text': 'Teladoc logo',\n",
       "       'type': 'Organization'},\n",
       "      {'model_name': 'natural_language_understanding',\n",
       "       'mentions': [{'confidence': 0.45299396,\n",
       "         'location': {'end': 25436, 'begin': 25424},\n",
       "         'text': 'Health, Inc.'}],\n",
       "       'text': 'Health, Inc.',\n",
       "       'type': 'Organization'},\n",
       "      {'model_name': 'natural_language_understanding',\n",
       "       'mentions': [{'confidence': 0.8,\n",
       "         'location': {'end': 25580, 'begin': 25576},\n",
       "         'text': '1221'}],\n",
       "       'text': '1221',\n",
       "       'type': 'Number'}]}],\n",
       "   'metadata': {'domain': 'health_insurance',\n",
       "    'parent_document_id': '04711489-3a1a-4cf9-a8b1-026003bdb83a'},\n",
       "   'extracted_metadata': {'sha1': '0FD6C29C4ADB3B9CC69C3B0F5D5746D0294CCB38',\n",
       "    'numPages': '12',\n",
       "    'filename': 'express-ci-guide-to-definitions.pdf',\n",
       "    'subject': 'This guide to critical illness definitions will help you understand the illnesses and procedures covered \\nby your Express Critical Illness (CI) Insurance policy. Each of the covered illnesses is defined and then explained to you. We have also outlined illness-specific exclusions and the survival periods required. Visit mysunlife.ca.\\r',\n",
       "    'file_type': 'pdf',\n",
       "    'title': 'Your guide to Express Critical Illness Insurance definitions | Sun Life',\n",
       "    'publicationdate': '2021-12-21'},\n",
       "   'text': ['Your guide to  \\nExpress Critical  \\nIllness Insurance \\ndefinitions\\nLife’s brighter under the sun\\nSun Life Assurance Company of Canada is the insurer  \\nand a member of the Sun Life group of companies\\nSUN LIFE GO\\n2  Your Guide to Express CI Insurance Definitions\\nYour Guide to EXPRESS Critical Illness  \\nInsurance Definitions \\nThis guide to critical illness definitions will help you understand the illnesses and procedures covered  \\nby your Express Critical Illness (CI) Insurance policy. Each of the covered illnesses is defined and then explained to \\nyou. We have also outlined illness-specific exclusions and the survival periods required.\\nThe diagnosis and treatment of any Covered critical illness must be made by a specialist who is licensed and \\npractising in Canada. A specialist is a licensed medical practitioner who has been trained in the specific area of \\nmedicine relevant to the Covered critical illnesses for which a benefit is being claimed, and who has been certified by \\na specialty examining board. In the absence or unavailability of a specialist a condition may be diagnosed by a \\nqualified medical practitioner practicing in Canada. \\nThis guide is for your reference only, and does not replace the policy. We will not pay for any illness, \\ndisorder or surgery not specifically defined under the policy/coverage. For Express Critical Illness Insurance, \\nthe complete terms, conditions, exclusions and limitations governing the Critical Illness Insurance coverage \\nare found in your policy issued by Sun Life Assurance Company of Canada, a member of the Sun Life \\nFinancial group of companies. \\nYour critical illness insurance policy:\\n• Defines illnesses you are insured for, and\\n• Includes the terms and conditions you will have to meet to receive the critical illness insurance benefit\\n• Includes a pre-existing condition provision and how it applies to the critical illness insurance benefit  \\n(if that benefit is applied for).*\\nPlease review the policy carefully. For a sample policy please visit www.sunlife.ca/ExpressCI or  \\ncall 1-877-893-9893.\\nIllnesses not specifically mentioned or not meeting the stated criteria are not covered. All illnesses must satisfy the \\ndescription in your policy. For an illness or condition to be covered, it must meet the illness description in your policy.\\nIf your policy ended because it lapsed, you may apply to have it put back into effect if the insured person is alive  \\nand has not had a covered critical illness or any signs or symptoms of a covered critical illness. This process is  \\ncalled reinstatement. \\nIf you want to put your policy back into effect, you must:\\n• Apply within 2 years of the date the policy ended,\\n• Give us new evidence of insurability that we consider satisfactory, and\\n• Make a payment equal to the reinstatement charge set by us.\\n*  No benefits are payable for any Covered critical illness that occurs within 12 months of the policy date set out on \\nthe Policy particulars page in your contract. And that resulted from any injury, sickness or medical condition \\n(whether diagnosed or not) for which, during the 12 months before the policy due date:\\n• the insured person had symptoms,\\n• the insured person consulted a physician or other health care practitioner and was provided any health-related \\ncare, advice or treatment, or\\n•  a reasonably prudent person has such injury, sickness or medical condition or symptoms(s) would have consulted \\na physician or other health care practitioner.\\nSUN LIFE GO\\nYour Guide to Express CI Insurance Definitions  3\\nCovered critical illnesses\\nBasic Plan Enhanced Plan Comfort Plan\\nIllnesses  \\ncovered\\n• Cancer • Cancer\\n• Heart attack\\n• Stroke\\n• Cancer\\n• Heart attack\\n• Stroke\\n• Coronary artery bypass surgery\\n• Aortic surgery\\n• Major organ transplant\\n• Major organ failure – on waiting list\\nAge  \\nrequirements\\n• 18-65 years old when \\nyou buy the policy\\n• 18-65 years old when \\nyou buy the policy\\n• 18-65 years old when you buy  \\nthe policy\\nCoverage  \\namount\\n• $25,000 • $25,000 • $50,000\\n• $5,000 (child benefits)\\nAdditional  \\nbenefits\\n• Rate guarantee for the first 5 years\\n• Inflation protection\\n• Teladoc Medical Experts* services \\n- At any point during the lifetime \\nof the policy you can access \\nTeladoc Medical Experts to get \\nanswers to any of your medical \\nquestions. In addition, if you get \\ncritically ill, you will be connected \\nwith a leading expert that will \\nreview your diagnosis and your \\ntreatment plan and provide you \\nwith recommendations for moving \\nforward.\\n• Add up to 5 children for $2.50  \\nper month to provide coverage  \\nof $5,000 per child\\nSUN LIFE GO\\n4  Your Guide to Express CI Insurance Definitions\\nCancer \\nCancer means a definite diagnosis of a tumour characterized by the uncontrolled growth and spread of malignant \\ncells and the invasion of tissue.\\nThe diagnosis of cancer must be made by a specialist. The insured person must survive for 30 days following the \\ndate of diagnosis.\\nExclusions\\nNo benefit is payable for a recurrence or metastasis of an original cancer which was diagnosed before the policy date.\\nNo benefit is payable under this condition for the following non-life threatening cancers:\\n• carcinoma in situ;  \\n• Stage 1A malignant melanoma (melanoma less than or equal to 1.0 mm in thickness, not ulcerated and without \\nClark level IV or level V invasion); \\n• any non-melanoma skin cancer that has not become metastasized; or,\\n• Stage A (T1a or T1b) prostate cancer.\\n90 day exclusion period for cancer:\\nNo benefit is payable for cancer and the insured person’s coverage for cancer will terminate if, within 90 days \\nfollowing the later of:\\n• the most recent date the application for this policy was signed;\\n• the policy date; or,\\n• the most recent date this policy was put back in effect (reinstatement), \\nthe insured person has any of the following:\\n• signs, symptoms or investigations, that lead to diagnosis of cancer (covered or excluded under this policy), \\nregardless of when the diagnosis is made, or\\n• a diagnosis of cancer (covered or excluded under this policy).\\nWhile the insured person’s coverage for cancer terminates, coverage for all other Covered critical illnesses  \\nremain in force.\\nYour responsibility to report cancer\\nYou must report to us, if within the first 90 days following the later of: \\n• the policy date, or  \\n• the most recent date this policy was put back into effect (reinstatement), \\nthe insured person has: \\n• signs, symptoms or investigations that lead to a diagnosis of cancer (covered or excluded under this policy), \\nregardless of when the diagnosis is made, or \\n• a diagnosis of cancer (covered or excluded under this policy). \\nSUN LIFE GO\\nYour Guide to Express CI Insurance Definitions  5\\nThe information described above must be reported to us within 6 months of the date of the diagnosis. \\nIf this information is not provided, we have the right to deny any claim for:  \\n• cancer, \\n• any critical illness caused by cancer, or  \\n• any critical illness caused by the treatment of cancer. \\nTo report the information, contact us at the toll-free phone number shown at the beginning of this policy for the \\nappropriate form. The report must be in writing. \\nWhen coverage for cancer ends \\nThe coverage for cancer will end and we will not make any payment if within the first 90 days following the later of: \\n• the policy date, or  \\n• the most recent date this policy was put back into effect (reinstatement), \\nthe insured person has: \\n• signs, symptoms or investigations that lead to a diagnosis of cancer (covered or excluded under this policy), \\nregardless of when the diagnosis is made, or  \\n• a diagnosis of cancer (covered or excluded under this policy). \\nCoverage for all other Covered critical illnesses will continue provided the insured person’s critical illness does not \\nresult directly or indirectly from any cancer or cancer treatment. \\nHeart attack\\nHeart attack means a definite diagnosis of the death of heart muscle due to obstruction of blood flow, that results in \\na rise and fall of biochemical cardiac markers to levels considered diagnostic of myocardial infarction, with at least \\none of the following:\\n• heart attack symptoms;\\n• new electrocardiogram (ECG) changes consistent with a heart attack; or,\\n• development of new Q waves during or immediately following an intra-arterial cardiac procedure including,  \\nbut not limited to, coronary angiography and coronary angioplasty.\\nThe diagnosis of heart attack must be made by a specialist. The insured person must survive for 30 days following \\nthe date of diagnosis.\\nExclusions\\nHeart attack does not include:\\n• elevated biochemical cardiac markers as a result of an intra-arterial cardiac procedure including, but not  \\nlimited to, coronary angiography and coronary angioplasty, in the absence of new Q waves; or,\\n• ECG changes suggesting a prior myocardial infarction, which do not meet the heart attack definition as  \\ndescribed above.\\nSUN LIFE GO\\n6  Your Guide to Express CI Insurance Definitions\\nStroke\\nStroke (cerebrovascular accident) means a definite diagnosis of an acute cerebrovascular event caused  \\nby intra-cranial thrombosis or haemorrhage, or embolism from an extra-cranial source, with:\\n• acute onset of new neurological symptoms; and\\n• new objective neurological deficits on clinical examination, persisting for more than 30 days following the  \\ndate of diagnosis. \\nThese new symptoms and deficits must be corroborated by diagnostic imaging testing.\\nThe diagnosis of stroke must be made by a specialist. The insured person must survive for 30 days following the date \\nof the diagnosis.\\nExclusions\\nNo benefit is payable under this condition for:\\n• transient ischaemic attacks;\\n• intracerebral vascular events due to trauma; or,\\n• lacunar infarcts which do not meet the definition of stroke as described above.\\nAortic surgery\\nAortic surgery means the undergoing of surgery for disease of the aorta requiring excision and surgical replacement \\nof the diseased aorta with a graft. Aorta refers to the thoracic and abdominal aorta but not its branches.\\nThe surgery must be determined to be medically necessary by a specialist. The insured person must survive for  \\n30 days following the date of surgery.\\nCoronary artery bypass surgery\\nCoronary artery bypass surgery means the undergoing of heart surgery to correct narrowing or blockage of one or \\nmore coronary arteries with bypass graft(s), excluding any non-surgical or trans-catheter techniques such as balloon \\nangioplasty or laser relief of an obstruction. \\nThe surgery must be determined to be medically necessary by a specialist. The insured person must survive for  \\n30 days following the date of surgery.\\nMajor organ failure on waiting list\\nMajor organ failure on waiting list means a definite diagnosis of the irreversible failure of the heart, both lungs, liver, \\nboth kidneys or bone marrow, and transplantation must be medically necessary. To qualify under major organ failure \\non waiting list, the insured person must become enrolled as the recipient in a recognized transplant centre in Canada \\nor the United States that performs the required form of transplant surgery.\\nThe date of diagnosis is the date of the insured person’s enrolment in the transplant centre. \\nThe diagnosis of the major organ failure must be made by a specialist. The insured person must survive for 30 days \\nfollowing the date of diagnosis.\\nSUN LIFE GO\\nYour Guide to Express CI Insurance Definitions  7\\nMajor organ transplant \\nMajor organ transplant means a definite diagnosis of the irreversible failure of the heart, both lungs, liver, both \\nkidneys or bone marrow, and transplantation must be medically necessary. To qualify under major organ transplant, \\nthe insured person must undergo a transplantation procedure as the recipient for transplantation of a heart, lung, \\nliver, kidney or bone marrow, and limited to these entities.\\nThe diagnosis of the major organ failure must be made by a specialist. The insured person must survive  \\nfor 30 days following the date of their transplant.\\nAdditional Benefits \\n• rate guarantee for the first 5 years,\\n• inflation protection\\n• Teladoc Medical ExpertsTM services – A valuable service available to you, your spouse, dependent children, \\nparents and parents-in-law at any point during the lifetime of the policy.  You can access Teladoc Medical \\nExperts to get answers to any of your medical questions (they do not need to be questions relating to an illness \\ncovered under this policy). In addition, if you get critically ill, you will be connected with a leading expert that \\nwill review your diagnosis and your treatment plan and provide you with recommendations for moving forward. \\nWhat’s more, you can still use Teladoc Medical Experts services up to 4 months from the time your claim is paid.\\n• add up to 5 children for $2.50 per month to provide coverage of $5,000 per child\\nChild critical illness insurance benefit\\nThis additional benefit covers only the critical illnesses and benefit payment described in the Child critical illness \\ninsurance benefit. Additional illnesses or procedures that are not specifically mentioned are not covered. To qualify for \\nthe Child critical illness insurance benefit, all requirements for the Child covered critical illnesses must be satisfied \\nwhile this policy is in effect.\\nThe diagnosis and treatment of any covered critical illnesses must be made by a specialist who is licensed and \\npracticing in Canada. A specialist is a licensed medical practitioner who has been trained in the specific area of \\nmedicine relevant to the Child covered critical illnesses for which a benefit is being claimed, and who has been \\ncertified by a specialty examining board. In the absence or unavailability of a specialist, a condition may be diagnosed \\nby a qualified medical practitioner practicing in Canada.\\nThe diagnosis, treatment, tests or examinations performed to satisfy the Child covered critical illnesses definition may \\nnot be done by a specialist or medical professional who is:\\n• the owner, \\n• any insured child under this policy,\\n• anyone entitled to make a claim under this policy,\\n• any relative or business associate of these people, or\\n• any person who normally resides in the insured child’s household.\\nEach covered critical illness describes a survival period. The insured child must be alive at the end of the  \\nsurvival period.\\nThe insured child for this benefit, the policy date and the amount of the Child covered critical illnesses benefit  \\nare shown on the Policy particulars page in your contract.\\nSUN LIFE GO\\n8  Your Guide to Express CI Insurance Definitions\\nWe make a payment if the insured child has a Child covered critical illness as defined earlier in this policy.  \\nThe beneficiary is you or your estate, unless you make a change in writing to us.\\nIf the insured child qualifies for a Child covered critical illness we make a one-time payment. The amount we pay is:\\n• the Child critical illness insurance benefit amount at the time the benefit is payable,\\n• minus any unpaid premiums plus interest at the time the benefit is payable.\\nIf payment is made on an insured child, the coverage ends for that child on the date we make the payment.\\nPre-existing condition provision \\nNo benefits are payable for any Covered critical illness that occurs within 12 months of the policy date set out on the \\nPolicy particulars page in your contract, and that resulted from any injury, sickness or medical condition (whether \\ndiagnosed or not) for which, during the 12 months before the policy date:\\n• the insured child had symptoms,\\n• the insured child consulted a physician or other health care practitioner and was provided any health-related \\ncare, advice or treatment, or\\n• a reasonably prudent person whose child has such injury, sickness or medical condition or symptom(s) would \\nhave consulted a physician or other health care practitioner.\\nWhen we will not make a payment under the Critical illness insurance benefit \\n(exclusions and reductions of coverage)\\nWe will not make any payment if the Child covered critical illness is directly or indirectly caused by or associated with \\nthe insured child operating a vehicle while their blood alcohol level is more than 80 milligrams of alcohol per 100 \\nmilliliters of blood. A vehicle includes any form of ground, air or marine transportation that can be put into motion by \\nany means, including muscular power. We do not take into account whether or not the vehicle is in motion.\\nWe will not make any payment if the Child covered critical illness is directly or indirectly caused by or associated with \\nthe insured child:\\n• committing or attempting to commit a criminal offence\\n• taking or attempting to take their own life, while sane or insane\\n• causing themself bodily injury, while sane or insane\\n• intentionally taking any drug other than as prescribed by a licensed medical practitioner and in accordance with \\nthe instructions given\\n• intentionally taking any intoxicant, narcotic or poisonous substance. This does not include smoking cigarettes, \\ncigarillos, cigars or occasional use of alcohol.\\nWe will not make any payment if the Child covered critical illness is directly or indirectly caused by or associated with \\ncivil disorder or war, whether declared or not.\\nWhen this benefit ends\\nFor an insured child, this benefit automatically ends on the earliest of:\\n• the policy anniversary following their 18th birthday, or\\n• upon payout of their benefit amount, or\\n• their death, or\\n• the date this benefit ends, shown on the Policy particulars page in your contract, or\\n• the date your policy ends.\\nThere is no benefit payable under this benefit after the date your policy ends.\\nSUN LIFE GO\\nYour Guide to Express CI Insurance Definitions  9\\nChild covered critical illnesses \\nAortic surgery\\nAortic surgery means the undergoing of surgery for disease of the aorta requiring excision and surgical replacement \\nof the diseased aorta with a graft. Aorta refers to the thoracic and abdominal aorta but not its branches.\\nThe surgery must be determined to be medically necessary by a specialist. The insured child must survive for 30 days \\nfollowing the date of surgery.\\nCancer\\nCancer means a definite diagnosis of a tumour characterized by the uncontrolled growth and spread of malignant \\ncells and the invasion of tissue.\\nThe diagnosis of cancer must be made by a specialist. The insured child must survive for 30 days following the date \\nof diagnosis.\\nExclusions\\nNo benefit is payable for a recurrence or metastasis of an original cancer which was diagnosed before the policy date.\\nNo benefit is payable under this condition for the following non-life threatening cancers:\\n• carcinoma in situ; \\n• Stage 1A malignant melanoma (melanoma less than or equal to 1.0 mm in thickness, not ulcerated and without \\nClark level IV or level V invasion); \\n• any non-melanoma skin cancer that has not become metastasized; or,\\n• Stage A (T1a or T1b) prostate cancer.\\n90 day exclusion period for cancer:\\nNo benefit is payable for cancer and the insured child’s coverage for cancer will terminate if, within 90 days following \\nthe later of:\\n• the most recent date the application for this policy was signed;\\n• the policy date; or,\\n• the most recent date this policy was put back in effect (reinstatement),\\nthe insured child has any of the following:\\n• signs, symptoms or investigations, that lead to diagnosis of cancer (covered or excluded under this policy), \\nregardless of when the diagnosis is made, or\\n• a diagnosis of cancer (covered or excluded under this policy).\\nWhile the insured child’s coverage for cancer terminates, coverage for all other Covered critical illnesses  \\nremain in force.\\nYour responsibility to report cancer\\nYou must report to us, if within the first 90 days following the later of: \\n• the policy date, or \\n• the most recent date this policy was put back into effect (reinstatement), \\nSUN LIFE GO\\n10  Your Guide to Express CI Insurance Definitions\\nthe insured child has: \\n• signs, symptoms or investigations that lead to a diagnosis of cancer (covered or excluded under this policy), \\nregardless of when the diagnosis is made, or \\n• a diagnosis of cancer (covered or excluded under this policy). \\nThe information described above must be reported to us within 6 months of the date of the diagnosis.  \\nIf this information is not provided, we have the right to deny any claim for: \\n• cancer, \\n• any critical illness caused by cancer, or \\n• any critical illness caused by the treatment of cancer. \\nTo report the information, contact us at the toll-free phone number shown at the beginning of this policy for the \\nappropriate form. The report must be in writing. \\nWhen coverage for cancer ends \\nThe coverage for cancer will end and we will not make any payment if within the first 90 days following the later of: \\n• the policy date, or \\n• the most recent date this policy was put back into effect (reinstatement), \\nthe insured child has: \\n• signs, symptoms or investigations that lead to a diagnosis of cancer (covered or excluded under this policy), \\nregardless of when the diagnosis is made, or \\n• a diagnosis of cancer (covered or excluded under this policy). \\nCoverage for all other Covered critical illnesses will continue provided the insured child’s critical illness does not result \\ndirectly or indirectly from any cancer or cancer treatment. \\nCoronary artery bypass surgery\\nCoronary artery bypass surgery means the undergoing of heart surgery to correct narrowing or blockage of one or \\nmore coronary arteries with bypass graft(s), excluding any non-surgical or trans-catheter techniques such as balloon \\nangioplasty or laser relief of an obstruction. \\nThe surgery must be determined to be medically necessary by a specialist. The insured child must survive for 30 days \\nfollowing the date of surgery.\\nHeart attack\\nHeart attack means a definite diagnosis of the death of heart muscle due to obstruction of blood flow, that results in \\na rise and fall of biochemical cardiac markers to levels considered diagnostic of myocardial infarction, with at least \\none of the following:\\n• heart attack symptoms;\\n• new electrocardiogram (ECG) changes consistent with a heart attack; or,\\n• development of new Q waves during or immediately following an intra-arterial cardiac procedure including,  \\nbut not limited to, coronary angiography and coronary angioplasty.\\nThe diagnosis of heart attack must be made by a specialist. The insured child must survive for 30 days following the \\ndate of diagnosis.\\nSUN LIFE GO\\nYour Guide to Express CI Insurance Definitions  11\\nExclusions\\nHeart attack does not include:\\n• elevated biochemical cardiac markers as a result of an intra-arterial cardiac procedure including, but not  \\nlimited to, coronary angiography and coronary angioplasty, in the absence of new Q waves; or,\\n• ECG changes suggesting a prior myocardial infarction, which do not meet the heart attack definition  \\nas described above.\\nMajor organ failure on waiting list\\nMajor organ failure on waiting list means a definite diagnosis of the irreversible failure of the heart, both lungs, liver, \\nboth kidneys or bone marrow, and transplantation must be medically necessary. To qualify under major organ failure \\non waiting list, the insured child must become enrolled as the recipient in a recognized transplant centre in Canada or \\nthe United States that performs the required form of transplant surgery.\\nThe date of diagnosis is the date of the insured child’s enrolment in the transplant centre. \\nThe diagnosis of the major organ failure must be made by a specialist. The insured child must survive for 30 days \\nfollowing the date of diagnosis.\\nMajor organ transplant \\nMajor organ transplant means a definite diagnosis of the irreversible failure of the heart, both lungs, liver, both \\nkidneys or bone marrow, and transplantation must be medically necessary. To qualify under major organ transplant, \\nthe insured child must undergo a transplantation procedure as the recipient for transplantation of a heart, lung, liver, \\nkidney or bone marrow, and limited to these entities.\\nThe diagnosis of the major organ failure must be made by a specialist. The insured child must survive for  \\n30 days following the date of their transplant.\\nStroke (cerebrovascular accident) means a definite diagnosis of an acute cerebrovascular event caused by  \\nintra-cranial thrombosis or haemorrhage, or embolism from an extra-cranial source, with:\\n• acute onset of new neurological symptoms; and\\n• new objective neurological deficits on clinical examination, \\npersisting for more than 30 days following the date of diagnosis. \\nThese new symptoms and deficits must be corroborated by diagnostic imaging testing.\\nThe diagnosis of stroke must be made by a specialist. The insured person must survive for 30 days following the  \\ndate of the diagnosis.\\nExclusions\\nNo benefit is payable under this condition for:\\n• transient ischaemic attacks;\\n• intracerebral vascular events due to trauma; or,\\n• lacunar infarcts which do not meet the definition of stroke as described above.\\nQuestions? We are here to help\\nCall toll-free to speak with a licensed Financial Services \\nConsultant*at 1-844-528-0583 Monday to Friday  \\nbetween 8 a.m. – 8 p.m. ET.\\n*Identified as Financial Security Advisors in the province of Quebec.\\n©2021 Teladoc Health, Inc. All rights reserved. Teladoc, Teladoc \\nMedical Experts and the Teladoc logo are trademarks of Teladoc \\nHealth, Inc., and may not be used without written permission.\\n© Sun Life Assurance Company of Canada, 2021. \\nra-expressci-guidetodefinitions-brochure-e-1221\\n'],\n",
       "   'document_passages': [{'passage_text': 'What’s more, you can still use Teladoc Medical Experts services up to 4 months from the time your claim is <em>paid</em>.\\n• add up to 5 children for $2.50 per month to provide coverage of $5,000 per child\\nChild <em>critical</em> <em>illness</em> insurance benefit\\nThis additional benefit covers only the <em>critical</em> <em>illnesses</em> and benefit payment described in the Child <em>critical</em> <em>illness</em> \\ninsurance benefit.',\n",
       "     'start_offset': 12670,\n",
       "     'end_offset': 13045,\n",
       "     'field': 'text'}],\n",
       "   'table_results_references': []}],\n",
       " 'table_results': []}"
      ]
     },
     "execution_count": 141,
     "metadata": {},
     "output_type": "execute_result"
    }
   ],
   "source": [
    "result"
   ]
  },
  {
   "cell_type": "code",
   "execution_count": 176,
   "id": "3f8e0ad6-ba3d-4f47-8f17-9539bf1326d8",
   "metadata": {},
   "outputs": [],
   "source": [
    "## Add document\n",
    "\n",
    "def upload_document (file_path):\n",
    "    with open(file_path, \"rb\") as file:\n",
    "        add_doc_response = discovery.add_document(\n",
    "            project_id=project_id,\n",
    "            collection_id=collection_id, \n",
    "            file=file, \n",
    "            file_content_type='application/pdf',\n",
    "            metadata='{\"domain\":\"\"}'\n",
    "       ).get_result()\n",
    "        print (add_doc_response)\n",
    "        # Getting the ID of the newly added document\n",
    "        new_document_id = add_doc_response.get(\"document_id\", None)\n",
    "        \n",
    "        if new_document_id:\n",
    "            print(f\"Newly added document ID: {new_document_id}\")\n",
    "        else:\n",
    "            print(\"Error getting document ID.\")"
   ]
  },
  {
   "cell_type": "code",
   "execution_count": 177,
   "id": "76d7a82a-cacb-45ae-9589-c4de6fd8283d",
   "metadata": {},
   "outputs": [
    {
     "name": "stderr",
     "output_type": "stream",
     "text": [
      "/Users/hema/opt/anaconda3/envs/DND/lib/python3.10/site-packages/urllib3/connectionpool.py:1099: InsecureRequestWarning: Unverified HTTPS request is being made to host 'api.us-south.discovery.watson.cloud.ibm.com'. Adding certificate verification is strongly advised. See: https://urllib3.readthedocs.io/en/latest/advanced-usage.html#tls-warnings\n",
      "  warnings.warn(\n"
     ]
    },
    {
     "name": "stdout",
     "output_type": "stream",
     "text": [
      "{'document_id': 'aafe9924-691b-4864-83d1-86dd06de4976', 'status': 'pending'}\n",
      "Newly added document ID: aafe9924-691b-4864-83d1-86dd06de4976\n"
     ]
    }
   ],
   "source": [
    "#file_path = \"/Users/hema/feb_2022/WS/HQ/RelevancyTraining/express-ci-guide-to-definitions.pdf\"  #w/ metadata\n",
    "file_path = \"/Users/hema/feb_2022/WS/HQ/RelevancyTraining/Sample-Brochure.pdf\" #w/o metadata\n",
    "    \n",
    "upload_doc_discovery = upload_document(file_path)"
   ]
  },
  {
   "cell_type": "code",
   "execution_count": 178,
   "id": "2b8b61e4-4461-4deb-9f0f-ed663035c621",
   "metadata": {},
   "outputs": [
    {
     "name": "stderr",
     "output_type": "stream",
     "text": [
      "/Users/hema/opt/anaconda3/envs/DND/lib/python3.10/site-packages/urllib3/connectionpool.py:1099: InsecureRequestWarning: Unverified HTTPS request is being made to host 'api.us-south.discovery.watson.cloud.ibm.com'. Adding certificate verification is strongly advised. See: https://urllib3.readthedocs.io/en/latest/advanced-usage.html#tls-warnings\n",
      "  warnings.warn(\n"
     ]
    },
    {
     "data": {
      "text/plain": [
       "{'matching_results': 4,\n",
       " 'documents': [{'document_id': '9d6081619f893d57bb85495e78e9303a'},\n",
       "  {'document_id': '04711489-3a1a-4cf9-a8b1-026003bdb83a'},\n",
       "  {'document_id': '05396343-056c-44d8-bf8d-4f26971ce901'},\n",
       "  {'document_id': 'aafe9924-691b-4864-83d1-86dd06de4976'}]}"
      ]
     },
     "execution_count": 178,
     "metadata": {},
     "output_type": "execute_result"
    }
   ],
   "source": [
    "##list documents\n",
    "response = discovery.list_documents(\n",
    "   project_id=project_id,\n",
    "   collection_id=collection_id, \n",
    "  ).get_result()\n",
    "response"
   ]
  },
  {
   "cell_type": "code",
   "execution_count": 99,
   "id": "374a6a3b-8369-4a16-b0bc-388c2ff03e84",
   "metadata": {},
   "outputs": [
    {
     "name": "stderr",
     "output_type": "stream",
     "text": [
      "/Users/hema/opt/anaconda3/envs/DND/lib/python3.10/site-packages/urllib3/connectionpool.py:1099: InsecureRequestWarning: Unverified HTTPS request is being made to host 'api.us-south.discovery.watson.cloud.ibm.com'. Adding certificate verification is strongly advised. See: https://urllib3.readthedocs.io/en/latest/advanced-usage.html#tls-warnings\n",
      "  warnings.warn(\n"
     ]
    }
   ],
   "source": [
    "response = discovery.query(\n",
    "  project_id=project_id,\n",
    "  query=\"enriched_text.entities.text:Teladoc Medical Experts,extracted_metadata.filename:express-ci-guide-to-definitions.pdf\"\n",
    ").get_result()\n",
    "\n",
    "\n",
    "#\"extracted_metadata.filename:express-ci-guide-to-definitions.pdf\","
   ]
  },
  {
   "cell_type": "code",
   "execution_count": 100,
   "id": "2bb5e3e0-972f-47e5-9652-0da2fda052bc",
   "metadata": {},
   "outputs": [
    {
     "data": {
      "text/plain": [
       "{'matching_results': 4,\n",
       " 'retrieval_details': {'document_retrieval_strategy': 'untrained'},\n",
       " 'aggregations': [{'type': 'term',\n",
       "   'field': 'enriched_text.entities.text',\n",
       "   'name': 'entities',\n",
       "   'results': [{'key': 'first', 'matching_results': 3},\n",
       "    {'key': '$2.50', 'matching_results': 2},\n",
       "    {'key': '$5,000', 'matching_results': 2},\n",
       "    {'key': '5', 'matching_results': 2},\n",
       "    {'key': '5 years', 'matching_results': 2},\n",
       "    {'key': 'SUN LIFE', 'matching_results': 2},\n",
       "    {'key': 'Teladoc Medical', 'matching_results': 2},\n",
       "    {'key': 'Teladoc Medical Experts', 'matching_results': 2},\n",
       "    {'key': 'expert', 'matching_results': 2},\n",
       "    {'key': 'month', 'matching_results': 2}]}],\n",
       " 'results': [{'document_id': 'a5b52520-e90e-4a3b-a6ed-d2a763c04a91_9',\n",
       "   'result_metadata': {'collection_id': 'b570c01a-8576-481a-0000-0191c7a21660'},\n",
       "   'enriched_text': [{'entities': [{'model_name': 'natural_language_understanding',\n",
       "       'mentions': [{'confidence': 0.88706017,\n",
       "         'location': {'end': 30, 'begin': 25},\n",
       "         'text': 'first'}],\n",
       "       'text': 'first',\n",
       "       'type': 'Ordinal'},\n",
       "      {'model_name': 'natural_language_understanding',\n",
       "       'mentions': [{'confidence': 0.5302496,\n",
       "         'location': {'end': 38, 'begin': 31},\n",
       "         'text': '5 years'}],\n",
       "       'text': '5 years',\n",
       "       'type': 'Duration'},\n",
       "      {'model_name': 'natural_language_understanding',\n",
       "       'mentions': [{'confidence': 0.4965943,\n",
       "         'location': {'end': 99, 'begin': 65},\n",
       "         'text': 'Teladoc Medical ExpertsTM services'}],\n",
       "       'text': 'Teladoc Medical ExpertsTM services',\n",
       "       'type': 'Organization'},\n",
       "      {'model_name': 'natural_language_understanding',\n",
       "       'mentions': [{'confidence': 0.6557871,\n",
       "         'location': {'end': 277, 'begin': 262},\n",
       "         'text': 'Teladoc Medical'}],\n",
       "       'text': 'Teladoc Medical',\n",
       "       'type': 'Organization'},\n",
       "      {'model_name': 'natural_language_understanding',\n",
       "       'mentions': [{'confidence': 0.63451,\n",
       "         'location': {'end': 502, 'begin': 496},\n",
       "         'text': 'expert'}],\n",
       "       'text': 'expert',\n",
       "       'type': 'JobTitle'},\n",
       "      {'model_name': 'natural_language_understanding',\n",
       "       'mentions': [{'confidence': 0.7100002,\n",
       "         'location': {'end': 670, 'begin': 647},\n",
       "         'text': 'Teladoc Medical Experts'}],\n",
       "       'text': 'Teladoc Medical Experts',\n",
       "       'type': 'Organization'},\n",
       "      {'model_name': 'natural_language_understanding',\n",
       "       'mentions': [{'confidence': 0.52710795,\n",
       "         'location': {'end': 694, 'begin': 686},\n",
       "         'text': '4 months'}],\n",
       "       'text': '4 months',\n",
       "       'type': 'Duration'},\n",
       "      {'model_name': 'natural_language_understanding',\n",
       "       'mentions': [{'confidence': 0.8,\n",
       "         'location': {'end': 742, 'begin': 741},\n",
       "         'text': '5'}],\n",
       "       'text': '5',\n",
       "       'type': 'Number'},\n",
       "      {'model_name': 'natural_language_understanding',\n",
       "       'mentions': [{'confidence': 0.9963949,\n",
       "         'location': {'end': 761, 'begin': 756},\n",
       "         'text': '$2.50'}],\n",
       "       'text': '$2.50',\n",
       "       'type': 'Money'},\n",
       "      {'model_name': 'natural_language_understanding',\n",
       "       'mentions': [{'confidence': 0.16214982,\n",
       "         'location': {'end': 771, 'begin': 766},\n",
       "         'text': 'month'}],\n",
       "       'text': 'month',\n",
       "       'type': 'Duration'},\n",
       "      {'model_name': 'natural_language_understanding',\n",
       "       'mentions': [{'confidence': 0.99661,\n",
       "         'location': {'end': 801, 'begin': 795},\n",
       "         'text': '$5,000'}],\n",
       "       'text': '$5,000',\n",
       "       'type': 'Money'}]}],\n",
       "   'metadata': {'domain': 'health_insurance',\n",
       "    'parent_document_id': 'a5b52520-e90e-4a3b-a6ed-d2a763c04a91'},\n",
       "   'enriched_html': [{'tables': []}],\n",
       "   'extracted_metadata': {'sha1': '0FD6C29C4ADB3B9CC69C3B0F5D5746D0294CCB38',\n",
       "    'numPages': '12',\n",
       "    'filename': 'express-ci-guide-to-definitions.pdf',\n",
       "    'subject': 'This guide to critical illness definitions will help you understand the illnesses and procedures covered \\nby your Express Critical Illness (CI) Insurance policy. Each of the covered illnesses is defined and then explained to you. We have also outlined illness-specific exclusions and the survival periods required. Visit mysunlife.ca.\\r',\n",
       "    'file_type': 'pdf',\n",
       "    'text_mappings': '{\"text_mappings\":[{\"page\":{\"page_number\":7,\"bbox\":[72.0,193.4797821044922,234.30599975585938,205.28778266906738]},\"field\":{\"name\":\"subtitle\",\"index\":0,\"span\":[0,19]}},{\"page\":{\"page_number\":7,\"bbox\":[81.0,223.8188934326172,534.6141357421875,303.3878960609436]},\"field\":{\"name\":\"text\",\"index\":0,\"span\":[0,616]}},{\"page\":{\"page_number\":7,\"bbox\":[81.0,308.41888427734375,538.8433837890625,329.48790216445923]},\"field\":{\"name\":\"text\",\"index\":0,\"span\":[616,811]}}],\"pages\":[{\"page_number\":0,\"height\":792.0,\"width\":612.0,\"origin\":\"TopLeft\"},{\"page_number\":1,\"height\":792.0,\"width\":612.0,\"origin\":\"TopLeft\"},{\"page_number\":2,\"height\":792.0,\"width\":612.0,\"origin\":\"TopLeft\"},{\"page_number\":3,\"height\":792.0,\"width\":612.0,\"origin\":\"TopLeft\"},{\"page_number\":4,\"height\":792.0,\"width\":612.0,\"origin\":\"TopLeft\"},{\"page_number\":5,\"height\":792.0,\"width\":612.0,\"origin\":\"TopLeft\"},{\"page_number\":6,\"height\":792.0,\"width\":612.0,\"origin\":\"TopLeft\"},{\"page_number\":7,\"height\":792.0,\"width\":612.0,\"origin\":\"TopLeft\"},{\"page_number\":8,\"height\":792.0,\"width\":612.0,\"origin\":\"TopLeft\"},{\"page_number\":9,\"height\":792.0,\"width\":612.0,\"origin\":\"TopLeft\"},{\"page_number\":10,\"height\":792.0,\"width\":612.0,\"origin\":\"TopLeft\"},{\"page_number\":11,\"height\":792.0,\"width\":612.0,\"origin\":\"TopLeft\"}]}',\n",
       "    'title': 'Your guide to Express Critical Illness Insurance definitions | Sun Life',\n",
       "    'publicationdate': '2021-12-21'},\n",
       "   'subtitle': 'Additional Benefits',\n",
       "   'html': ['<html><head><meta charset=\"UTF-8\"/><meta name=\"publicationdate\" content=\"2021-12-21\"/><meta name=\"numPages\" content=\"12\"/><title>Your guide to Express Critical Illness Insurance definitions | Sun Life</title><style>.css_969734319 { font: italic  9.0pt \\'/Sun Life Sans Medium Italic-Italic\\'; } .css_1791131084 { font: 12.0pt \\'/Sun Life Sans Medium\\'; } .css_1025826199 { font: 9.0pt \\'/Sun Life Sans Light\\'; } .css_1117632818 { font: 10.0pt \\'/Sun Life Sans Medium\\'; } .css_992591831 { font: 26.0pt \\'/Sun Life Sans Medium\\'; } .css_1927488198 { font: 18.0pt \\'/Sun Life Sans Medium\\'; } .css_346912348 { font: 12.0pt \\'/Sun Life Sans Bold\\'; } .css_1280562744 { font: 8.0pt \\'/Sun Life Sans Light\\'; } .css_1629003952 { font: 11.0pt \\'/Sun Life Sans Light\\'; } .css_393611563 { font: 24.0pt \\'/Sun Life Sans Medium\\'; } .css_1234386501 { font: 19.0pt \\'/Sun Life Sans Medium\\'; } .css_1137544074 { font: 17.0pt \\'/Sun Life Sans Light\\'; } .css_1788876724 { font: 9.0pt \\'/Sun Life Sans Medium\\'; } .css_1674377401 { font: 17.0pt \\'/Sun Life Sans Medium\\'; }</style></head><body><section id=\"1\" data-level=\"1\"><p text-alignment=\"left\"><span class=\"subtitle css_1927488198\"><bbox page=\"7\" x=\"72.0\" y=\"193.4797821044922\" height=\"11.808000564575195\" width=\"162.30599975585938\">Additional Benefits</bbox></span></p><p text-alignment=\"left\"><span class=\"text css_1025826199\"><bbox page=\"7\" x=\"81.0\" y=\"223.8188934326172\" height=\"79.56900262832642\" width=\"453.6141357421875\">• rate guarantee for the first 5 years, • inflation protection • Teladoc Medical ExpertsTM services – A valuable service available to you, your spouse, dependent children, parents and parents-in-law at any point during the lifetime of the policy. You can access Teladoc Medical Experts to get answers to any of your medical questions (they do not need to be questions relating to an illness covered under this policy). In addition, if you get critically ill, you will be connected with a leading expert that will review your diagnosis and your treatment plan and provide you with recommendations for moving forward.</bbox></span></p><p text-alignment=\"left\"><span class=\"text css_1025826199\"><bbox page=\"7\" x=\"81.0\" y=\"308.41888427734375\" height=\"21.06901788711548\" width=\"457.8433837890625\">What’s more, you can still use Teladoc Medical Experts services up to 4 months from the time your claim is paid. • add up to 5 children for $2.50 per month to provide coverage of $5,000 per child</bbox></span></p></section></body></html>'],\n",
       "   'text': ['• rate guarantee for the first 5 years, • inflation protection • Teladoc Medical ExpertsTM services – A valuable service available to you, your spouse, dependent children, parents and parents-in-law at any point during the lifetime of the policy. You can access Teladoc Medical Experts to get answers to any of your medical questions (they do not need to be questions relating to an illness covered under this policy). In addition, if you get critically ill, you will be connected with a leading expert that will review your diagnosis and your treatment plan and provide you with recommendations for moving forward. What’s more, you can still use Teladoc Medical Experts services up to 4 months from the time your claim is paid. • add up to 5 children for $2.50 per month to provide coverage of $5,000 per child'],\n",
       "   'document_passages': [{'passage_text': '• rate guarantee for the first 5 years, • inflation protection • <em>Teladoc</em> <em>Medical</em> ExpertsTM services – A valuable service available to you, your spouse, dependent children, parents and parents-in-law at any point during the lifetime of the policy. You can access <em>Teladoc</em> <em>Medical</em> <em>Experts</em> to get answers to any of your <em>medical</em> questions (they do not need to be questions',\n",
       "     'start_offset': 0,\n",
       "     'end_offset': 367,\n",
       "     'field': 'text'}],\n",
       "   'table_results_references': []},\n",
       "  {'document_id': 'a5b52520-e90e-4a3b-a6ed-d2a763c04a91_1',\n",
       "   'result_metadata': {'collection_id': 'b570c01a-8576-481a-0000-0191c7a21660'},\n",
       "   'enriched_text': [{'entities': [{'model_name': 'natural_language_understanding',\n",
       "       'mentions': [{'confidence': 0.5160054,\n",
       "         'location': {'end': 8, 'begin': 0},\n",
       "         'text': 'SUN LIFE'}],\n",
       "       'text': 'SUN LIFE',\n",
       "       'type': 'Organization'},\n",
       "      {'model_name': 'natural_language_understanding',\n",
       "       'mentions': [{'confidence': 0.27769542,\n",
       "         'location': {'end': 315, 'begin': 304},\n",
       "         'text': '18-65 years'},\n",
       "        {'confidence': 0.21226265,\n",
       "         'location': {'end': 357, 'begin': 346},\n",
       "         'text': '18-65 years'},\n",
       "        {'confidence': 0.22156172,\n",
       "         'location': {'end': 399, 'begin': 388},\n",
       "         'text': '18-65 years'}],\n",
       "       'text': '18-65 years',\n",
       "       'type': 'Duration'},\n",
       "      {'model_name': 'natural_language_understanding',\n",
       "       'mentions': [{'confidence': 0.9849806,\n",
       "         'location': {'end': 453, 'begin': 446},\n",
       "         'text': '$25,000'},\n",
       "        {'confidence': 0.99330294,\n",
       "         'location': {'end': 463, 'begin': 456},\n",
       "         'text': '$25,000'}],\n",
       "       'text': '$25,000',\n",
       "       'type': 'Money'},\n",
       "      {'model_name': 'natural_language_understanding',\n",
       "       'mentions': [{'confidence': 0.9912766,\n",
       "         'location': {'end': 473, 'begin': 466},\n",
       "         'text': '$50,000'}],\n",
       "       'text': '$50,000',\n",
       "       'type': 'Money'},\n",
       "      {'model_name': 'natural_language_understanding',\n",
       "       'mentions': [{'confidence': 0.99474263,\n",
       "         'location': {'end': 482, 'begin': 476},\n",
       "         'text': '$5,000'},\n",
       "        {'confidence': 0.9956175,\n",
       "         'location': {'end': 1024, 'begin': 1018},\n",
       "         'text': '$5,000'}],\n",
       "       'text': '$5,000',\n",
       "       'type': 'Money'},\n",
       "      {'model_name': 'natural_language_understanding',\n",
       "       'mentions': [{'confidence': 0.9073941,\n",
       "         'location': {'end': 550, 'begin': 545},\n",
       "         'text': 'first'}],\n",
       "       'text': 'first',\n",
       "       'type': 'Ordinal'},\n",
       "      {'model_name': 'natural_language_understanding',\n",
       "       'mentions': [{'confidence': 0.58187747,\n",
       "         'location': {'end': 558, 'begin': 551},\n",
       "         'text': '5 years'}],\n",
       "       'text': '5 years',\n",
       "       'type': 'Duration'},\n",
       "      {'model_name': 'natural_language_understanding',\n",
       "       'mentions': [{'confidence': 0.50829226,\n",
       "         'location': {'end': 607, 'begin': 584},\n",
       "         'text': 'Teladoc Medical Experts'}],\n",
       "       'text': 'Teladoc Medical Experts',\n",
       "       'type': 'Organization'},\n",
       "      {'model_name': 'natural_language_understanding',\n",
       "       'mentions': [{'confidence': 0.6442843,\n",
       "         'location': {'end': 697, 'begin': 682},\n",
       "         'text': 'Teladoc Medical'}],\n",
       "       'text': 'Teladoc Medical',\n",
       "       'type': 'Organization'},\n",
       "      {'model_name': 'natural_language_understanding',\n",
       "       'mentions': [{'confidence': 0.63451,\n",
       "         'location': {'end': 838, 'begin': 832},\n",
       "         'text': 'expert'}],\n",
       "       'text': 'expert',\n",
       "       'type': 'JobTitle'},\n",
       "      {'model_name': 'natural_language_understanding',\n",
       "       'mentions': [{'confidence': 0.8,\n",
       "         'location': {'end': 965, 'begin': 964},\n",
       "         'text': '5'}],\n",
       "       'text': '5',\n",
       "       'type': 'Number'},\n",
       "      {'model_name': 'natural_language_understanding',\n",
       "       'mentions': [{'confidence': 0.9963777,\n",
       "         'location': {'end': 984, 'begin': 979},\n",
       "         'text': '$2.50'}],\n",
       "       'text': '$2.50',\n",
       "       'type': 'Money'},\n",
       "      {'model_name': 'natural_language_understanding',\n",
       "       'mentions': [{'confidence': 0.15713562,\n",
       "         'location': {'end': 994, 'begin': 989},\n",
       "         'text': 'month'}],\n",
       "       'text': 'month',\n",
       "       'type': 'Duration'}]}],\n",
       "   'metadata': {'domain': 'health_insurance',\n",
       "    'parent_document_id': 'a5b52520-e90e-4a3b-a6ed-d2a763c04a91'},\n",
       "   'enriched_html': [{'tables': []}],\n",
       "   'extracted_metadata': {'sha1': '0FD6C29C4ADB3B9CC69C3B0F5D5746D0294CCB38',\n",
       "    'numPages': '12',\n",
       "    'filename': 'express-ci-guide-to-definitions.pdf',\n",
       "    'subject': 'This guide to critical illness definitions will help you understand the illnesses and procedures covered \\nby your Express Critical Illness (CI) Insurance policy. Each of the covered illnesses is defined and then explained to you. We have also outlined illness-specific exclusions and the survival periods required. Visit mysunlife.ca.\\r',\n",
       "    'file_type': 'pdf',\n",
       "    'text_mappings': '{\"text_mappings\":[{\"page\":{\"page_number\":2,\"bbox\":[72.0,73.8359146118164,377.214599609375,84.9879150390625]},\"field\":{\"name\":\"subtitle\",\"index\":0,\"span\":[0,38]}},{\"page\":{\"page_number\":2,\"bbox\":[72.0,94.23587799072266,521.6085815429688,151.28778314590454]},\"field\":{\"name\":\"table_of_contents\",\"index\":0,\"span\":[0,335]}},{\"page\":{\"page_number\":2,\"bbox\":[72.0,162.61888122558594,537.1702880859375,211.5878930091858]},\"field\":{\"name\":\"table_of_contents\",\"index\":1,\"span\":[0,508]}},{\"page\":{\"page_number\":2,\"bbox\":[72.0,222.78392028808594,531.7255249023438,271.8878870010376]},\"field\":{\"name\":\"table_of_contents\",\"index\":2,\"span\":[0,453]}},{\"page\":{\"page_number\":2,\"bbox\":[72.0,283.2189025878906,251.2233123779297,306.08787775039673]},\"field\":{\"name\":\"table_of_contents\",\"index\":3,\"span\":[0,84]}},{\"page\":{\"page_number\":2,\"bbox\":[72.0,315.618896484375,497.20947265625,373.58789920806885]},\"field\":{\"name\":\"table_of_contents\",\"index\":4,\"span\":[0,367]}},{\"page\":{\"page_number\":2,\"bbox\":[72.0,384.91888427734375,537.88037109375,401.48790216445923]},\"field\":{\"name\":\"table_of_contents\",\"index\":5,\"span\":[0,243]}},{\"page\":{\"page_number\":2,\"bbox\":[72.0,412.8188781738281,518.7913818359375,440.18788385391235]},\"field\":{\"name\":\"table_of_contents\",\"index\":6,\"span\":[0,253]}},{\"page\":{\"page_number\":2,\"bbox\":[72.0,451.5188903808594,530.29345703125,520.2879204750061]},\"field\":{\"name\":\"table_of_contents\",\"index\":7,\"span\":[0,365]}},{\"page\":{\"page_number\":2,\"bbox\":[79.54180145263672,525.3189086914062,539.7623291015625,611.1878838539124]},\"field\":{\"name\":\"table_of_contents\",\"index\":8,\"span\":[0,535]}},{\"page\":{\"page_number\":2,\"bbox\":[108.0,765.98388671875,310.4637145996094,771.1118865013123]},\"field\":{\"name\":\"table_of_contents\",\"index\":9,\"span\":[0,48]}},{\"page\":{\"page_number\":3,\"bbox\":[395.0589904785156,765.98388671875,504.00018310546875,771.1118865013123]},\"field\":{\"name\":\"table_of_contents\",\"index\":10,\"span\":[0,26]}},{\"page\":{\"page_number\":3,\"bbox\":[71.16000366210938,37.15190887451172,538.4840698242188,234.3967308998108]},\"field\":{\"name\":\"text\",\"index\":0,\"span\":[0,285]}},{\"page\":{\"page_number\":3,\"bbox\":[75.16000366210938,247.35662841796875,255.16207885742188,265.91662883758545]},\"field\":{\"name\":\"text\",\"index\":0,\"span\":[285,344]}},{\"page\":{\"page_number\":3,\"bbox\":[75.16000366210938,247.3835906982422,536.6121215820312,446.5284905433655]},\"field\":{\"name\":\"text\",\"index\":0,\"span\":[344,911]}},{\"page\":{\"page_number\":3,\"bbox\":[388.7799987792969,451.5596008300781,535.51416015625,505.0284905433655]},\"field\":{\"name\":\"text\",\"index\":0,\"span\":[911,1035]}},{\"page\":{\"page_number\":3,\"bbox\":[301.5390930175781,765.98388671875,391.3630065917969,771.1118865013123]},\"field\":{\"name\":\"text\",\"index\":0,\"span\":[1035,1057]}},{\"page\":{\"page_number\":4,\"bbox\":[267.9303894042969,37.15190887451172,344.0697021484375,45.167908668518066]},\"field\":{\"name\":\"text\",\"index\":0,\"span\":[1057,1068]}}],\"pages\":[{\"page_number\":0,\"height\":792.0,\"width\":612.0,\"origin\":\"TopLeft\"},{\"page_number\":1,\"height\":792.0,\"width\":612.0,\"origin\":\"TopLeft\"},{\"page_number\":2,\"height\":792.0,\"width\":612.0,\"origin\":\"TopLeft\"},{\"page_number\":3,\"height\":792.0,\"width\":612.0,\"origin\":\"TopLeft\"},{\"page_number\":4,\"height\":792.0,\"width\":612.0,\"origin\":\"TopLeft\"},{\"page_number\":5,\"height\":792.0,\"width\":612.0,\"origin\":\"TopLeft\"},{\"page_number\":6,\"height\":792.0,\"width\":612.0,\"origin\":\"TopLeft\"},{\"page_number\":7,\"height\":792.0,\"width\":612.0,\"origin\":\"TopLeft\"},{\"page_number\":8,\"height\":792.0,\"width\":612.0,\"origin\":\"TopLeft\"},{\"page_number\":9,\"height\":792.0,\"width\":612.0,\"origin\":\"TopLeft\"},{\"page_number\":10,\"height\":792.0,\"width\":612.0,\"origin\":\"TopLeft\"},{\"page_number\":11,\"height\":792.0,\"width\":612.0,\"origin\":\"TopLeft\"}]}',\n",
       "    'title': 'Your guide to Express Critical Illness Insurance definitions | Sun Life',\n",
       "    'publicationdate': '2021-12-21'},\n",
       "   'subtitle': 'Your Guide to EXPRESS Critical Illness',\n",
       "   'html': ['<html><head><meta charset=\"UTF-8\"/><meta name=\"publicationdate\" content=\"2021-12-21\"/><meta name=\"numPages\" content=\"12\"/><title>Your guide to Express Critical Illness Insurance definitions | Sun Life</title><style>.css_969734319 { font: italic  9.0pt \\'/Sun Life Sans Medium Italic-Italic\\'; } .css_1791131084 { font: 12.0pt \\'/Sun Life Sans Medium\\'; } .css_1025826199 { font: 9.0pt \\'/Sun Life Sans Light\\'; } .css_1117632818 { font: 10.0pt \\'/Sun Life Sans Medium\\'; } .css_992591831 { font: 26.0pt \\'/Sun Life Sans Medium\\'; } .css_1927488198 { font: 18.0pt \\'/Sun Life Sans Medium\\'; } .css_346912348 { font: 12.0pt \\'/Sun Life Sans Bold\\'; } .css_1280562744 { font: 8.0pt \\'/Sun Life Sans Light\\'; } .css_1629003952 { font: 11.0pt \\'/Sun Life Sans Light\\'; } .css_393611563 { font: 24.0pt \\'/Sun Life Sans Medium\\'; } .css_1234386501 { font: 19.0pt \\'/Sun Life Sans Medium\\'; } .css_1137544074 { font: 17.0pt \\'/Sun Life Sans Light\\'; } .css_1788876724 { font: 9.0pt \\'/Sun Life Sans Medium\\'; } .css_1674377401 { font: 17.0pt \\'/Sun Life Sans Medium\\'; }</style></head><body><section id=\"1\" data-level=\"1\"><p text-alignment=\"left\"><span class=\"subtitle css_1674377401\"><bbox page=\"2\" x=\"72.0\" y=\"73.8359146118164\" height=\"11.152000427246094\" width=\"305.214599609375\">Your Guide to EXPRESS Critical Illness</bbox></span></p><p text-alignment=\"left\"><span class=\"table_of_contents css_1674377401\"><bbox page=\"2\" x=\"72.0\" y=\"94.23587799072266\" height=\"57.051905155181885\" width=\"449.60858154296875\">Insurance Definitions This guide to critical illness definitions will help you understand the illnesses and procedures covered by your Express Critical Illness (CI) Insurance policy. Each of the covered illnesses is defined and then explained to you. We have also outlined illness-specific exclusions and the survival periods required.</bbox></span></p><p text-alignment=\"left\"><span class=\"table_of_contents css_1025826199\"><bbox page=\"2\" x=\"72.0\" y=\"162.61888122558594\" height=\"48.96901178359985\" width=\"465.1702880859375\">The diagnosis and treatment of any Covered critical illness must be made by a specialist who is licensed and practising in Canada. A specialist is a licensed medical practitioner who has been trained in the specific area of medicine relevant to the Covered critical illnesses for which a benefit is being claimed, and who has been certified by a specialty examining board. In the absence or unavailability of a specialist a condition may be diagnosed by a qualified medical practitioner practicing in Canada.</bbox></span></p><p text-alignment=\"left\"><span class=\"table_of_contents css_1788876724\"><bbox page=\"2\" x=\"72.0\" y=\"222.78392028808594\" height=\"49.10396671295166\" width=\"459.72552490234375\">This guide is for your reference only, and does not replace the policy. We will not pay for any illness, disorder or surgery not specifically defined under the policy/coverage. For Express Critical Illness Insurance, the complete terms, conditions, exclusions and limitations governing the Critical Illness Insurance coverage are found in your policy issued by Sun Life Assurance Company of Canada, a member of the Sun Life Financial group of companies.</bbox></span></p><p text-alignment=\"left\"><span class=\"table_of_contents css_1025826199\"><bbox page=\"2\" x=\"72.0\" y=\"283.2189025878906\" height=\"22.868975162506104\" width=\"179.2233123779297\">Your critical illness insurance policy: • Defines illnesses you are insured for, and</bbox></span></p><p text-alignment=\"left\"><span class=\"table_of_contents css_1025826199\"><bbox page=\"2\" x=\"72.0\" y=\"315.618896484375\" height=\"57.96900272369385\" width=\"425.20947265625\">• Includes the terms and conditions you will have to meet to receive the critical illness insurance benefit • Includes a pre-existing condition provision and how it applies to the critical illness insurance benefit (if that benefit is applied for).* Please review the policy carefully. For a sample policy please visit www.sunlife.ca/ExpressCI or call 1-877-893-9893.</bbox></span></p><p text-alignment=\"left\"><span class=\"table_of_contents css_1025826199\"><bbox page=\"2\" x=\"72.0\" y=\"384.91888427734375\" height=\"16.56901788711548\" width=\"465.88037109375\">Illnesses not specifically mentioned or not meeting the stated criteria are not covered. All illnesses must satisfy the description in your policy. For an illness or condition to be covered, it must meet the illness description in your policy.</bbox></span></p><p text-alignment=\"left\"><span class=\"table_of_contents css_1025826199\"><bbox page=\"2\" x=\"72.0\" y=\"412.8188781738281\" height=\"27.36900568008423\" width=\"446.7913818359375\">If your policy ended because it lapsed, you may apply to have it put back into effect if the insured person is alive and has not had a covered critical illness or any signs or symptoms of a covered critical illness. This process is called reinstatement.</bbox></span></p><p text-alignment=\"left\"><span class=\"table_of_contents css_1025826199\"><bbox page=\"2\" x=\"72.0\" y=\"451.5188903808594\" height=\"68.76903009414673\" width=\"458.29345703125\">If you want to put your policy back into effect, you must: • Apply within 2 years of the date the policy ended, • Give us new evidence of insurability that we consider satisfactory, and • Make a payment equal to the reinstatement charge set by us. * No benefits are payable for any Covered critical illness that occurs within 12 months of the policy date set out on</bbox></span></p><p text-alignment=\"left\"><span class=\"table_of_contents css_1025826199\"><bbox page=\"2\" x=\"79.54180145263672\" y=\"525.3189086914062\" height=\"85.8689751625061\" width=\"460.2205276489258\">the Policy particulars page in your contract. And that resulted from any injury, sickness or medical condition (whether diagnosed or not) for which, during the 12 months before the policy due date: • the insured person had symptoms, • the insured person consulted a physician or other health care practitioner and was provided any health-related care, advice or treatment, or • a reasonably prudent person has such injury, sickness or medical condition or symptoms(s) would have consulted a physician or other health care practitioner.</bbox></span></p><p text-alignment=\"left\"><span class=\"table_of_contents css_1280562744\"><bbox page=\"2\" x=\"108.0\" y=\"765.98388671875\" height=\"5.127999782562256\" width=\"202.46371459960938\">2 Your Guide to Express CI Insurance Definitions</bbox></span></p><p text-alignment=\"left\"><span class=\"text css_346912348\"><bbox page=\"3\" x=\"71.16000366210938\" y=\"37.15190887451172\" height=\"197.24482202529907\" width=\"467.3240661621094\">SUN LIFE GO Covered critical illnesses Basic Plan Enhanced Plan Comfort Plan Illnesses covered • Cancer • Cancer • Heart attack • Stroke • Cancer • Heart attack • Stroke • Coronary artery bypass surgery • Aortic surgery • Major organ transplant • Major organ failure – on waiting list</bbox></span></p><p text-alignment=\"left\"><span class=\"text css_1117632818\"><bbox page=\"3\" x=\"75.16000366210938\" y=\"247.35662841796875\" height=\"18.5600004196167\" width=\"180.0020751953125\">Age requirements • 18-65 years old when you buy the policy</bbox></span></p><p text-alignment=\"left\"><span class=\"text css_1025826199\"><bbox page=\"3\" x=\"75.16000366210938\" y=\"247.3835906982422\" height=\"199.1448998451233\" width=\"461.4521179199219\">• 18-65 years old when you buy the policy • 18-65 years old when you buy the policy Coverage amount • $25,000 • $25,000 • $50,000 • $5,000 (child benefits) Additional benefits • Rate guarantee for the first 5 years • Inflation protection • Teladoc Medical Experts* services - At any point during the lifetime of the policy you can access Teladoc Medical Experts to get answers to any of your medical questions. In addition, if you get critically ill, you will be connected with a leading expert that will review your diagnosis and your treatment plan and provide you</bbox></span></p><p text-alignment=\"left\"><span class=\"text css_1025826199\"><bbox page=\"3\" x=\"388.7799987792969\" y=\"451.5596008300781\" height=\"53.46888971328735\" width=\"146.73416137695312\">with recommendations for moving forward. • Add up to 5 children for $2.50 per month to provide coverage of $5,000 per child</bbox></span></p><p text-alignment=\"left\"><span class=\"text css_1280562744\"><bbox page=\"3\" x=\"301.5390930175781\" y=\"765.98388671875\" height=\"5.127999782562256\" width=\"89.82391357421875\">Your Guide to Express</bbox></span></p><p text-alignment=\"left\"><span class=\"table_of_contents css_1280562744\"><bbox page=\"3\" x=\"395.0589904785156\" y=\"765.98388671875\" height=\"5.127999782562256\" width=\"108.94119262695312\">CI Insurance Definitions 3</bbox></span></p><p text-alignment=\"left\"><span class=\"text css_346912348\"><bbox page=\"4\" x=\"267.9303894042969\" y=\"37.15190887451172\" height=\"8.015999794006348\" width=\"76.13931274414062\">SUN LIFE GO</bbox></span></p></section></body></html>'],\n",
       "   'text': ['SUN LIFE GO Covered critical illnesses Basic Plan Enhanced Plan Comfort Plan Illnesses covered • Cancer • Cancer • Heart attack • Stroke • Cancer • Heart attack • Stroke • Coronary artery bypass surgery • Aortic surgery • Major organ transplant • Major organ failure – on waiting list Age requirements • 18-65 years old when you buy the policy • 18-65 years old when you buy the policy • 18-65 years old when you buy the policy Coverage amount • $25,000 • $25,000 • $50,000 • $5,000 (child benefits) Additional benefits • Rate guarantee for the first 5 years • Inflation protection • Teladoc Medical Experts* services - At any point during the lifetime of the policy you can access Teladoc Medical Experts to get answers to any of your medical questions. In addition, if you get critically ill, you will be connected with a leading expert that will review your diagnosis and your treatment plan and provide you with recommendations for moving forward. • Add up to 5 children for $2.50 per month to provide coverage of $5,000 per child Your Guide to Express SUN LIFE GO'],\n",
       "   'document_passages': [{'passage_text': '<em>Teladoc</em> <em>Medical</em> <em>Experts</em>* services - At any point during the lifetime of the policy you can access <em>Teladoc</em> <em>Medical</em> <em>Experts</em> to get answers to any of your <em>medical</em> questions. In addition, if you get critically',\n",
       "     'start_offset': 584,\n",
       "     'end_offset': 789,\n",
       "     'field': 'text'}],\n",
       "   'table_results_references': []},\n",
       "  {'document_id': 'a5b52520-e90e-4a3b-a6ed-d2a763c04a91_14',\n",
       "   'result_metadata': {'collection_id': 'b570c01a-8576-481a-0000-0191c7a21660'},\n",
       "   'enriched_text': [{'entities': [{'model_name': 'natural_language_understanding',\n",
       "       'mentions': [{'confidence': 0.7934474,\n",
       "         'location': {'end': 10, 'begin': 0},\n",
       "         'text': 'Consultant'}],\n",
       "       'text': 'Consultant',\n",
       "       'type': 'JobTitle'},\n",
       "      {'model_name': 'natural_language_understanding',\n",
       "       'mentions': [{'confidence': 0.8,\n",
       "         'location': {'end': 28, 'begin': 14},\n",
       "         'text': '1-844-528-0583'}],\n",
       "       'text': '1-844-528-0583',\n",
       "       'type': 'PhoneNumber'},\n",
       "      {'model_name': 'natural_language_understanding',\n",
       "       'mentions': [{'confidence': 0.33069795,\n",
       "         'location': {'end': 45, 'begin': 29},\n",
       "         'text': 'Monday to Friday'}],\n",
       "       'text': 'Monday to Friday',\n",
       "       'type': 'Date'},\n",
       "      {'model_name': 'natural_language_understanding',\n",
       "       'mentions': [{'confidence': 0.1961379,\n",
       "         'location': {'end': 72, 'begin': 54},\n",
       "         'text': '8 a.m. – 8 p.m. ET'}],\n",
       "       'text': '8 a.m. – 8 p.m. ET',\n",
       "       'type': 'Time'},\n",
       "      {'model_name': 'natural_language_understanding',\n",
       "       'mentions': [{'confidence': 0.75897187,\n",
       "         'location': {'end': 116, 'begin': 89},\n",
       "         'text': 'Financial Security Advisors'}],\n",
       "       'text': 'Financial Security Advisors',\n",
       "       'type': 'JobTitle'},\n",
       "      {'model_name': 'natural_language_understanding',\n",
       "       'mentions': [{'confidence': 0.4046357,\n",
       "         'location': {'end': 142, 'begin': 124},\n",
       "         'text': 'province of Quebec'}],\n",
       "       'text': 'province of Quebec',\n",
       "       'type': 'Location'},\n",
       "      {'model_name': 'natural_language_understanding',\n",
       "       'mentions': [{'confidence': 0.41374037,\n",
       "         'location': {'end': 149, 'begin': 145},\n",
       "         'text': '2021'},\n",
       "        {'confidence': 0.7599577,\n",
       "         'location': {'end': 378, 'begin': 374},\n",
       "         'text': '2021'}],\n",
       "       'text': '2021',\n",
       "       'type': 'Date'},\n",
       "      {'model_name': 'natural_language_understanding',\n",
       "       'mentions': [{'confidence': 0.6090305,\n",
       "         'location': {'end': 170, 'begin': 150},\n",
       "         'text': 'Teladoc Health, Inc.'},\n",
       "        {'confidence': 0.69033647,\n",
       "         'location': {'end': 284, 'begin': 264},\n",
       "         'text': 'Teladoc Health, Inc.'}],\n",
       "       'text': 'Teladoc Health, Inc.',\n",
       "       'type': 'Organization'},\n",
       "      {'model_name': 'natural_language_understanding',\n",
       "       'mentions': [{'confidence': 0.96164775,\n",
       "         'location': {'end': 199, 'begin': 192},\n",
       "         'text': 'Teladoc'},\n",
       "        {'confidence': 0.92694956,\n",
       "         'location': {'end': 208, 'begin': 201},\n",
       "         'text': 'Teladoc'}],\n",
       "       'text': 'Teladoc',\n",
       "       'type': 'Organization'},\n",
       "      {'model_name': 'natural_language_understanding',\n",
       "       'mentions': [{'confidence': 0.3919118,\n",
       "         'location': {'end': 224, 'begin': 209},\n",
       "         'text': 'Medical Experts'}],\n",
       "       'text': 'Medical Experts',\n",
       "       'type': 'JobTitle'},\n",
       "      {'model_name': 'natural_language_understanding',\n",
       "       'mentions': [{'confidence': 0.6221418,\n",
       "         'location': {'end': 245, 'begin': 233},\n",
       "         'text': 'Teladoc logo'}],\n",
       "       'text': 'Teladoc logo',\n",
       "       'type': 'Organization'},\n",
       "      {'model_name': 'natural_language_understanding',\n",
       "       'mentions': [{'confidence': 0.54534584,\n",
       "         'location': {'end': 372, 'begin': 336},\n",
       "         'text': 'Sun Life Assurance Company of Canada'}],\n",
       "       'text': 'Sun Life Assurance Company of Canada',\n",
       "       'type': 'Organization'},\n",
       "      {'model_name': 'natural_language_understanding',\n",
       "       'mentions': [{'confidence': 0.8,\n",
       "         'location': {'end': 427, 'begin': 423},\n",
       "         'text': '1221'}],\n",
       "       'text': '1221',\n",
       "       'type': 'Number'}]}],\n",
       "   'metadata': {'domain': 'health_insurance',\n",
       "    'parent_document_id': 'a5b52520-e90e-4a3b-a6ed-d2a763c04a91'},\n",
       "   'enriched_html': [{'tables': []}],\n",
       "   'extracted_metadata': {'sha1': '0FD6C29C4ADB3B9CC69C3B0F5D5746D0294CCB38',\n",
       "    'numPages': '12',\n",
       "    'filename': 'express-ci-guide-to-definitions.pdf',\n",
       "    'subject': 'This guide to critical illness definitions will help you understand the illnesses and procedures covered \\nby your Express Critical Illness (CI) Insurance policy. Each of the covered illnesses is defined and then explained to you. We have also outlined illness-specific exclusions and the survival periods required. Visit mysunlife.ca.\\r',\n",
       "    'file_type': 'pdf',\n",
       "    'text_mappings': '{\"text_mappings\":[{\"page\":{\"page_number\":12,\"bbox\":[54.0,225.63882446289062,467.46893310546875,236.53582382202148]},\"field\":{\"name\":\"subtitle\",\"index\":0,\"span\":[0,58]}},{\"page\":{\"page_number\":12,\"bbox\":[54.0,247.63882446289062,436.8570556640625,307.23581409454346]},\"field\":{\"name\":\"text\",\"index\":0,\"span\":[0,144]}},{\"page\":{\"page_number\":12,\"bbox\":[54.0,669.1489868164062,365.07562255859375,737.9999742507935]},\"field\":{\"name\":\"text\",\"index\":0,\"span\":[144,427]}}],\"pages\":[{\"page_number\":0,\"height\":792.0,\"width\":612.0,\"origin\":\"TopLeft\"},{\"page_number\":1,\"height\":792.0,\"width\":612.0,\"origin\":\"TopLeft\"},{\"page_number\":2,\"height\":792.0,\"width\":612.0,\"origin\":\"TopLeft\"},{\"page_number\":3,\"height\":792.0,\"width\":612.0,\"origin\":\"TopLeft\"},{\"page_number\":4,\"height\":792.0,\"width\":612.0,\"origin\":\"TopLeft\"},{\"page_number\":5,\"height\":792.0,\"width\":612.0,\"origin\":\"TopLeft\"},{\"page_number\":6,\"height\":792.0,\"width\":612.0,\"origin\":\"TopLeft\"},{\"page_number\":7,\"height\":792.0,\"width\":612.0,\"origin\":\"TopLeft\"},{\"page_number\":8,\"height\":792.0,\"width\":612.0,\"origin\":\"TopLeft\"},{\"page_number\":9,\"height\":792.0,\"width\":612.0,\"origin\":\"TopLeft\"},{\"page_number\":10,\"height\":792.0,\"width\":612.0,\"origin\":\"TopLeft\"},{\"page_number\":11,\"height\":792.0,\"width\":612.0,\"origin\":\"TopLeft\"}]}',\n",
       "    'title': 'Your guide to Express Critical Illness Insurance definitions | Sun Life',\n",
       "    'publicationdate': '2021-12-21'},\n",
       "   'subtitle': 'Call toll-free to speak with a licensed Financial Services',\n",
       "   'html': ['<html><head><meta charset=\"UTF-8\"/><meta name=\"publicationdate\" content=\"2021-12-21\"/><meta name=\"numPages\" content=\"12\"/><title>Your guide to Express Critical Illness Insurance definitions | Sun Life</title><style>.css_969734319 { font: italic  9.0pt \\'/Sun Life Sans Medium Italic-Italic\\'; } .css_1791131084 { font: 12.0pt \\'/Sun Life Sans Medium\\'; } .css_1025826199 { font: 9.0pt \\'/Sun Life Sans Light\\'; } .css_1117632818 { font: 10.0pt \\'/Sun Life Sans Medium\\'; } .css_992591831 { font: 26.0pt \\'/Sun Life Sans Medium\\'; } .css_1927488198 { font: 18.0pt \\'/Sun Life Sans Medium\\'; } .css_346912348 { font: 12.0pt \\'/Sun Life Sans Bold\\'; } .css_1280562744 { font: 8.0pt \\'/Sun Life Sans Light\\'; } .css_1629003952 { font: 11.0pt \\'/Sun Life Sans Light\\'; } .css_393611563 { font: 24.0pt \\'/Sun Life Sans Medium\\'; } .css_1234386501 { font: 19.0pt \\'/Sun Life Sans Medium\\'; } .css_1137544074 { font: 17.0pt \\'/Sun Life Sans Light\\'; } .css_1788876724 { font: 9.0pt \\'/Sun Life Sans Medium\\'; } .css_1674377401 { font: 17.0pt \\'/Sun Life Sans Medium\\'; }</style></head><body><section id=\"1\" data-level=\"1\"><p text-alignment=\"left\"><span class=\"subtitle css_1137544074\"><bbox page=\"12\" x=\"54.0\" y=\"225.63882446289062\" height=\"10.89699935913086\" width=\"413.46893310546875\">Call toll-free to speak with a licensed Financial Services</bbox></span></p><p text-alignment=\"left\"><span class=\"text css_1137544074\"><bbox page=\"12\" x=\"54.0\" y=\"247.63882446289062\" height=\"59.59698963165283\" width=\"382.8570556640625\">Consultant*at 1-844-528-0583 Monday to Friday between 8 a.m. – 8 p.m. ET. *Identified as Financial Security Advisors in the province of Quebec.</bbox></span></p><p text-alignment=\"left\"><span class=\"text css_1629003952\"><bbox page=\"12\" x=\"54.0\" y=\"669.1489868164062\" height=\"68.8509874343872\" width=\"311.07562255859375\">©2021 Teladoc Health, Inc. All rights reserved. Teladoc, Teladoc Medical Experts and the Teladoc logo are trademarks of Teladoc Health, Inc., and may not be used without written permission. © Sun Life Assurance Company of Canada, 2021. ra-expressci-guidetodefinitions-brochure-e-1221</bbox></span></p></section></body></html>'],\n",
       "   'text': ['Consultant*at 1-844-528-0583 Monday to Friday between 8 a.m. – 8 p.m. ET. *Identified as Financial Security Advisors in the province of Quebec. ©2021 Teladoc Health, Inc. All rights reserved. Teladoc, Teladoc Medical Experts and the Teladoc logo are trademarks of Teladoc Health, Inc., and may not be used without written permission. © Sun Life Assurance Company of Canada, 2021. ra-expressci-guidetodefinitions-brochure-e-1221'],\n",
       "   'document_passages': [{'passage_text': '*Identified as Financial Security Advisors in the province of Quebec. ©2021 <em>Teladoc</em> Health, Inc. All rights reserved. <em>Teladoc</em>, <em>Teladoc</em> <em>Medical</em> <em>Experts</em> and the <em>Teladoc</em> logo are trademarks of <em>Teladoc</em> Health, Inc., and may not',\n",
       "     'start_offset': 74,\n",
       "     'end_offset': 297,\n",
       "     'field': 'text'}],\n",
       "   'table_results_references': []},\n",
       "  {'document_id': 'a5b52520-e90e-4a3b-a6ed-d2a763c04a91_10',\n",
       "   'result_metadata': {'collection_id': 'b570c01a-8576-481a-0000-0191c7a21660'},\n",
       "   'enriched_text': [{'entities': [{'model_name': 'natural_language_understanding',\n",
       "       'mentions': [{'confidence': 0.80745494,\n",
       "         'location': {'end': 485, 'begin': 475},\n",
       "         'text': 'specialist'},\n",
       "        {'confidence': 0.8058192,\n",
       "         'location': {'end': 540, 'begin': 530},\n",
       "         'text': 'specialist'},\n",
       "        {'confidence': 0.69627404,\n",
       "         'location': {'end': 824, 'begin': 814},\n",
       "         'text': 'specialist'},\n",
       "        {'confidence': 0.77118295,\n",
       "         'location': {'end': 1061, 'begin': 1051},\n",
       "         'text': 'specialist'},\n",
       "        {'confidence': 0.7980002,\n",
       "         'location': {'end': 5101, 'begin': 5091},\n",
       "         'text': 'specialist'},\n",
       "        {'confidence': 0.79162395,\n",
       "         'location': {'end': 5381, 'begin': 5371},\n",
       "         'text': 'specialist'}],\n",
       "       'text': 'specialist',\n",
       "       'type': 'JobTitle'},\n",
       "      {'model_name': 'natural_language_understanding',\n",
       "       'mentions': [{'confidence': 0.9849572,\n",
       "         'location': {'end': 526, 'begin': 520},\n",
       "         'text': 'Canada'},\n",
       "        {'confidence': 0.9806656,\n",
       "         'location': {'end': 911, 'begin': 905},\n",
       "         'text': 'Canada'}],\n",
       "       'text': 'Canada',\n",
       "       'type': 'Location'},\n",
       "      {'model_name': 'natural_language_understanding',\n",
       "       'mentions': [{'confidence': 0.80583197,\n",
       "         'location': {'end': 575, 'begin': 555},\n",
       "         'text': 'medical practitioner'},\n",
       "        {'confidence': 0.8125367,\n",
       "         'location': {'end': 890, 'begin': 870},\n",
       "         'text': 'medical practitioner'},\n",
       "        {'confidence': 0.8114978,\n",
       "         'location': {'end': 3953, 'begin': 3933},\n",
       "         'text': 'medical practitioner'}],\n",
       "       'text': 'medical practitioner',\n",
       "       'type': 'JobTitle'},\n",
       "      {'model_name': 'natural_language_understanding',\n",
       "       'mentions': [{'confidence': 0.43620658,\n",
       "         'location': {'end': 1085, 'begin': 1065},\n",
       "         'text': 'medical professional'}],\n",
       "       'text': 'medical professional',\n",
       "       'type': 'JobTitle'},\n",
       "      {'model_name': 'natural_language_understanding',\n",
       "       'mentions': [{'confidence': 0.5523542,\n",
       "         'location': {'end': 1105, 'begin': 1100},\n",
       "         'text': 'owner'}],\n",
       "       'text': 'owner',\n",
       "       'type': 'JobTitle'},\n",
       "      {'model_name': 'natural_language_understanding',\n",
       "       'mentions': [{'confidence': 0.5752341,\n",
       "         'location': {'end': 1235, 'begin': 1217},\n",
       "         'text': 'business associate'}],\n",
       "       'text': 'business associate',\n",
       "       'type': 'JobTitle'},\n",
       "      {'model_name': 'natural_language_understanding',\n",
       "       'mentions': [{'confidence': 0.48808956,\n",
       "         'location': {'end': 1658, 'begin': 1638},\n",
       "         'text': 'Express CI Insurance'}],\n",
       "       'text': 'Express CI Insurance',\n",
       "       'type': 'Organization'},\n",
       "      {'model_name': 'natural_language_understanding',\n",
       "       'mentions': [{'confidence': 0.8,\n",
       "         'location': {'end': 1672, 'begin': 1671},\n",
       "         'text': '7'}],\n",
       "       'text': '7',\n",
       "       'type': 'Number'},\n",
       "      {'model_name': 'natural_language_understanding',\n",
       "       'mentions': [{'confidence': 0.8,\n",
       "         'location': {'end': 1959, 'begin': 1956},\n",
       "         'text': 'one'}],\n",
       "       'text': 'one',\n",
       "       'type': 'Number'},\n",
       "      {'model_name': 'natural_language_understanding',\n",
       "       'mentions': [{'confidence': 0.57764477,\n",
       "         'location': {'end': 2388, 'begin': 2379},\n",
       "         'text': '12 months'},\n",
       "        {'confidence': 0.5961014,\n",
       "         'location': {'end': 2588, 'begin': 2579},\n",
       "         'text': '12 months'}],\n",
       "       'text': '12 months',\n",
       "       'type': 'Duration'},\n",
       "      {'model_name': 'natural_language_understanding',\n",
       "       'mentions': [{'confidence': 0.96015024,\n",
       "         'location': {'end': 2688, 'begin': 2679},\n",
       "         'text': 'physician'},\n",
       "        {'confidence': 0.9430851,\n",
       "         'location': {'end': 2924, 'begin': 2915},\n",
       "         'text': 'physician'}],\n",
       "       'text': 'physician',\n",
       "       'type': 'JobTitle'},\n",
       "      {'model_name': 'natural_language_understanding',\n",
       "       'mentions': [{'confidence': 0.6007359,\n",
       "         'location': {'end': 2722, 'begin': 2698},\n",
       "         'text': 'health care practitioner'},\n",
       "        {'confidence': 0.61500037,\n",
       "         'location': {'end': 2958, 'begin': 2934},\n",
       "         'text': 'health care practitioner'}],\n",
       "       'text': 'health care practitioner',\n",
       "       'type': 'JobTitle'},\n",
       "      {'model_name': 'natural_language_understanding',\n",
       "       'mentions': [{'confidence': 0.43117478,\n",
       "         'location': {'end': 3295, 'begin': 3282},\n",
       "         'text': '80 milligrams'}],\n",
       "       'text': '80 milligrams',\n",
       "       'type': 'Measure'},\n",
       "      {'model_name': 'natural_language_understanding',\n",
       "       'mentions': [{'confidence': 0.53960586,\n",
       "         'location': {'end': 3326, 'begin': 3311},\n",
       "         'text': '100 milliliters'}],\n",
       "       'text': '100 milliliters',\n",
       "       'type': 'Measure'},\n",
       "      {'model_name': 'natural_language_understanding',\n",
       "       'mentions': [{'confidence': 0.94391567,\n",
       "         'location': {'end': 4475, 'begin': 4471},\n",
       "         'text': '18th'}],\n",
       "       'text': '18th',\n",
       "       'type': 'Ordinal'},\n",
       "      {'model_name': 'natural_language_understanding',\n",
       "       'mentions': [{'confidence': 0.2935552,\n",
       "         'location': {'end': 4754, 'begin': 4746},\n",
       "         'text': 'SUN LIFE'}],\n",
       "       'text': 'SUN LIFE',\n",
       "       'type': 'Organization'},\n",
       "      {'model_name': 'natural_language_understanding',\n",
       "       'mentions': [{'confidence': 0.43431413,\n",
       "         'location': {'end': 5145, 'begin': 5138},\n",
       "         'text': '30 days'},\n",
       "        {'confidence': 0.43564498,\n",
       "         'location': {'end': 5425, 'begin': 5418},\n",
       "         'text': '30 days'}],\n",
       "       'text': '30 days',\n",
       "       'type': 'Duration'},\n",
       "      {'model_name': 'natural_language_understanding',\n",
       "       'mentions': [{'confidence': 0.26270753,\n",
       "         'location': {'end': 5190, 'begin': 5177},\n",
       "         'text': 'Cancer Cancer'}],\n",
       "       'text': 'Cancer Cancer',\n",
       "       'type': 'Organization'},\n",
       "      {'model_name': 'natural_language_understanding',\n",
       "       'mentions': [{'confidence': 0.8,\n",
       "         'location': {'end': 5710, 'begin': 5709},\n",
       "         'text': '1'}],\n",
       "       'text': '1',\n",
       "       'type': 'Number'},\n",
       "      {'model_name': 'natural_language_understanding',\n",
       "       'mentions': [{'confidence': 0.8,\n",
       "         'location': {'end': 5766, 'begin': 5763},\n",
       "         'text': '1.0'}],\n",
       "       'text': '1.0',\n",
       "       'type': 'Number'},\n",
       "      {'model_name': 'natural_language_understanding',\n",
       "       'mentions': [{'confidence': 0.8476004,\n",
       "         'location': {'end': 5815, 'begin': 5810},\n",
       "         'text': 'Clark'}],\n",
       "       'text': 'Clark',\n",
       "       'type': 'Person'},\n",
       "      {'model_name': 'natural_language_understanding',\n",
       "       'mentions': [{'confidence': 0.903108,\n",
       "         'location': {'end': 6761, 'begin': 6756},\n",
       "         'text': 'first'},\n",
       "        {'confidence': 0.89126337,\n",
       "         'location': {'end': 7719, 'begin': 7714},\n",
       "         'text': 'first'}],\n",
       "       'text': 'first',\n",
       "       'type': 'Ordinal'},\n",
       "      {'model_name': 'natural_language_understanding',\n",
       "       'mentions': [{'confidence': 0.57147145,\n",
       "         'location': {'end': 7220, 'begin': 7212},\n",
       "         'text': '6 months'}],\n",
       "       'text': '6 months',\n",
       "       'type': 'Duration'}]}],\n",
       "   'metadata': {'domain': 'health_insurance',\n",
       "    'parent_document_id': 'a5b52520-e90e-4a3b-a6ed-d2a763c04a91'},\n",
       "   'enriched_html': [{'tables': []}],\n",
       "   'extracted_metadata': {'sha1': '0FD6C29C4ADB3B9CC69C3B0F5D5746D0294CCB38',\n",
       "    'numPages': '12',\n",
       "    'filename': 'express-ci-guide-to-definitions.pdf',\n",
       "    'subject': 'This guide to critical illness definitions will help you understand the illnesses and procedures covered \\nby your Express Critical Illness (CI) Insurance policy. Each of the covered illnesses is defined and then explained to you. We have also outlined illness-specific exclusions and the survival periods required. Visit mysunlife.ca.\\r',\n",
       "    'file_type': 'pdf',\n",
       "    'text_mappings': '{\"text_mappings\":[{\"page\":{\"page_number\":7,\"bbox\":[72.0,351.57989501953125,389.19061279296875,363.38789558410645]},\"field\":{\"name\":\"subtitle\",\"index\":0,\"span\":[0,40]}},{\"page\":{\"page_number\":7,\"bbox\":[72.0,381.91888427734375,539.5103149414062,420.08787775039673]},\"field\":{\"name\":\"text\",\"index\":0,\"span\":[0,395]}},{\"page\":{\"page_number\":7,\"bbox\":[72.0,431.41888427734375,536.9443969726562,480.3878960609436]},\"field\":{\"name\":\"text\",\"index\":0,\"span\":[395,913]}},{\"page\":{\"page_number\":7,\"bbox\":[72.0,491.7189025878906,538.286376953125,586.5879082679749]},\"field\":{\"name\":\"text\",\"index\":0,\"span\":[913,1324]}},{\"page\":{\"page_number\":7,\"bbox\":[72.0,596.118896484375,486.0855407714844,612.6878838539124]},\"field\":{\"name\":\"text\",\"index\":0,\"span\":[1324,1450]}},{\"page\":{\"page_number\":7,\"bbox\":[72.0,624.018798828125,508.3164367675781,640.5879082679749]},\"field\":{\"name\":\"text\",\"index\":0,\"span\":[1450,1624]}},{\"page\":{\"page_number\":7,\"bbox\":[301.5390930175781,765.98388671875,504.00018310546875,771.1118865013123]},\"field\":{\"name\":\"text\",\"index\":0,\"span\":[1624,1673]}},{\"page\":{\"page_number\":8,\"bbox\":[72.0,37.15190887451172,490.0365295410156,78.87591791152954]},\"field\":{\"name\":\"text\",\"index\":0,\"span\":[1673,1796]}},{\"page\":{\"page_number\":8,\"bbox\":[72.0,83.90690612792969,392.6654052734375,89.67590570449829]},\"field\":{\"name\":\"text\",\"index\":0,\"span\":[1796,1878]}},{\"page\":{\"page_number\":8,\"bbox\":[72.0,101.00688171386719,532.08447265625,139.1759057044983]},\"field\":{\"name\":\"text\",\"index\":0,\"span\":[1878,2164]}},{\"page\":{\"page_number\":8,\"bbox\":[72.0,148.70701599121094,502.2054443359375,154.47601556777954]},\"field\":{\"name\":\"text\",\"index\":0,\"span\":[2164,2270]}},{\"page\":{\"page_number\":8,\"bbox\":[72.0,176.3039093017578,538.7354736328125,238.1759057044983]},\"field\":{\"name\":\"text\",\"index\":0,\"span\":[2270,2647]}},{\"page\":{\"page_number\":8,\"bbox\":[81.0,247.70701599121094,523.138427734375,290.37587213516235]},\"field\":{\"name\":\"text\",\"index\":0,\"span\":[2647,2960]}},{\"page\":{\"page_number\":8,\"bbox\":[72.0,310.4039001464844,538.330322265625,380.37587213516235]},\"field\":{\"name\":\"text\",\"index\":0,\"span\":[2960,3542]}},{\"page\":{\"page_number\":8,\"bbox\":[72.0,391.7068786621094,536.7923583984375,455.975878238678]},\"field\":{\"name\":\"text\",\"index\":0,\"span\":[3542,3862]}},{\"page\":{\"page_number\":8,\"bbox\":[81.0,465.50689697265625,532.4264526367188,508.17589044570923]},\"field\":{\"name\":\"text\",\"index\":0,\"span\":[3862,4163]}},{\"page\":{\"page_number\":8,\"bbox\":[72.0,517.7069091796875,536.7923583984375,534.2758965492249]},\"field\":{\"name\":\"text\",\"index\":0,\"span\":[4163,4333]}},{\"page\":{\"page_number\":8,\"bbox\":[72.0,557.7039184570312,349.61041259765625,597.9760308265686]},\"field\":{\"name\":\"text\",\"index\":0,\"span\":[4333,4476]}},{\"page\":{\"page_number\":8,\"bbox\":[81.0,592.20703125,421.9783630371094,659.1759209632874]},\"field\":{\"name\":\"text\",\"index\":0,\"span\":[4476,4666]}},{\"page\":{\"page_number\":8,\"bbox\":[72.0,668.70703125,380.15545654296875,674.4760308265686]},\"field\":{\"name\":\"text\",\"index\":0,\"span\":[4666,4746]}},{\"page\":{\"page_number\":9,\"bbox\":[72.20249938964844,37.15190887451172,532.1078491210938,150.3519310951233]},\"field\":{\"name\":\"text\",\"index\":0,\"span\":[4746,5029]}},{\"page\":{\"page_number\":9,\"bbox\":[72.20249938964844,161.6827850341797,539.5509033203125,178.25177240371704]},\"field\":{\"name\":\"text\",\"index\":0,\"span\":[5029,5177]}},{\"page\":{\"page_number\":9,\"bbox\":[72.20249938964844,201.6798858642578,523.3679809570312,235.65191888809204]},\"field\":{\"name\":\"text\",\"index\":0,\"span\":[5177,5329]}},{\"page\":{\"page_number\":9,\"bbox\":[72.20249938964844,246.98277282714844,531.9179077148438,263.55186700820923]},\"field\":{\"name\":\"text\",\"index\":0,\"span\":[5329,5459]}},{\"page\":{\"page_number\":9,\"bbox\":[72.20249938964844,285.3798828125,539.4977416992188,308.55189752578735]},\"field\":{\"name\":\"text\",\"index\":0,\"span\":[5459,5589]}},{\"page\":{\"page_number\":9,\"bbox\":[72.20249938964844,319.88287353515625,538.1648559570312,399.45189142227173]},\"field\":{\"name\":\"text\",\"index\":0,\"span\":[5589,5956]}},{\"page\":{\"page_number\":9,\"bbox\":[72.20249938964844,408.847900390625,534.7888793945312,442.65187311172485]},\"field\":{\"name\":\"text\",\"index\":0,\"span\":[5956,6127]}},{\"page\":{\"page_number\":9,\"bbox\":[72.20249938964844,453.9828796386719,511.19989013671875,548.8519463539124]},\"field\":{\"name\":\"text\",\"index\":0,\"span\":[6127,6557]}},{\"page\":{\"page_number\":9,\"bbox\":[72.20249938964844,558.3829345703125,482.4918212890625,574.9519219398499]},\"field\":{\"name\":\"text\",\"index\":0,\"span\":[6557,6682]}},{\"page\":{\"page_number\":9,\"bbox\":[72.20249938964844,598.3798828125,380.699951171875,653.9517998695374]},\"field\":{\"name\":\"text\",\"index\":0,\"span\":[6682,6893]}},{\"page\":{\"page_number\":10,\"bbox\":[72.0,37.15190887451172,516.2713623046875,122.07593011856079]},\"field\":{\"name\":\"text\",\"index\":0,\"span\":[6893,7150]}},{\"page\":{\"page_number\":10,\"bbox\":[72.0,131.60691833496094,480.6413269042969,137.37591791152954]},\"field\":{\"name\":\"text\",\"index\":0,\"span\":[7150,7251]}},{\"page\":{\"page_number\":10,\"bbox\":[72.0,142.4069061279297,367.7803649902344,195.87591791152954]},\"field\":{\"name\":\"text\",\"index\":0,\"span\":[7251,7441]}},{\"page\":{\"page_number\":10,\"bbox\":[72.0,205.4069061279297,521.6983032226562,221.97601556777954]},\"field\":{\"name\":\"text\",\"index\":0,\"span\":[7441,7604]}},{\"page\":{\"page_number\":10,\"bbox\":[72.0,245.4038848876953,533.3704223632812,359.475878238678]},\"field\":{\"name\":\"text\",\"index\":0,\"span\":[7604,8096]}},{\"page\":{\"page_number\":10,\"bbox\":[72.0,369.00689697265625,536.0624389648438,385.5758843421936]},\"field\":{\"name\":\"text\",\"index\":0,\"span\":[8096,8281]}},{\"page\":{\"page_number\":8,\"bbox\":[108.0,765.98388671875,310.4637145996094,771.1118865013123]},\"field\":{\"name\":\"table_of_contents\",\"index\":0,\"span\":[0,48]}},{\"page\":{\"page_number\":9,\"bbox\":[301.5390930175781,765.98388671875,504.00018310546875,771.1118865013123]},\"field\":{\"name\":\"table_of_contents\",\"index\":1,\"span\":[0,48]}}],\"pages\":[{\"page_number\":0,\"height\":792.0,\"width\":612.0,\"origin\":\"TopLeft\"},{\"page_number\":1,\"height\":792.0,\"width\":612.0,\"origin\":\"TopLeft\"},{\"page_number\":2,\"height\":792.0,\"width\":612.0,\"origin\":\"TopLeft\"},{\"page_number\":3,\"height\":792.0,\"width\":612.0,\"origin\":\"TopLeft\"},{\"page_number\":4,\"height\":792.0,\"width\":612.0,\"origin\":\"TopLeft\"},{\"page_number\":5,\"height\":792.0,\"width\":612.0,\"origin\":\"TopLeft\"},{\"page_number\":6,\"height\":792.0,\"width\":612.0,\"origin\":\"TopLeft\"},{\"page_number\":7,\"height\":792.0,\"width\":612.0,\"origin\":\"TopLeft\"},{\"page_number\":8,\"height\":792.0,\"width\":612.0,\"origin\":\"TopLeft\"},{\"page_number\":9,\"height\":792.0,\"width\":612.0,\"origin\":\"TopLeft\"},{\"page_number\":10,\"height\":792.0,\"width\":612.0,\"origin\":\"TopLeft\"},{\"page_number\":11,\"height\":792.0,\"width\":612.0,\"origin\":\"TopLeft\"}]}',\n",
       "    'title': 'Your guide to Express Critical Illness Insurance definitions | Sun Life',\n",
       "    'publicationdate': '2021-12-21'},\n",
       "   'subtitle': 'Child critical illness insurance benefit',\n",
       "   'html': ['<html><head><meta charset=\"UTF-8\"/><meta name=\"publicationdate\" content=\"2021-12-21\"/><meta name=\"numPages\" content=\"12\"/><title>Your guide to Express Critical Illness Insurance definitions | Sun Life</title><style>.css_969734319 { font: italic  9.0pt \\'/Sun Life Sans Medium Italic-Italic\\'; } .css_1791131084 { font: 12.0pt \\'/Sun Life Sans Medium\\'; } .css_1025826199 { font: 9.0pt \\'/Sun Life Sans Light\\'; } .css_1117632818 { font: 10.0pt \\'/Sun Life Sans Medium\\'; } .css_992591831 { font: 26.0pt \\'/Sun Life Sans Medium\\'; } .css_1927488198 { font: 18.0pt \\'/Sun Life Sans Medium\\'; } .css_346912348 { font: 12.0pt \\'/Sun Life Sans Bold\\'; } .css_1280562744 { font: 8.0pt \\'/Sun Life Sans Light\\'; } .css_1629003952 { font: 11.0pt \\'/Sun Life Sans Light\\'; } .css_393611563 { font: 24.0pt \\'/Sun Life Sans Medium\\'; } .css_1234386501 { font: 19.0pt \\'/Sun Life Sans Medium\\'; } .css_1137544074 { font: 17.0pt \\'/Sun Life Sans Light\\'; } .css_1788876724 { font: 9.0pt \\'/Sun Life Sans Medium\\'; } .css_1674377401 { font: 17.0pt \\'/Sun Life Sans Medium\\'; }</style></head><body><section id=\"1\" data-level=\"1\"><p text-alignment=\"left\"><span class=\"subtitle css_1927488198\"><bbox page=\"7\" x=\"72.0\" y=\"351.57989501953125\" height=\"11.808000564575195\" width=\"317.19061279296875\">Child critical illness insurance benefit</bbox></span></p><p text-alignment=\"left\"><span class=\"text css_1025826199\"><bbox page=\"7\" x=\"72.0\" y=\"381.91888427734375\" height=\"38.16899347305298\" width=\"467.51031494140625\">This additional benefit covers only the critical illnesses and benefit payment described in the Child critical illness insurance benefit. Additional illnesses or procedures that are not specifically mentioned are not covered. To qualify for the Child critical illness insurance benefit, all requirements for the Child covered critical illnesses must be satisfied while this policy is in effect.</bbox></span></p><p text-alignment=\"left\"><span class=\"text css_1025826199\"><bbox page=\"7\" x=\"72.0\" y=\"431.41888427734375\" height=\"48.96901178359985\" width=\"464.94439697265625\">The diagnosis and treatment of any covered critical illnesses must be made by a specialist who is licensed and practicing in Canada. A specialist is a licensed medical practitioner who has been trained in the specific area of medicine relevant to the Child covered critical illnesses for which a benefit is being claimed, and who has been certified by a specialty examining board. In the absence or unavailability of a specialist, a condition may be diagnosed by a qualified medical practitioner practicing in Canada.</bbox></span></p><p text-alignment=\"left\"><span class=\"text css_1025826199\"><bbox page=\"7\" x=\"72.0\" y=\"491.7189025878906\" height=\"94.86900568008423\" width=\"466.286376953125\">The diagnosis, treatment, tests or examinations performed to satisfy the Child covered critical illnesses definition may not be done by a specialist or medical professional who is: • the owner, • any insured child under this policy, • anyone entitled to make a claim under this policy, • any relative or business associate of these people, or • any person who normally resides in the insured child’s household.</bbox></span></p><p text-alignment=\"left\"><span class=\"text css_1025826199\"><bbox page=\"7\" x=\"72.0\" y=\"596.118896484375\" height=\"16.568987369537354\" width=\"414.0855407714844\">Each covered critical illness describes a survival period. The insured child must be alive at the end of the survival period.</bbox></span></p><p text-alignment=\"left\"><span class=\"text css_1025826199\"><bbox page=\"7\" x=\"72.0\" y=\"624.018798828125\" height=\"16.569109439849854\" width=\"436.3164367675781\">The insured child for this benefit, the policy date and the amount of the Child covered critical illnesses benefit are shown on the Policy particulars page in your contract.</bbox></span></p><p text-alignment=\"left\"><span class=\"text css_1280562744\"><bbox page=\"7\" x=\"301.5390930175781\" y=\"765.98388671875\" height=\"5.127999782562256\" width=\"202.46109008789062\">Your Guide to Express CI Insurance Definitions 7</bbox></span></p><p text-alignment=\"left\"><span class=\"text css_346912348\"><bbox page=\"8\" x=\"72.0\" y=\"37.15190887451172\" height=\"41.72400903701782\" width=\"418.0365295410156\">SUN LIFE GO We make a payment if the insured child has a Child covered critical illness as defined earlier in this policy.</bbox></span></p><p text-alignment=\"left\"><span class=\"text css_1025826199\"><bbox page=\"8\" x=\"72.0\" y=\"83.90690612792969\" height=\"5.7689995765686035\" width=\"320.6654052734375\">The beneficiary is you or your estate, unless you make a change in writing to us.</bbox></span></p><p text-alignment=\"left\"><span class=\"text css_1025826199\"><bbox page=\"8\" x=\"72.0\" y=\"101.00688171386719\" height=\"38.1690239906311\" width=\"460.08447265625\">If the insured child qualifies for a Child covered critical illness we make a one-time payment. The amount we pay is: • the Child critical illness insurance benefit amount at the time the benefit is payable, • minus any unpaid premiums plus interest at the time the benefit is payable.</bbox></span></p><p text-alignment=\"left\"><span class=\"text css_1025826199\"><bbox page=\"8\" x=\"72.0\" y=\"148.70701599121094\" height=\"5.7689995765686035\" width=\"430.2054443359375\">If payment is made on an insured child, the coverage ends for that child on the date we make the payment.</bbox></span></p><p text-alignment=\"left\"><span class=\"text css_1791131084\"><bbox page=\"8\" x=\"72.0\" y=\"176.3039093017578\" height=\"61.87199640274048\" width=\"466.7354736328125\">Pre-existing condition provision No benefits are payable for any Covered critical illness that occurs within 12 months of the policy date set out on the Policy particulars page in your contract, and that resulted from any injury, sickness or medical condition (whether diagnosed or not) for which, during the 12 months before the policy date: • the insured child had symptoms,</bbox></span></p><p text-alignment=\"left\"><span class=\"text css_1025826199\"><bbox page=\"8\" x=\"81.0\" y=\"247.70701599121094\" height=\"42.668856143951416\" width=\"442.138427734375\">• the insured child consulted a physician or other health care practitioner and was provided any health-related care, advice or treatment, or • a reasonably prudent person whose child has such injury, sickness or medical condition or symptom(s) would have consulted a physician or other health care practitioner.</bbox></span></p><p text-alignment=\"left\"><span class=\"text css_1791131084\"><bbox page=\"8\" x=\"72.0\" y=\"310.4039001464844\" height=\"69.97197198867798\" width=\"466.330322265625\">When we will not make a payment under the Critical illness insurance benefit (exclusions and reductions of coverage) We will not make any payment if the Child covered critical illness is directly or indirectly caused by or associated with the insured child operating a vehicle while their blood alcohol level is more than 80 milligrams of alcohol per 100 milliliters of blood. A vehicle includes any form of ground, air or marine transportation that can be put into motion by any means, including muscular power. We do not take into account whether or not the vehicle is in motion.</bbox></span></p><p text-alignment=\"left\"><span class=\"text css_1025826199\"><bbox page=\"8\" x=\"72.0\" y=\"391.7068786621094\" height=\"64.2689995765686\" width=\"464.7923583984375\">We will not make any payment if the Child covered critical illness is directly or indirectly caused by or associated with the insured child: • committing or attempting to commit a criminal offence • taking or attempting to take their own life, while sane or insane • causing themself bodily injury, while sane or insane</bbox></span></p><p text-alignment=\"left\"><span class=\"text css_1025826199\"><bbox page=\"8\" x=\"81.0\" y=\"465.50689697265625\" height=\"42.66899347305298\" width=\"451.42645263671875\">• intentionally taking any drug other than as prescribed by a licensed medical practitioner and in accordance with the instructions given • intentionally taking any intoxicant, narcotic or poisonous substance. This does not include smoking cigarettes, cigarillos, cigars or occasional use of alcohol.</bbox></span></p><p text-alignment=\"left\"><span class=\"text css_1025826199\"><bbox page=\"8\" x=\"72.0\" y=\"517.7069091796875\" height=\"16.568987369537354\" width=\"464.7923583984375\">We will not make any payment if the Child covered critical illness is directly or indirectly caused by or associated with civil disorder or war, whether declared or not.</bbox></span></p><p text-alignment=\"left\"><span class=\"text css_1791131084\"><bbox page=\"8\" x=\"72.0\" y=\"557.7039184570312\" height=\"40.27211236953735\" width=\"277.61041259765625\">When this benefit ends For an insured child, this benefit automatically ends on the earliest of: • the policy anniversary following their 18th</bbox></span></p><p text-alignment=\"left\"><span class=\"text css_1025826199\"><bbox page=\"8\" x=\"81.0\" y=\"592.20703125\" height=\"66.96888971328735\" width=\"340.9783630371094\">birthday, or • upon payout of their benefit amount, or • their death, or • the date this benefit ends, shown on the Policy particulars page in your contract, or • the date your policy ends.</bbox></span></p><p text-alignment=\"left\"><span class=\"text css_1025826199\"><bbox page=\"8\" x=\"72.0\" y=\"668.70703125\" height=\"5.7689995765686035\" width=\"308.15545654296875\">There is no benefit payable under this benefit after the date your policy ends.</bbox></span></p><p text-alignment=\"left\"><span class=\"table_of_contents css_1280562744\"><bbox page=\"8\" x=\"108.0\" y=\"765.98388671875\" height=\"5.127999782562256\" width=\"202.46371459960938\">8 Your Guide to Express CI Insurance Definitions</bbox></span></p><p text-alignment=\"left\"><span class=\"text css_346912348\"><bbox page=\"9\" x=\"72.20249938964844\" y=\"37.15190887451172\" height=\"113.20002222061157\" width=\"459.9053497314453\">SUN LIFE GO Child covered critical illnesses Aortic surgery Aortic surgery means the undergoing of surgery for disease of the aorta requiring excision and surgical replacement of the diseased aorta with a graft. Aorta refers to the thoracic and abdominal aorta but not its branches.</bbox></span></p><p text-alignment=\"left\"><span class=\"text css_1025826199\"><bbox page=\"9\" x=\"72.20249938964844\" y=\"161.6827850341797\" height=\"16.568987369537354\" width=\"467.34840393066406\">The surgery must be determined to be medically necessary by a specialist. The insured child must survive for 30 days following the date of surgery.</bbox></span></p><p text-alignment=\"left\"><span class=\"text css_1791131084\"><bbox page=\"9\" x=\"72.20249938964844\" y=\"201.6798858642578\" height=\"33.97203302383423\" width=\"451.1654815673828\">Cancer Cancer means a definite diagnosis of a tumour characterized by the uncontrolled growth and spread of malignant cells and the invasion of tissue.</bbox></span></p><p text-alignment=\"left\"><span class=\"text css_1025826199\"><bbox page=\"9\" x=\"72.20249938964844\" y=\"246.98277282714844\" height=\"16.56909418106079\" width=\"459.7154083251953\">The diagnosis of cancer must be made by a specialist. The insured child must survive for 30 days following the date of diagnosis.</bbox></span></p><p text-alignment=\"left\"><span class=\"text css_1791131084\"><bbox page=\"9\" x=\"72.20249938964844\" y=\"285.3798828125\" height=\"23.172014713287354\" width=\"467.2952423095703\">Exclusions No benefit is payable for a recurrence or metastasis of an original cancer which was diagnosed before the policy date.</bbox></span></p><p text-alignment=\"left\"><span class=\"text css_1025826199\"><bbox page=\"9\" x=\"72.20249938964844\" y=\"319.88287353515625\" height=\"79.56901788711548\" width=\"465.9623565673828\">No benefit is payable under this condition for the following non-life threatening cancers: • carcinoma in situ; • Stage 1A malignant melanoma (melanoma less than or equal to 1.0 mm in thickness, not ulcerated and without Clark level IV or level V invasion); • any non-melanoma skin cancer that has not become metastasized; or, • Stage A (T1a or T1b) prostate cancer.</bbox></span></p><p text-alignment=\"left\"><span class=\"text css_969734319\"><bbox page=\"9\" x=\"72.20249938964844\" y=\"408.847900390625\" height=\"33.80397272109985\" width=\"462.5863800048828\">90 day exclusion period for cancer: No benefit is payable for cancer and the insured child’s coverage for cancer will terminate if, within 90 days following the later of:</bbox></span></p><p text-alignment=\"left\"><span class=\"text css_1025826199\"><bbox page=\"9\" x=\"72.20249938964844\" y=\"453.9828796386719\" height=\"94.86906671524048\" width=\"438.9973907470703\">• the most recent date the application for this policy was signed; • the policy date; or, • the most recent date this policy was put back in effect (reinstatement), the insured child has any of the following: • signs, symptoms or investigations, that lead to diagnosis of cancer (covered or excluded under this policy), regardless of when the diagnosis is made, or • a diagnosis of cancer (covered or excluded under this policy).</bbox></span></p><p text-alignment=\"left\"><span class=\"text css_1025826199\"><bbox page=\"9\" x=\"72.20249938964844\" y=\"558.3829345703125\" height=\"16.568987369537354\" width=\"410.28932189941406\">While the insured child’s coverage for cancer terminates, coverage for all other Covered critical illnesses remain in force.</bbox></span></p><p text-alignment=\"left\"><span class=\"text css_1791131084\"><bbox page=\"9\" x=\"72.20249938964844\" y=\"598.3798828125\" height=\"55.57191705703735\" width=\"308.49745178222656\">Your responsibility to report cancer You must report to us, if within the first 90 days following the later of: • the policy date, or • the most recent date this policy was put back into effect (reinstatement),</bbox></span></p><p text-alignment=\"left\"><span class=\"table_of_contents css_1280562744\"><bbox page=\"9\" x=\"301.5390930175781\" y=\"765.98388671875\" height=\"5.127999782562256\" width=\"202.46109008789062\">Your Guide to Express CI Insurance Definitions 9</bbox></span></p><p text-alignment=\"left\"><span class=\"text css_346912348\"><bbox page=\"10\" x=\"72.0\" y=\"37.15190887451172\" height=\"84.92402124404907\" width=\"444.2713623046875\">SUN LIFE GO the insured child has: • signs, symptoms or investigations that lead to a diagnosis of cancer (covered or excluded under this policy), regardless of when the diagnosis is made, or • a diagnosis of cancer (covered or excluded under this policy).</bbox></span></p><p text-alignment=\"left\"><span class=\"text css_1025826199\"><bbox page=\"10\" x=\"72.0\" y=\"131.60691833496094\" height=\"5.7689995765686035\" width=\"408.6413269042969\">The information described above must be reported to us within 6 months of the date of the diagnosis.</bbox></span></p><p text-alignment=\"left\"><span class=\"text css_1025826199\"><bbox page=\"10\" x=\"72.0\" y=\"142.4069061279297\" height=\"53.46901178359985\" width=\"295.7803649902344\">If this information is not provided, we have the right to deny any claim for: • cancer, • any critical illness caused by cancer, or • any critical illness caused by the treatment of cancer.</bbox></span></p><p text-alignment=\"left\"><span class=\"text css_1025826199\"><bbox page=\"10\" x=\"72.0\" y=\"205.4069061279297\" height=\"16.569109439849854\" width=\"449.69830322265625\">To report the information, contact us at the toll-free phone number shown at the beginning of this policy for the appropriate form. The report must be in writing.</bbox></span></p><p text-alignment=\"left\"><span class=\"text css_1791131084\"><bbox page=\"10\" x=\"72.0\" y=\"245.4038848876953\" height=\"114.07199335098267\" width=\"461.37042236328125\">When coverage for cancer ends The coverage for cancer will end and we will not make any payment if within the first 90 days following the later of: • the policy date, or • the most recent date this policy was put back into effect (reinstatement), the insured child has: • signs, symptoms or investigations that lead to a diagnosis of cancer (covered or excluded under this policy), regardless of when the diagnosis is made, or • a diagnosis of cancer (covered or excluded under this policy).</bbox></span></p><p text-alignment=\"left\"><span class=\"text css_1025826199\"><bbox page=\"10\" x=\"72.0\" y=\"369.00689697265625\" height=\"16.568987369537354\" width=\"464.06243896484375\">Coverage for all other Covered critical illnesses will continue provided the insured child’s critical illness does not result directly or indirectly from any cancer or cancer treatment.</bbox></span></p></section></body></html>'],\n",
       "   'text': ['This additional benefit covers only the critical illnesses and benefit payment described in the Child critical illness insurance benefit. Additional illnesses or procedures that are not specifically mentioned are not covered. To qualify for the Child critical illness insurance benefit, all requirements for the Child covered critical illnesses must be satisfied while this policy is in effect. The diagnosis and treatment of any covered critical illnesses must be made by a specialist who is licensed and practicing in Canada. A specialist is a licensed medical practitioner who has been trained in the specific area of medicine relevant to the Child covered critical illnesses for which a benefit is being claimed, and who has been certified by a specialty examining board. In the absence or unavailability of a specialist, a condition may be diagnosed by a qualified medical practitioner practicing in Canada. The diagnosis, treatment, tests or examinations performed to satisfy the Child covered critical illnesses definition may not be done by a specialist or medical professional who is: • the owner, • any insured child under this policy, • anyone entitled to make a claim under this policy, • any relative or business associate of these people, or • any person who normally resides in the insured child’s household. Each covered critical illness describes a survival period. The insured child must be alive at the end of the survival period. The insured child for this benefit, the policy date and the amount of the Child covered critical illnesses benefit are shown on the Policy particulars page in your contract. Your Guide to Express CI Insurance Definitions 7 SUN LIFE GO We make a payment if the insured child has a Child covered critical illness as defined earlier in this policy. The beneficiary is you or your estate, unless you make a change in writing to us. If the insured child qualifies for a Child covered critical illness we make a one-time payment. The amount we pay is: • the Child critical illness insurance benefit amount at the time the benefit is payable, • minus any unpaid premiums plus interest at the time the benefit is payable. If payment is made on an insured child, the coverage ends for that child on the date we make the payment. Pre-existing condition provision No benefits are payable for any Covered critical illness that occurs within 12 months of the policy date set out on the Policy particulars page in your contract, and that resulted from any injury, sickness or medical condition (whether diagnosed or not) for which, during the 12 months before the policy date: • the insured child had symptoms, • the insured child consulted a physician or other health care practitioner and was provided any health-related care, advice or treatment, or • a reasonably prudent person whose child has such injury, sickness or medical condition or symptom(s) would have consulted a physician or other health care practitioner. When we will not make a payment under the Critical illness insurance benefit (exclusions and reductions of coverage) We will not make any payment if the Child covered critical illness is directly or indirectly caused by or associated with the insured child operating a vehicle while their blood alcohol level is more than 80 milligrams of alcohol per 100 milliliters of blood. A vehicle includes any form of ground, air or marine transportation that can be put into motion by any means, including muscular power. We do not take into account whether or not the vehicle is in motion. We will not make any payment if the Child covered critical illness is directly or indirectly caused by or associated with the insured child: • committing or attempting to commit a criminal offence • taking or attempting to take their own life, while sane or insane • causing themself bodily injury, while sane or insane • intentionally taking any drug other than as prescribed by a licensed medical practitioner and in accordance with the instructions given • intentionally taking any intoxicant, narcotic or poisonous substance. This does not include smoking cigarettes, cigarillos, cigars or occasional use of alcohol. We will not make any payment if the Child covered critical illness is directly or indirectly caused by or associated with civil disorder or war, whether declared or not. When this benefit ends For an insured child, this benefit automatically ends on the earliest of: • the policy anniversary following their 18th birthday, or • upon payout of their benefit amount, or • their death, or • the date this benefit ends, shown on the Policy particulars page in your contract, or • the date your policy ends. There is no benefit payable under this benefit after the date your policy ends. SUN LIFE GO Child covered critical illnesses Aortic surgery Aortic surgery means the undergoing of surgery for disease of the aorta requiring excision and surgical replacement of the diseased aorta with a graft. Aorta refers to the thoracic and abdominal aorta but not its branches. The surgery must be determined to be medically necessary by a specialist. The insured child must survive for 30 days following the date of surgery. Cancer Cancer means a definite diagnosis of a tumour characterized by the uncontrolled growth and spread of malignant cells and the invasion of tissue. The diagnosis of cancer must be made by a specialist. The insured child must survive for 30 days following the date of diagnosis. Exclusions No benefit is payable for a recurrence or metastasis of an original cancer which was diagnosed before the policy date. No benefit is payable under this condition for the following non-life threatening cancers: • carcinoma in situ; • Stage 1A malignant melanoma (melanoma less than or equal to 1.0 mm in thickness, not ulcerated and without Clark level IV or level V invasion); • any non-melanoma skin cancer that has not become metastasized; or, • Stage A (T1a or T1b) prostate cancer. 90 day exclusion period for cancer: No benefit is payable for cancer and the insured child’s coverage for cancer will terminate if, within 90 days following the later of: • the most recent date the application for this policy was signed; • the policy date; or, • the most recent date this policy was put back in effect (reinstatement), the insured child has any of the following: • signs, symptoms or investigations, that lead to diagnosis of cancer (covered or excluded under this policy), regardless of when the diagnosis is made, or • a diagnosis of cancer (covered or excluded under this policy). While the insured child’s coverage for cancer terminates, coverage for all other Covered critical illnesses remain in force. Your responsibility to report cancer You must report to us, if within the first 90 days following the later of: • the policy date, or • the most recent date this policy was put back into effect (reinstatement), SUN LIFE GO the insured child has: • signs, symptoms or investigations that lead to a diagnosis of cancer (covered or excluded under this policy), regardless of when the diagnosis is made, or • a diagnosis of cancer (covered or excluded under this policy). The information described above must be reported to us within 6 months of the date of the diagnosis. If this information is not provided, we have the right to deny any claim for: • cancer, • any critical illness caused by cancer, or • any critical illness caused by the treatment of cancer. To report the information, contact us at the toll-free phone number shown at the beginning of this policy for the appropriate form. The report must be in writing. When coverage for cancer ends The coverage for cancer will end and we will not make any payment if within the first 90 days following the later of: • the policy date, or • the most recent date this policy was put back into effect (reinstatement), the insured child has: • signs, symptoms or investigations that lead to a diagnosis of cancer (covered or excluded under this policy), regardless of when the diagnosis is made, or • a diagnosis of cancer (covered or excluded under this policy). Coverage for all other Covered critical illnesses will continue provided the insured child’s critical illness does not result directly or indirectly from any cancer or cancer treatment.'],\n",
       "   'document_passages': [{'passage_text': '. In the absence or unavailability of a specialist, a condition may be diagnosed by a qualified <em>medical</em> practitioner practicing in Canada. The diagnosis, treatment, tests or examinations performed to',\n",
       "     'start_offset': 774,\n",
       "     'end_offset': 973,\n",
       "     'field': 'text'}],\n",
       "   'table_results_references': []}],\n",
       " 'table_results': []}"
      ]
     },
     "execution_count": 100,
     "metadata": {},
     "output_type": "execute_result"
    }
   ],
   "source": [
    "response"
   ]
  },
  {
   "cell_type": "code",
   "execution_count": 142,
   "id": "ad297ebd-9462-4235-94a8-ec619a2c82b4",
   "metadata": {},
   "outputs": [
    {
     "name": "stderr",
     "output_type": "stream",
     "text": [
      "/Users/hema/opt/anaconda3/envs/DND/lib/python3.10/site-packages/urllib3/connectionpool.py:1099: InsecureRequestWarning: Unverified HTTPS request is being made to host 'api.us-south.discovery.watson.cloud.ibm.com'. Adding certificate verification is strongly advised. See: https://urllib3.readthedocs.io/en/latest/advanced-usage.html#tls-warnings\n",
      "  warnings.warn(\n"
     ]
    }
   ],
   "source": [
    "response = discovery.query(\n",
    "  project_id=project_id,\n",
    "  query=\"enriched_text.entities.text:Teladoc Medical Experts,metadata.domain:health_insurance\"\n",
    ").get_result()"
   ]
  },
  {
   "cell_type": "code",
   "execution_count": 143,
   "id": "c8bd4bea-e429-4ec6-b1d5-33c408238ffd",
   "metadata": {},
   "outputs": [
    {
     "data": {
      "text/plain": [
       "{'matching_results': 1,\n",
       " 'retrieval_details': {'document_retrieval_strategy': 'untrained'},\n",
       " 'aggregations': [{'type': 'term',\n",
       "   'field': 'enriched_text.entities.text',\n",
       "   'name': 'entities',\n",
       "   'results': [{'key': '$2.50', 'matching_results': 1},\n",
       "    {'key': '$25,000', 'matching_results': 1},\n",
       "    {'key': '$5,000', 'matching_results': 1},\n",
       "    {'key': '$50,000', 'matching_results': 1},\n",
       "    {'key': '1', 'matching_results': 1},\n",
       "    {'key': '1-844-528-0583', 'matching_results': 1},\n",
       "    {'key': '1-877-893-9893', 'matching_results': 1},\n",
       "    {'key': '1.0', 'matching_results': 1},\n",
       "    {'key': '10', 'matching_results': 1},\n",
       "    {'key': '100 \\nmilliliters', 'matching_results': 1}]}],\n",
       " 'results': [{'document_id': '04711489-3a1a-4cf9-a8b1-026003bdb83a',\n",
       "   'result_metadata': {'collection_id': '9304a6de-75dc-bc3f-0000-0191deb87ae0'},\n",
       "   'enriched_text': [{'entities': [{'model_name': 'natural_language_understanding',\n",
       "       'mentions': [{'confidence': 0.3750491,\n",
       "         'location': {'end': 52, 'begin': 35},\n",
       "         'text': 'Illness Insurance'}],\n",
       "       'text': 'Illness Insurance',\n",
       "       'type': 'Organization'},\n",
       "      {'model_name': 'natural_language_understanding',\n",
       "       'mentions': [{'confidence': 0.7815165,\n",
       "         'location': {'end': 122, 'begin': 96},\n",
       "         'text': 'Sun Life Assurance Company'}],\n",
       "       'text': 'Sun Life Assurance Company',\n",
       "       'type': 'Organization'},\n",
       "      {'model_name': 'natural_language_understanding',\n",
       "       'mentions': [{'confidence': 0.60482615,\n",
       "         'location': {'end': 132, 'begin': 126},\n",
       "         'text': 'Canada'},\n",
       "        {'confidence': 0.9876522,\n",
       "         'location': {'end': 771, 'begin': 765},\n",
       "         'text': 'Canada'},\n",
       "        {'confidence': 0.98162234,\n",
       "         'location': {'end': 1152, 'begin': 1146},\n",
       "         'text': 'Canada'},\n",
       "        {'confidence': 0.99271846,\n",
       "         'location': {'end': 11053, 'begin': 11047},\n",
       "         'text': 'Canada'},\n",
       "        {'confidence': 0.9849572,\n",
       "         'location': {'end': 13437, 'begin': 13431},\n",
       "         'text': 'Canada'},\n",
       "        {'confidence': 0.9806656,\n",
       "         'location': {'end': 13825, 'begin': 13819},\n",
       "         'text': 'Canada'},\n",
       "        {'confidence': 0.99347925,\n",
       "         'location': {'end': 23330, 'begin': 23324},\n",
       "         'text': 'Canada'}],\n",
       "       'text': 'Canada',\n",
       "       'type': 'Location'},\n",
       "      {'model_name': 'natural_language_understanding',\n",
       "       'mentions': [{'confidence': 0.58860725,\n",
       "         'location': {'end': 184, 'begin': 170},\n",
       "         'text': 'Sun Life group'}],\n",
       "       'text': 'Sun Life group',\n",
       "       'type': 'Organization'},\n",
       "      {'model_name': 'natural_language_understanding',\n",
       "       'mentions': [{'confidence': 0.24056856,\n",
       "         'location': {'end': 206, 'begin': 198},\n",
       "         'text': 'SUN LIFE'},\n",
       "        {'confidence': 0.24056856,\n",
       "         'location': {'end': 3491, 'begin': 3483},\n",
       "         'text': 'SUN LIFE'},\n",
       "        {'confidence': 0.24056856,\n",
       "         'location': {'end': 4603, 'begin': 4595},\n",
       "         'text': 'SUN LIFE'},\n",
       "        {'confidence': 0.24056856,\n",
       "         'location': {'end': 6651, 'begin': 6643},\n",
       "         'text': 'SUN LIFE'},\n",
       "        {'confidence': 0.24056856,\n",
       "         'location': {'end': 8928, 'begin': 8920},\n",
       "         'text': 'SUN LIFE'},\n",
       "        {'confidence': 0.24056856,\n",
       "         'location': {'end': 11383, 'begin': 11375},\n",
       "         'text': 'SUN LIFE'},\n",
       "        {'confidence': 0.24056856,\n",
       "         'location': {'end': 14552, 'begin': 14544},\n",
       "         'text': 'SUN LIFE'},\n",
       "        {'confidence': 0.24056856,\n",
       "         'location': {'end': 17690, 'begin': 17682},\n",
       "         'text': 'SUN LIFE'},\n",
       "        {'confidence': 0.24056856,\n",
       "         'location': {'end': 19902, 'begin': 19894},\n",
       "         'text': 'SUN LIFE'},\n",
       "        {'confidence': 0.24056856,\n",
       "         'location': {'end': 22511, 'begin': 22503},\n",
       "         'text': 'SUN LIFE'}],\n",
       "       'text': 'SUN LIFE',\n",
       "       'type': 'Organization'},\n",
       "      {'model_name': 'natural_language_understanding',\n",
       "       'mentions': [{'confidence': 0.8,\n",
       "         'location': {'end': 211, 'begin': 210},\n",
       "         'text': '2'}],\n",
       "       'text': '2',\n",
       "       'type': 'Number'},\n",
       "      {'model_name': 'natural_language_understanding',\n",
       "       'mentions': [{'confidence': 0.64903176,\n",
       "         'location': {'end': 247, 'begin': 227},\n",
       "         'text': 'Express CI Insurance'},\n",
       "        {'confidence': 0.62148833,\n",
       "         'location': {'end': 3529, 'begin': 3509},\n",
       "         'text': 'Express CI Insurance'},\n",
       "        {'confidence': 0.65838903,\n",
       "         'location': {'end': 4644, 'begin': 4624},\n",
       "         'text': 'Express CI Insurance'},\n",
       "        {'confidence': 0.46791664,\n",
       "         'location': {'end': 6689, 'begin': 6669},\n",
       "         'text': 'Express CI Insurance'},\n",
       "        {'confidence': 0.67353487,\n",
       "         'location': {'end': 8969, 'begin': 8949},\n",
       "         'text': 'Express CI Insurance'},\n",
       "        {'confidence': 0.49982014,\n",
       "         'location': {'end': 11421, 'begin': 11401},\n",
       "         'text': 'Express CI Insurance'},\n",
       "        {'confidence': 0.67212296,\n",
       "         'location': {'end': 14593, 'begin': 14573},\n",
       "         'text': 'Express CI Insurance'},\n",
       "        {'confidence': 0.5046503,\n",
       "         'location': {'end': 17728, 'begin': 17708},\n",
       "         'text': 'Express CI Insurance'},\n",
       "        {'confidence': 0.6591149,\n",
       "         'location': {'end': 19944, 'begin': 19924},\n",
       "         'text': 'Express CI Insurance'},\n",
       "        {'confidence': 0.4435812,\n",
       "         'location': {'end': 22549, 'begin': 22529},\n",
       "         'text': 'Express CI Insurance'}],\n",
       "       'text': 'Express CI Insurance',\n",
       "       'type': 'Organization'},\n",
       "      {'model_name': 'natural_language_understanding',\n",
       "       'mentions': [{'confidence': 0.3529925,\n",
       "         'location': {'end': 485, 'begin': 439},\n",
       "         'text': 'Express Critical Illness (CI) Insurance policy'}],\n",
       "       'text': 'Express Critical Illness (CI) Insurance policy',\n",
       "       'type': 'Organization'},\n",
       "      {'model_name': 'natural_language_understanding',\n",
       "       'mentions': [{'confidence': 0.8048919,\n",
       "         'location': {'end': 729, 'begin': 719},\n",
       "         'text': 'specialist'},\n",
       "        {'confidence': 0.8124613,\n",
       "         'location': {'end': 785, 'begin': 775},\n",
       "         'text': 'specialist'},\n",
       "        {'confidence': 0.6144151,\n",
       "         'location': {'end': 1065, 'begin': 1055},\n",
       "         'text': 'specialist'},\n",
       "        {'confidence': 0.79162395,\n",
       "         'location': {'end': 4863, 'begin': 4853},\n",
       "         'text': 'specialist'},\n",
       "        {'confidence': 0.80688477,\n",
       "         'location': {'end': 8469, 'begin': 8459},\n",
       "         'text': 'specialist'},\n",
       "        {'confidence': 0.8017951,\n",
       "         'location': {'end': 9501, 'begin': 9491},\n",
       "         'text': 'specialist'},\n",
       "        {'confidence': 0.7980002,\n",
       "         'location': {'end': 10119, 'begin': 10109},\n",
       "         'text': 'specialist'},\n",
       "        {'confidence': 0.7980002,\n",
       "         'location': {'end': 10580, 'begin': 10570},\n",
       "         'text': 'specialist'},\n",
       "        {'confidence': 0.7854121,\n",
       "         'location': {'end': 11295, 'begin': 11285},\n",
       "         'text': 'specialist'},\n",
       "        {'confidence': 0.7854121,\n",
       "         'location': {'end': 11939, 'begin': 11929},\n",
       "         'text': 'specialist'},\n",
       "        {'confidence': 0.80745494,\n",
       "         'location': {'end': 13395, 'begin': 13385},\n",
       "         'text': 'specialist'},\n",
       "        {'confidence': 0.8081932,\n",
       "         'location': {'end': 13451, 'begin': 13441},\n",
       "         'text': 'specialist'},\n",
       "        {'confidence': 0.69627404,\n",
       "         'location': {'end': 13737, 'begin': 13727},\n",
       "         'text': 'specialist'},\n",
       "        {'confidence': 0.73825026,\n",
       "         'location': {'end': 13976, 'begin': 13966},\n",
       "         'text': 'specialist'},\n",
       "        {'confidence': 0.7980002,\n",
       "         'location': {'end': 18089, 'begin': 18079},\n",
       "         'text': 'specialist'},\n",
       "        {'confidence': 0.79162395,\n",
       "         'location': {'end': 18371, 'begin': 18361},\n",
       "         'text': 'specialist'},\n",
       "        {'confidence': 0.7980002,\n",
       "         'location': {'end': 21738, 'begin': 21728},\n",
       "         'text': 'specialist'},\n",
       "        {'confidence': 0.80688477,\n",
       "         'location': {'end': 22424, 'begin': 22414},\n",
       "         'text': 'specialist'},\n",
       "        {'confidence': 0.7854121,\n",
       "         'location': {'end': 23571, 'begin': 23561},\n",
       "         'text': 'specialist'},\n",
       "        {'confidence': 0.7854121,\n",
       "         'location': {'end': 24151, 'begin': 24141},\n",
       "         'text': 'specialist'},\n",
       "        {'confidence': 0.8017951,\n",
       "         'location': {'end': 24749, 'begin': 24739},\n",
       "         'text': 'specialist'}],\n",
       "       'text': 'specialist',\n",
       "       'type': 'JobTitle'},\n",
       "      {'model_name': 'natural_language_understanding',\n",
       "       'mentions': [{'confidence': 0.79127157,\n",
       "         'location': {'end': 820, 'begin': 800},\n",
       "         'text': 'medical practitioner'},\n",
       "        {'confidence': 0.8001355,\n",
       "         'location': {'end': 1131, 'begin': 1111},\n",
       "         'text': 'medical practitioner'},\n",
       "        {'confidence': 0.7948192,\n",
       "         'location': {'end': 13486, 'begin': 13466},\n",
       "         'text': 'medical practitioner'},\n",
       "        {'confidence': 0.8125367,\n",
       "         'location': {'end': 13804, 'begin': 13784},\n",
       "         'text': 'medical practitioner'}],\n",
       "       'text': 'medical practitioner',\n",
       "       'type': 'JobTitle'},\n",
       "      {'model_name': 'natural_language_understanding',\n",
       "       'mentions': [{'confidence': 0.5365306,\n",
       "         'location': {'end': 1371, 'begin': 1337},\n",
       "         'text': 'Express Critical Illness Insurance'}],\n",
       "       'text': 'Express Critical Illness Insurance',\n",
       "       'type': 'Organization'},\n",
       "      {'model_name': 'natural_language_understanding',\n",
       "       'mentions': [{'confidence': 0.7277276,\n",
       "         'location': {'end': 1473, 'begin': 1447},\n",
       "         'text': 'Critical Illness Insurance'}],\n",
       "       'text': 'Critical Illness Insurance',\n",
       "       'type': 'Organization'},\n",
       "      {'model_name': 'natural_language_understanding',\n",
       "       'mentions': [{'confidence': 0.6439603,\n",
       "         'location': {'end': 1555, 'begin': 1519},\n",
       "         'text': 'Sun Life Assurance Company of Canada'},\n",
       "        {'confidence': 0.54534584,\n",
       "         'location': {'end': 25524, 'begin': 25488},\n",
       "         'text': 'Sun Life Assurance Company of Canada'}],\n",
       "       'text': 'Sun Life Assurance Company of Canada',\n",
       "       'type': 'Organization'},\n",
       "      {'model_name': 'natural_language_understanding',\n",
       "       'mentions': [{'confidence': 0.61642736,\n",
       "         'location': {'end': 1598, 'begin': 1573},\n",
       "         'text': 'Sun Life \\nFinancial group'}],\n",
       "       'text': 'Sun Life \\nFinancial group',\n",
       "       'type': 'Organization'},\n",
       "      {'model_name': 'natural_language_understanding',\n",
       "       'mentions': [{'confidence': 0.8,\n",
       "         'location': {'end': 2044, 'begin': 2020},\n",
       "         'text': 'www.sunlife.ca/ExpressCI'}],\n",
       "       'text': 'www.sunlife.ca/ExpressCI',\n",
       "       'type': 'URL'},\n",
       "      {'model_name': 'natural_language_understanding',\n",
       "       'mentions': [{'confidence': 0.8,\n",
       "         'location': {'end': 2069, 'begin': 2055},\n",
       "         'text': '1-877-893-9893'}],\n",
       "       'text': '1-877-893-9893',\n",
       "       'type': 'PhoneNumber'},\n",
       "      {'model_name': 'natural_language_understanding',\n",
       "       'mentions': [{'confidence': 0.5933424,\n",
       "         'location': {'end': 2656, 'begin': 2649},\n",
       "         'text': '2 years'}],\n",
       "       'text': '2 years',\n",
       "       'type': 'Duration'},\n",
       "      {'model_name': 'natural_language_understanding',\n",
       "       'mentions': [{'confidence': 0.57515883,\n",
       "         'location': {'end': 2911, 'begin': 2902},\n",
       "         'text': '12 months'},\n",
       "        {'confidence': 0.63797,\n",
       "         'location': {'end': 3113, 'begin': 3104},\n",
       "         'text': '12 months'},\n",
       "        {'confidence': 0.57992953,\n",
       "         'location': {'end': 15312, 'begin': 15303},\n",
       "         'text': '12 months'},\n",
       "        {'confidence': 0.5995256,\n",
       "         'location': {'end': 15514, 'begin': 15505},\n",
       "         'text': '12 months'}],\n",
       "       'text': '12 months',\n",
       "       'type': 'Duration'},\n",
       "      {'model_name': 'natural_language_understanding',\n",
       "       'mentions': [{'confidence': 0.97054964,\n",
       "         'location': {'end': 3219, 'begin': 3210},\n",
       "         'text': 'physician'},\n",
       "        {'confidence': 0.9583594,\n",
       "         'location': {'end': 3447, 'begin': 3438},\n",
       "         'text': 'physician'},\n",
       "        {'confidence': 0.97155285,\n",
       "         'location': {'end': 15614, 'begin': 15605},\n",
       "         'text': 'physician'},\n",
       "        {'confidence': 0.9612205,\n",
       "         'location': {'end': 15852, 'begin': 15843},\n",
       "         'text': 'physician'}],\n",
       "       'text': 'physician',\n",
       "       'type': 'JobTitle'},\n",
       "      {'model_name': 'natural_language_understanding',\n",
       "       'mentions': [{'confidence': 0.70163155,\n",
       "         'location': {'end': 3253, 'begin': 3229},\n",
       "         'text': 'health care practitioner'},\n",
       "        {'confidence': 0.6557954,\n",
       "         'location': {'end': 3481, 'begin': 3457},\n",
       "         'text': 'health care practitioner'},\n",
       "        {'confidence': 0.71026725,\n",
       "         'location': {'end': 15648, 'begin': 15624},\n",
       "         'text': 'health care practitioner'},\n",
       "        {'confidence': 0.6597617,\n",
       "         'location': {'end': 15886, 'begin': 15862},\n",
       "         'text': 'health care practitioner'}],\n",
       "       'text': 'health care practitioner',\n",
       "       'type': 'JobTitle'},\n",
       "      {'model_name': 'natural_language_understanding',\n",
       "       'mentions': [{'confidence': 0.8,\n",
       "         'location': {'end': 3544, 'begin': 3543},\n",
       "         'text': '3'}],\n",
       "       'text': '3',\n",
       "       'type': 'Number'},\n",
       "      {'model_name': 'natural_language_understanding',\n",
       "       'mentions': [{'confidence': 0.31644613,\n",
       "         'location': {'end': 3852, 'begin': 3841},\n",
       "         'text': '18-65 years'},\n",
       "        {'confidence': 0.31644613,\n",
       "         'location': {'end': 3895, 'begin': 3884},\n",
       "         'text': '18-65 years'},\n",
       "        {'confidence': 0.32673383,\n",
       "         'location': {'end': 3938, 'begin': 3927},\n",
       "         'text': '18-65 years'}],\n",
       "       'text': '18-65 years',\n",
       "       'type': 'Duration'},\n",
       "      {'model_name': 'natural_language_understanding',\n",
       "       'mentions': [{'confidence': 0.9917241,\n",
       "         'location': {'end': 3996, 'begin': 3989},\n",
       "         'text': '$25,000'},\n",
       "        {'confidence': 0.9939953,\n",
       "         'location': {'end': 4006, 'begin': 3999},\n",
       "         'text': '$25,000'}],\n",
       "       'text': '$25,000',\n",
       "       'type': 'Money'},\n",
       "      {'model_name': 'natural_language_understanding',\n",
       "       'mentions': [{'confidence': 0.9874354,\n",
       "         'location': {'end': 4016, 'begin': 4009},\n",
       "         'text': '$50,000'}],\n",
       "       'text': '$50,000',\n",
       "       'type': 'Money'},\n",
       "      {'model_name': 'natural_language_understanding',\n",
       "       'mentions': [{'confidence': 0.992481,\n",
       "         'location': {'end': 4025, 'begin': 4019},\n",
       "         'text': '$5,000'},\n",
       "        {'confidence': 0.97645384,\n",
       "         'location': {'end': 4584, 'begin': 4578},\n",
       "         'text': '$5,000'},\n",
       "        {'confidence': 0.99661,\n",
       "         'location': {'end': 12855, 'begin': 12849},\n",
       "         'text': '$5,000'}],\n",
       "       'text': '$5,000',\n",
       "       'type': 'Money'},\n",
       "      {'model_name': 'natural_language_understanding',\n",
       "       'mentions': [{'confidence': 0.8945567,\n",
       "         'location': {'end': 4095, 'begin': 4090},\n",
       "         'text': 'first'},\n",
       "        {'confidence': 0.91641337,\n",
       "         'location': {'end': 6257, 'begin': 6252},\n",
       "         'text': 'first'},\n",
       "        {'confidence': 0.8832916,\n",
       "         'location': {'end': 7284, 'begin': 7279},\n",
       "         'text': 'first'},\n",
       "        {'confidence': 0.86941147,\n",
       "         'location': {'end': 12078, 'begin': 12073},\n",
       "         'text': 'first'},\n",
       "        {'confidence': 0.91641337,\n",
       "         'location': {'end': 19759, 'begin': 19754},\n",
       "         'text': 'first'},\n",
       "        {'confidence': 0.8832916,\n",
       "         'location': {'end': 20784, 'begin': 20779},\n",
       "         'text': 'first'}],\n",
       "       'text': 'first',\n",
       "       'type': 'Ordinal'},\n",
       "      {'model_name': 'natural_language_understanding',\n",
       "       'mentions': [{'confidence': 0.55362153,\n",
       "         'location': {'end': 4103, 'begin': 4096},\n",
       "         'text': '5 years'},\n",
       "        {'confidence': 0.53432024,\n",
       "         'location': {'end': 12086, 'begin': 12079},\n",
       "         'text': '5 years'}],\n",
       "       'text': '5 years',\n",
       "       'type': 'Duration'},\n",
       "      {'model_name': 'natural_language_understanding',\n",
       "       'mentions': [{'confidence': 0.5266929,\n",
       "         'location': {'end': 4152, 'begin': 4129},\n",
       "         'text': 'Teladoc Medical Experts'},\n",
       "        {'confidence': 0.7100002,\n",
       "         'location': {'end': 12724, 'begin': 12701},\n",
       "         'text': 'Teladoc Medical Experts'}],\n",
       "       'text': 'Teladoc Medical Experts',\n",
       "       'type': 'Organization'},\n",
       "      {'model_name': 'natural_language_understanding',\n",
       "       'mentions': [{'confidence': 0.6423395,\n",
       "         'location': {'end': 4245, 'begin': 4230},\n",
       "         'text': 'Teladoc Medical'},\n",
       "        {'confidence': 0.6557871,\n",
       "         'location': {'end': 12327, 'begin': 12312},\n",
       "         'text': 'Teladoc Medical'}],\n",
       "       'text': 'Teladoc Medical',\n",
       "       'type': 'Organization'},\n",
       "      {'model_name': 'natural_language_understanding',\n",
       "       'mentions': [{'confidence': 0.8,\n",
       "         'location': {'end': 4521, 'begin': 4520},\n",
       "         'text': '5'},\n",
       "        {'confidence': 0.8,\n",
       "         'location': {'end': 6704, 'begin': 6703},\n",
       "         'text': '5'},\n",
       "        {'confidence': 0.8,\n",
       "         'location': {'end': 12796, 'begin': 12795},\n",
       "         'text': '5'}],\n",
       "       'text': '5',\n",
       "       'type': 'Number'},\n",
       "      {'model_name': 'natural_language_understanding',\n",
       "       'mentions': [{'confidence': 0.98773754,\n",
       "         'location': {'end': 4540, 'begin': 4535},\n",
       "         'text': '$2.50'},\n",
       "        {'confidence': 0.9963949,\n",
       "         'location': {'end': 12815, 'begin': 12810},\n",
       "         'text': '$2.50'}],\n",
       "       'text': '$2.50',\n",
       "       'type': 'Money'},\n",
       "      {'model_name': 'natural_language_understanding',\n",
       "       'mentions': [{'confidence': 0.3135226,\n",
       "         'location': {'end': 4552, 'begin': 4543},\n",
       "         'text': 'per month'}],\n",
       "       'text': 'per month',\n",
       "       'type': 'Duration'},\n",
       "      {'model_name': 'natural_language_understanding',\n",
       "       'mentions': [{'confidence': 0.8,\n",
       "         'location': {'end': 4608, 'begin': 4607},\n",
       "         'text': '4'}],\n",
       "       'text': '4',\n",
       "       'type': 'Number'},\n",
       "      {'model_name': 'natural_language_understanding',\n",
       "       'mentions': [{'confidence': 0.4401211,\n",
       "         'location': {'end': 4908, 'begin': 4901},\n",
       "         'text': '30 days'},\n",
       "        {'confidence': 0.4401211,\n",
       "         'location': {'end': 8514, 'begin': 8507},\n",
       "         'text': '30 days'},\n",
       "        {'confidence': 0.44001752,\n",
       "         'location': {'end': 9546, 'begin': 9539},\n",
       "         'text': '30 days'},\n",
       "        {'confidence': 0.43876714,\n",
       "         'location': {'end': 10166, 'begin': 10159},\n",
       "         'text': '30 days'},\n",
       "        {'confidence': 0.43876714,\n",
       "         'location': {'end': 10627, 'begin': 10620},\n",
       "         'text': '30 days'},\n",
       "        {'confidence': 0.4401211,\n",
       "         'location': {'end': 11340, 'begin': 11333},\n",
       "         'text': '30 days'},\n",
       "        {'confidence': 0.45240432,\n",
       "         'location': {'end': 11986, 'begin': 11979},\n",
       "         'text': '30 days'},\n",
       "        {'confidence': 0.43431413,\n",
       "         'location': {'end': 18133, 'begin': 18126},\n",
       "         'text': '30 days'},\n",
       "        {'confidence': 0.43564498,\n",
       "         'location': {'end': 18415, 'begin': 18408},\n",
       "         'text': '30 days'},\n",
       "        {'confidence': 0.43431413,\n",
       "         'location': {'end': 21782, 'begin': 21775},\n",
       "         'text': '30 days'},\n",
       "        {'confidence': 0.43564498,\n",
       "         'location': {'end': 22468, 'begin': 22461},\n",
       "         'text': '30 days'},\n",
       "        {'confidence': 0.43564498,\n",
       "         'location': {'end': 23615, 'begin': 23608},\n",
       "         'text': '30 days'},\n",
       "        {'confidence': 0.44787684,\n",
       "         'location': {'end': 24197, 'begin': 24190},\n",
       "         'text': '30 days'},\n",
       "        {'confidence': 0.44001752,\n",
       "         'location': {'end': 24794, 'begin': 24787},\n",
       "         'text': '30 days'}],\n",
       "       'text': '30 days',\n",
       "       'type': 'Duration'},\n",
       "      {'model_name': 'natural_language_understanding',\n",
       "       'mentions': [{'confidence': 0.8,\n",
       "         'location': {'end': 5196, 'begin': 5195},\n",
       "         'text': '1'},\n",
       "        {'confidence': 0.8,\n",
       "         'location': {'end': 18702, 'begin': 18701},\n",
       "         'text': '1'}],\n",
       "       'text': '1',\n",
       "       'type': 'Number'},\n",
       "      {'model_name': 'natural_language_understanding',\n",
       "       'mentions': [{'confidence': 0.8,\n",
       "         'location': {'end': 5252, 'begin': 5249},\n",
       "         'text': '1.0'},\n",
       "        {'confidence': 0.8,\n",
       "         'location': {'end': 18758, 'begin': 18755},\n",
       "         'text': '1.0'}],\n",
       "       'text': '1.0',\n",
       "       'type': 'Number'},\n",
       "      {'model_name': 'natural_language_understanding',\n",
       "       'mentions': [{'confidence': 0.88758075,\n",
       "         'location': {'end': 5302, 'begin': 5297},\n",
       "         'text': 'Clark'},\n",
       "        {'confidence': 0.88758075,\n",
       "         'location': {'end': 18808, 'begin': 18803},\n",
       "         'text': 'Clark'}],\n",
       "       'text': 'Clark',\n",
       "       'type': 'Person'},\n",
       "      {'model_name': 'natural_language_understanding',\n",
       "       'mentions': [{'confidence': 0.4283453,\n",
       "         'location': {'end': 5591, 'begin': 5584},\n",
       "         'text': '90 days'},\n",
       "        {'confidence': 0.42743173,\n",
       "         'location': {'end': 19096, 'begin': 19089},\n",
       "         'text': '90 days'}],\n",
       "       'text': '90 days',\n",
       "       'type': 'Duration'},\n",
       "      {'model_name': 'natural_language_understanding',\n",
       "       'mentions': [{'confidence': 0.57147145,\n",
       "         'location': {'end': 6775, 'begin': 6767},\n",
       "         'text': '6 months'},\n",
       "        {'confidence': 0.57147145,\n",
       "         'location': {'end': 20276, 'begin': 20268},\n",
       "         'text': '6 months'}],\n",
       "       'text': '6 months',\n",
       "       'type': 'Duration'},\n",
       "      {'model_name': 'natural_language_understanding',\n",
       "       'mentions': [{'confidence': 0.8,\n",
       "         'location': {'end': 8116, 'begin': 8113},\n",
       "         'text': 'one'},\n",
       "        {'confidence': 0.8,\n",
       "         'location': {'end': 10337, 'begin': 10334},\n",
       "         'text': 'one'},\n",
       "        {'confidence': 0.8,\n",
       "         'location': {'end': 14882, 'begin': 14879},\n",
       "         'text': 'one'},\n",
       "        {'confidence': 0.8,\n",
       "         'location': {'end': 21495, 'begin': 21492},\n",
       "         'text': 'one'},\n",
       "        {'confidence': 0.8,\n",
       "         'location': {'end': 22071, 'begin': 22068},\n",
       "         'text': 'one'}],\n",
       "       'text': 'one',\n",
       "       'type': 'Number'},\n",
       "      {'model_name': 'natural_language_understanding',\n",
       "       'mentions': [{'confidence': 0.8,\n",
       "         'location': {'end': 8933, 'begin': 8932},\n",
       "         'text': '6'}],\n",
       "       'text': '6',\n",
       "       'type': 'Number'},\n",
       "      {'model_name': 'natural_language_understanding',\n",
       "       'mentions': [{'confidence': 0.2416047,\n",
       "         'location': {'end': 9328, 'begin': 9311},\n",
       "         'text': 'more than 30 days'},\n",
       "        {'confidence': 0.24697386,\n",
       "         'location': {'end': 24578, 'begin': 24561},\n",
       "         'text': 'more than 30 days'}],\n",
       "       'text': 'more than 30 days',\n",
       "       'type': 'Duration'},\n",
       "      {'model_name': 'natural_language_understanding',\n",
       "       'mentions': [{'confidence': 0.8772316,\n",
       "         'location': {'end': 11075, 'begin': 11062},\n",
       "         'text': 'United States'},\n",
       "        {'confidence': 0.86818755,\n",
       "         'location': {'end': 23352, 'begin': 23339},\n",
       "         'text': 'United States'}],\n",
       "       'text': 'United States',\n",
       "       'type': 'Location'},\n",
       "      {'model_name': 'natural_language_understanding',\n",
       "       'mentions': [{'confidence': 0.40133965,\n",
       "         'location': {'end': 11223, 'begin': 11206},\n",
       "         'text': 'transplant centre'},\n",
       "        {'confidence': 0.40663165,\n",
       "         'location': {'end': 23499, 'begin': 23482},\n",
       "         'text': 'transplant centre'}],\n",
       "       'text': 'transplant centre',\n",
       "       'type': 'Facility'},\n",
       "      {'model_name': 'natural_language_understanding',\n",
       "       'mentions': [{'confidence': 0.8,\n",
       "         'location': {'end': 11436, 'begin': 11435},\n",
       "         'text': '7'}],\n",
       "       'text': '7',\n",
       "       'type': 'Number'},\n",
       "      {'model_name': 'natural_language_understanding',\n",
       "       'mentions': [{'confidence': 0.6614446,\n",
       "         'location': {'end': 12138, 'begin': 12113},\n",
       "         'text': 'Teladoc Medical ExpertsTM'}],\n",
       "       'text': 'Teladoc Medical ExpertsTM',\n",
       "       'type': 'Organization'},\n",
       "      {'model_name': 'natural_language_understanding',\n",
       "       'mentions': [{'confidence': 0.63451,\n",
       "         'location': {'end': 12554, 'begin': 12548},\n",
       "         'text': 'expert'}],\n",
       "       'text': 'expert',\n",
       "       'type': 'JobTitle'},\n",
       "      {'model_name': 'natural_language_understanding',\n",
       "       'mentions': [{'confidence': 0.52710795,\n",
       "         'location': {'end': 12748, 'begin': 12740},\n",
       "         'text': '4 months'}],\n",
       "       'text': '4 months',\n",
       "       'type': 'Duration'},\n",
       "      {'model_name': 'natural_language_understanding',\n",
       "       'mentions': [{'confidence': 0.16214982,\n",
       "         'location': {'end': 12825, 'begin': 12820},\n",
       "         'text': 'month'}],\n",
       "       'text': 'month',\n",
       "       'type': 'Duration'},\n",
       "      {'model_name': 'natural_language_understanding',\n",
       "       'mentions': [{'confidence': 0.35033888,\n",
       "         'location': {'end': 14000, 'begin': 13980},\n",
       "         'text': 'medical professional'}],\n",
       "       'text': 'medical professional',\n",
       "       'type': 'JobTitle'},\n",
       "      {'model_name': 'natural_language_understanding',\n",
       "       'mentions': [{'confidence': 0.55638397,\n",
       "         'location': {'end': 14151, 'begin': 14133},\n",
       "         'text': 'business associate'}],\n",
       "       'text': 'business associate',\n",
       "       'type': 'JobTitle'},\n",
       "      {'model_name': 'natural_language_understanding',\n",
       "       'mentions': [{'confidence': 0.8,\n",
       "         'location': {'end': 14557, 'begin': 14556},\n",
       "         'text': '8'}],\n",
       "       'text': '8',\n",
       "       'type': 'Number'},\n",
       "      {'model_name': 'natural_language_understanding',\n",
       "       'mentions': [{'confidence': 0.43117478,\n",
       "         'location': {'end': 16225, 'begin': 16212},\n",
       "         'text': '80 milligrams'}],\n",
       "       'text': '80 milligrams',\n",
       "       'type': 'Measure'},\n",
       "      {'model_name': 'natural_language_understanding',\n",
       "       'mentions': [{'confidence': 0.53960586,\n",
       "         'location': {'end': 16257, 'begin': 16241},\n",
       "         'text': '100 \\nmilliliters'}],\n",
       "       'text': '100 \\nmilliliters',\n",
       "       'type': 'Measure'},\n",
       "      {'model_name': 'natural_language_understanding',\n",
       "       'mentions': [{'confidence': 0.42510638,\n",
       "         'location': {'end': 16886, 'begin': 16857},\n",
       "         'text': 'licensed medical practitioner'}],\n",
       "       'text': 'licensed medical practitioner',\n",
       "       'type': 'JobTitle'},\n",
       "      {'model_name': 'natural_language_understanding',\n",
       "       'mentions': [{'confidence': 0.9372425,\n",
       "         'location': {'end': 17411, 'begin': 17407},\n",
       "         'text': '18th'}],\n",
       "       'text': '18th',\n",
       "       'type': 'Ordinal'},\n",
       "      {'model_name': 'natural_language_understanding',\n",
       "       'mentions': [{'confidence': 0.8,\n",
       "         'location': {'end': 17743, 'begin': 17742},\n",
       "         'text': '9'}],\n",
       "       'text': '9',\n",
       "       'type': 'Number'},\n",
       "      {'model_name': 'natural_language_understanding',\n",
       "       'mentions': [{'confidence': 0.8,\n",
       "         'location': {'end': 19908, 'begin': 19906},\n",
       "         'text': '10'}],\n",
       "       'text': '10',\n",
       "       'type': 'Number'},\n",
       "      {'model_name': 'natural_language_understanding',\n",
       "       'mentions': [{'confidence': 0.8,\n",
       "         'location': {'end': 22565, 'begin': 22563},\n",
       "         'text': '11'}],\n",
       "       'text': '11',\n",
       "       'type': 'Number'},\n",
       "      {'model_name': 'natural_language_understanding',\n",
       "       'mentions': [{'confidence': 0.09802818,\n",
       "         'location': {'end': 25146, 'begin': 25119},\n",
       "         'text': 'licensed Financial Services'}],\n",
       "       'text': 'licensed Financial Services',\n",
       "       'type': 'JobTitle'},\n",
       "      {'model_name': 'natural_language_understanding',\n",
       "       'mentions': [{'confidence': 0.69286585,\n",
       "         'location': {'end': 25158, 'begin': 25148},\n",
       "         'text': 'Consultant'}],\n",
       "       'text': 'Consultant',\n",
       "       'type': 'JobTitle'},\n",
       "      {'model_name': 'natural_language_understanding',\n",
       "       'mentions': [{'confidence': 0.8,\n",
       "         'location': {'end': 25176, 'begin': 25162},\n",
       "         'text': '1-844-528-0583'}],\n",
       "       'text': '1-844-528-0583',\n",
       "       'type': 'PhoneNumber'},\n",
       "      {'model_name': 'natural_language_understanding',\n",
       "       'mentions': [{'confidence': 0.9156328,\n",
       "         'location': {'end': 25183, 'begin': 25177},\n",
       "         'text': 'Monday'}],\n",
       "       'text': 'Monday',\n",
       "       'type': 'Date'},\n",
       "      {'model_name': 'natural_language_understanding',\n",
       "       'mentions': [{'confidence': 0.9258975,\n",
       "         'location': {'end': 25193, 'begin': 25187},\n",
       "         'text': 'Friday'}],\n",
       "       'text': 'Friday',\n",
       "       'type': 'Date'},\n",
       "      {'model_name': 'natural_language_understanding',\n",
       "       'mentions': [{'confidence': 0.20448877,\n",
       "         'location': {'end': 25222, 'begin': 25204},\n",
       "         'text': '8 a.m. – 8 p.m. ET'}],\n",
       "       'text': '8 a.m. – 8 p.m. ET',\n",
       "       'type': 'Time'},\n",
       "      {'model_name': 'natural_language_understanding',\n",
       "       'mentions': [{'confidence': 0.75897187,\n",
       "         'location': {'end': 25266, 'begin': 25239},\n",
       "         'text': 'Financial Security Advisors'}],\n",
       "       'text': 'Financial Security Advisors',\n",
       "       'type': 'JobTitle'},\n",
       "      {'model_name': 'natural_language_understanding',\n",
       "       'mentions': [{'confidence': 0.4046357,\n",
       "         'location': {'end': 25292, 'begin': 25274},\n",
       "         'text': 'province of Quebec'}],\n",
       "       'text': 'province of Quebec',\n",
       "       'type': 'Location'},\n",
       "      {'model_name': 'natural_language_understanding',\n",
       "       'mentions': [{'confidence': 0.41374037,\n",
       "         'location': {'end': 25299, 'begin': 25295},\n",
       "         'text': '2021'},\n",
       "        {'confidence': 0.7599577,\n",
       "         'location': {'end': 25530, 'begin': 25526},\n",
       "         'text': '2021'}],\n",
       "       'text': '2021',\n",
       "       'type': 'Date'},\n",
       "      {'model_name': 'natural_language_understanding',\n",
       "       'mentions': [{'confidence': 0.6090305,\n",
       "         'location': {'end': 25320, 'begin': 25300},\n",
       "         'text': 'Teladoc Health, Inc.'}],\n",
       "       'text': 'Teladoc Health, Inc.',\n",
       "       'type': 'Organization'},\n",
       "      {'model_name': 'natural_language_understanding',\n",
       "       'mentions': [{'confidence': 0.83596385,\n",
       "         'location': {'end': 25349, 'begin': 25342},\n",
       "         'text': 'Teladoc'},\n",
       "        {'confidence': 0.8757776,\n",
       "         'location': {'end': 25358, 'begin': 25351},\n",
       "         'text': 'Teladoc'},\n",
       "        {'confidence': 0.9184307,\n",
       "         'location': {'end': 25422, 'begin': 25415},\n",
       "         'text': 'Teladoc'}],\n",
       "       'text': 'Teladoc',\n",
       "       'type': 'Organization'},\n",
       "      {'model_name': 'natural_language_understanding',\n",
       "       'mentions': [{'confidence': 0.6330621,\n",
       "         'location': {'end': 25375, 'begin': 25360},\n",
       "         'text': 'Medical Experts'}],\n",
       "       'text': 'Medical Experts',\n",
       "       'type': 'JobTitle'},\n",
       "      {'model_name': 'natural_language_understanding',\n",
       "       'mentions': [{'confidence': 0.6562213,\n",
       "         'location': {'end': 25396, 'begin': 25384},\n",
       "         'text': 'Teladoc logo'}],\n",
       "       'text': 'Teladoc logo',\n",
       "       'type': 'Organization'},\n",
       "      {'model_name': 'natural_language_understanding',\n",
       "       'mentions': [{'confidence': 0.45299396,\n",
       "         'location': {'end': 25436, 'begin': 25424},\n",
       "         'text': 'Health, Inc.'}],\n",
       "       'text': 'Health, Inc.',\n",
       "       'type': 'Organization'},\n",
       "      {'model_name': 'natural_language_understanding',\n",
       "       'mentions': [{'confidence': 0.8,\n",
       "         'location': {'end': 25580, 'begin': 25576},\n",
       "         'text': '1221'}],\n",
       "       'text': '1221',\n",
       "       'type': 'Number'}]}],\n",
       "   'metadata': {'domain': 'health_insurance',\n",
       "    'parent_document_id': '04711489-3a1a-4cf9-a8b1-026003bdb83a'},\n",
       "   'extracted_metadata': {'sha1': '0FD6C29C4ADB3B9CC69C3B0F5D5746D0294CCB38',\n",
       "    'numPages': '12',\n",
       "    'filename': 'express-ci-guide-to-definitions.pdf',\n",
       "    'subject': 'This guide to critical illness definitions will help you understand the illnesses and procedures covered \\nby your Express Critical Illness (CI) Insurance policy. Each of the covered illnesses is defined and then explained to you. We have also outlined illness-specific exclusions and the survival periods required. Visit mysunlife.ca.\\r',\n",
       "    'file_type': 'pdf',\n",
       "    'title': 'Your guide to Express Critical Illness Insurance definitions | Sun Life',\n",
       "    'publicationdate': '2021-12-21'},\n",
       "   'text': ['Your guide to  \\nExpress Critical  \\nIllness Insurance \\ndefinitions\\nLife’s brighter under the sun\\nSun Life Assurance Company of Canada is the insurer  \\nand a member of the Sun Life group of companies\\nSUN LIFE GO\\n2  Your Guide to Express CI Insurance Definitions\\nYour Guide to EXPRESS Critical Illness  \\nInsurance Definitions \\nThis guide to critical illness definitions will help you understand the illnesses and procedures covered  \\nby your Express Critical Illness (CI) Insurance policy. Each of the covered illnesses is defined and then explained to \\nyou. We have also outlined illness-specific exclusions and the survival periods required.\\nThe diagnosis and treatment of any Covered critical illness must be made by a specialist who is licensed and \\npractising in Canada. A specialist is a licensed medical practitioner who has been trained in the specific area of \\nmedicine relevant to the Covered critical illnesses for which a benefit is being claimed, and who has been certified by \\na specialty examining board. In the absence or unavailability of a specialist a condition may be diagnosed by a \\nqualified medical practitioner practicing in Canada. \\nThis guide is for your reference only, and does not replace the policy. We will not pay for any illness, \\ndisorder or surgery not specifically defined under the policy/coverage. For Express Critical Illness Insurance, \\nthe complete terms, conditions, exclusions and limitations governing the Critical Illness Insurance coverage \\nare found in your policy issued by Sun Life Assurance Company of Canada, a member of the Sun Life \\nFinancial group of companies. \\nYour critical illness insurance policy:\\n• Defines illnesses you are insured for, and\\n• Includes the terms and conditions you will have to meet to receive the critical illness insurance benefit\\n• Includes a pre-existing condition provision and how it applies to the critical illness insurance benefit  \\n(if that benefit is applied for).*\\nPlease review the policy carefully. For a sample policy please visit www.sunlife.ca/ExpressCI or  \\ncall 1-877-893-9893.\\nIllnesses not specifically mentioned or not meeting the stated criteria are not covered. All illnesses must satisfy the \\ndescription in your policy. For an illness or condition to be covered, it must meet the illness description in your policy.\\nIf your policy ended because it lapsed, you may apply to have it put back into effect if the insured person is alive  \\nand has not had a covered critical illness or any signs or symptoms of a covered critical illness. This process is  \\ncalled reinstatement. \\nIf you want to put your policy back into effect, you must:\\n• Apply within 2 years of the date the policy ended,\\n• Give us new evidence of insurability that we consider satisfactory, and\\n• Make a payment equal to the reinstatement charge set by us.\\n*  No benefits are payable for any Covered critical illness that occurs within 12 months of the policy date set out on \\nthe Policy particulars page in your contract. And that resulted from any injury, sickness or medical condition \\n(whether diagnosed or not) for which, during the 12 months before the policy due date:\\n• the insured person had symptoms,\\n• the insured person consulted a physician or other health care practitioner and was provided any health-related \\ncare, advice or treatment, or\\n•  a reasonably prudent person has such injury, sickness or medical condition or symptoms(s) would have consulted \\na physician or other health care practitioner.\\nSUN LIFE GO\\nYour Guide to Express CI Insurance Definitions  3\\nCovered critical illnesses\\nBasic Plan Enhanced Plan Comfort Plan\\nIllnesses  \\ncovered\\n• Cancer • Cancer\\n• Heart attack\\n• Stroke\\n• Cancer\\n• Heart attack\\n• Stroke\\n• Coronary artery bypass surgery\\n• Aortic surgery\\n• Major organ transplant\\n• Major organ failure – on waiting list\\nAge  \\nrequirements\\n• 18-65 years old when \\nyou buy the policy\\n• 18-65 years old when \\nyou buy the policy\\n• 18-65 years old when you buy  \\nthe policy\\nCoverage  \\namount\\n• $25,000 • $25,000 • $50,000\\n• $5,000 (child benefits)\\nAdditional  \\nbenefits\\n• Rate guarantee for the first 5 years\\n• Inflation protection\\n• Teladoc Medical Experts* services \\n- At any point during the lifetime \\nof the policy you can access \\nTeladoc Medical Experts to get \\nanswers to any of your medical \\nquestions. In addition, if you get \\ncritically ill, you will be connected \\nwith a leading expert that will \\nreview your diagnosis and your \\ntreatment plan and provide you \\nwith recommendations for moving \\nforward.\\n• Add up to 5 children for $2.50  \\nper month to provide coverage  \\nof $5,000 per child\\nSUN LIFE GO\\n4  Your Guide to Express CI Insurance Definitions\\nCancer \\nCancer means a definite diagnosis of a tumour characterized by the uncontrolled growth and spread of malignant \\ncells and the invasion of tissue.\\nThe diagnosis of cancer must be made by a specialist. The insured person must survive for 30 days following the \\ndate of diagnosis.\\nExclusions\\nNo benefit is payable for a recurrence or metastasis of an original cancer which was diagnosed before the policy date.\\nNo benefit is payable under this condition for the following non-life threatening cancers:\\n• carcinoma in situ;  \\n• Stage 1A malignant melanoma (melanoma less than or equal to 1.0 mm in thickness, not ulcerated and without \\nClark level IV or level V invasion); \\n• any non-melanoma skin cancer that has not become metastasized; or,\\n• Stage A (T1a or T1b) prostate cancer.\\n90 day exclusion period for cancer:\\nNo benefit is payable for cancer and the insured person’s coverage for cancer will terminate if, within 90 days \\nfollowing the later of:\\n• the most recent date the application for this policy was signed;\\n• the policy date; or,\\n• the most recent date this policy was put back in effect (reinstatement), \\nthe insured person has any of the following:\\n• signs, symptoms or investigations, that lead to diagnosis of cancer (covered or excluded under this policy), \\nregardless of when the diagnosis is made, or\\n• a diagnosis of cancer (covered or excluded under this policy).\\nWhile the insured person’s coverage for cancer terminates, coverage for all other Covered critical illnesses  \\nremain in force.\\nYour responsibility to report cancer\\nYou must report to us, if within the first 90 days following the later of: \\n• the policy date, or  \\n• the most recent date this policy was put back into effect (reinstatement), \\nthe insured person has: \\n• signs, symptoms or investigations that lead to a diagnosis of cancer (covered or excluded under this policy), \\nregardless of when the diagnosis is made, or \\n• a diagnosis of cancer (covered or excluded under this policy). \\nSUN LIFE GO\\nYour Guide to Express CI Insurance Definitions  5\\nThe information described above must be reported to us within 6 months of the date of the diagnosis. \\nIf this information is not provided, we have the right to deny any claim for:  \\n• cancer, \\n• any critical illness caused by cancer, or  \\n• any critical illness caused by the treatment of cancer. \\nTo report the information, contact us at the toll-free phone number shown at the beginning of this policy for the \\nappropriate form. The report must be in writing. \\nWhen coverage for cancer ends \\nThe coverage for cancer will end and we will not make any payment if within the first 90 days following the later of: \\n• the policy date, or  \\n• the most recent date this policy was put back into effect (reinstatement), \\nthe insured person has: \\n• signs, symptoms or investigations that lead to a diagnosis of cancer (covered or excluded under this policy), \\nregardless of when the diagnosis is made, or  \\n• a diagnosis of cancer (covered or excluded under this policy). \\nCoverage for all other Covered critical illnesses will continue provided the insured person’s critical illness does not \\nresult directly or indirectly from any cancer or cancer treatment. \\nHeart attack\\nHeart attack means a definite diagnosis of the death of heart muscle due to obstruction of blood flow, that results in \\na rise and fall of biochemical cardiac markers to levels considered diagnostic of myocardial infarction, with at least \\none of the following:\\n• heart attack symptoms;\\n• new electrocardiogram (ECG) changes consistent with a heart attack; or,\\n• development of new Q waves during or immediately following an intra-arterial cardiac procedure including,  \\nbut not limited to, coronary angiography and coronary angioplasty.\\nThe diagnosis of heart attack must be made by a specialist. The insured person must survive for 30 days following \\nthe date of diagnosis.\\nExclusions\\nHeart attack does not include:\\n• elevated biochemical cardiac markers as a result of an intra-arterial cardiac procedure including, but not  \\nlimited to, coronary angiography and coronary angioplasty, in the absence of new Q waves; or,\\n• ECG changes suggesting a prior myocardial infarction, which do not meet the heart attack definition as  \\ndescribed above.\\nSUN LIFE GO\\n6  Your Guide to Express CI Insurance Definitions\\nStroke\\nStroke (cerebrovascular accident) means a definite diagnosis of an acute cerebrovascular event caused  \\nby intra-cranial thrombosis or haemorrhage, or embolism from an extra-cranial source, with:\\n• acute onset of new neurological symptoms; and\\n• new objective neurological deficits on clinical examination, persisting for more than 30 days following the  \\ndate of diagnosis. \\nThese new symptoms and deficits must be corroborated by diagnostic imaging testing.\\nThe diagnosis of stroke must be made by a specialist. The insured person must survive for 30 days following the date \\nof the diagnosis.\\nExclusions\\nNo benefit is payable under this condition for:\\n• transient ischaemic attacks;\\n• intracerebral vascular events due to trauma; or,\\n• lacunar infarcts which do not meet the definition of stroke as described above.\\nAortic surgery\\nAortic surgery means the undergoing of surgery for disease of the aorta requiring excision and surgical replacement \\nof the diseased aorta with a graft. Aorta refers to the thoracic and abdominal aorta but not its branches.\\nThe surgery must be determined to be medically necessary by a specialist. The insured person must survive for  \\n30 days following the date of surgery.\\nCoronary artery bypass surgery\\nCoronary artery bypass surgery means the undergoing of heart surgery to correct narrowing or blockage of one or \\nmore coronary arteries with bypass graft(s), excluding any non-surgical or trans-catheter techniques such as balloon \\nangioplasty or laser relief of an obstruction. \\nThe surgery must be determined to be medically necessary by a specialist. The insured person must survive for  \\n30 days following the date of surgery.\\nMajor organ failure on waiting list\\nMajor organ failure on waiting list means a definite diagnosis of the irreversible failure of the heart, both lungs, liver, \\nboth kidneys or bone marrow, and transplantation must be medically necessary. To qualify under major organ failure \\non waiting list, the insured person must become enrolled as the recipient in a recognized transplant centre in Canada \\nor the United States that performs the required form of transplant surgery.\\nThe date of diagnosis is the date of the insured person’s enrolment in the transplant centre. \\nThe diagnosis of the major organ failure must be made by a specialist. The insured person must survive for 30 days \\nfollowing the date of diagnosis.\\nSUN LIFE GO\\nYour Guide to Express CI Insurance Definitions  7\\nMajor organ transplant \\nMajor organ transplant means a definite diagnosis of the irreversible failure of the heart, both lungs, liver, both \\nkidneys or bone marrow, and transplantation must be medically necessary. To qualify under major organ transplant, \\nthe insured person must undergo a transplantation procedure as the recipient for transplantation of a heart, lung, \\nliver, kidney or bone marrow, and limited to these entities.\\nThe diagnosis of the major organ failure must be made by a specialist. The insured person must survive  \\nfor 30 days following the date of their transplant.\\nAdditional Benefits \\n• rate guarantee for the first 5 years,\\n• inflation protection\\n• Teladoc Medical ExpertsTM services – A valuable service available to you, your spouse, dependent children, \\nparents and parents-in-law at any point during the lifetime of the policy.  You can access Teladoc Medical \\nExperts to get answers to any of your medical questions (they do not need to be questions relating to an illness \\ncovered under this policy). In addition, if you get critically ill, you will be connected with a leading expert that \\nwill review your diagnosis and your treatment plan and provide you with recommendations for moving forward. \\nWhat’s more, you can still use Teladoc Medical Experts services up to 4 months from the time your claim is paid.\\n• add up to 5 children for $2.50 per month to provide coverage of $5,000 per child\\nChild critical illness insurance benefit\\nThis additional benefit covers only the critical illnesses and benefit payment described in the Child critical illness \\ninsurance benefit. Additional illnesses or procedures that are not specifically mentioned are not covered. To qualify for \\nthe Child critical illness insurance benefit, all requirements for the Child covered critical illnesses must be satisfied \\nwhile this policy is in effect.\\nThe diagnosis and treatment of any covered critical illnesses must be made by a specialist who is licensed and \\npracticing in Canada. A specialist is a licensed medical practitioner who has been trained in the specific area of \\nmedicine relevant to the Child covered critical illnesses for which a benefit is being claimed, and who has been \\ncertified by a specialty examining board. In the absence or unavailability of a specialist, a condition may be diagnosed \\nby a qualified medical practitioner practicing in Canada.\\nThe diagnosis, treatment, tests or examinations performed to satisfy the Child covered critical illnesses definition may \\nnot be done by a specialist or medical professional who is:\\n• the owner, \\n• any insured child under this policy,\\n• anyone entitled to make a claim under this policy,\\n• any relative or business associate of these people, or\\n• any person who normally resides in the insured child’s household.\\nEach covered critical illness describes a survival period. The insured child must be alive at the end of the  \\nsurvival period.\\nThe insured child for this benefit, the policy date and the amount of the Child covered critical illnesses benefit  \\nare shown on the Policy particulars page in your contract.\\nSUN LIFE GO\\n8  Your Guide to Express CI Insurance Definitions\\nWe make a payment if the insured child has a Child covered critical illness as defined earlier in this policy.  \\nThe beneficiary is you or your estate, unless you make a change in writing to us.\\nIf the insured child qualifies for a Child covered critical illness we make a one-time payment. The amount we pay is:\\n• the Child critical illness insurance benefit amount at the time the benefit is payable,\\n• minus any unpaid premiums plus interest at the time the benefit is payable.\\nIf payment is made on an insured child, the coverage ends for that child on the date we make the payment.\\nPre-existing condition provision \\nNo benefits are payable for any Covered critical illness that occurs within 12 months of the policy date set out on the \\nPolicy particulars page in your contract, and that resulted from any injury, sickness or medical condition (whether \\ndiagnosed or not) for which, during the 12 months before the policy date:\\n• the insured child had symptoms,\\n• the insured child consulted a physician or other health care practitioner and was provided any health-related \\ncare, advice or treatment, or\\n• a reasonably prudent person whose child has such injury, sickness or medical condition or symptom(s) would \\nhave consulted a physician or other health care practitioner.\\nWhen we will not make a payment under the Critical illness insurance benefit \\n(exclusions and reductions of coverage)\\nWe will not make any payment if the Child covered critical illness is directly or indirectly caused by or associated with \\nthe insured child operating a vehicle while their blood alcohol level is more than 80 milligrams of alcohol per 100 \\nmilliliters of blood. A vehicle includes any form of ground, air or marine transportation that can be put into motion by \\nany means, including muscular power. We do not take into account whether or not the vehicle is in motion.\\nWe will not make any payment if the Child covered critical illness is directly or indirectly caused by or associated with \\nthe insured child:\\n• committing or attempting to commit a criminal offence\\n• taking or attempting to take their own life, while sane or insane\\n• causing themself bodily injury, while sane or insane\\n• intentionally taking any drug other than as prescribed by a licensed medical practitioner and in accordance with \\nthe instructions given\\n• intentionally taking any intoxicant, narcotic or poisonous substance. This does not include smoking cigarettes, \\ncigarillos, cigars or occasional use of alcohol.\\nWe will not make any payment if the Child covered critical illness is directly or indirectly caused by or associated with \\ncivil disorder or war, whether declared or not.\\nWhen this benefit ends\\nFor an insured child, this benefit automatically ends on the earliest of:\\n• the policy anniversary following their 18th birthday, or\\n• upon payout of their benefit amount, or\\n• their death, or\\n• the date this benefit ends, shown on the Policy particulars page in your contract, or\\n• the date your policy ends.\\nThere is no benefit payable under this benefit after the date your policy ends.\\nSUN LIFE GO\\nYour Guide to Express CI Insurance Definitions  9\\nChild covered critical illnesses \\nAortic surgery\\nAortic surgery means the undergoing of surgery for disease of the aorta requiring excision and surgical replacement \\nof the diseased aorta with a graft. Aorta refers to the thoracic and abdominal aorta but not its branches.\\nThe surgery must be determined to be medically necessary by a specialist. The insured child must survive for 30 days \\nfollowing the date of surgery.\\nCancer\\nCancer means a definite diagnosis of a tumour characterized by the uncontrolled growth and spread of malignant \\ncells and the invasion of tissue.\\nThe diagnosis of cancer must be made by a specialist. The insured child must survive for 30 days following the date \\nof diagnosis.\\nExclusions\\nNo benefit is payable for a recurrence or metastasis of an original cancer which was diagnosed before the policy date.\\nNo benefit is payable under this condition for the following non-life threatening cancers:\\n• carcinoma in situ; \\n• Stage 1A malignant melanoma (melanoma less than or equal to 1.0 mm in thickness, not ulcerated and without \\nClark level IV or level V invasion); \\n• any non-melanoma skin cancer that has not become metastasized; or,\\n• Stage A (T1a or T1b) prostate cancer.\\n90 day exclusion period for cancer:\\nNo benefit is payable for cancer and the insured child’s coverage for cancer will terminate if, within 90 days following \\nthe later of:\\n• the most recent date the application for this policy was signed;\\n• the policy date; or,\\n• the most recent date this policy was put back in effect (reinstatement),\\nthe insured child has any of the following:\\n• signs, symptoms or investigations, that lead to diagnosis of cancer (covered or excluded under this policy), \\nregardless of when the diagnosis is made, or\\n• a diagnosis of cancer (covered or excluded under this policy).\\nWhile the insured child’s coverage for cancer terminates, coverage for all other Covered critical illnesses  \\nremain in force.\\nYour responsibility to report cancer\\nYou must report to us, if within the first 90 days following the later of: \\n• the policy date, or \\n• the most recent date this policy was put back into effect (reinstatement), \\nSUN LIFE GO\\n10  Your Guide to Express CI Insurance Definitions\\nthe insured child has: \\n• signs, symptoms or investigations that lead to a diagnosis of cancer (covered or excluded under this policy), \\nregardless of when the diagnosis is made, or \\n• a diagnosis of cancer (covered or excluded under this policy). \\nThe information described above must be reported to us within 6 months of the date of the diagnosis.  \\nIf this information is not provided, we have the right to deny any claim for: \\n• cancer, \\n• any critical illness caused by cancer, or \\n• any critical illness caused by the treatment of cancer. \\nTo report the information, contact us at the toll-free phone number shown at the beginning of this policy for the \\nappropriate form. The report must be in writing. \\nWhen coverage for cancer ends \\nThe coverage for cancer will end and we will not make any payment if within the first 90 days following the later of: \\n• the policy date, or \\n• the most recent date this policy was put back into effect (reinstatement), \\nthe insured child has: \\n• signs, symptoms or investigations that lead to a diagnosis of cancer (covered or excluded under this policy), \\nregardless of when the diagnosis is made, or \\n• a diagnosis of cancer (covered or excluded under this policy). \\nCoverage for all other Covered critical illnesses will continue provided the insured child’s critical illness does not result \\ndirectly or indirectly from any cancer or cancer treatment. \\nCoronary artery bypass surgery\\nCoronary artery bypass surgery means the undergoing of heart surgery to correct narrowing or blockage of one or \\nmore coronary arteries with bypass graft(s), excluding any non-surgical or trans-catheter techniques such as balloon \\nangioplasty or laser relief of an obstruction. \\nThe surgery must be determined to be medically necessary by a specialist. The insured child must survive for 30 days \\nfollowing the date of surgery.\\nHeart attack\\nHeart attack means a definite diagnosis of the death of heart muscle due to obstruction of blood flow, that results in \\na rise and fall of biochemical cardiac markers to levels considered diagnostic of myocardial infarction, with at least \\none of the following:\\n• heart attack symptoms;\\n• new electrocardiogram (ECG) changes consistent with a heart attack; or,\\n• development of new Q waves during or immediately following an intra-arterial cardiac procedure including,  \\nbut not limited to, coronary angiography and coronary angioplasty.\\nThe diagnosis of heart attack must be made by a specialist. The insured child must survive for 30 days following the \\ndate of diagnosis.\\nSUN LIFE GO\\nYour Guide to Express CI Insurance Definitions  11\\nExclusions\\nHeart attack does not include:\\n• elevated biochemical cardiac markers as a result of an intra-arterial cardiac procedure including, but not  \\nlimited to, coronary angiography and coronary angioplasty, in the absence of new Q waves; or,\\n• ECG changes suggesting a prior myocardial infarction, which do not meet the heart attack definition  \\nas described above.\\nMajor organ failure on waiting list\\nMajor organ failure on waiting list means a definite diagnosis of the irreversible failure of the heart, both lungs, liver, \\nboth kidneys or bone marrow, and transplantation must be medically necessary. To qualify under major organ failure \\non waiting list, the insured child must become enrolled as the recipient in a recognized transplant centre in Canada or \\nthe United States that performs the required form of transplant surgery.\\nThe date of diagnosis is the date of the insured child’s enrolment in the transplant centre. \\nThe diagnosis of the major organ failure must be made by a specialist. The insured child must survive for 30 days \\nfollowing the date of diagnosis.\\nMajor organ transplant \\nMajor organ transplant means a definite diagnosis of the irreversible failure of the heart, both lungs, liver, both \\nkidneys or bone marrow, and transplantation must be medically necessary. To qualify under major organ transplant, \\nthe insured child must undergo a transplantation procedure as the recipient for transplantation of a heart, lung, liver, \\nkidney or bone marrow, and limited to these entities.\\nThe diagnosis of the major organ failure must be made by a specialist. The insured child must survive for  \\n30 days following the date of their transplant.\\nStroke (cerebrovascular accident) means a definite diagnosis of an acute cerebrovascular event caused by  \\nintra-cranial thrombosis or haemorrhage, or embolism from an extra-cranial source, with:\\n• acute onset of new neurological symptoms; and\\n• new objective neurological deficits on clinical examination, \\npersisting for more than 30 days following the date of diagnosis. \\nThese new symptoms and deficits must be corroborated by diagnostic imaging testing.\\nThe diagnosis of stroke must be made by a specialist. The insured person must survive for 30 days following the  \\ndate of the diagnosis.\\nExclusions\\nNo benefit is payable under this condition for:\\n• transient ischaemic attacks;\\n• intracerebral vascular events due to trauma; or,\\n• lacunar infarcts which do not meet the definition of stroke as described above.\\nQuestions? We are here to help\\nCall toll-free to speak with a licensed Financial Services \\nConsultant*at 1-844-528-0583 Monday to Friday  \\nbetween 8 a.m. – 8 p.m. ET.\\n*Identified as Financial Security Advisors in the province of Quebec.\\n©2021 Teladoc Health, Inc. All rights reserved. Teladoc, Teladoc \\nMedical Experts and the Teladoc logo are trademarks of Teladoc \\nHealth, Inc., and may not be used without written permission.\\n© Sun Life Assurance Company of Canada, 2021. \\nra-expressci-guidetodefinitions-brochure-e-1221\\n'],\n",
       "   'document_passages': [{'passage_text': '.\\n©2021 <em>Teladoc</em> <em>Health</em>, Inc. All rights reserved. <em>Teladoc</em>, <em>Teladoc</em> \\n<em>Medical</em> <em>Experts</em> and the <em>Teladoc</em> logo are trademarks of <em>Teladoc</em> \\n<em>Health</em>, Inc., and may not be used without written permission.\\n© Sun Life Assurance Company of Canada, 2021.',\n",
       "     'start_offset': 25292,\n",
       "     'end_offset': 25531,\n",
       "     'field': 'text'}],\n",
       "   'table_results_references': []}],\n",
       " 'table_results': []}"
      ]
     },
     "execution_count": 143,
     "metadata": {},
     "output_type": "execute_result"
    }
   ],
   "source": [
    "response"
   ]
  },
  {
   "cell_type": "code",
   "execution_count": 189,
   "id": "dfb40d4d-95eb-4414-b135-fb349f640c0a",
   "metadata": {},
   "outputs": [
    {
     "name": "stderr",
     "output_type": "stream",
     "text": [
      "/Users/hema/opt/anaconda3/envs/DND/lib/python3.10/site-packages/urllib3/connectionpool.py:1099: InsecureRequestWarning: Unverified HTTPS request is being made to host 'api.us-south.discovery.watson.cloud.ibm.com'. Adding certificate verification is strongly advised. See: https://urllib3.readthedocs.io/en/latest/advanced-usage.html#tls-warnings\n",
      "  warnings.warn(\n"
     ]
    }
   ],
   "source": [
    "response = discovery.query(\n",
    "  project_id=project_id,\n",
    "  query='illness coverage,metadata.domain:health'\n",
    ").get_result()"
   ]
  },
  {
   "cell_type": "code",
   "execution_count": 190,
   "id": "4c9c5f15-6c1d-4dd0-bb7e-c31af8511b72",
   "metadata": {},
   "outputs": [
    {
     "data": {
      "text/plain": [
       "{'matching_results': 1,\n",
       " 'retrieval_details': {'document_retrieval_strategy': 'untrained'},\n",
       " 'aggregations': [{'type': 'term',\n",
       "   'field': 'enriched_text.entities.text',\n",
       "   'name': 'entities',\n",
       "   'results': [{'key': '$2.50', 'matching_results': 1},\n",
       "    {'key': '$25,000', 'matching_results': 1},\n",
       "    {'key': '$5,000', 'matching_results': 1},\n",
       "    {'key': '$50,000', 'matching_results': 1},\n",
       "    {'key': '1', 'matching_results': 1},\n",
       "    {'key': '1-844-528-0583', 'matching_results': 1},\n",
       "    {'key': '1-877-893-9893', 'matching_results': 1},\n",
       "    {'key': '1.0', 'matching_results': 1},\n",
       "    {'key': '10', 'matching_results': 1},\n",
       "    {'key': '100 \\nmilliliters', 'matching_results': 1}]}],\n",
       " 'results': [{'document_id': '04711489-3a1a-4cf9-a8b1-026003bdb83a',\n",
       "   'result_metadata': {'collection_id': '9304a6de-75dc-bc3f-0000-0191deb87ae0'},\n",
       "   'enriched_text': [{'entities': [{'model_name': 'natural_language_understanding',\n",
       "       'mentions': [{'confidence': 0.3750491,\n",
       "         'location': {'end': 52, 'begin': 35},\n",
       "         'text': 'Illness Insurance'}],\n",
       "       'text': 'Illness Insurance',\n",
       "       'type': 'Organization'},\n",
       "      {'model_name': 'natural_language_understanding',\n",
       "       'mentions': [{'confidence': 0.7815165,\n",
       "         'location': {'end': 122, 'begin': 96},\n",
       "         'text': 'Sun Life Assurance Company'}],\n",
       "       'text': 'Sun Life Assurance Company',\n",
       "       'type': 'Organization'},\n",
       "      {'model_name': 'natural_language_understanding',\n",
       "       'mentions': [{'confidence': 0.60482615,\n",
       "         'location': {'end': 132, 'begin': 126},\n",
       "         'text': 'Canada'},\n",
       "        {'confidence': 0.9876522,\n",
       "         'location': {'end': 771, 'begin': 765},\n",
       "         'text': 'Canada'},\n",
       "        {'confidence': 0.98162234,\n",
       "         'location': {'end': 1152, 'begin': 1146},\n",
       "         'text': 'Canada'},\n",
       "        {'confidence': 0.99271846,\n",
       "         'location': {'end': 11053, 'begin': 11047},\n",
       "         'text': 'Canada'},\n",
       "        {'confidence': 0.9849572,\n",
       "         'location': {'end': 13437, 'begin': 13431},\n",
       "         'text': 'Canada'},\n",
       "        {'confidence': 0.9806656,\n",
       "         'location': {'end': 13825, 'begin': 13819},\n",
       "         'text': 'Canada'},\n",
       "        {'confidence': 0.99347925,\n",
       "         'location': {'end': 23330, 'begin': 23324},\n",
       "         'text': 'Canada'}],\n",
       "       'text': 'Canada',\n",
       "       'type': 'Location'},\n",
       "      {'model_name': 'natural_language_understanding',\n",
       "       'mentions': [{'confidence': 0.58860725,\n",
       "         'location': {'end': 184, 'begin': 170},\n",
       "         'text': 'Sun Life group'}],\n",
       "       'text': 'Sun Life group',\n",
       "       'type': 'Organization'},\n",
       "      {'model_name': 'natural_language_understanding',\n",
       "       'mentions': [{'confidence': 0.24056856,\n",
       "         'location': {'end': 206, 'begin': 198},\n",
       "         'text': 'SUN LIFE'},\n",
       "        {'confidence': 0.24056856,\n",
       "         'location': {'end': 3491, 'begin': 3483},\n",
       "         'text': 'SUN LIFE'},\n",
       "        {'confidence': 0.24056856,\n",
       "         'location': {'end': 4603, 'begin': 4595},\n",
       "         'text': 'SUN LIFE'},\n",
       "        {'confidence': 0.24056856,\n",
       "         'location': {'end': 6651, 'begin': 6643},\n",
       "         'text': 'SUN LIFE'},\n",
       "        {'confidence': 0.24056856,\n",
       "         'location': {'end': 8928, 'begin': 8920},\n",
       "         'text': 'SUN LIFE'},\n",
       "        {'confidence': 0.24056856,\n",
       "         'location': {'end': 11383, 'begin': 11375},\n",
       "         'text': 'SUN LIFE'},\n",
       "        {'confidence': 0.24056856,\n",
       "         'location': {'end': 14552, 'begin': 14544},\n",
       "         'text': 'SUN LIFE'},\n",
       "        {'confidence': 0.24056856,\n",
       "         'location': {'end': 17690, 'begin': 17682},\n",
       "         'text': 'SUN LIFE'},\n",
       "        {'confidence': 0.24056856,\n",
       "         'location': {'end': 19902, 'begin': 19894},\n",
       "         'text': 'SUN LIFE'},\n",
       "        {'confidence': 0.24056856,\n",
       "         'location': {'end': 22511, 'begin': 22503},\n",
       "         'text': 'SUN LIFE'}],\n",
       "       'text': 'SUN LIFE',\n",
       "       'type': 'Organization'},\n",
       "      {'model_name': 'natural_language_understanding',\n",
       "       'mentions': [{'confidence': 0.8,\n",
       "         'location': {'end': 211, 'begin': 210},\n",
       "         'text': '2'}],\n",
       "       'text': '2',\n",
       "       'type': 'Number'},\n",
       "      {'model_name': 'natural_language_understanding',\n",
       "       'mentions': [{'confidence': 0.64903176,\n",
       "         'location': {'end': 247, 'begin': 227},\n",
       "         'text': 'Express CI Insurance'},\n",
       "        {'confidence': 0.62148833,\n",
       "         'location': {'end': 3529, 'begin': 3509},\n",
       "         'text': 'Express CI Insurance'},\n",
       "        {'confidence': 0.65838903,\n",
       "         'location': {'end': 4644, 'begin': 4624},\n",
       "         'text': 'Express CI Insurance'},\n",
       "        {'confidence': 0.46791664,\n",
       "         'location': {'end': 6689, 'begin': 6669},\n",
       "         'text': 'Express CI Insurance'},\n",
       "        {'confidence': 0.67353487,\n",
       "         'location': {'end': 8969, 'begin': 8949},\n",
       "         'text': 'Express CI Insurance'},\n",
       "        {'confidence': 0.49982014,\n",
       "         'location': {'end': 11421, 'begin': 11401},\n",
       "         'text': 'Express CI Insurance'},\n",
       "        {'confidence': 0.67212296,\n",
       "         'location': {'end': 14593, 'begin': 14573},\n",
       "         'text': 'Express CI Insurance'},\n",
       "        {'confidence': 0.5046503,\n",
       "         'location': {'end': 17728, 'begin': 17708},\n",
       "         'text': 'Express CI Insurance'},\n",
       "        {'confidence': 0.6591149,\n",
       "         'location': {'end': 19944, 'begin': 19924},\n",
       "         'text': 'Express CI Insurance'},\n",
       "        {'confidence': 0.4435812,\n",
       "         'location': {'end': 22549, 'begin': 22529},\n",
       "         'text': 'Express CI Insurance'}],\n",
       "       'text': 'Express CI Insurance',\n",
       "       'type': 'Organization'},\n",
       "      {'model_name': 'natural_language_understanding',\n",
       "       'mentions': [{'confidence': 0.3529925,\n",
       "         'location': {'end': 485, 'begin': 439},\n",
       "         'text': 'Express Critical Illness (CI) Insurance policy'}],\n",
       "       'text': 'Express Critical Illness (CI) Insurance policy',\n",
       "       'type': 'Organization'},\n",
       "      {'model_name': 'natural_language_understanding',\n",
       "       'mentions': [{'confidence': 0.8048919,\n",
       "         'location': {'end': 729, 'begin': 719},\n",
       "         'text': 'specialist'},\n",
       "        {'confidence': 0.8124613,\n",
       "         'location': {'end': 785, 'begin': 775},\n",
       "         'text': 'specialist'},\n",
       "        {'confidence': 0.6144151,\n",
       "         'location': {'end': 1065, 'begin': 1055},\n",
       "         'text': 'specialist'},\n",
       "        {'confidence': 0.79162395,\n",
       "         'location': {'end': 4863, 'begin': 4853},\n",
       "         'text': 'specialist'},\n",
       "        {'confidence': 0.80688477,\n",
       "         'location': {'end': 8469, 'begin': 8459},\n",
       "         'text': 'specialist'},\n",
       "        {'confidence': 0.8017951,\n",
       "         'location': {'end': 9501, 'begin': 9491},\n",
       "         'text': 'specialist'},\n",
       "        {'confidence': 0.7980002,\n",
       "         'location': {'end': 10119, 'begin': 10109},\n",
       "         'text': 'specialist'},\n",
       "        {'confidence': 0.7980002,\n",
       "         'location': {'end': 10580, 'begin': 10570},\n",
       "         'text': 'specialist'},\n",
       "        {'confidence': 0.7854121,\n",
       "         'location': {'end': 11295, 'begin': 11285},\n",
       "         'text': 'specialist'},\n",
       "        {'confidence': 0.7854121,\n",
       "         'location': {'end': 11939, 'begin': 11929},\n",
       "         'text': 'specialist'},\n",
       "        {'confidence': 0.80745494,\n",
       "         'location': {'end': 13395, 'begin': 13385},\n",
       "         'text': 'specialist'},\n",
       "        {'confidence': 0.8081932,\n",
       "         'location': {'end': 13451, 'begin': 13441},\n",
       "         'text': 'specialist'},\n",
       "        {'confidence': 0.69627404,\n",
       "         'location': {'end': 13737, 'begin': 13727},\n",
       "         'text': 'specialist'},\n",
       "        {'confidence': 0.73825026,\n",
       "         'location': {'end': 13976, 'begin': 13966},\n",
       "         'text': 'specialist'},\n",
       "        {'confidence': 0.7980002,\n",
       "         'location': {'end': 18089, 'begin': 18079},\n",
       "         'text': 'specialist'},\n",
       "        {'confidence': 0.79162395,\n",
       "         'location': {'end': 18371, 'begin': 18361},\n",
       "         'text': 'specialist'},\n",
       "        {'confidence': 0.7980002,\n",
       "         'location': {'end': 21738, 'begin': 21728},\n",
       "         'text': 'specialist'},\n",
       "        {'confidence': 0.80688477,\n",
       "         'location': {'end': 22424, 'begin': 22414},\n",
       "         'text': 'specialist'},\n",
       "        {'confidence': 0.7854121,\n",
       "         'location': {'end': 23571, 'begin': 23561},\n",
       "         'text': 'specialist'},\n",
       "        {'confidence': 0.7854121,\n",
       "         'location': {'end': 24151, 'begin': 24141},\n",
       "         'text': 'specialist'},\n",
       "        {'confidence': 0.8017951,\n",
       "         'location': {'end': 24749, 'begin': 24739},\n",
       "         'text': 'specialist'}],\n",
       "       'text': 'specialist',\n",
       "       'type': 'JobTitle'},\n",
       "      {'model_name': 'natural_language_understanding',\n",
       "       'mentions': [{'confidence': 0.79127157,\n",
       "         'location': {'end': 820, 'begin': 800},\n",
       "         'text': 'medical practitioner'},\n",
       "        {'confidence': 0.8001355,\n",
       "         'location': {'end': 1131, 'begin': 1111},\n",
       "         'text': 'medical practitioner'},\n",
       "        {'confidence': 0.7948192,\n",
       "         'location': {'end': 13486, 'begin': 13466},\n",
       "         'text': 'medical practitioner'},\n",
       "        {'confidence': 0.8125367,\n",
       "         'location': {'end': 13804, 'begin': 13784},\n",
       "         'text': 'medical practitioner'}],\n",
       "       'text': 'medical practitioner',\n",
       "       'type': 'JobTitle'},\n",
       "      {'model_name': 'natural_language_understanding',\n",
       "       'mentions': [{'confidence': 0.5365306,\n",
       "         'location': {'end': 1371, 'begin': 1337},\n",
       "         'text': 'Express Critical Illness Insurance'}],\n",
       "       'text': 'Express Critical Illness Insurance',\n",
       "       'type': 'Organization'},\n",
       "      {'model_name': 'natural_language_understanding',\n",
       "       'mentions': [{'confidence': 0.7277276,\n",
       "         'location': {'end': 1473, 'begin': 1447},\n",
       "         'text': 'Critical Illness Insurance'}],\n",
       "       'text': 'Critical Illness Insurance',\n",
       "       'type': 'Organization'},\n",
       "      {'model_name': 'natural_language_understanding',\n",
       "       'mentions': [{'confidence': 0.6439603,\n",
       "         'location': {'end': 1555, 'begin': 1519},\n",
       "         'text': 'Sun Life Assurance Company of Canada'},\n",
       "        {'confidence': 0.54534584,\n",
       "         'location': {'end': 25524, 'begin': 25488},\n",
       "         'text': 'Sun Life Assurance Company of Canada'}],\n",
       "       'text': 'Sun Life Assurance Company of Canada',\n",
       "       'type': 'Organization'},\n",
       "      {'model_name': 'natural_language_understanding',\n",
       "       'mentions': [{'confidence': 0.61642736,\n",
       "         'location': {'end': 1598, 'begin': 1573},\n",
       "         'text': 'Sun Life \\nFinancial group'}],\n",
       "       'text': 'Sun Life \\nFinancial group',\n",
       "       'type': 'Organization'},\n",
       "      {'model_name': 'natural_language_understanding',\n",
       "       'mentions': [{'confidence': 0.8,\n",
       "         'location': {'end': 2044, 'begin': 2020},\n",
       "         'text': 'www.sunlife.ca/ExpressCI'}],\n",
       "       'text': 'www.sunlife.ca/ExpressCI',\n",
       "       'type': 'URL'},\n",
       "      {'model_name': 'natural_language_understanding',\n",
       "       'mentions': [{'confidence': 0.8,\n",
       "         'location': {'end': 2069, 'begin': 2055},\n",
       "         'text': '1-877-893-9893'}],\n",
       "       'text': '1-877-893-9893',\n",
       "       'type': 'PhoneNumber'},\n",
       "      {'model_name': 'natural_language_understanding',\n",
       "       'mentions': [{'confidence': 0.5933424,\n",
       "         'location': {'end': 2656, 'begin': 2649},\n",
       "         'text': '2 years'}],\n",
       "       'text': '2 years',\n",
       "       'type': 'Duration'},\n",
       "      {'model_name': 'natural_language_understanding',\n",
       "       'mentions': [{'confidence': 0.57515883,\n",
       "         'location': {'end': 2911, 'begin': 2902},\n",
       "         'text': '12 months'},\n",
       "        {'confidence': 0.63797,\n",
       "         'location': {'end': 3113, 'begin': 3104},\n",
       "         'text': '12 months'},\n",
       "        {'confidence': 0.57992953,\n",
       "         'location': {'end': 15312, 'begin': 15303},\n",
       "         'text': '12 months'},\n",
       "        {'confidence': 0.5995256,\n",
       "         'location': {'end': 15514, 'begin': 15505},\n",
       "         'text': '12 months'}],\n",
       "       'text': '12 months',\n",
       "       'type': 'Duration'},\n",
       "      {'model_name': 'natural_language_understanding',\n",
       "       'mentions': [{'confidence': 0.97054964,\n",
       "         'location': {'end': 3219, 'begin': 3210},\n",
       "         'text': 'physician'},\n",
       "        {'confidence': 0.9583594,\n",
       "         'location': {'end': 3447, 'begin': 3438},\n",
       "         'text': 'physician'},\n",
       "        {'confidence': 0.97155285,\n",
       "         'location': {'end': 15614, 'begin': 15605},\n",
       "         'text': 'physician'},\n",
       "        {'confidence': 0.9612205,\n",
       "         'location': {'end': 15852, 'begin': 15843},\n",
       "         'text': 'physician'}],\n",
       "       'text': 'physician',\n",
       "       'type': 'JobTitle'},\n",
       "      {'model_name': 'natural_language_understanding',\n",
       "       'mentions': [{'confidence': 0.70163155,\n",
       "         'location': {'end': 3253, 'begin': 3229},\n",
       "         'text': 'health care practitioner'},\n",
       "        {'confidence': 0.6557954,\n",
       "         'location': {'end': 3481, 'begin': 3457},\n",
       "         'text': 'health care practitioner'},\n",
       "        {'confidence': 0.71026725,\n",
       "         'location': {'end': 15648, 'begin': 15624},\n",
       "         'text': 'health care practitioner'},\n",
       "        {'confidence': 0.6597617,\n",
       "         'location': {'end': 15886, 'begin': 15862},\n",
       "         'text': 'health care practitioner'}],\n",
       "       'text': 'health care practitioner',\n",
       "       'type': 'JobTitle'},\n",
       "      {'model_name': 'natural_language_understanding',\n",
       "       'mentions': [{'confidence': 0.8,\n",
       "         'location': {'end': 3544, 'begin': 3543},\n",
       "         'text': '3'}],\n",
       "       'text': '3',\n",
       "       'type': 'Number'},\n",
       "      {'model_name': 'natural_language_understanding',\n",
       "       'mentions': [{'confidence': 0.31644613,\n",
       "         'location': {'end': 3852, 'begin': 3841},\n",
       "         'text': '18-65 years'},\n",
       "        {'confidence': 0.31644613,\n",
       "         'location': {'end': 3895, 'begin': 3884},\n",
       "         'text': '18-65 years'},\n",
       "        {'confidence': 0.32673383,\n",
       "         'location': {'end': 3938, 'begin': 3927},\n",
       "         'text': '18-65 years'}],\n",
       "       'text': '18-65 years',\n",
       "       'type': 'Duration'},\n",
       "      {'model_name': 'natural_language_understanding',\n",
       "       'mentions': [{'confidence': 0.9917241,\n",
       "         'location': {'end': 3996, 'begin': 3989},\n",
       "         'text': '$25,000'},\n",
       "        {'confidence': 0.9939953,\n",
       "         'location': {'end': 4006, 'begin': 3999},\n",
       "         'text': '$25,000'}],\n",
       "       'text': '$25,000',\n",
       "       'type': 'Money'},\n",
       "      {'model_name': 'natural_language_understanding',\n",
       "       'mentions': [{'confidence': 0.9874354,\n",
       "         'location': {'end': 4016, 'begin': 4009},\n",
       "         'text': '$50,000'}],\n",
       "       'text': '$50,000',\n",
       "       'type': 'Money'},\n",
       "      {'model_name': 'natural_language_understanding',\n",
       "       'mentions': [{'confidence': 0.992481,\n",
       "         'location': {'end': 4025, 'begin': 4019},\n",
       "         'text': '$5,000'},\n",
       "        {'confidence': 0.97645384,\n",
       "         'location': {'end': 4584, 'begin': 4578},\n",
       "         'text': '$5,000'},\n",
       "        {'confidence': 0.99661,\n",
       "         'location': {'end': 12855, 'begin': 12849},\n",
       "         'text': '$5,000'}],\n",
       "       'text': '$5,000',\n",
       "       'type': 'Money'},\n",
       "      {'model_name': 'natural_language_understanding',\n",
       "       'mentions': [{'confidence': 0.8945567,\n",
       "         'location': {'end': 4095, 'begin': 4090},\n",
       "         'text': 'first'},\n",
       "        {'confidence': 0.91641337,\n",
       "         'location': {'end': 6257, 'begin': 6252},\n",
       "         'text': 'first'},\n",
       "        {'confidence': 0.8832916,\n",
       "         'location': {'end': 7284, 'begin': 7279},\n",
       "         'text': 'first'},\n",
       "        {'confidence': 0.86941147,\n",
       "         'location': {'end': 12078, 'begin': 12073},\n",
       "         'text': 'first'},\n",
       "        {'confidence': 0.91641337,\n",
       "         'location': {'end': 19759, 'begin': 19754},\n",
       "         'text': 'first'},\n",
       "        {'confidence': 0.8832916,\n",
       "         'location': {'end': 20784, 'begin': 20779},\n",
       "         'text': 'first'}],\n",
       "       'text': 'first',\n",
       "       'type': 'Ordinal'},\n",
       "      {'model_name': 'natural_language_understanding',\n",
       "       'mentions': [{'confidence': 0.55362153,\n",
       "         'location': {'end': 4103, 'begin': 4096},\n",
       "         'text': '5 years'},\n",
       "        {'confidence': 0.53432024,\n",
       "         'location': {'end': 12086, 'begin': 12079},\n",
       "         'text': '5 years'}],\n",
       "       'text': '5 years',\n",
       "       'type': 'Duration'},\n",
       "      {'model_name': 'natural_language_understanding',\n",
       "       'mentions': [{'confidence': 0.5266929,\n",
       "         'location': {'end': 4152, 'begin': 4129},\n",
       "         'text': 'Teladoc Medical Experts'},\n",
       "        {'confidence': 0.7100002,\n",
       "         'location': {'end': 12724, 'begin': 12701},\n",
       "         'text': 'Teladoc Medical Experts'}],\n",
       "       'text': 'Teladoc Medical Experts',\n",
       "       'type': 'Organization'},\n",
       "      {'model_name': 'natural_language_understanding',\n",
       "       'mentions': [{'confidence': 0.6423395,\n",
       "         'location': {'end': 4245, 'begin': 4230},\n",
       "         'text': 'Teladoc Medical'},\n",
       "        {'confidence': 0.6557871,\n",
       "         'location': {'end': 12327, 'begin': 12312},\n",
       "         'text': 'Teladoc Medical'}],\n",
       "       'text': 'Teladoc Medical',\n",
       "       'type': 'Organization'},\n",
       "      {'model_name': 'natural_language_understanding',\n",
       "       'mentions': [{'confidence': 0.8,\n",
       "         'location': {'end': 4521, 'begin': 4520},\n",
       "         'text': '5'},\n",
       "        {'confidence': 0.8,\n",
       "         'location': {'end': 6704, 'begin': 6703},\n",
       "         'text': '5'},\n",
       "        {'confidence': 0.8,\n",
       "         'location': {'end': 12796, 'begin': 12795},\n",
       "         'text': '5'}],\n",
       "       'text': '5',\n",
       "       'type': 'Number'},\n",
       "      {'model_name': 'natural_language_understanding',\n",
       "       'mentions': [{'confidence': 0.98773754,\n",
       "         'location': {'end': 4540, 'begin': 4535},\n",
       "         'text': '$2.50'},\n",
       "        {'confidence': 0.9963949,\n",
       "         'location': {'end': 12815, 'begin': 12810},\n",
       "         'text': '$2.50'}],\n",
       "       'text': '$2.50',\n",
       "       'type': 'Money'},\n",
       "      {'model_name': 'natural_language_understanding',\n",
       "       'mentions': [{'confidence': 0.3135226,\n",
       "         'location': {'end': 4552, 'begin': 4543},\n",
       "         'text': 'per month'}],\n",
       "       'text': 'per month',\n",
       "       'type': 'Duration'},\n",
       "      {'model_name': 'natural_language_understanding',\n",
       "       'mentions': [{'confidence': 0.8,\n",
       "         'location': {'end': 4608, 'begin': 4607},\n",
       "         'text': '4'}],\n",
       "       'text': '4',\n",
       "       'type': 'Number'},\n",
       "      {'model_name': 'natural_language_understanding',\n",
       "       'mentions': [{'confidence': 0.4401211,\n",
       "         'location': {'end': 4908, 'begin': 4901},\n",
       "         'text': '30 days'},\n",
       "        {'confidence': 0.4401211,\n",
       "         'location': {'end': 8514, 'begin': 8507},\n",
       "         'text': '30 days'},\n",
       "        {'confidence': 0.44001752,\n",
       "         'location': {'end': 9546, 'begin': 9539},\n",
       "         'text': '30 days'},\n",
       "        {'confidence': 0.43876714,\n",
       "         'location': {'end': 10166, 'begin': 10159},\n",
       "         'text': '30 days'},\n",
       "        {'confidence': 0.43876714,\n",
       "         'location': {'end': 10627, 'begin': 10620},\n",
       "         'text': '30 days'},\n",
       "        {'confidence': 0.4401211,\n",
       "         'location': {'end': 11340, 'begin': 11333},\n",
       "         'text': '30 days'},\n",
       "        {'confidence': 0.45240432,\n",
       "         'location': {'end': 11986, 'begin': 11979},\n",
       "         'text': '30 days'},\n",
       "        {'confidence': 0.43431413,\n",
       "         'location': {'end': 18133, 'begin': 18126},\n",
       "         'text': '30 days'},\n",
       "        {'confidence': 0.43564498,\n",
       "         'location': {'end': 18415, 'begin': 18408},\n",
       "         'text': '30 days'},\n",
       "        {'confidence': 0.43431413,\n",
       "         'location': {'end': 21782, 'begin': 21775},\n",
       "         'text': '30 days'},\n",
       "        {'confidence': 0.43564498,\n",
       "         'location': {'end': 22468, 'begin': 22461},\n",
       "         'text': '30 days'},\n",
       "        {'confidence': 0.43564498,\n",
       "         'location': {'end': 23615, 'begin': 23608},\n",
       "         'text': '30 days'},\n",
       "        {'confidence': 0.44787684,\n",
       "         'location': {'end': 24197, 'begin': 24190},\n",
       "         'text': '30 days'},\n",
       "        {'confidence': 0.44001752,\n",
       "         'location': {'end': 24794, 'begin': 24787},\n",
       "         'text': '30 days'}],\n",
       "       'text': '30 days',\n",
       "       'type': 'Duration'},\n",
       "      {'model_name': 'natural_language_understanding',\n",
       "       'mentions': [{'confidence': 0.8,\n",
       "         'location': {'end': 5196, 'begin': 5195},\n",
       "         'text': '1'},\n",
       "        {'confidence': 0.8,\n",
       "         'location': {'end': 18702, 'begin': 18701},\n",
       "         'text': '1'}],\n",
       "       'text': '1',\n",
       "       'type': 'Number'},\n",
       "      {'model_name': 'natural_language_understanding',\n",
       "       'mentions': [{'confidence': 0.8,\n",
       "         'location': {'end': 5252, 'begin': 5249},\n",
       "         'text': '1.0'},\n",
       "        {'confidence': 0.8,\n",
       "         'location': {'end': 18758, 'begin': 18755},\n",
       "         'text': '1.0'}],\n",
       "       'text': '1.0',\n",
       "       'type': 'Number'},\n",
       "      {'model_name': 'natural_language_understanding',\n",
       "       'mentions': [{'confidence': 0.88758075,\n",
       "         'location': {'end': 5302, 'begin': 5297},\n",
       "         'text': 'Clark'},\n",
       "        {'confidence': 0.88758075,\n",
       "         'location': {'end': 18808, 'begin': 18803},\n",
       "         'text': 'Clark'}],\n",
       "       'text': 'Clark',\n",
       "       'type': 'Person'},\n",
       "      {'model_name': 'natural_language_understanding',\n",
       "       'mentions': [{'confidence': 0.4283453,\n",
       "         'location': {'end': 5591, 'begin': 5584},\n",
       "         'text': '90 days'},\n",
       "        {'confidence': 0.42743173,\n",
       "         'location': {'end': 19096, 'begin': 19089},\n",
       "         'text': '90 days'}],\n",
       "       'text': '90 days',\n",
       "       'type': 'Duration'},\n",
       "      {'model_name': 'natural_language_understanding',\n",
       "       'mentions': [{'confidence': 0.57147145,\n",
       "         'location': {'end': 6775, 'begin': 6767},\n",
       "         'text': '6 months'},\n",
       "        {'confidence': 0.57147145,\n",
       "         'location': {'end': 20276, 'begin': 20268},\n",
       "         'text': '6 months'}],\n",
       "       'text': '6 months',\n",
       "       'type': 'Duration'},\n",
       "      {'model_name': 'natural_language_understanding',\n",
       "       'mentions': [{'confidence': 0.8,\n",
       "         'location': {'end': 8116, 'begin': 8113},\n",
       "         'text': 'one'},\n",
       "        {'confidence': 0.8,\n",
       "         'location': {'end': 10337, 'begin': 10334},\n",
       "         'text': 'one'},\n",
       "        {'confidence': 0.8,\n",
       "         'location': {'end': 14882, 'begin': 14879},\n",
       "         'text': 'one'},\n",
       "        {'confidence': 0.8,\n",
       "         'location': {'end': 21495, 'begin': 21492},\n",
       "         'text': 'one'},\n",
       "        {'confidence': 0.8,\n",
       "         'location': {'end': 22071, 'begin': 22068},\n",
       "         'text': 'one'}],\n",
       "       'text': 'one',\n",
       "       'type': 'Number'},\n",
       "      {'model_name': 'natural_language_understanding',\n",
       "       'mentions': [{'confidence': 0.8,\n",
       "         'location': {'end': 8933, 'begin': 8932},\n",
       "         'text': '6'}],\n",
       "       'text': '6',\n",
       "       'type': 'Number'},\n",
       "      {'model_name': 'natural_language_understanding',\n",
       "       'mentions': [{'confidence': 0.2416047,\n",
       "         'location': {'end': 9328, 'begin': 9311},\n",
       "         'text': 'more than 30 days'},\n",
       "        {'confidence': 0.24697386,\n",
       "         'location': {'end': 24578, 'begin': 24561},\n",
       "         'text': 'more than 30 days'}],\n",
       "       'text': 'more than 30 days',\n",
       "       'type': 'Duration'},\n",
       "      {'model_name': 'natural_language_understanding',\n",
       "       'mentions': [{'confidence': 0.8772316,\n",
       "         'location': {'end': 11075, 'begin': 11062},\n",
       "         'text': 'United States'},\n",
       "        {'confidence': 0.86818755,\n",
       "         'location': {'end': 23352, 'begin': 23339},\n",
       "         'text': 'United States'}],\n",
       "       'text': 'United States',\n",
       "       'type': 'Location'},\n",
       "      {'model_name': 'natural_language_understanding',\n",
       "       'mentions': [{'confidence': 0.40133965,\n",
       "         'location': {'end': 11223, 'begin': 11206},\n",
       "         'text': 'transplant centre'},\n",
       "        {'confidence': 0.40663165,\n",
       "         'location': {'end': 23499, 'begin': 23482},\n",
       "         'text': 'transplant centre'}],\n",
       "       'text': 'transplant centre',\n",
       "       'type': 'Facility'},\n",
       "      {'model_name': 'natural_language_understanding',\n",
       "       'mentions': [{'confidence': 0.8,\n",
       "         'location': {'end': 11436, 'begin': 11435},\n",
       "         'text': '7'}],\n",
       "       'text': '7',\n",
       "       'type': 'Number'},\n",
       "      {'model_name': 'natural_language_understanding',\n",
       "       'mentions': [{'confidence': 0.6614446,\n",
       "         'location': {'end': 12138, 'begin': 12113},\n",
       "         'text': 'Teladoc Medical ExpertsTM'}],\n",
       "       'text': 'Teladoc Medical ExpertsTM',\n",
       "       'type': 'Organization'},\n",
       "      {'model_name': 'natural_language_understanding',\n",
       "       'mentions': [{'confidence': 0.63451,\n",
       "         'location': {'end': 12554, 'begin': 12548},\n",
       "         'text': 'expert'}],\n",
       "       'text': 'expert',\n",
       "       'type': 'JobTitle'},\n",
       "      {'model_name': 'natural_language_understanding',\n",
       "       'mentions': [{'confidence': 0.52710795,\n",
       "         'location': {'end': 12748, 'begin': 12740},\n",
       "         'text': '4 months'}],\n",
       "       'text': '4 months',\n",
       "       'type': 'Duration'},\n",
       "      {'model_name': 'natural_language_understanding',\n",
       "       'mentions': [{'confidence': 0.16214982,\n",
       "         'location': {'end': 12825, 'begin': 12820},\n",
       "         'text': 'month'}],\n",
       "       'text': 'month',\n",
       "       'type': 'Duration'},\n",
       "      {'model_name': 'natural_language_understanding',\n",
       "       'mentions': [{'confidence': 0.35033888,\n",
       "         'location': {'end': 14000, 'begin': 13980},\n",
       "         'text': 'medical professional'}],\n",
       "       'text': 'medical professional',\n",
       "       'type': 'JobTitle'},\n",
       "      {'model_name': 'natural_language_understanding',\n",
       "       'mentions': [{'confidence': 0.55638397,\n",
       "         'location': {'end': 14151, 'begin': 14133},\n",
       "         'text': 'business associate'}],\n",
       "       'text': 'business associate',\n",
       "       'type': 'JobTitle'},\n",
       "      {'model_name': 'natural_language_understanding',\n",
       "       'mentions': [{'confidence': 0.8,\n",
       "         'location': {'end': 14557, 'begin': 14556},\n",
       "         'text': '8'}],\n",
       "       'text': '8',\n",
       "       'type': 'Number'},\n",
       "      {'model_name': 'natural_language_understanding',\n",
       "       'mentions': [{'confidence': 0.43117478,\n",
       "         'location': {'end': 16225, 'begin': 16212},\n",
       "         'text': '80 milligrams'}],\n",
       "       'text': '80 milligrams',\n",
       "       'type': 'Measure'},\n",
       "      {'model_name': 'natural_language_understanding',\n",
       "       'mentions': [{'confidence': 0.53960586,\n",
       "         'location': {'end': 16257, 'begin': 16241},\n",
       "         'text': '100 \\nmilliliters'}],\n",
       "       'text': '100 \\nmilliliters',\n",
       "       'type': 'Measure'},\n",
       "      {'model_name': 'natural_language_understanding',\n",
       "       'mentions': [{'confidence': 0.42510638,\n",
       "         'location': {'end': 16886, 'begin': 16857},\n",
       "         'text': 'licensed medical practitioner'}],\n",
       "       'text': 'licensed medical practitioner',\n",
       "       'type': 'JobTitle'},\n",
       "      {'model_name': 'natural_language_understanding',\n",
       "       'mentions': [{'confidence': 0.9372425,\n",
       "         'location': {'end': 17411, 'begin': 17407},\n",
       "         'text': '18th'}],\n",
       "       'text': '18th',\n",
       "       'type': 'Ordinal'},\n",
       "      {'model_name': 'natural_language_understanding',\n",
       "       'mentions': [{'confidence': 0.8,\n",
       "         'location': {'end': 17743, 'begin': 17742},\n",
       "         'text': '9'}],\n",
       "       'text': '9',\n",
       "       'type': 'Number'},\n",
       "      {'model_name': 'natural_language_understanding',\n",
       "       'mentions': [{'confidence': 0.8,\n",
       "         'location': {'end': 19908, 'begin': 19906},\n",
       "         'text': '10'}],\n",
       "       'text': '10',\n",
       "       'type': 'Number'},\n",
       "      {'model_name': 'natural_language_understanding',\n",
       "       'mentions': [{'confidence': 0.8,\n",
       "         'location': {'end': 22565, 'begin': 22563},\n",
       "         'text': '11'}],\n",
       "       'text': '11',\n",
       "       'type': 'Number'},\n",
       "      {'model_name': 'natural_language_understanding',\n",
       "       'mentions': [{'confidence': 0.09802818,\n",
       "         'location': {'end': 25146, 'begin': 25119},\n",
       "         'text': 'licensed Financial Services'}],\n",
       "       'text': 'licensed Financial Services',\n",
       "       'type': 'JobTitle'},\n",
       "      {'model_name': 'natural_language_understanding',\n",
       "       'mentions': [{'confidence': 0.69286585,\n",
       "         'location': {'end': 25158, 'begin': 25148},\n",
       "         'text': 'Consultant'}],\n",
       "       'text': 'Consultant',\n",
       "       'type': 'JobTitle'},\n",
       "      {'model_name': 'natural_language_understanding',\n",
       "       'mentions': [{'confidence': 0.8,\n",
       "         'location': {'end': 25176, 'begin': 25162},\n",
       "         'text': '1-844-528-0583'}],\n",
       "       'text': '1-844-528-0583',\n",
       "       'type': 'PhoneNumber'},\n",
       "      {'model_name': 'natural_language_understanding',\n",
       "       'mentions': [{'confidence': 0.9156328,\n",
       "         'location': {'end': 25183, 'begin': 25177},\n",
       "         'text': 'Monday'}],\n",
       "       'text': 'Monday',\n",
       "       'type': 'Date'},\n",
       "      {'model_name': 'natural_language_understanding',\n",
       "       'mentions': [{'confidence': 0.9258975,\n",
       "         'location': {'end': 25193, 'begin': 25187},\n",
       "         'text': 'Friday'}],\n",
       "       'text': 'Friday',\n",
       "       'type': 'Date'},\n",
       "      {'model_name': 'natural_language_understanding',\n",
       "       'mentions': [{'confidence': 0.20448877,\n",
       "         'location': {'end': 25222, 'begin': 25204},\n",
       "         'text': '8 a.m. – 8 p.m. ET'}],\n",
       "       'text': '8 a.m. – 8 p.m. ET',\n",
       "       'type': 'Time'},\n",
       "      {'model_name': 'natural_language_understanding',\n",
       "       'mentions': [{'confidence': 0.75897187,\n",
       "         'location': {'end': 25266, 'begin': 25239},\n",
       "         'text': 'Financial Security Advisors'}],\n",
       "       'text': 'Financial Security Advisors',\n",
       "       'type': 'JobTitle'},\n",
       "      {'model_name': 'natural_language_understanding',\n",
       "       'mentions': [{'confidence': 0.4046357,\n",
       "         'location': {'end': 25292, 'begin': 25274},\n",
       "         'text': 'province of Quebec'}],\n",
       "       'text': 'province of Quebec',\n",
       "       'type': 'Location'},\n",
       "      {'model_name': 'natural_language_understanding',\n",
       "       'mentions': [{'confidence': 0.41374037,\n",
       "         'location': {'end': 25299, 'begin': 25295},\n",
       "         'text': '2021'},\n",
       "        {'confidence': 0.7599577,\n",
       "         'location': {'end': 25530, 'begin': 25526},\n",
       "         'text': '2021'}],\n",
       "       'text': '2021',\n",
       "       'type': 'Date'},\n",
       "      {'model_name': 'natural_language_understanding',\n",
       "       'mentions': [{'confidence': 0.6090305,\n",
       "         'location': {'end': 25320, 'begin': 25300},\n",
       "         'text': 'Teladoc Health, Inc.'}],\n",
       "       'text': 'Teladoc Health, Inc.',\n",
       "       'type': 'Organization'},\n",
       "      {'model_name': 'natural_language_understanding',\n",
       "       'mentions': [{'confidence': 0.83596385,\n",
       "         'location': {'end': 25349, 'begin': 25342},\n",
       "         'text': 'Teladoc'},\n",
       "        {'confidence': 0.8757776,\n",
       "         'location': {'end': 25358, 'begin': 25351},\n",
       "         'text': 'Teladoc'},\n",
       "        {'confidence': 0.9184307,\n",
       "         'location': {'end': 25422, 'begin': 25415},\n",
       "         'text': 'Teladoc'}],\n",
       "       'text': 'Teladoc',\n",
       "       'type': 'Organization'},\n",
       "      {'model_name': 'natural_language_understanding',\n",
       "       'mentions': [{'confidence': 0.6330621,\n",
       "         'location': {'end': 25375, 'begin': 25360},\n",
       "         'text': 'Medical Experts'}],\n",
       "       'text': 'Medical Experts',\n",
       "       'type': 'JobTitle'},\n",
       "      {'model_name': 'natural_language_understanding',\n",
       "       'mentions': [{'confidence': 0.6562213,\n",
       "         'location': {'end': 25396, 'begin': 25384},\n",
       "         'text': 'Teladoc logo'}],\n",
       "       'text': 'Teladoc logo',\n",
       "       'type': 'Organization'},\n",
       "      {'model_name': 'natural_language_understanding',\n",
       "       'mentions': [{'confidence': 0.45299396,\n",
       "         'location': {'end': 25436, 'begin': 25424},\n",
       "         'text': 'Health, Inc.'}],\n",
       "       'text': 'Health, Inc.',\n",
       "       'type': 'Organization'},\n",
       "      {'model_name': 'natural_language_understanding',\n",
       "       'mentions': [{'confidence': 0.8,\n",
       "         'location': {'end': 25580, 'begin': 25576},\n",
       "         'text': '1221'}],\n",
       "       'text': '1221',\n",
       "       'type': 'Number'}]}],\n",
       "   'metadata': {'domain': 'health_insurance',\n",
       "    'parent_document_id': '04711489-3a1a-4cf9-a8b1-026003bdb83a'},\n",
       "   'extracted_metadata': {'sha1': '0FD6C29C4ADB3B9CC69C3B0F5D5746D0294CCB38',\n",
       "    'numPages': '12',\n",
       "    'filename': 'express-ci-guide-to-definitions.pdf',\n",
       "    'subject': 'This guide to critical illness definitions will help you understand the illnesses and procedures covered \\nby your Express Critical Illness (CI) Insurance policy. Each of the covered illnesses is defined and then explained to you. We have also outlined illness-specific exclusions and the survival periods required. Visit mysunlife.ca.\\r',\n",
       "    'file_type': 'pdf',\n",
       "    'title': 'Your guide to Express Critical Illness Insurance definitions | Sun Life',\n",
       "    'publicationdate': '2021-12-21'},\n",
       "   'text': ['Your guide to  \\nExpress Critical  \\nIllness Insurance \\ndefinitions\\nLife’s brighter under the sun\\nSun Life Assurance Company of Canada is the insurer  \\nand a member of the Sun Life group of companies\\nSUN LIFE GO\\n2  Your Guide to Express CI Insurance Definitions\\nYour Guide to EXPRESS Critical Illness  \\nInsurance Definitions \\nThis guide to critical illness definitions will help you understand the illnesses and procedures covered  \\nby your Express Critical Illness (CI) Insurance policy. Each of the covered illnesses is defined and then explained to \\nyou. We have also outlined illness-specific exclusions and the survival periods required.\\nThe diagnosis and treatment of any Covered critical illness must be made by a specialist who is licensed and \\npractising in Canada. A specialist is a licensed medical practitioner who has been trained in the specific area of \\nmedicine relevant to the Covered critical illnesses for which a benefit is being claimed, and who has been certified by \\na specialty examining board. In the absence or unavailability of a specialist a condition may be diagnosed by a \\nqualified medical practitioner practicing in Canada. \\nThis guide is for your reference only, and does not replace the policy. We will not pay for any illness, \\ndisorder or surgery not specifically defined under the policy/coverage. For Express Critical Illness Insurance, \\nthe complete terms, conditions, exclusions and limitations governing the Critical Illness Insurance coverage \\nare found in your policy issued by Sun Life Assurance Company of Canada, a member of the Sun Life \\nFinancial group of companies. \\nYour critical illness insurance policy:\\n• Defines illnesses you are insured for, and\\n• Includes the terms and conditions you will have to meet to receive the critical illness insurance benefit\\n• Includes a pre-existing condition provision and how it applies to the critical illness insurance benefit  \\n(if that benefit is applied for).*\\nPlease review the policy carefully. For a sample policy please visit www.sunlife.ca/ExpressCI or  \\ncall 1-877-893-9893.\\nIllnesses not specifically mentioned or not meeting the stated criteria are not covered. All illnesses must satisfy the \\ndescription in your policy. For an illness or condition to be covered, it must meet the illness description in your policy.\\nIf your policy ended because it lapsed, you may apply to have it put back into effect if the insured person is alive  \\nand has not had a covered critical illness or any signs or symptoms of a covered critical illness. This process is  \\ncalled reinstatement. \\nIf you want to put your policy back into effect, you must:\\n• Apply within 2 years of the date the policy ended,\\n• Give us new evidence of insurability that we consider satisfactory, and\\n• Make a payment equal to the reinstatement charge set by us.\\n*  No benefits are payable for any Covered critical illness that occurs within 12 months of the policy date set out on \\nthe Policy particulars page in your contract. And that resulted from any injury, sickness or medical condition \\n(whether diagnosed or not) for which, during the 12 months before the policy due date:\\n• the insured person had symptoms,\\n• the insured person consulted a physician or other health care practitioner and was provided any health-related \\ncare, advice or treatment, or\\n•  a reasonably prudent person has such injury, sickness or medical condition or symptoms(s) would have consulted \\na physician or other health care practitioner.\\nSUN LIFE GO\\nYour Guide to Express CI Insurance Definitions  3\\nCovered critical illnesses\\nBasic Plan Enhanced Plan Comfort Plan\\nIllnesses  \\ncovered\\n• Cancer • Cancer\\n• Heart attack\\n• Stroke\\n• Cancer\\n• Heart attack\\n• Stroke\\n• Coronary artery bypass surgery\\n• Aortic surgery\\n• Major organ transplant\\n• Major organ failure – on waiting list\\nAge  \\nrequirements\\n• 18-65 years old when \\nyou buy the policy\\n• 18-65 years old when \\nyou buy the policy\\n• 18-65 years old when you buy  \\nthe policy\\nCoverage  \\namount\\n• $25,000 • $25,000 • $50,000\\n• $5,000 (child benefits)\\nAdditional  \\nbenefits\\n• Rate guarantee for the first 5 years\\n• Inflation protection\\n• Teladoc Medical Experts* services \\n- At any point during the lifetime \\nof the policy you can access \\nTeladoc Medical Experts to get \\nanswers to any of your medical \\nquestions. In addition, if you get \\ncritically ill, you will be connected \\nwith a leading expert that will \\nreview your diagnosis and your \\ntreatment plan and provide you \\nwith recommendations for moving \\nforward.\\n• Add up to 5 children for $2.50  \\nper month to provide coverage  \\nof $5,000 per child\\nSUN LIFE GO\\n4  Your Guide to Express CI Insurance Definitions\\nCancer \\nCancer means a definite diagnosis of a tumour characterized by the uncontrolled growth and spread of malignant \\ncells and the invasion of tissue.\\nThe diagnosis of cancer must be made by a specialist. The insured person must survive for 30 days following the \\ndate of diagnosis.\\nExclusions\\nNo benefit is payable for a recurrence or metastasis of an original cancer which was diagnosed before the policy date.\\nNo benefit is payable under this condition for the following non-life threatening cancers:\\n• carcinoma in situ;  \\n• Stage 1A malignant melanoma (melanoma less than or equal to 1.0 mm in thickness, not ulcerated and without \\nClark level IV or level V invasion); \\n• any non-melanoma skin cancer that has not become metastasized; or,\\n• Stage A (T1a or T1b) prostate cancer.\\n90 day exclusion period for cancer:\\nNo benefit is payable for cancer and the insured person’s coverage for cancer will terminate if, within 90 days \\nfollowing the later of:\\n• the most recent date the application for this policy was signed;\\n• the policy date; or,\\n• the most recent date this policy was put back in effect (reinstatement), \\nthe insured person has any of the following:\\n• signs, symptoms or investigations, that lead to diagnosis of cancer (covered or excluded under this policy), \\nregardless of when the diagnosis is made, or\\n• a diagnosis of cancer (covered or excluded under this policy).\\nWhile the insured person’s coverage for cancer terminates, coverage for all other Covered critical illnesses  \\nremain in force.\\nYour responsibility to report cancer\\nYou must report to us, if within the first 90 days following the later of: \\n• the policy date, or  \\n• the most recent date this policy was put back into effect (reinstatement), \\nthe insured person has: \\n• signs, symptoms or investigations that lead to a diagnosis of cancer (covered or excluded under this policy), \\nregardless of when the diagnosis is made, or \\n• a diagnosis of cancer (covered or excluded under this policy). \\nSUN LIFE GO\\nYour Guide to Express CI Insurance Definitions  5\\nThe information described above must be reported to us within 6 months of the date of the diagnosis. \\nIf this information is not provided, we have the right to deny any claim for:  \\n• cancer, \\n• any critical illness caused by cancer, or  \\n• any critical illness caused by the treatment of cancer. \\nTo report the information, contact us at the toll-free phone number shown at the beginning of this policy for the \\nappropriate form. The report must be in writing. \\nWhen coverage for cancer ends \\nThe coverage for cancer will end and we will not make any payment if within the first 90 days following the later of: \\n• the policy date, or  \\n• the most recent date this policy was put back into effect (reinstatement), \\nthe insured person has: \\n• signs, symptoms or investigations that lead to a diagnosis of cancer (covered or excluded under this policy), \\nregardless of when the diagnosis is made, or  \\n• a diagnosis of cancer (covered or excluded under this policy). \\nCoverage for all other Covered critical illnesses will continue provided the insured person’s critical illness does not \\nresult directly or indirectly from any cancer or cancer treatment. \\nHeart attack\\nHeart attack means a definite diagnosis of the death of heart muscle due to obstruction of blood flow, that results in \\na rise and fall of biochemical cardiac markers to levels considered diagnostic of myocardial infarction, with at least \\none of the following:\\n• heart attack symptoms;\\n• new electrocardiogram (ECG) changes consistent with a heart attack; or,\\n• development of new Q waves during or immediately following an intra-arterial cardiac procedure including,  \\nbut not limited to, coronary angiography and coronary angioplasty.\\nThe diagnosis of heart attack must be made by a specialist. The insured person must survive for 30 days following \\nthe date of diagnosis.\\nExclusions\\nHeart attack does not include:\\n• elevated biochemical cardiac markers as a result of an intra-arterial cardiac procedure including, but not  \\nlimited to, coronary angiography and coronary angioplasty, in the absence of new Q waves; or,\\n• ECG changes suggesting a prior myocardial infarction, which do not meet the heart attack definition as  \\ndescribed above.\\nSUN LIFE GO\\n6  Your Guide to Express CI Insurance Definitions\\nStroke\\nStroke (cerebrovascular accident) means a definite diagnosis of an acute cerebrovascular event caused  \\nby intra-cranial thrombosis or haemorrhage, or embolism from an extra-cranial source, with:\\n• acute onset of new neurological symptoms; and\\n• new objective neurological deficits on clinical examination, persisting for more than 30 days following the  \\ndate of diagnosis. \\nThese new symptoms and deficits must be corroborated by diagnostic imaging testing.\\nThe diagnosis of stroke must be made by a specialist. The insured person must survive for 30 days following the date \\nof the diagnosis.\\nExclusions\\nNo benefit is payable under this condition for:\\n• transient ischaemic attacks;\\n• intracerebral vascular events due to trauma; or,\\n• lacunar infarcts which do not meet the definition of stroke as described above.\\nAortic surgery\\nAortic surgery means the undergoing of surgery for disease of the aorta requiring excision and surgical replacement \\nof the diseased aorta with a graft. Aorta refers to the thoracic and abdominal aorta but not its branches.\\nThe surgery must be determined to be medically necessary by a specialist. The insured person must survive for  \\n30 days following the date of surgery.\\nCoronary artery bypass surgery\\nCoronary artery bypass surgery means the undergoing of heart surgery to correct narrowing or blockage of one or \\nmore coronary arteries with bypass graft(s), excluding any non-surgical or trans-catheter techniques such as balloon \\nangioplasty or laser relief of an obstruction. \\nThe surgery must be determined to be medically necessary by a specialist. The insured person must survive for  \\n30 days following the date of surgery.\\nMajor organ failure on waiting list\\nMajor organ failure on waiting list means a definite diagnosis of the irreversible failure of the heart, both lungs, liver, \\nboth kidneys or bone marrow, and transplantation must be medically necessary. To qualify under major organ failure \\non waiting list, the insured person must become enrolled as the recipient in a recognized transplant centre in Canada \\nor the United States that performs the required form of transplant surgery.\\nThe date of diagnosis is the date of the insured person’s enrolment in the transplant centre. \\nThe diagnosis of the major organ failure must be made by a specialist. The insured person must survive for 30 days \\nfollowing the date of diagnosis.\\nSUN LIFE GO\\nYour Guide to Express CI Insurance Definitions  7\\nMajor organ transplant \\nMajor organ transplant means a definite diagnosis of the irreversible failure of the heart, both lungs, liver, both \\nkidneys or bone marrow, and transplantation must be medically necessary. To qualify under major organ transplant, \\nthe insured person must undergo a transplantation procedure as the recipient for transplantation of a heart, lung, \\nliver, kidney or bone marrow, and limited to these entities.\\nThe diagnosis of the major organ failure must be made by a specialist. The insured person must survive  \\nfor 30 days following the date of their transplant.\\nAdditional Benefits \\n• rate guarantee for the first 5 years,\\n• inflation protection\\n• Teladoc Medical ExpertsTM services – A valuable service available to you, your spouse, dependent children, \\nparents and parents-in-law at any point during the lifetime of the policy.  You can access Teladoc Medical \\nExperts to get answers to any of your medical questions (they do not need to be questions relating to an illness \\ncovered under this policy). In addition, if you get critically ill, you will be connected with a leading expert that \\nwill review your diagnosis and your treatment plan and provide you with recommendations for moving forward. \\nWhat’s more, you can still use Teladoc Medical Experts services up to 4 months from the time your claim is paid.\\n• add up to 5 children for $2.50 per month to provide coverage of $5,000 per child\\nChild critical illness insurance benefit\\nThis additional benefit covers only the critical illnesses and benefit payment described in the Child critical illness \\ninsurance benefit. Additional illnesses or procedures that are not specifically mentioned are not covered. To qualify for \\nthe Child critical illness insurance benefit, all requirements for the Child covered critical illnesses must be satisfied \\nwhile this policy is in effect.\\nThe diagnosis and treatment of any covered critical illnesses must be made by a specialist who is licensed and \\npracticing in Canada. A specialist is a licensed medical practitioner who has been trained in the specific area of \\nmedicine relevant to the Child covered critical illnesses for which a benefit is being claimed, and who has been \\ncertified by a specialty examining board. In the absence or unavailability of a specialist, a condition may be diagnosed \\nby a qualified medical practitioner practicing in Canada.\\nThe diagnosis, treatment, tests or examinations performed to satisfy the Child covered critical illnesses definition may \\nnot be done by a specialist or medical professional who is:\\n• the owner, \\n• any insured child under this policy,\\n• anyone entitled to make a claim under this policy,\\n• any relative or business associate of these people, or\\n• any person who normally resides in the insured child’s household.\\nEach covered critical illness describes a survival period. The insured child must be alive at the end of the  \\nsurvival period.\\nThe insured child for this benefit, the policy date and the amount of the Child covered critical illnesses benefit  \\nare shown on the Policy particulars page in your contract.\\nSUN LIFE GO\\n8  Your Guide to Express CI Insurance Definitions\\nWe make a payment if the insured child has a Child covered critical illness as defined earlier in this policy.  \\nThe beneficiary is you or your estate, unless you make a change in writing to us.\\nIf the insured child qualifies for a Child covered critical illness we make a one-time payment. The amount we pay is:\\n• the Child critical illness insurance benefit amount at the time the benefit is payable,\\n• minus any unpaid premiums plus interest at the time the benefit is payable.\\nIf payment is made on an insured child, the coverage ends for that child on the date we make the payment.\\nPre-existing condition provision \\nNo benefits are payable for any Covered critical illness that occurs within 12 months of the policy date set out on the \\nPolicy particulars page in your contract, and that resulted from any injury, sickness or medical condition (whether \\ndiagnosed or not) for which, during the 12 months before the policy date:\\n• the insured child had symptoms,\\n• the insured child consulted a physician or other health care practitioner and was provided any health-related \\ncare, advice or treatment, or\\n• a reasonably prudent person whose child has such injury, sickness or medical condition or symptom(s) would \\nhave consulted a physician or other health care practitioner.\\nWhen we will not make a payment under the Critical illness insurance benefit \\n(exclusions and reductions of coverage)\\nWe will not make any payment if the Child covered critical illness is directly or indirectly caused by or associated with \\nthe insured child operating a vehicle while their blood alcohol level is more than 80 milligrams of alcohol per 100 \\nmilliliters of blood. A vehicle includes any form of ground, air or marine transportation that can be put into motion by \\nany means, including muscular power. We do not take into account whether or not the vehicle is in motion.\\nWe will not make any payment if the Child covered critical illness is directly or indirectly caused by or associated with \\nthe insured child:\\n• committing or attempting to commit a criminal offence\\n• taking or attempting to take their own life, while sane or insane\\n• causing themself bodily injury, while sane or insane\\n• intentionally taking any drug other than as prescribed by a licensed medical practitioner and in accordance with \\nthe instructions given\\n• intentionally taking any intoxicant, narcotic or poisonous substance. This does not include smoking cigarettes, \\ncigarillos, cigars or occasional use of alcohol.\\nWe will not make any payment if the Child covered critical illness is directly or indirectly caused by or associated with \\ncivil disorder or war, whether declared or not.\\nWhen this benefit ends\\nFor an insured child, this benefit automatically ends on the earliest of:\\n• the policy anniversary following their 18th birthday, or\\n• upon payout of their benefit amount, or\\n• their death, or\\n• the date this benefit ends, shown on the Policy particulars page in your contract, or\\n• the date your policy ends.\\nThere is no benefit payable under this benefit after the date your policy ends.\\nSUN LIFE GO\\nYour Guide to Express CI Insurance Definitions  9\\nChild covered critical illnesses \\nAortic surgery\\nAortic surgery means the undergoing of surgery for disease of the aorta requiring excision and surgical replacement \\nof the diseased aorta with a graft. Aorta refers to the thoracic and abdominal aorta but not its branches.\\nThe surgery must be determined to be medically necessary by a specialist. The insured child must survive for 30 days \\nfollowing the date of surgery.\\nCancer\\nCancer means a definite diagnosis of a tumour characterized by the uncontrolled growth and spread of malignant \\ncells and the invasion of tissue.\\nThe diagnosis of cancer must be made by a specialist. The insured child must survive for 30 days following the date \\nof diagnosis.\\nExclusions\\nNo benefit is payable for a recurrence or metastasis of an original cancer which was diagnosed before the policy date.\\nNo benefit is payable under this condition for the following non-life threatening cancers:\\n• carcinoma in situ; \\n• Stage 1A malignant melanoma (melanoma less than or equal to 1.0 mm in thickness, not ulcerated and without \\nClark level IV or level V invasion); \\n• any non-melanoma skin cancer that has not become metastasized; or,\\n• Stage A (T1a or T1b) prostate cancer.\\n90 day exclusion period for cancer:\\nNo benefit is payable for cancer and the insured child’s coverage for cancer will terminate if, within 90 days following \\nthe later of:\\n• the most recent date the application for this policy was signed;\\n• the policy date; or,\\n• the most recent date this policy was put back in effect (reinstatement),\\nthe insured child has any of the following:\\n• signs, symptoms or investigations, that lead to diagnosis of cancer (covered or excluded under this policy), \\nregardless of when the diagnosis is made, or\\n• a diagnosis of cancer (covered or excluded under this policy).\\nWhile the insured child’s coverage for cancer terminates, coverage for all other Covered critical illnesses  \\nremain in force.\\nYour responsibility to report cancer\\nYou must report to us, if within the first 90 days following the later of: \\n• the policy date, or \\n• the most recent date this policy was put back into effect (reinstatement), \\nSUN LIFE GO\\n10  Your Guide to Express CI Insurance Definitions\\nthe insured child has: \\n• signs, symptoms or investigations that lead to a diagnosis of cancer (covered or excluded under this policy), \\nregardless of when the diagnosis is made, or \\n• a diagnosis of cancer (covered or excluded under this policy). \\nThe information described above must be reported to us within 6 months of the date of the diagnosis.  \\nIf this information is not provided, we have the right to deny any claim for: \\n• cancer, \\n• any critical illness caused by cancer, or \\n• any critical illness caused by the treatment of cancer. \\nTo report the information, contact us at the toll-free phone number shown at the beginning of this policy for the \\nappropriate form. The report must be in writing. \\nWhen coverage for cancer ends \\nThe coverage for cancer will end and we will not make any payment if within the first 90 days following the later of: \\n• the policy date, or \\n• the most recent date this policy was put back into effect (reinstatement), \\nthe insured child has: \\n• signs, symptoms or investigations that lead to a diagnosis of cancer (covered or excluded under this policy), \\nregardless of when the diagnosis is made, or \\n• a diagnosis of cancer (covered or excluded under this policy). \\nCoverage for all other Covered critical illnesses will continue provided the insured child’s critical illness does not result \\ndirectly or indirectly from any cancer or cancer treatment. \\nCoronary artery bypass surgery\\nCoronary artery bypass surgery means the undergoing of heart surgery to correct narrowing or blockage of one or \\nmore coronary arteries with bypass graft(s), excluding any non-surgical or trans-catheter techniques such as balloon \\nangioplasty or laser relief of an obstruction. \\nThe surgery must be determined to be medically necessary by a specialist. The insured child must survive for 30 days \\nfollowing the date of surgery.\\nHeart attack\\nHeart attack means a definite diagnosis of the death of heart muscle due to obstruction of blood flow, that results in \\na rise and fall of biochemical cardiac markers to levels considered diagnostic of myocardial infarction, with at least \\none of the following:\\n• heart attack symptoms;\\n• new electrocardiogram (ECG) changes consistent with a heart attack; or,\\n• development of new Q waves during or immediately following an intra-arterial cardiac procedure including,  \\nbut not limited to, coronary angiography and coronary angioplasty.\\nThe diagnosis of heart attack must be made by a specialist. The insured child must survive for 30 days following the \\ndate of diagnosis.\\nSUN LIFE GO\\nYour Guide to Express CI Insurance Definitions  11\\nExclusions\\nHeart attack does not include:\\n• elevated biochemical cardiac markers as a result of an intra-arterial cardiac procedure including, but not  \\nlimited to, coronary angiography and coronary angioplasty, in the absence of new Q waves; or,\\n• ECG changes suggesting a prior myocardial infarction, which do not meet the heart attack definition  \\nas described above.\\nMajor organ failure on waiting list\\nMajor organ failure on waiting list means a definite diagnosis of the irreversible failure of the heart, both lungs, liver, \\nboth kidneys or bone marrow, and transplantation must be medically necessary. To qualify under major organ failure \\non waiting list, the insured child must become enrolled as the recipient in a recognized transplant centre in Canada or \\nthe United States that performs the required form of transplant surgery.\\nThe date of diagnosis is the date of the insured child’s enrolment in the transplant centre. \\nThe diagnosis of the major organ failure must be made by a specialist. The insured child must survive for 30 days \\nfollowing the date of diagnosis.\\nMajor organ transplant \\nMajor organ transplant means a definite diagnosis of the irreversible failure of the heart, both lungs, liver, both \\nkidneys or bone marrow, and transplantation must be medically necessary. To qualify under major organ transplant, \\nthe insured child must undergo a transplantation procedure as the recipient for transplantation of a heart, lung, liver, \\nkidney or bone marrow, and limited to these entities.\\nThe diagnosis of the major organ failure must be made by a specialist. The insured child must survive for  \\n30 days following the date of their transplant.\\nStroke (cerebrovascular accident) means a definite diagnosis of an acute cerebrovascular event caused by  \\nintra-cranial thrombosis or haemorrhage, or embolism from an extra-cranial source, with:\\n• acute onset of new neurological symptoms; and\\n• new objective neurological deficits on clinical examination, \\npersisting for more than 30 days following the date of diagnosis. \\nThese new symptoms and deficits must be corroborated by diagnostic imaging testing.\\nThe diagnosis of stroke must be made by a specialist. The insured person must survive for 30 days following the  \\ndate of the diagnosis.\\nExclusions\\nNo benefit is payable under this condition for:\\n• transient ischaemic attacks;\\n• intracerebral vascular events due to trauma; or,\\n• lacunar infarcts which do not meet the definition of stroke as described above.\\nQuestions? We are here to help\\nCall toll-free to speak with a licensed Financial Services \\nConsultant*at 1-844-528-0583 Monday to Friday  \\nbetween 8 a.m. – 8 p.m. ET.\\n*Identified as Financial Security Advisors in the province of Quebec.\\n©2021 Teladoc Health, Inc. All rights reserved. Teladoc, Teladoc \\nMedical Experts and the Teladoc logo are trademarks of Teladoc \\nHealth, Inc., and may not be used without written permission.\\n© Sun Life Assurance Company of Canada, 2021. \\nra-expressci-guidetodefinitions-brochure-e-1221\\n'],\n",
       "   'document_passages': [{'passage_text': 'physician or other <em>health</em> care practitioner.\\nWhen we will not make a payment under the Critical <em>illness</em> insurance benefit \\n(exclusions and reductions of <em>coverage</em>)\\nWe will not make any payment if the Child',\n",
       "     'start_offset': 15843,\n",
       "     'end_offset': 16047,\n",
       "     'field': 'text'}],\n",
       "   'table_results_references': []}],\n",
       " 'table_results': []}"
      ]
     },
     "execution_count": 190,
     "metadata": {},
     "output_type": "execute_result"
    }
   ],
   "source": [
    "response"
   ]
  },
  {
   "cell_type": "code",
   "execution_count": null,
   "id": "d2ef26e8-add6-484d-8a0f-27ce13fc5ff2",
   "metadata": {},
   "outputs": [],
   "source": []
  },
  {
   "cell_type": "code",
   "execution_count": 58,
   "id": "0ba24f80-35fc-4aea-ba87-1edc071964ab",
   "metadata": {},
   "outputs": [
    {
     "name": "stdout",
     "output_type": "stream",
     "text": [
      "Question No = 1\n",
      "Question = What are the list of illnesses and the exclusions from a critical illness cover?\n"
     ]
    },
    {
     "name": "stderr",
     "output_type": "stream",
     "text": [
      "/Users/hema/opt/anaconda3/envs/DND/lib/python3.10/site-packages/urllib3/connectionpool.py:1099: InsecureRequestWarning: Unverified HTTPS request is being made to host 'api.us-south.discovery.watson.cloud.ibm.com'. Adding certificate verification is strongly advised. See: https://urllib3.readthedocs.io/en/latest/advanced-usage.html#tls-warnings\n",
      "  warnings.warn(\n"
     ]
    },
    {
     "name": "stdout",
     "output_type": "stream",
     "text": [
      "==========================================================\n",
      "\n",
      "Question No = 2\n",
      "Question = What are the 34 illnesses covered under the plan?\n"
     ]
    },
    {
     "name": "stderr",
     "output_type": "stream",
     "text": [
      "/Users/hema/opt/anaconda3/envs/DND/lib/python3.10/site-packages/urllib3/connectionpool.py:1099: InsecureRequestWarning: Unverified HTTPS request is being made to host 'api.us-south.discovery.watson.cloud.ibm.com'. Adding certificate verification is strongly advised. See: https://urllib3.readthedocs.io/en/latest/advanced-usage.html#tls-warnings\n",
      "  warnings.warn(\n"
     ]
    },
    {
     "name": "stdout",
     "output_type": "stream",
     "text": [
      "==========================================================\n",
      "\n",
      "Question No = 3\n",
      "Question = Do you cover angioplasty and other heart related disease?\n"
     ]
    },
    {
     "name": "stderr",
     "output_type": "stream",
     "text": [
      "/Users/hema/opt/anaconda3/envs/DND/lib/python3.10/site-packages/urllib3/connectionpool.py:1099: InsecureRequestWarning: Unverified HTTPS request is being made to host 'api.us-south.discovery.watson.cloud.ibm.com'. Adding certificate verification is strongly advised. See: https://urllib3.readthedocs.io/en/latest/advanced-usage.html#tls-warnings\n",
      "  warnings.warn(\n"
     ]
    },
    {
     "name": "stdout",
     "output_type": "stream",
     "text": [
      "==========================================================\n",
      "\n",
      "Question No = 4\n",
      "Question = Is cancer treatment covered in the plan?\n"
     ]
    },
    {
     "name": "stderr",
     "output_type": "stream",
     "text": [
      "/Users/hema/opt/anaconda3/envs/DND/lib/python3.10/site-packages/urllib3/connectionpool.py:1099: InsecureRequestWarning: Unverified HTTPS request is being made to host 'api.us-south.discovery.watson.cloud.ibm.com'. Adding certificate verification is strongly advised. See: https://urllib3.readthedocs.io/en/latest/advanced-usage.html#tls-warnings\n",
      "  warnings.warn(\n"
     ]
    },
    {
     "name": "stdout",
     "output_type": "stream",
     "text": [
      "==========================================================\n",
      "\n",
      "Question No = 5\n",
      "Question = What all surgeries are covered in the plan\n"
     ]
    },
    {
     "name": "stderr",
     "output_type": "stream",
     "text": [
      "/Users/hema/opt/anaconda3/envs/DND/lib/python3.10/site-packages/urllib3/connectionpool.py:1099: InsecureRequestWarning: Unverified HTTPS request is being made to host 'api.us-south.discovery.watson.cloud.ibm.com'. Adding certificate verification is strongly advised. See: https://urllib3.readthedocs.io/en/latest/advanced-usage.html#tls-warnings\n",
      "  warnings.warn(\n"
     ]
    },
    {
     "name": "stdout",
     "output_type": "stream",
     "text": [
      "==========================================================\n",
      "\n",
      "Question No = 6\n",
      "Question = What surgeries are covered under this product?\n"
     ]
    },
    {
     "name": "stderr",
     "output_type": "stream",
     "text": [
      "/Users/hema/opt/anaconda3/envs/DND/lib/python3.10/site-packages/urllib3/connectionpool.py:1099: InsecureRequestWarning: Unverified HTTPS request is being made to host 'api.us-south.discovery.watson.cloud.ibm.com'. Adding certificate verification is strongly advised. See: https://urllib3.readthedocs.io/en/latest/advanced-usage.html#tls-warnings\n",
      "  warnings.warn(\n"
     ]
    },
    {
     "name": "stdout",
     "output_type": "stream",
     "text": [
      "==========================================================\n",
      "\n",
      "Question No = 7\n",
      "Question = Please list illnesses covered under this product?\n"
     ]
    },
    {
     "name": "stderr",
     "output_type": "stream",
     "text": [
      "/Users/hema/opt/anaconda3/envs/DND/lib/python3.10/site-packages/urllib3/connectionpool.py:1099: InsecureRequestWarning: Unverified HTTPS request is being made to host 'api.us-south.discovery.watson.cloud.ibm.com'. Adding certificate verification is strongly advised. See: https://urllib3.readthedocs.io/en/latest/advanced-usage.html#tls-warnings\n",
      "  warnings.warn(\n"
     ]
    },
    {
     "name": "stdout",
     "output_type": "stream",
     "text": [
      "==========================================================\n",
      "\n",
      "Question No = 8\n",
      "Question = What are the list of exclusions from the illnesses covered?\n"
     ]
    },
    {
     "name": "stderr",
     "output_type": "stream",
     "text": [
      "/Users/hema/opt/anaconda3/envs/DND/lib/python3.10/site-packages/urllib3/connectionpool.py:1099: InsecureRequestWarning: Unverified HTTPS request is being made to host 'api.us-south.discovery.watson.cloud.ibm.com'. Adding certificate verification is strongly advised. See: https://urllib3.readthedocs.io/en/latest/advanced-usage.html#tls-warnings\n",
      "  warnings.warn(\n"
     ]
    },
    {
     "name": "stdout",
     "output_type": "stream",
     "text": [
      "==========================================================\n",
      "\n",
      "Question No = 9\n",
      "Question = What is not covered in the list of illenesses\n"
     ]
    },
    {
     "name": "stderr",
     "output_type": "stream",
     "text": [
      "/Users/hema/opt/anaconda3/envs/DND/lib/python3.10/site-packages/urllib3/connectionpool.py:1099: InsecureRequestWarning: Unverified HTTPS request is being made to host 'api.us-south.discovery.watson.cloud.ibm.com'. Adding certificate verification is strongly advised. See: https://urllib3.readthedocs.io/en/latest/advanced-usage.html#tls-warnings\n",
      "  warnings.warn(\n"
     ]
    },
    {
     "name": "stdout",
     "output_type": "stream",
     "text": [
      "==========================================================\n",
      "\n",
      "Question No = 10\n",
      "Question = What are the exclusions in the plan?\n"
     ]
    },
    {
     "name": "stderr",
     "output_type": "stream",
     "text": [
      "/Users/hema/opt/anaconda3/envs/DND/lib/python3.10/site-packages/urllib3/connectionpool.py:1099: InsecureRequestWarning: Unverified HTTPS request is being made to host 'api.us-south.discovery.watson.cloud.ibm.com'. Adding certificate verification is strongly advised. See: https://urllib3.readthedocs.io/en/latest/advanced-usage.html#tls-warnings\n",
      "  warnings.warn(\n"
     ]
    },
    {
     "name": "stdout",
     "output_type": "stream",
     "text": [
      "==========================================================\n",
      "\n",
      "Question No = 11\n",
      "Question = What are product exclusions?\n"
     ]
    },
    {
     "name": "stderr",
     "output_type": "stream",
     "text": [
      "/Users/hema/opt/anaconda3/envs/DND/lib/python3.10/site-packages/urllib3/connectionpool.py:1099: InsecureRequestWarning: Unverified HTTPS request is being made to host 'api.us-south.discovery.watson.cloud.ibm.com'. Adding certificate verification is strongly advised. See: https://urllib3.readthedocs.io/en/latest/advanced-usage.html#tls-warnings\n",
      "  warnings.warn(\n"
     ]
    },
    {
     "name": "stdout",
     "output_type": "stream",
     "text": [
      "==========================================================\n",
      "\n",
      "Question No = 12\n",
      "Question = What is excluded from the cover?\n"
     ]
    },
    {
     "name": "stderr",
     "output_type": "stream",
     "text": [
      "/Users/hema/opt/anaconda3/envs/DND/lib/python3.10/site-packages/urllib3/connectionpool.py:1099: InsecureRequestWarning: Unverified HTTPS request is being made to host 'api.us-south.discovery.watson.cloud.ibm.com'. Adding certificate verification is strongly advised. See: https://urllib3.readthedocs.io/en/latest/advanced-usage.html#tls-warnings\n",
      "  warnings.warn(\n"
     ]
    },
    {
     "name": "stdout",
     "output_type": "stream",
     "text": [
      "==========================================================\n",
      "\n",
      "Question No = 13\n",
      "Question = What do you mean by exclusion?\n"
     ]
    },
    {
     "name": "stderr",
     "output_type": "stream",
     "text": [
      "/Users/hema/opt/anaconda3/envs/DND/lib/python3.10/site-packages/urllib3/connectionpool.py:1099: InsecureRequestWarning: Unverified HTTPS request is being made to host 'api.us-south.discovery.watson.cloud.ibm.com'. Adding certificate verification is strongly advised. See: https://urllib3.readthedocs.io/en/latest/advanced-usage.html#tls-warnings\n",
      "  warnings.warn(\n"
     ]
    },
    {
     "name": "stdout",
     "output_type": "stream",
     "text": [
      "==========================================================\n",
      "\n",
      "Question No = 14\n",
      "Question = Can my premium reduce over time and how?\n"
     ]
    },
    {
     "name": "stderr",
     "output_type": "stream",
     "text": [
      "/Users/hema/opt/anaconda3/envs/DND/lib/python3.10/site-packages/urllib3/connectionpool.py:1099: InsecureRequestWarning: Unverified HTTPS request is being made to host 'api.us-south.discovery.watson.cloud.ibm.com'. Adding certificate verification is strongly advised. See: https://urllib3.readthedocs.io/en/latest/advanced-usage.html#tls-warnings\n",
      "  warnings.warn(\n"
     ]
    },
    {
     "name": "stdout",
     "output_type": "stream",
     "text": [
      "==========================================================\n",
      "\n",
      "Question No = 15\n",
      "Question = Is there any no claims benefit under this product?\n"
     ]
    },
    {
     "name": "stderr",
     "output_type": "stream",
     "text": [
      "/Users/hema/opt/anaconda3/envs/DND/lib/python3.10/site-packages/urllib3/connectionpool.py:1099: InsecureRequestWarning: Unverified HTTPS request is being made to host 'api.us-south.discovery.watson.cloud.ibm.com'. Adding certificate verification is strongly advised. See: https://urllib3.readthedocs.io/en/latest/advanced-usage.html#tls-warnings\n",
      "  warnings.warn(\n"
     ]
    },
    {
     "name": "stdout",
     "output_type": "stream",
     "text": [
      "==========================================================\n",
      "\n",
      "Question No = 16\n",
      "Question = Do I get no claims benefit?\n"
     ]
    },
    {
     "name": "stderr",
     "output_type": "stream",
     "text": [
      "/Users/hema/opt/anaconda3/envs/DND/lib/python3.10/site-packages/urllib3/connectionpool.py:1099: InsecureRequestWarning: Unverified HTTPS request is being made to host 'api.us-south.discovery.watson.cloud.ibm.com'. Adding certificate verification is strongly advised. See: https://urllib3.readthedocs.io/en/latest/advanced-usage.html#tls-warnings\n",
      "  warnings.warn(\n"
     ]
    },
    {
     "name": "stdout",
     "output_type": "stream",
     "text": [
      "==========================================================\n",
      "\n",
      "Question No = 17\n",
      "Question = Am I eligible for no claim benefit?\n"
     ]
    },
    {
     "name": "stderr",
     "output_type": "stream",
     "text": [
      "/Users/hema/opt/anaconda3/envs/DND/lib/python3.10/site-packages/urllib3/connectionpool.py:1099: InsecureRequestWarning: Unverified HTTPS request is being made to host 'api.us-south.discovery.watson.cloud.ibm.com'. Adding certificate verification is strongly advised. See: https://urllib3.readthedocs.io/en/latest/advanced-usage.html#tls-warnings\n",
      "  warnings.warn(\n"
     ]
    },
    {
     "name": "stdout",
     "output_type": "stream",
     "text": [
      "==========================================================\n",
      "\n",
      "Question No = 18\n",
      "Question = Do I get 80D tax benefits on premiums paid for Critical Illness cover?\n"
     ]
    },
    {
     "name": "stderr",
     "output_type": "stream",
     "text": [
      "/Users/hema/opt/anaconda3/envs/DND/lib/python3.10/site-packages/urllib3/connectionpool.py:1099: InsecureRequestWarning: Unverified HTTPS request is being made to host 'api.us-south.discovery.watson.cloud.ibm.com'. Adding certificate verification is strongly advised. See: https://urllib3.readthedocs.io/en/latest/advanced-usage.html#tls-warnings\n",
      "  warnings.warn(\n"
     ]
    },
    {
     "name": "stdout",
     "output_type": "stream",
     "text": [
      "==========================================================\n",
      "\n",
      "Question No = 19\n",
      "Question = Do I get tax benefit for this cover?\n"
     ]
    },
    {
     "name": "stderr",
     "output_type": "stream",
     "text": [
      "/Users/hema/opt/anaconda3/envs/DND/lib/python3.10/site-packages/urllib3/connectionpool.py:1099: InsecureRequestWarning: Unverified HTTPS request is being made to host 'api.us-south.discovery.watson.cloud.ibm.com'. Adding certificate verification is strongly advised. See: https://urllib3.readthedocs.io/en/latest/advanced-usage.html#tls-warnings\n",
      "  warnings.warn(\n"
     ]
    },
    {
     "name": "stdout",
     "output_type": "stream",
     "text": [
      "==========================================================\n",
      "\n",
      "Question No = 20\n",
      "Question = What kind of tax benefit do it get for CI cover?\n"
     ]
    },
    {
     "name": "stderr",
     "output_type": "stream",
     "text": [
      "/Users/hema/opt/anaconda3/envs/DND/lib/python3.10/site-packages/urllib3/connectionpool.py:1099: InsecureRequestWarning: Unverified HTTPS request is being made to host 'api.us-south.discovery.watson.cloud.ibm.com'. Adding certificate verification is strongly advised. See: https://urllib3.readthedocs.io/en/latest/advanced-usage.html#tls-warnings\n",
      "  warnings.warn(\n"
     ]
    },
    {
     "name": "stdout",
     "output_type": "stream",
     "text": [
      "==========================================================\n",
      "\n",
      "Question No = 21\n",
      "Question = Will I be eligible for tax benefit if I take this cover?\n"
     ]
    },
    {
     "name": "stderr",
     "output_type": "stream",
     "text": [
      "/Users/hema/opt/anaconda3/envs/DND/lib/python3.10/site-packages/urllib3/connectionpool.py:1099: InsecureRequestWarning: Unverified HTTPS request is being made to host 'api.us-south.discovery.watson.cloud.ibm.com'. Adding certificate verification is strongly advised. See: https://urllib3.readthedocs.io/en/latest/advanced-usage.html#tls-warnings\n",
      "  warnings.warn(\n"
     ]
    },
    {
     "name": "stdout",
     "output_type": "stream",
     "text": [
      "==========================================================\n",
      "\n",
      "Question No = 22\n",
      "Question = Does Critical illness cover comes with tax benefits?\n"
     ]
    },
    {
     "name": "stderr",
     "output_type": "stream",
     "text": [
      "/Users/hema/opt/anaconda3/envs/DND/lib/python3.10/site-packages/urllib3/connectionpool.py:1099: InsecureRequestWarning: Unverified HTTPS request is being made to host 'api.us-south.discovery.watson.cloud.ibm.com'. Adding certificate verification is strongly advised. See: https://urllib3.readthedocs.io/en/latest/advanced-usage.html#tls-warnings\n",
      "  warnings.warn(\n"
     ]
    },
    {
     "name": "stdout",
     "output_type": "stream",
     "text": [
      "==========================================================\n",
      "\n",
      "Question No = 23\n",
      "Question = What kind of tax benefits will I get if I buy critical illness cover?\n"
     ]
    },
    {
     "name": "stderr",
     "output_type": "stream",
     "text": [
      "/Users/hema/opt/anaconda3/envs/DND/lib/python3.10/site-packages/urllib3/connectionpool.py:1099: InsecureRequestWarning: Unverified HTTPS request is being made to host 'api.us-south.discovery.watson.cloud.ibm.com'. Adding certificate verification is strongly advised. See: https://urllib3.readthedocs.io/en/latest/advanced-usage.html#tls-warnings\n",
      "  warnings.warn(\n"
     ]
    },
    {
     "name": "stdout",
     "output_type": "stream",
     "text": [
      "==========================================================\n",
      "\n",
      "Question No = 24\n",
      "Question = What are the tax benefit limits under CI cover?\n"
     ]
    },
    {
     "name": "stderr",
     "output_type": "stream",
     "text": [
      "/Users/hema/opt/anaconda3/envs/DND/lib/python3.10/site-packages/urllib3/connectionpool.py:1099: InsecureRequestWarning: Unverified HTTPS request is being made to host 'api.us-south.discovery.watson.cloud.ibm.com'. Adding certificate verification is strongly advised. See: https://urllib3.readthedocs.io/en/latest/advanced-usage.html#tls-warnings\n",
      "  warnings.warn(\n"
     ]
    },
    {
     "name": "stdout",
     "output_type": "stream",
     "text": [
      "==========================================================\n",
      "\n",
      "Question No = 25\n",
      "Question = What is the maximum eligibility for tax benefit under critical illness cover?\n"
     ]
    },
    {
     "name": "stderr",
     "output_type": "stream",
     "text": [
      "/Users/hema/opt/anaconda3/envs/DND/lib/python3.10/site-packages/urllib3/connectionpool.py:1099: InsecureRequestWarning: Unverified HTTPS request is being made to host 'api.us-south.discovery.watson.cloud.ibm.com'. Adding certificate verification is strongly advised. See: https://urllib3.readthedocs.io/en/latest/advanced-usage.html#tls-warnings\n",
      "  warnings.warn(\n"
     ]
    },
    {
     "name": "stdout",
     "output_type": "stream",
     "text": [
      "==========================================================\n",
      "\n",
      "Question No = 26\n",
      "Question = How much critical illness cover should I take?\n"
     ]
    },
    {
     "name": "stderr",
     "output_type": "stream",
     "text": [
      "/Users/hema/opt/anaconda3/envs/DND/lib/python3.10/site-packages/urllib3/connectionpool.py:1099: InsecureRequestWarning: Unverified HTTPS request is being made to host 'api.us-south.discovery.watson.cloud.ibm.com'. Adding certificate verification is strongly advised. See: https://urllib3.readthedocs.io/en/latest/advanced-usage.html#tls-warnings\n",
      "  warnings.warn(\n"
     ]
    },
    {
     "name": "stdout",
     "output_type": "stream",
     "text": [
      "==========================================================\n",
      "\n",
      "Question No = 27\n",
      "Question = What is good amount of cover under this plan?\n"
     ]
    },
    {
     "name": "stderr",
     "output_type": "stream",
     "text": [
      "/Users/hema/opt/anaconda3/envs/DND/lib/python3.10/site-packages/urllib3/connectionpool.py:1099: InsecureRequestWarning: Unverified HTTPS request is being made to host 'api.us-south.discovery.watson.cloud.ibm.com'. Adding certificate verification is strongly advised. See: https://urllib3.readthedocs.io/en/latest/advanced-usage.html#tls-warnings\n",
      "  warnings.warn(\n"
     ]
    },
    {
     "name": "stdout",
     "output_type": "stream",
     "text": [
      "==========================================================\n",
      "\n",
      "Question No = 28\n",
      "Question = How much cover should I take if I already have a mediclaim policy?\n"
     ]
    },
    {
     "name": "stderr",
     "output_type": "stream",
     "text": [
      "/Users/hema/opt/anaconda3/envs/DND/lib/python3.10/site-packages/urllib3/connectionpool.py:1099: InsecureRequestWarning: Unverified HTTPS request is being made to host 'api.us-south.discovery.watson.cloud.ibm.com'. Adding certificate verification is strongly advised. See: https://urllib3.readthedocs.io/en/latest/advanced-usage.html#tls-warnings\n",
      "  warnings.warn(\n"
     ]
    },
    {
     "name": "stdout",
     "output_type": "stream",
     "text": [
      "==========================================================\n",
      "\n",
      "Question No = 29\n",
      "Question = How much cover is good enough?\n"
     ]
    },
    {
     "name": "stderr",
     "output_type": "stream",
     "text": [
      "/Users/hema/opt/anaconda3/envs/DND/lib/python3.10/site-packages/urllib3/connectionpool.py:1099: InsecureRequestWarning: Unverified HTTPS request is being made to host 'api.us-south.discovery.watson.cloud.ibm.com'. Adding certificate verification is strongly advised. See: https://urllib3.readthedocs.io/en/latest/advanced-usage.html#tls-warnings\n",
      "  warnings.warn(\n"
     ]
    },
    {
     "name": "stdout",
     "output_type": "stream",
     "text": [
      "==========================================================\n",
      "\n",
      "Question No = 30\n",
      "Question = What is a good cover for my age?\n"
     ]
    },
    {
     "name": "stderr",
     "output_type": "stream",
     "text": [
      "/Users/hema/opt/anaconda3/envs/DND/lib/python3.10/site-packages/urllib3/connectionpool.py:1099: InsecureRequestWarning: Unverified HTTPS request is being made to host 'api.us-south.discovery.watson.cloud.ibm.com'. Adding certificate verification is strongly advised. See: https://urllib3.readthedocs.io/en/latest/advanced-usage.html#tls-warnings\n",
      "  warnings.warn(\n"
     ]
    },
    {
     "name": "stdout",
     "output_type": "stream",
     "text": [
      "==========================================================\n",
      "\n",
      "Question No = 31\n",
      "Question = I have a term life cover of 1 Crore and an Accidental Death Cover of Rs. 50 lakhs. How much money will my family get after my death?\n"
     ]
    },
    {
     "name": "stderr",
     "output_type": "stream",
     "text": [
      "/Users/hema/opt/anaconda3/envs/DND/lib/python3.10/site-packages/urllib3/connectionpool.py:1099: InsecureRequestWarning: Unverified HTTPS request is being made to host 'api.us-south.discovery.watson.cloud.ibm.com'. Adding certificate verification is strongly advised. See: https://urllib3.readthedocs.io/en/latest/advanced-usage.html#tls-warnings\n",
      "  warnings.warn(\n"
     ]
    },
    {
     "name": "stdout",
     "output_type": "stream",
     "text": [
      "==========================================================\n",
      "\n",
      "Question No = 32\n",
      "Question = What will my family get if I die due to accident?\n"
     ]
    },
    {
     "name": "stderr",
     "output_type": "stream",
     "text": [
      "/Users/hema/opt/anaconda3/envs/DND/lib/python3.10/site-packages/urllib3/connectionpool.py:1099: InsecureRequestWarning: Unverified HTTPS request is being made to host 'api.us-south.discovery.watson.cloud.ibm.com'. Adding certificate verification is strongly advised. See: https://urllib3.readthedocs.io/en/latest/advanced-usage.html#tls-warnings\n",
      "  warnings.warn(\n"
     ]
    },
    {
     "name": "stdout",
     "output_type": "stream",
     "text": [
      "==========================================================\n",
      "\n",
      "Question No = 33\n",
      "Question = Please explain how accidental death benefit cover works?\n"
     ]
    },
    {
     "name": "stderr",
     "output_type": "stream",
     "text": [
      "/Users/hema/opt/anaconda3/envs/DND/lib/python3.10/site-packages/urllib3/connectionpool.py:1099: InsecureRequestWarning: Unverified HTTPS request is being made to host 'api.us-south.discovery.watson.cloud.ibm.com'. Adding certificate verification is strongly advised. See: https://urllib3.readthedocs.io/en/latest/advanced-usage.html#tls-warnings\n",
      "  warnings.warn(\n"
     ]
    },
    {
     "name": "stdout",
     "output_type": "stream",
     "text": [
      "==========================================================\n",
      "\n",
      "Question No = 34\n",
      "Question =  Are premiums paid towards ADBR tax deductible u/s 80C? \n"
     ]
    },
    {
     "name": "stderr",
     "output_type": "stream",
     "text": [
      "/Users/hema/opt/anaconda3/envs/DND/lib/python3.10/site-packages/urllib3/connectionpool.py:1099: InsecureRequestWarning: Unverified HTTPS request is being made to host 'api.us-south.discovery.watson.cloud.ibm.com'. Adding certificate verification is strongly advised. See: https://urllib3.readthedocs.io/en/latest/advanced-usage.html#tls-warnings\n",
      "  warnings.warn(\n"
     ]
    },
    {
     "name": "stdout",
     "output_type": "stream",
     "text": [
      "==========================================================\n",
      "\n",
      "Question No = 35\n",
      "Question = Do I get tax benefit under accidental death benefit cover\n"
     ]
    },
    {
     "name": "stderr",
     "output_type": "stream",
     "text": [
      "/Users/hema/opt/anaconda3/envs/DND/lib/python3.10/site-packages/urllib3/connectionpool.py:1099: InsecureRequestWarning: Unverified HTTPS request is being made to host 'api.us-south.discovery.watson.cloud.ibm.com'. Adding certificate verification is strongly advised. See: https://urllib3.readthedocs.io/en/latest/advanced-usage.html#tls-warnings\n",
      "  warnings.warn(\n"
     ]
    },
    {
     "name": "stdout",
     "output_type": "stream",
     "text": [
      "==========================================================\n",
      "\n",
      "Question No = 36\n",
      "Question =  Are premiums paid towards Accidental death benefit rider tax deductible u/s 80C?\n"
     ]
    },
    {
     "name": "stderr",
     "output_type": "stream",
     "text": [
      "/Users/hema/opt/anaconda3/envs/DND/lib/python3.10/site-packages/urllib3/connectionpool.py:1099: InsecureRequestWarning: Unverified HTTPS request is being made to host 'api.us-south.discovery.watson.cloud.ibm.com'. Adding certificate verification is strongly advised. See: https://urllib3.readthedocs.io/en/latest/advanced-usage.html#tls-warnings\n",
      "  warnings.warn(\n"
     ]
    },
    {
     "name": "stdout",
     "output_type": "stream",
     "text": [
      "==========================================================\n",
      "\n",
      "Question No = 37\n",
      "Question = Is this cover eligible for tax deductions?\n"
     ]
    },
    {
     "name": "stderr",
     "output_type": "stream",
     "text": [
      "/Users/hema/opt/anaconda3/envs/DND/lib/python3.10/site-packages/urllib3/connectionpool.py:1099: InsecureRequestWarning: Unverified HTTPS request is being made to host 'api.us-south.discovery.watson.cloud.ibm.com'. Adding certificate verification is strongly advised. See: https://urllib3.readthedocs.io/en/latest/advanced-usage.html#tls-warnings\n",
      "  warnings.warn(\n"
     ]
    },
    {
     "name": "stdout",
     "output_type": "stream",
     "text": [
      "==========================================================\n",
      "\n",
      "Question No = 38\n",
      "Question = What is an ideal cover for my life?\n"
     ]
    },
    {
     "name": "stderr",
     "output_type": "stream",
     "text": [
      "/Users/hema/opt/anaconda3/envs/DND/lib/python3.10/site-packages/urllib3/connectionpool.py:1099: InsecureRequestWarning: Unverified HTTPS request is being made to host 'api.us-south.discovery.watson.cloud.ibm.com'. Adding certificate verification is strongly advised. See: https://urllib3.readthedocs.io/en/latest/advanced-usage.html#tls-warnings\n",
      "  warnings.warn(\n"
     ]
    },
    {
     "name": "stdout",
     "output_type": "stream",
     "text": [
      "==========================================================\n",
      "\n",
      "Question No = 39\n",
      "Question = How much cover should I take?\n"
     ]
    },
    {
     "name": "stderr",
     "output_type": "stream",
     "text": [
      "/Users/hema/opt/anaconda3/envs/DND/lib/python3.10/site-packages/urllib3/connectionpool.py:1099: InsecureRequestWarning: Unverified HTTPS request is being made to host 'api.us-south.discovery.watson.cloud.ibm.com'. Adding certificate verification is strongly advised. See: https://urllib3.readthedocs.io/en/latest/advanced-usage.html#tls-warnings\n",
      "  warnings.warn(\n"
     ]
    },
    {
     "name": "stdout",
     "output_type": "stream",
     "text": [
      "==========================================================\n",
      "\n",
      "Question No = 40\n",
      "Question = What is the suggested sum assured for people of my age?\n"
     ]
    },
    {
     "name": "stderr",
     "output_type": "stream",
     "text": [
      "/Users/hema/opt/anaconda3/envs/DND/lib/python3.10/site-packages/urllib3/connectionpool.py:1099: InsecureRequestWarning: Unverified HTTPS request is being made to host 'api.us-south.discovery.watson.cloud.ibm.com'. Adding certificate verification is strongly advised. See: https://urllib3.readthedocs.io/en/latest/advanced-usage.html#tls-warnings\n",
      "  warnings.warn(\n"
     ]
    },
    {
     "name": "stdout",
     "output_type": "stream",
     "text": [
      "==========================================================\n",
      "\n",
      "Question No = 41\n",
      "Question = How much cover is good for me?\n"
     ]
    },
    {
     "name": "stderr",
     "output_type": "stream",
     "text": [
      "/Users/hema/opt/anaconda3/envs/DND/lib/python3.10/site-packages/urllib3/connectionpool.py:1099: InsecureRequestWarning: Unverified HTTPS request is being made to host 'api.us-south.discovery.watson.cloud.ibm.com'. Adding certificate verification is strongly advised. See: https://urllib3.readthedocs.io/en/latest/advanced-usage.html#tls-warnings\n",
      "  warnings.warn(\n"
     ]
    },
    {
     "name": "stdout",
     "output_type": "stream",
     "text": [
      "==========================================================\n",
      "\n",
      "Question No = 42\n",
      "Question = How much cover is good for people my age?\n"
     ]
    },
    {
     "name": "stderr",
     "output_type": "stream",
     "text": [
      "/Users/hema/opt/anaconda3/envs/DND/lib/python3.10/site-packages/urllib3/connectionpool.py:1099: InsecureRequestWarning: Unverified HTTPS request is being made to host 'api.us-south.discovery.watson.cloud.ibm.com'. Adding certificate verification is strongly advised. See: https://urllib3.readthedocs.io/en/latest/advanced-usage.html#tls-warnings\n",
      "  warnings.warn(\n"
     ]
    },
    {
     "name": "stdout",
     "output_type": "stream",
     "text": [
      "==========================================================\n",
      "\n",
      "Question No = 43\n",
      "Question = What is the amount of cover that I should take?\n"
     ]
    },
    {
     "name": "stderr",
     "output_type": "stream",
     "text": [
      "/Users/hema/opt/anaconda3/envs/DND/lib/python3.10/site-packages/urllib3/connectionpool.py:1099: InsecureRequestWarning: Unverified HTTPS request is being made to host 'api.us-south.discovery.watson.cloud.ibm.com'. Adding certificate verification is strongly advised. See: https://urllib3.readthedocs.io/en/latest/advanced-usage.html#tls-warnings\n",
      "  warnings.warn(\n"
     ]
    },
    {
     "name": "stdout",
     "output_type": "stream",
     "text": [
      "==========================================================\n",
      "\n",
      "Question No = 44\n",
      "Question = What Sum assured amount good for me?\n"
     ]
    },
    {
     "name": "stderr",
     "output_type": "stream",
     "text": [
      "/Users/hema/opt/anaconda3/envs/DND/lib/python3.10/site-packages/urllib3/connectionpool.py:1099: InsecureRequestWarning: Unverified HTTPS request is being made to host 'api.us-south.discovery.watson.cloud.ibm.com'. Adding certificate verification is strongly advised. See: https://urllib3.readthedocs.io/en/latest/advanced-usage.html#tls-warnings\n",
      "  warnings.warn(\n"
     ]
    },
    {
     "name": "stdout",
     "output_type": "stream",
     "text": [
      "==========================================================\n",
      "\n",
      "Question No = 45\n",
      "Question = How much sum assured should I take under this product?\n"
     ]
    },
    {
     "name": "stderr",
     "output_type": "stream",
     "text": [
      "/Users/hema/opt/anaconda3/envs/DND/lib/python3.10/site-packages/urllib3/connectionpool.py:1099: InsecureRequestWarning: Unverified HTTPS request is being made to host 'api.us-south.discovery.watson.cloud.ibm.com'. Adding certificate verification is strongly advised. See: https://urllib3.readthedocs.io/en/latest/advanced-usage.html#tls-warnings\n",
      "  warnings.warn(\n"
     ]
    },
    {
     "name": "stdout",
     "output_type": "stream",
     "text": [
      "==========================================================\n",
      "\n",
      "Question No = 46\n",
      "Question = What is the right amount of cover for me?\n"
     ]
    },
    {
     "name": "stderr",
     "output_type": "stream",
     "text": [
      "/Users/hema/opt/anaconda3/envs/DND/lib/python3.10/site-packages/urllib3/connectionpool.py:1099: InsecureRequestWarning: Unverified HTTPS request is being made to host 'api.us-south.discovery.watson.cloud.ibm.com'. Adding certificate verification is strongly advised. See: https://urllib3.readthedocs.io/en/latest/advanced-usage.html#tls-warnings\n",
      "  warnings.warn(\n"
     ]
    },
    {
     "name": "stdout",
     "output_type": "stream",
     "text": [
      "==========================================================\n",
      "\n",
      "Question No = 47\n",
      "Question = How much policy term should I take?\n"
     ]
    },
    {
     "name": "stderr",
     "output_type": "stream",
     "text": [
      "/Users/hema/opt/anaconda3/envs/DND/lib/python3.10/site-packages/urllib3/connectionpool.py:1099: InsecureRequestWarning: Unverified HTTPS request is being made to host 'api.us-south.discovery.watson.cloud.ibm.com'. Adding certificate verification is strongly advised. See: https://urllib3.readthedocs.io/en/latest/advanced-usage.html#tls-warnings\n",
      "  warnings.warn(\n"
     ]
    },
    {
     "name": "stdout",
     "output_type": "stream",
     "text": [
      "==========================================================\n",
      "\n",
      "Question No = 48\n",
      "Question = What is the maximum age under this cover?\n"
     ]
    },
    {
     "name": "stderr",
     "output_type": "stream",
     "text": [
      "/Users/hema/opt/anaconda3/envs/DND/lib/python3.10/site-packages/urllib3/connectionpool.py:1099: InsecureRequestWarning: Unverified HTTPS request is being made to host 'api.us-south.discovery.watson.cloud.ibm.com'. Adding certificate verification is strongly advised. See: https://urllib3.readthedocs.io/en/latest/advanced-usage.html#tls-warnings\n",
      "  warnings.warn(\n"
     ]
    },
    {
     "name": "stdout",
     "output_type": "stream",
     "text": [
      "==========================================================\n",
      "\n",
      "Question No = 49\n",
      "Question = Until what age will I be covered under iProtect Smart?\n"
     ]
    },
    {
     "name": "stderr",
     "output_type": "stream",
     "text": [
      "/Users/hema/opt/anaconda3/envs/DND/lib/python3.10/site-packages/urllib3/connectionpool.py:1099: InsecureRequestWarning: Unverified HTTPS request is being made to host 'api.us-south.discovery.watson.cloud.ibm.com'. Adding certificate verification is strongly advised. See: https://urllib3.readthedocs.io/en/latest/advanced-usage.html#tls-warnings\n",
      "  warnings.warn(\n"
     ]
    },
    {
     "name": "stdout",
     "output_type": "stream",
     "text": [
      "==========================================================\n",
      "\n",
      "Question No = 50\n",
      "Question = How does buying the policy under the MWP Act help protect my family?\n"
     ]
    },
    {
     "name": "stderr",
     "output_type": "stream",
     "text": [
      "/Users/hema/opt/anaconda3/envs/DND/lib/python3.10/site-packages/urllib3/connectionpool.py:1099: InsecureRequestWarning: Unverified HTTPS request is being made to host 'api.us-south.discovery.watson.cloud.ibm.com'. Adding certificate verification is strongly advised. See: https://urllib3.readthedocs.io/en/latest/advanced-usage.html#tls-warnings\n",
      "  warnings.warn(\n"
     ]
    },
    {
     "name": "stdout",
     "output_type": "stream",
     "text": [
      "==========================================================\n",
      "\n",
      "Question No = 51\n",
      "Question = What is MWP Act?\n"
     ]
    },
    {
     "name": "stderr",
     "output_type": "stream",
     "text": [
      "/Users/hema/opt/anaconda3/envs/DND/lib/python3.10/site-packages/urllib3/connectionpool.py:1099: InsecureRequestWarning: Unverified HTTPS request is being made to host 'api.us-south.discovery.watson.cloud.ibm.com'. Adding certificate verification is strongly advised. See: https://urllib3.readthedocs.io/en/latest/advanced-usage.html#tls-warnings\n",
      "  warnings.warn(\n"
     ]
    },
    {
     "name": "stdout",
     "output_type": "stream",
     "text": [
      "==========================================================\n",
      "\n",
      "Question No = 52\n",
      "Question = How does this work?\n"
     ]
    },
    {
     "name": "stderr",
     "output_type": "stream",
     "text": [
      "/Users/hema/opt/anaconda3/envs/DND/lib/python3.10/site-packages/urllib3/connectionpool.py:1099: InsecureRequestWarning: Unverified HTTPS request is being made to host 'api.us-south.discovery.watson.cloud.ibm.com'. Adding certificate verification is strongly advised. See: https://urllib3.readthedocs.io/en/latest/advanced-usage.html#tls-warnings\n",
      "  warnings.warn(\n"
     ]
    },
    {
     "name": "stdout",
     "output_type": "stream",
     "text": [
      "==========================================================\n",
      "\n",
      "Question No = 53\n",
      "Question = How will MWP act help me and my wife?\n"
     ]
    },
    {
     "name": "stderr",
     "output_type": "stream",
     "text": [
      "/Users/hema/opt/anaconda3/envs/DND/lib/python3.10/site-packages/urllib3/connectionpool.py:1099: InsecureRequestWarning: Unverified HTTPS request is being made to host 'api.us-south.discovery.watson.cloud.ibm.com'. Adding certificate verification is strongly advised. See: https://urllib3.readthedocs.io/en/latest/advanced-usage.html#tls-warnings\n",
      "  warnings.warn(\n"
     ]
    },
    {
     "name": "stdout",
     "output_type": "stream",
     "text": [
      "==========================================================\n",
      "\n",
      "Question No = 54\n",
      "Question = Why should I buy poly under MWP act?\n"
     ]
    },
    {
     "name": "stderr",
     "output_type": "stream",
     "text": [
      "/Users/hema/opt/anaconda3/envs/DND/lib/python3.10/site-packages/urllib3/connectionpool.py:1099: InsecureRequestWarning: Unverified HTTPS request is being made to host 'api.us-south.discovery.watson.cloud.ibm.com'. Adding certificate verification is strongly advised. See: https://urllib3.readthedocs.io/en/latest/advanced-usage.html#tls-warnings\n",
      "  warnings.warn(\n"
     ]
    },
    {
     "name": "stdout",
     "output_type": "stream",
     "text": [
      "==========================================================\n",
      "\n",
      "Question No = 55\n",
      "Question = Will I have to undergo a medical test?\n"
     ]
    },
    {
     "name": "stderr",
     "output_type": "stream",
     "text": [
      "/Users/hema/opt/anaconda3/envs/DND/lib/python3.10/site-packages/urllib3/connectionpool.py:1099: InsecureRequestWarning: Unverified HTTPS request is being made to host 'api.us-south.discovery.watson.cloud.ibm.com'. Adding certificate verification is strongly advised. See: https://urllib3.readthedocs.io/en/latest/advanced-usage.html#tls-warnings\n",
      "  warnings.warn(\n"
     ]
    },
    {
     "name": "stdout",
     "output_type": "stream",
     "text": [
      "==========================================================\n",
      "\n",
      "Question No = 56\n",
      "Question = Will I have to do medicals?\n"
     ]
    },
    {
     "name": "stderr",
     "output_type": "stream",
     "text": [
      "/Users/hema/opt/anaconda3/envs/DND/lib/python3.10/site-packages/urllib3/connectionpool.py:1099: InsecureRequestWarning: Unverified HTTPS request is being made to host 'api.us-south.discovery.watson.cloud.ibm.com'. Adding certificate verification is strongly advised. See: https://urllib3.readthedocs.io/en/latest/advanced-usage.html#tls-warnings\n",
      "  warnings.warn(\n"
     ]
    },
    {
     "name": "stdout",
     "output_type": "stream",
     "text": [
      "==========================================================\n",
      "\n",
      "Question No = 57\n",
      "Question = Can you waive off medicals?\n"
     ]
    },
    {
     "name": "stderr",
     "output_type": "stream",
     "text": [
      "/Users/hema/opt/anaconda3/envs/DND/lib/python3.10/site-packages/urllib3/connectionpool.py:1099: InsecureRequestWarning: Unverified HTTPS request is being made to host 'api.us-south.discovery.watson.cloud.ibm.com'. Adding certificate verification is strongly advised. See: https://urllib3.readthedocs.io/en/latest/advanced-usage.html#tls-warnings\n",
      "  warnings.warn(\n"
     ]
    },
    {
     "name": "stdout",
     "output_type": "stream",
     "text": [
      "==========================================================\n",
      "\n",
      "Question No = 58\n",
      "Question = Is medical test mandatory?\n"
     ]
    },
    {
     "name": "stderr",
     "output_type": "stream",
     "text": [
      "/Users/hema/opt/anaconda3/envs/DND/lib/python3.10/site-packages/urllib3/connectionpool.py:1099: InsecureRequestWarning: Unverified HTTPS request is being made to host 'api.us-south.discovery.watson.cloud.ibm.com'. Adding certificate verification is strongly advised. See: https://urllib3.readthedocs.io/en/latest/advanced-usage.html#tls-warnings\n",
      "  warnings.warn(\n"
     ]
    },
    {
     "name": "stdout",
     "output_type": "stream",
     "text": [
      "==========================================================\n",
      "\n",
      "Question No = 59\n",
      "Question = Do I have to do medical test?\n"
     ]
    },
    {
     "name": "stderr",
     "output_type": "stream",
     "text": [
      "/Users/hema/opt/anaconda3/envs/DND/lib/python3.10/site-packages/urllib3/connectionpool.py:1099: InsecureRequestWarning: Unverified HTTPS request is being made to host 'api.us-south.discovery.watson.cloud.ibm.com'. Adding certificate verification is strongly advised. See: https://urllib3.readthedocs.io/en/latest/advanced-usage.html#tls-warnings\n",
      "  warnings.warn(\n"
     ]
    },
    {
     "name": "stdout",
     "output_type": "stream",
     "text": [
      "==========================================================\n",
      "\n",
      "Question No = 60\n",
      "Question = Will you send me my medical reports?\n"
     ]
    },
    {
     "name": "stderr",
     "output_type": "stream",
     "text": [
      "/Users/hema/opt/anaconda3/envs/DND/lib/python3.10/site-packages/urllib3/connectionpool.py:1099: InsecureRequestWarning: Unverified HTTPS request is being made to host 'api.us-south.discovery.watson.cloud.ibm.com'. Adding certificate verification is strongly advised. See: https://urllib3.readthedocs.io/en/latest/advanced-usage.html#tls-warnings\n",
      "  warnings.warn(\n"
     ]
    },
    {
     "name": "stdout",
     "output_type": "stream",
     "text": [
      "==========================================================\n",
      "\n",
      "Question No = 61\n",
      "Question = Will I get my medical reports?\n"
     ]
    },
    {
     "name": "stderr",
     "output_type": "stream",
     "text": [
      "/Users/hema/opt/anaconda3/envs/DND/lib/python3.10/site-packages/urllib3/connectionpool.py:1099: InsecureRequestWarning: Unverified HTTPS request is being made to host 'api.us-south.discovery.watson.cloud.ibm.com'. Adding certificate verification is strongly advised. See: https://urllib3.readthedocs.io/en/latest/advanced-usage.html#tls-warnings\n",
      "  warnings.warn(\n"
     ]
    },
    {
     "name": "stdout",
     "output_type": "stream",
     "text": [
      "==========================================================\n",
      "\n",
      "Question No = 62\n",
      "Question = Can you email me my medical reports?\n"
     ]
    },
    {
     "name": "stderr",
     "output_type": "stream",
     "text": [
      "/Users/hema/opt/anaconda3/envs/DND/lib/python3.10/site-packages/urllib3/connectionpool.py:1099: InsecureRequestWarning: Unverified HTTPS request is being made to host 'api.us-south.discovery.watson.cloud.ibm.com'. Adding certificate verification is strongly advised. See: https://urllib3.readthedocs.io/en/latest/advanced-usage.html#tls-warnings\n",
      "  warnings.warn(\n"
     ]
    },
    {
     "name": "stdout",
     "output_type": "stream",
     "text": [
      "==========================================================\n",
      "\n",
      "Question No = 63\n",
      "Question = I want my medical reports\n"
     ]
    },
    {
     "name": "stderr",
     "output_type": "stream",
     "text": [
      "/Users/hema/opt/anaconda3/envs/DND/lib/python3.10/site-packages/urllib3/connectionpool.py:1099: InsecureRequestWarning: Unverified HTTPS request is being made to host 'api.us-south.discovery.watson.cloud.ibm.com'. Adding certificate verification is strongly advised. See: https://urllib3.readthedocs.io/en/latest/advanced-usage.html#tls-warnings\n",
      "  warnings.warn(\n"
     ]
    },
    {
     "name": "stdout",
     "output_type": "stream",
     "text": [
      "==========================================================\n",
      "\n",
      "Question No = 64\n",
      "Question = Does this plan have waiver of premium?\n"
     ]
    },
    {
     "name": "stderr",
     "output_type": "stream",
     "text": [
      "/Users/hema/opt/anaconda3/envs/DND/lib/python3.10/site-packages/urllib3/connectionpool.py:1099: InsecureRequestWarning: Unverified HTTPS request is being made to host 'api.us-south.discovery.watson.cloud.ibm.com'. Adding certificate verification is strongly advised. See: https://urllib3.readthedocs.io/en/latest/advanced-usage.html#tls-warnings\n",
      "  warnings.warn(\n"
     ]
    },
    {
     "name": "stdout",
     "output_type": "stream",
     "text": [
      "==========================================================\n",
      "\n",
      "Question No = 65\n",
      "Question = What is waiver of premium?\n"
     ]
    },
    {
     "name": "stderr",
     "output_type": "stream",
     "text": [
      "/Users/hema/opt/anaconda3/envs/DND/lib/python3.10/site-packages/urllib3/connectionpool.py:1099: InsecureRequestWarning: Unverified HTTPS request is being made to host 'api.us-south.discovery.watson.cloud.ibm.com'. Adding certificate verification is strongly advised. See: https://urllib3.readthedocs.io/en/latest/advanced-usage.html#tls-warnings\n",
      "  warnings.warn(\n"
     ]
    },
    {
     "name": "stdout",
     "output_type": "stream",
     "text": [
      "==========================================================\n",
      "\n",
      "Question No = 66\n",
      "Question = How do I pay my premium incase of  permanent disability due to an accident?\n"
     ]
    },
    {
     "name": "stderr",
     "output_type": "stream",
     "text": [
      "/Users/hema/opt/anaconda3/envs/DND/lib/python3.10/site-packages/urllib3/connectionpool.py:1099: InsecureRequestWarning: Unverified HTTPS request is being made to host 'api.us-south.discovery.watson.cloud.ibm.com'. Adding certificate verification is strongly advised. See: https://urllib3.readthedocs.io/en/latest/advanced-usage.html#tls-warnings\n",
      "  warnings.warn(\n"
     ]
    },
    {
     "name": "stdout",
     "output_type": "stream",
     "text": [
      "==========================================================\n",
      "\n",
      "Question No = 67\n",
      "Question = Will company waive my premium incase of an accident?\n"
     ]
    },
    {
     "name": "stderr",
     "output_type": "stream",
     "text": [
      "/Users/hema/opt/anaconda3/envs/DND/lib/python3.10/site-packages/urllib3/connectionpool.py:1099: InsecureRequestWarning: Unverified HTTPS request is being made to host 'api.us-south.discovery.watson.cloud.ibm.com'. Adding certificate verification is strongly advised. See: https://urllib3.readthedocs.io/en/latest/advanced-usage.html#tls-warnings\n",
      "  warnings.warn(\n"
     ]
    },
    {
     "name": "stdout",
     "output_type": "stream",
     "text": [
      "==========================================================\n",
      "\n",
      "Question No = 68\n",
      "Question = \"In case of my death, how can my family report a claim to ICICI Pru Life?\"\n"
     ]
    },
    {
     "name": "stderr",
     "output_type": "stream",
     "text": [
      "/Users/hema/opt/anaconda3/envs/DND/lib/python3.10/site-packages/urllib3/connectionpool.py:1099: InsecureRequestWarning: Unverified HTTPS request is being made to host 'api.us-south.discovery.watson.cloud.ibm.com'. Adding certificate verification is strongly advised. See: https://urllib3.readthedocs.io/en/latest/advanced-usage.html#tls-warnings\n",
      "  warnings.warn(\n"
     ]
    },
    {
     "name": "stdout",
     "output_type": "stream",
     "text": [
      "==========================================================\n",
      "\n",
      "Question No = 69\n",
      "Question = How can my family claim?\n"
     ]
    },
    {
     "name": "stderr",
     "output_type": "stream",
     "text": [
      "/Users/hema/opt/anaconda3/envs/DND/lib/python3.10/site-packages/urllib3/connectionpool.py:1099: InsecureRequestWarning: Unverified HTTPS request is being made to host 'api.us-south.discovery.watson.cloud.ibm.com'. Adding certificate verification is strongly advised. See: https://urllib3.readthedocs.io/en/latest/advanced-usage.html#tls-warnings\n",
      "  warnings.warn(\n"
     ]
    },
    {
     "name": "stdout",
     "output_type": "stream",
     "text": [
      "==========================================================\n",
      "\n",
      "Question No = 70\n",
      "Question = How can I claim?\n"
     ]
    },
    {
     "name": "stderr",
     "output_type": "stream",
     "text": [
      "/Users/hema/opt/anaconda3/envs/DND/lib/python3.10/site-packages/urllib3/connectionpool.py:1099: InsecureRequestWarning: Unverified HTTPS request is being made to host 'api.us-south.discovery.watson.cloud.ibm.com'. Adding certificate verification is strongly advised. See: https://urllib3.readthedocs.io/en/latest/advanced-usage.html#tls-warnings\n",
      "  warnings.warn(\n"
     ]
    },
    {
     "name": "stdout",
     "output_type": "stream",
     "text": [
      "==========================================================\n",
      "\n",
      "Question No = 71\n",
      "Question = How do I register a claim?\n"
     ]
    },
    {
     "name": "stderr",
     "output_type": "stream",
     "text": [
      "/Users/hema/opt/anaconda3/envs/DND/lib/python3.10/site-packages/urllib3/connectionpool.py:1099: InsecureRequestWarning: Unverified HTTPS request is being made to host 'api.us-south.discovery.watson.cloud.ibm.com'. Adding certificate verification is strongly advised. See: https://urllib3.readthedocs.io/en/latest/advanced-usage.html#tls-warnings\n",
      "  warnings.warn(\n"
     ]
    },
    {
     "name": "stdout",
     "output_type": "stream",
     "text": [
      "==========================================================\n",
      "\n",
      "Question No = 72\n",
      "Question = What are the options available for registering a claim?\n"
     ]
    },
    {
     "name": "stderr",
     "output_type": "stream",
     "text": [
      "/Users/hema/opt/anaconda3/envs/DND/lib/python3.10/site-packages/urllib3/connectionpool.py:1099: InsecureRequestWarning: Unverified HTTPS request is being made to host 'api.us-south.discovery.watson.cloud.ibm.com'. Adding certificate verification is strongly advised. See: https://urllib3.readthedocs.io/en/latest/advanced-usage.html#tls-warnings\n",
      "  warnings.warn(\n"
     ]
    },
    {
     "name": "stdout",
     "output_type": "stream",
     "text": [
      "==========================================================\n",
      "\n",
      "Question No = 73\n",
      "Question = How can a claim be registered?\n"
     ]
    },
    {
     "name": "stderr",
     "output_type": "stream",
     "text": [
      "/Users/hema/opt/anaconda3/envs/DND/lib/python3.10/site-packages/urllib3/connectionpool.py:1099: InsecureRequestWarning: Unverified HTTPS request is being made to host 'api.us-south.discovery.watson.cloud.ibm.com'. Adding certificate verification is strongly advised. See: https://urllib3.readthedocs.io/en/latest/advanced-usage.html#tls-warnings\n",
      "  warnings.warn(\n"
     ]
    },
    {
     "name": "stdout",
     "output_type": "stream",
     "text": [
      "==========================================================\n",
      "\n",
      "Question No = 74\n",
      "Question = What are the options available for my family to register a claim?\n"
     ]
    },
    {
     "name": "stderr",
     "output_type": "stream",
     "text": [
      "/Users/hema/opt/anaconda3/envs/DND/lib/python3.10/site-packages/urllib3/connectionpool.py:1099: InsecureRequestWarning: Unverified HTTPS request is being made to host 'api.us-south.discovery.watson.cloud.ibm.com'. Adding certificate verification is strongly advised. See: https://urllib3.readthedocs.io/en/latest/advanced-usage.html#tls-warnings\n",
      "  warnings.warn(\n"
     ]
    },
    {
     "name": "stdout",
     "output_type": "stream",
     "text": [
      "==========================================================\n",
      "\n",
      "Question No = 75\n",
      "Question = How much time does it take to settle a claim?\n"
     ]
    },
    {
     "name": "stderr",
     "output_type": "stream",
     "text": [
      "/Users/hema/opt/anaconda3/envs/DND/lib/python3.10/site-packages/urllib3/connectionpool.py:1099: InsecureRequestWarning: Unverified HTTPS request is being made to host 'api.us-south.discovery.watson.cloud.ibm.com'. Adding certificate verification is strongly advised. See: https://urllib3.readthedocs.io/en/latest/advanced-usage.html#tls-warnings\n",
      "  warnings.warn(\n"
     ]
    },
    {
     "name": "stdout",
     "output_type": "stream",
     "text": [
      "==========================================================\n",
      "\n",
      "Question No = 76\n",
      "Question = How long will it take to settle a claim?\n"
     ]
    },
    {
     "name": "stderr",
     "output_type": "stream",
     "text": [
      "/Users/hema/opt/anaconda3/envs/DND/lib/python3.10/site-packages/urllib3/connectionpool.py:1099: InsecureRequestWarning: Unverified HTTPS request is being made to host 'api.us-south.discovery.watson.cloud.ibm.com'. Adding certificate verification is strongly advised. See: https://urllib3.readthedocs.io/en/latest/advanced-usage.html#tls-warnings\n",
      "  warnings.warn(\n"
     ]
    },
    {
     "name": "stdout",
     "output_type": "stream",
     "text": [
      "==========================================================\n",
      "\n",
      "Question No = 77\n",
      "Question = What is the TAT for claim settlement?\n"
     ]
    },
    {
     "name": "stderr",
     "output_type": "stream",
     "text": [
      "/Users/hema/opt/anaconda3/envs/DND/lib/python3.10/site-packages/urllib3/connectionpool.py:1099: InsecureRequestWarning: Unverified HTTPS request is being made to host 'api.us-south.discovery.watson.cloud.ibm.com'. Adding certificate verification is strongly advised. See: https://urllib3.readthedocs.io/en/latest/advanced-usage.html#tls-warnings\n",
      "  warnings.warn(\n"
     ]
    },
    {
     "name": "stdout",
     "output_type": "stream",
     "text": [
      "==========================================================\n",
      "\n",
      "Question No = 78\n",
      "Question = How much time do you take to settle a claim?\n"
     ]
    },
    {
     "name": "stderr",
     "output_type": "stream",
     "text": [
      "/Users/hema/opt/anaconda3/envs/DND/lib/python3.10/site-packages/urllib3/connectionpool.py:1099: InsecureRequestWarning: Unverified HTTPS request is being made to host 'api.us-south.discovery.watson.cloud.ibm.com'. Adding certificate verification is strongly advised. See: https://urllib3.readthedocs.io/en/latest/advanced-usage.html#tls-warnings\n",
      "  warnings.warn(\n"
     ]
    },
    {
     "name": "stdout",
     "output_type": "stream",
     "text": [
      "==========================================================\n",
      "\n",
      "Question No = 79\n",
      "Question = How much time will it take to settle my claim?\n"
     ]
    },
    {
     "name": "stderr",
     "output_type": "stream",
     "text": [
      "/Users/hema/opt/anaconda3/envs/DND/lib/python3.10/site-packages/urllib3/connectionpool.py:1099: InsecureRequestWarning: Unverified HTTPS request is being made to host 'api.us-south.discovery.watson.cloud.ibm.com'. Adding certificate verification is strongly advised. See: https://urllib3.readthedocs.io/en/latest/advanced-usage.html#tls-warnings\n",
      "  warnings.warn(\n"
     ]
    },
    {
     "name": "stdout",
     "output_type": "stream",
     "text": [
      "==========================================================\n",
      "\n",
      "Question No = 80\n",
      "Question = How can my family track the status of the claim?\n"
     ]
    },
    {
     "name": "stderr",
     "output_type": "stream",
     "text": [
      "/Users/hema/opt/anaconda3/envs/DND/lib/python3.10/site-packages/urllib3/connectionpool.py:1099: InsecureRequestWarning: Unverified HTTPS request is being made to host 'api.us-south.discovery.watson.cloud.ibm.com'. Adding certificate verification is strongly advised. See: https://urllib3.readthedocs.io/en/latest/advanced-usage.html#tls-warnings\n",
      "  warnings.warn(\n"
     ]
    },
    {
     "name": "stdout",
     "output_type": "stream",
     "text": [
      "==========================================================\n",
      "\n",
      "Question No = 81\n",
      "Question = How do I get to know the status of my claim?\n"
     ]
    },
    {
     "name": "stderr",
     "output_type": "stream",
     "text": [
      "/Users/hema/opt/anaconda3/envs/DND/lib/python3.10/site-packages/urllib3/connectionpool.py:1099: InsecureRequestWarning: Unverified HTTPS request is being made to host 'api.us-south.discovery.watson.cloud.ibm.com'. Adding certificate verification is strongly advised. See: https://urllib3.readthedocs.io/en/latest/advanced-usage.html#tls-warnings\n",
      "  warnings.warn(\n"
     ]
    },
    {
     "name": "stdout",
     "output_type": "stream",
     "text": [
      "==========================================================\n",
      "\n",
      "Question No = 82\n",
      "Question = How do I track my claim?\n"
     ]
    },
    {
     "name": "stderr",
     "output_type": "stream",
     "text": [
      "/Users/hema/opt/anaconda3/envs/DND/lib/python3.10/site-packages/urllib3/connectionpool.py:1099: InsecureRequestWarning: Unverified HTTPS request is being made to host 'api.us-south.discovery.watson.cloud.ibm.com'. Adding certificate verification is strongly advised. See: https://urllib3.readthedocs.io/en/latest/advanced-usage.html#tls-warnings\n",
      "  warnings.warn(\n"
     ]
    },
    {
     "name": "stdout",
     "output_type": "stream",
     "text": [
      "==========================================================\n",
      "\n",
      "Question No = 83\n",
      "Question = How can I enquire about my claim status?\n"
     ]
    },
    {
     "name": "stderr",
     "output_type": "stream",
     "text": [
      "/Users/hema/opt/anaconda3/envs/DND/lib/python3.10/site-packages/urllib3/connectionpool.py:1099: InsecureRequestWarning: Unverified HTTPS request is being made to host 'api.us-south.discovery.watson.cloud.ibm.com'. Adding certificate verification is strongly advised. See: https://urllib3.readthedocs.io/en/latest/advanced-usage.html#tls-warnings\n",
      "  warnings.warn(\n"
     ]
    },
    {
     "name": "stdout",
     "output_type": "stream",
     "text": [
      "==========================================================\n",
      "\n",
      "Question No = 84\n",
      "Question = How can my family enquire about the claim?\n"
     ]
    },
    {
     "name": "stderr",
     "output_type": "stream",
     "text": [
      "/Users/hema/opt/anaconda3/envs/DND/lib/python3.10/site-packages/urllib3/connectionpool.py:1099: InsecureRequestWarning: Unverified HTTPS request is being made to host 'api.us-south.discovery.watson.cloud.ibm.com'. Adding certificate verification is strongly advised. See: https://urllib3.readthedocs.io/en/latest/advanced-usage.html#tls-warnings\n",
      "  warnings.warn(\n"
     ]
    },
    {
     "name": "stdout",
     "output_type": "stream",
     "text": [
      "==========================================================\n",
      "\n",
      "Question No = 85\n",
      "Question = Where can I get my claim status\n"
     ]
    },
    {
     "name": "stderr",
     "output_type": "stream",
     "text": [
      "/Users/hema/opt/anaconda3/envs/DND/lib/python3.10/site-packages/urllib3/connectionpool.py:1099: InsecureRequestWarning: Unverified HTTPS request is being made to host 'api.us-south.discovery.watson.cloud.ibm.com'. Adding certificate verification is strongly advised. See: https://urllib3.readthedocs.io/en/latest/advanced-usage.html#tls-warnings\n",
      "  warnings.warn(\n"
     ]
    },
    {
     "name": "stdout",
     "output_type": "stream",
     "text": [
      "==========================================================\n",
      "\n",
      "Question No = 86\n",
      "Question = How will my family know about the claim status?\n"
     ]
    },
    {
     "name": "stderr",
     "output_type": "stream",
     "text": [
      "/Users/hema/opt/anaconda3/envs/DND/lib/python3.10/site-packages/urllib3/connectionpool.py:1099: InsecureRequestWarning: Unverified HTTPS request is being made to host 'api.us-south.discovery.watson.cloud.ibm.com'. Adding certificate verification is strongly advised. See: https://urllib3.readthedocs.io/en/latest/advanced-usage.html#tls-warnings\n",
      "  warnings.warn(\n"
     ]
    },
    {
     "name": "stdout",
     "output_type": "stream",
     "text": [
      "==========================================================\n",
      "\n",
      "Question No = 87\n",
      "Question = What is your claim ratio?\n"
     ]
    },
    {
     "name": "stderr",
     "output_type": "stream",
     "text": [
      "/Users/hema/opt/anaconda3/envs/DND/lib/python3.10/site-packages/urllib3/connectionpool.py:1099: InsecureRequestWarning: Unverified HTTPS request is being made to host 'api.us-south.discovery.watson.cloud.ibm.com'. Adding certificate verification is strongly advised. See: https://urllib3.readthedocs.io/en/latest/advanced-usage.html#tls-warnings\n",
      "  warnings.warn(\n"
     ]
    },
    {
     "name": "stdout",
     "output_type": "stream",
     "text": [
      "==========================================================\n",
      "\n",
      "Question No = 88\n",
      "Question = What is your claim settlement reation?\n"
     ]
    },
    {
     "name": "stderr",
     "output_type": "stream",
     "text": [
      "/Users/hema/opt/anaconda3/envs/DND/lib/python3.10/site-packages/urllib3/connectionpool.py:1099: InsecureRequestWarning: Unverified HTTPS request is being made to host 'api.us-south.discovery.watson.cloud.ibm.com'. Adding certificate verification is strongly advised. See: https://urllib3.readthedocs.io/en/latest/advanced-usage.html#tls-warnings\n",
      "  warnings.warn(\n"
     ]
    },
    {
     "name": "stdout",
     "output_type": "stream",
     "text": [
      "==========================================================\n",
      "\n",
      "Question No = 89\n",
      "Question = Can you share your claim settlement ratio?\n"
     ]
    },
    {
     "name": "stderr",
     "output_type": "stream",
     "text": [
      "/Users/hema/opt/anaconda3/envs/DND/lib/python3.10/site-packages/urllib3/connectionpool.py:1099: InsecureRequestWarning: Unverified HTTPS request is being made to host 'api.us-south.discovery.watson.cloud.ibm.com'. Adding certificate verification is strongly advised. See: https://urllib3.readthedocs.io/en/latest/advanced-usage.html#tls-warnings\n",
      "  warnings.warn(\n"
     ]
    },
    {
     "name": "stdout",
     "output_type": "stream",
     "text": [
      "==========================================================\n",
      "\n",
      "Question No = 90\n",
      "Question = Do you have good claim settlement ratio?\n"
     ]
    },
    {
     "name": "stderr",
     "output_type": "stream",
     "text": [
      "/Users/hema/opt/anaconda3/envs/DND/lib/python3.10/site-packages/urllib3/connectionpool.py:1099: InsecureRequestWarning: Unverified HTTPS request is being made to host 'api.us-south.discovery.watson.cloud.ibm.com'. Adding certificate verification is strongly advised. See: https://urllib3.readthedocs.io/en/latest/advanced-usage.html#tls-warnings\n",
      "  warnings.warn(\n"
     ]
    },
    {
     "name": "stdout",
     "output_type": "stream",
     "text": [
      "==========================================================\n",
      "\n",
      "Question No = 91\n",
      "Question = Is your claim settlement ratio better than HDFC?\n"
     ]
    },
    {
     "name": "stderr",
     "output_type": "stream",
     "text": [
      "/Users/hema/opt/anaconda3/envs/DND/lib/python3.10/site-packages/urllib3/connectionpool.py:1099: InsecureRequestWarning: Unverified HTTPS request is being made to host 'api.us-south.discovery.watson.cloud.ibm.com'. Adding certificate verification is strongly advised. See: https://urllib3.readthedocs.io/en/latest/advanced-usage.html#tls-warnings\n",
      "  warnings.warn(\n"
     ]
    },
    {
     "name": "stdout",
     "output_type": "stream",
     "text": [
      "==========================================================\n",
      "\n",
      "Question No = 92\n",
      "Question = Is your claim settlement ratio better than SBI?\n"
     ]
    },
    {
     "name": "stderr",
     "output_type": "stream",
     "text": [
      "/Users/hema/opt/anaconda3/envs/DND/lib/python3.10/site-packages/urllib3/connectionpool.py:1099: InsecureRequestWarning: Unverified HTTPS request is being made to host 'api.us-south.discovery.watson.cloud.ibm.com'. Adding certificate verification is strongly advised. See: https://urllib3.readthedocs.io/en/latest/advanced-usage.html#tls-warnings\n",
      "  warnings.warn(\n"
     ]
    },
    {
     "name": "stdout",
     "output_type": "stream",
     "text": [
      "==========================================================\n",
      "\n",
      "Question No = 93\n",
      "Question = Will I get my money back if I survive the policy term?\n"
     ]
    },
    {
     "name": "stderr",
     "output_type": "stream",
     "text": [
      "/Users/hema/opt/anaconda3/envs/DND/lib/python3.10/site-packages/urllib3/connectionpool.py:1099: InsecureRequestWarning: Unverified HTTPS request is being made to host 'api.us-south.discovery.watson.cloud.ibm.com'. Adding certificate verification is strongly advised. See: https://urllib3.readthedocs.io/en/latest/advanced-usage.html#tls-warnings\n",
      "  warnings.warn(\n"
     ]
    },
    {
     "name": "stdout",
     "output_type": "stream",
     "text": [
      "==========================================================\n",
      "\n",
      "Question No = 94\n",
      "Question = Do I get my money back if I survive?\n"
     ]
    },
    {
     "name": "stderr",
     "output_type": "stream",
     "text": [
      "/Users/hema/opt/anaconda3/envs/DND/lib/python3.10/site-packages/urllib3/connectionpool.py:1099: InsecureRequestWarning: Unverified HTTPS request is being made to host 'api.us-south.discovery.watson.cloud.ibm.com'. Adding certificate verification is strongly advised. See: https://urllib3.readthedocs.io/en/latest/advanced-usage.html#tls-warnings\n",
      "  warnings.warn(\n"
     ]
    },
    {
     "name": "stdout",
     "output_type": "stream",
     "text": [
      "==========================================================\n",
      "\n",
      "Question No = 95\n",
      "Question = Do I get my money back incase I survive full term?\n"
     ]
    },
    {
     "name": "stderr",
     "output_type": "stream",
     "text": [
      "/Users/hema/opt/anaconda3/envs/DND/lib/python3.10/site-packages/urllib3/connectionpool.py:1099: InsecureRequestWarning: Unverified HTTPS request is being made to host 'api.us-south.discovery.watson.cloud.ibm.com'. Adding certificate verification is strongly advised. See: https://urllib3.readthedocs.io/en/latest/advanced-usage.html#tls-warnings\n",
      "  warnings.warn(\n"
     ]
    },
    {
     "name": "stdout",
     "output_type": "stream",
     "text": [
      "==========================================================\n",
      "\n",
      "Question No = 96\n",
      "Question = Will I get my money back if I survive full time?\n"
     ]
    },
    {
     "name": "stderr",
     "output_type": "stream",
     "text": [
      "/Users/hema/opt/anaconda3/envs/DND/lib/python3.10/site-packages/urllib3/connectionpool.py:1099: InsecureRequestWarning: Unverified HTTPS request is being made to host 'api.us-south.discovery.watson.cloud.ibm.com'. Adding certificate verification is strongly advised. See: https://urllib3.readthedocs.io/en/latest/advanced-usage.html#tls-warnings\n",
      "  warnings.warn(\n"
     ]
    },
    {
     "name": "stdout",
     "output_type": "stream",
     "text": [
      "==========================================================\n",
      "\n",
      "Question No = 97\n",
      "Question = Will you give my money back if I survive the entire term?\n"
     ]
    },
    {
     "name": "stderr",
     "output_type": "stream",
     "text": [
      "/Users/hema/opt/anaconda3/envs/DND/lib/python3.10/site-packages/urllib3/connectionpool.py:1099: InsecureRequestWarning: Unverified HTTPS request is being made to host 'api.us-south.discovery.watson.cloud.ibm.com'. Adding certificate verification is strongly advised. See: https://urllib3.readthedocs.io/en/latest/advanced-usage.html#tls-warnings\n",
      "  warnings.warn(\n"
     ]
    },
    {
     "name": "stdout",
     "output_type": "stream",
     "text": [
      "==========================================================\n",
      "\n",
      "Question No = 98\n",
      "Question = Will I get my money back after policy matures\n"
     ]
    },
    {
     "name": "stderr",
     "output_type": "stream",
     "text": [
      "/Users/hema/opt/anaconda3/envs/DND/lib/python3.10/site-packages/urllib3/connectionpool.py:1099: InsecureRequestWarning: Unverified HTTPS request is being made to host 'api.us-south.discovery.watson.cloud.ibm.com'. Adding certificate verification is strongly advised. See: https://urllib3.readthedocs.io/en/latest/advanced-usage.html#tls-warnings\n",
      "  warnings.warn(\n"
     ]
    },
    {
     "name": "stdout",
     "output_type": "stream",
     "text": [
      "==========================================================\n",
      "\n",
      "Question No = 99\n",
      "Question = Will you give back my money on maturity\n"
     ]
    },
    {
     "name": "stderr",
     "output_type": "stream",
     "text": [
      "/Users/hema/opt/anaconda3/envs/DND/lib/python3.10/site-packages/urllib3/connectionpool.py:1099: InsecureRequestWarning: Unverified HTTPS request is being made to host 'api.us-south.discovery.watson.cloud.ibm.com'. Adding certificate verification is strongly advised. See: https://urllib3.readthedocs.io/en/latest/advanced-usage.html#tls-warnings\n",
      "  warnings.warn(\n"
     ]
    },
    {
     "name": "stdout",
     "output_type": "stream",
     "text": [
      "==========================================================\n",
      "\n",
      "Question No = 100\n",
      "Question = Is there any maturity benefit under this product?\n"
     ]
    },
    {
     "name": "stderr",
     "output_type": "stream",
     "text": [
      "/Users/hema/opt/anaconda3/envs/DND/lib/python3.10/site-packages/urllib3/connectionpool.py:1099: InsecureRequestWarning: Unverified HTTPS request is being made to host 'api.us-south.discovery.watson.cloud.ibm.com'. Adding certificate verification is strongly advised. See: https://urllib3.readthedocs.io/en/latest/advanced-usage.html#tls-warnings\n",
      "  warnings.warn(\n"
     ]
    },
    {
     "name": "stdout",
     "output_type": "stream",
     "text": [
      "==========================================================\n",
      "\n",
      "Question No = 101\n",
      "Question = Are all forms of death covered\n"
     ]
    },
    {
     "name": "stderr",
     "output_type": "stream",
     "text": [
      "/Users/hema/opt/anaconda3/envs/DND/lib/python3.10/site-packages/urllib3/connectionpool.py:1099: InsecureRequestWarning: Unverified HTTPS request is being made to host 'api.us-south.discovery.watson.cloud.ibm.com'. Adding certificate verification is strongly advised. See: https://urllib3.readthedocs.io/en/latest/advanced-usage.html#tls-warnings\n",
      "  warnings.warn(\n"
     ]
    },
    {
     "name": "stdout",
     "output_type": "stream",
     "text": [
      "==========================================================\n",
      "\n",
      "Question No = 102\n",
      "Question = Will I be covered incase of natural calamities?\n"
     ]
    },
    {
     "name": "stderr",
     "output_type": "stream",
     "text": [
      "/Users/hema/opt/anaconda3/envs/DND/lib/python3.10/site-packages/urllib3/connectionpool.py:1099: InsecureRequestWarning: Unverified HTTPS request is being made to host 'api.us-south.discovery.watson.cloud.ibm.com'. Adding certificate verification is strongly advised. See: https://urllib3.readthedocs.io/en/latest/advanced-usage.html#tls-warnings\n",
      "  warnings.warn(\n"
     ]
    },
    {
     "name": "stdout",
     "output_type": "stream",
     "text": [
      "==========================================================\n",
      "\n",
      "Question No = 103\n",
      "Question = Will I be covered in case of terrorists attack?\n"
     ]
    },
    {
     "name": "stderr",
     "output_type": "stream",
     "text": [
      "/Users/hema/opt/anaconda3/envs/DND/lib/python3.10/site-packages/urllib3/connectionpool.py:1099: InsecureRequestWarning: Unverified HTTPS request is being made to host 'api.us-south.discovery.watson.cloud.ibm.com'. Adding certificate verification is strongly advised. See: https://urllib3.readthedocs.io/en/latest/advanced-usage.html#tls-warnings\n",
      "  warnings.warn(\n"
     ]
    },
    {
     "name": "stdout",
     "output_type": "stream",
     "text": [
      "==========================================================\n",
      "\n",
      "Question No = 104\n",
      "Question = Do you cover all kind of deaths?\n"
     ]
    },
    {
     "name": "stderr",
     "output_type": "stream",
     "text": [
      "/Users/hema/opt/anaconda3/envs/DND/lib/python3.10/site-packages/urllib3/connectionpool.py:1099: InsecureRequestWarning: Unverified HTTPS request is being made to host 'api.us-south.discovery.watson.cloud.ibm.com'. Adding certificate verification is strongly advised. See: https://urllib3.readthedocs.io/en/latest/advanced-usage.html#tls-warnings\n",
      "  warnings.warn(\n"
     ]
    },
    {
     "name": "stdout",
     "output_type": "stream",
     "text": [
      "==========================================================\n",
      "\n",
      "Question No = 105\n",
      "Question = Will I be covered incase of any form of death?\n"
     ]
    },
    {
     "name": "stderr",
     "output_type": "stream",
     "text": [
      "/Users/hema/opt/anaconda3/envs/DND/lib/python3.10/site-packages/urllib3/connectionpool.py:1099: InsecureRequestWarning: Unverified HTTPS request is being made to host 'api.us-south.discovery.watson.cloud.ibm.com'. Adding certificate verification is strongly advised. See: https://urllib3.readthedocs.io/en/latest/advanced-usage.html#tls-warnings\n",
      "  warnings.warn(\n"
     ]
    },
    {
     "name": "stdout",
     "output_type": "stream",
     "text": [
      "==========================================================\n",
      "\n",
      "Question No = 106\n",
      "Question = Does this plan provide tax benefits?\n"
     ]
    },
    {
     "name": "stderr",
     "output_type": "stream",
     "text": [
      "/Users/hema/opt/anaconda3/envs/DND/lib/python3.10/site-packages/urllib3/connectionpool.py:1099: InsecureRequestWarning: Unverified HTTPS request is being made to host 'api.us-south.discovery.watson.cloud.ibm.com'. Adding certificate verification is strongly advised. See: https://urllib3.readthedocs.io/en/latest/advanced-usage.html#tls-warnings\n",
      "  warnings.warn(\n"
     ]
    },
    {
     "name": "stdout",
     "output_type": "stream",
     "text": [
      "==========================================================\n",
      "\n",
      "Question No = 107\n",
      "Question = What are the tax benefits?\n"
     ]
    },
    {
     "name": "stderr",
     "output_type": "stream",
     "text": [
      "/Users/hema/opt/anaconda3/envs/DND/lib/python3.10/site-packages/urllib3/connectionpool.py:1099: InsecureRequestWarning: Unverified HTTPS request is being made to host 'api.us-south.discovery.watson.cloud.ibm.com'. Adding certificate verification is strongly advised. See: https://urllib3.readthedocs.io/en/latest/advanced-usage.html#tls-warnings\n",
      "  warnings.warn(\n"
     ]
    },
    {
     "name": "stdout",
     "output_type": "stream",
     "text": [
      "==========================================================\n",
      "\n",
      "Question No = 108\n",
      "Question = Do I get tax benefit under this plan?\n"
     ]
    },
    {
     "name": "stderr",
     "output_type": "stream",
     "text": [
      "/Users/hema/opt/anaconda3/envs/DND/lib/python3.10/site-packages/urllib3/connectionpool.py:1099: InsecureRequestWarning: Unverified HTTPS request is being made to host 'api.us-south.discovery.watson.cloud.ibm.com'. Adding certificate verification is strongly advised. See: https://urllib3.readthedocs.io/en/latest/advanced-usage.html#tls-warnings\n",
      "  warnings.warn(\n"
     ]
    },
    {
     "name": "stdout",
     "output_type": "stream",
     "text": [
      "==========================================================\n",
      "\n",
      "Question No = 109\n",
      "Question = What tax benefits do I get?\n"
     ]
    },
    {
     "name": "stderr",
     "output_type": "stream",
     "text": [
      "/Users/hema/opt/anaconda3/envs/DND/lib/python3.10/site-packages/urllib3/connectionpool.py:1099: InsecureRequestWarning: Unverified HTTPS request is being made to host 'api.us-south.discovery.watson.cloud.ibm.com'. Adding certificate verification is strongly advised. See: https://urllib3.readthedocs.io/en/latest/advanced-usage.html#tls-warnings\n",
      "  warnings.warn(\n"
     ]
    },
    {
     "name": "stdout",
     "output_type": "stream",
     "text": [
      "==========================================================\n",
      "\n",
      "Question No = 110\n",
      "Question = I am eligibel for tax benefits if I buy this product?\n"
     ]
    },
    {
     "name": "stderr",
     "output_type": "stream",
     "text": [
      "/Users/hema/opt/anaconda3/envs/DND/lib/python3.10/site-packages/urllib3/connectionpool.py:1099: InsecureRequestWarning: Unverified HTTPS request is being made to host 'api.us-south.discovery.watson.cloud.ibm.com'. Adding certificate verification is strongly advised. See: https://urllib3.readthedocs.io/en/latest/advanced-usage.html#tls-warnings\n",
      "  warnings.warn(\n"
     ]
    },
    {
     "name": "stdout",
     "output_type": "stream",
     "text": [
      "==========================================================\n",
      "\n",
      "Question No = 111\n",
      "Question = What all tax benefits are provied under this plan?\n"
     ]
    },
    {
     "name": "stderr",
     "output_type": "stream",
     "text": [
      "/Users/hema/opt/anaconda3/envs/DND/lib/python3.10/site-packages/urllib3/connectionpool.py:1099: InsecureRequestWarning: Unverified HTTPS request is being made to host 'api.us-south.discovery.watson.cloud.ibm.com'. Adding certificate verification is strongly advised. See: https://urllib3.readthedocs.io/en/latest/advanced-usage.html#tls-warnings\n",
      "  warnings.warn(\n"
     ]
    },
    {
     "name": "stdout",
     "output_type": "stream",
     "text": [
      "==========================================================\n",
      "\n",
      "Question No = 112\n",
      "Question = Can I buy this plan online?\n"
     ]
    },
    {
     "name": "stderr",
     "output_type": "stream",
     "text": [
      "/Users/hema/opt/anaconda3/envs/DND/lib/python3.10/site-packages/urllib3/connectionpool.py:1099: InsecureRequestWarning: Unverified HTTPS request is being made to host 'api.us-south.discovery.watson.cloud.ibm.com'. Adding certificate verification is strongly advised. See: https://urllib3.readthedocs.io/en/latest/advanced-usage.html#tls-warnings\n",
      "  warnings.warn(\n"
     ]
    },
    {
     "name": "stdout",
     "output_type": "stream",
     "text": [
      "==========================================================\n",
      "\n",
      "Question No = 113\n",
      "Question = Is this plan available online?\n"
     ]
    },
    {
     "name": "stderr",
     "output_type": "stream",
     "text": [
      "/Users/hema/opt/anaconda3/envs/DND/lib/python3.10/site-packages/urllib3/connectionpool.py:1099: InsecureRequestWarning: Unverified HTTPS request is being made to host 'api.us-south.discovery.watson.cloud.ibm.com'. Adding certificate verification is strongly advised. See: https://urllib3.readthedocs.io/en/latest/advanced-usage.html#tls-warnings\n",
      "  warnings.warn(\n"
     ]
    },
    {
     "name": "stdout",
     "output_type": "stream",
     "text": [
      "==========================================================\n",
      "\n",
      "Question No = 114\n",
      "Question = Any benefits of buying online?\n"
     ]
    },
    {
     "name": "stderr",
     "output_type": "stream",
     "text": [
      "/Users/hema/opt/anaconda3/envs/DND/lib/python3.10/site-packages/urllib3/connectionpool.py:1099: InsecureRequestWarning: Unverified HTTPS request is being made to host 'api.us-south.discovery.watson.cloud.ibm.com'. Adding certificate verification is strongly advised. See: https://urllib3.readthedocs.io/en/latest/advanced-usage.html#tls-warnings\n",
      "  warnings.warn(\n"
     ]
    },
    {
     "name": "stdout",
     "output_type": "stream",
     "text": [
      "==========================================================\n",
      "\n",
      "Question No = 115\n",
      "Question = Can I purchase this product online?\n"
     ]
    },
    {
     "name": "stderr",
     "output_type": "stream",
     "text": [
      "/Users/hema/opt/anaconda3/envs/DND/lib/python3.10/site-packages/urllib3/connectionpool.py:1099: InsecureRequestWarning: Unverified HTTPS request is being made to host 'api.us-south.discovery.watson.cloud.ibm.com'. Adding certificate verification is strongly advised. See: https://urllib3.readthedocs.io/en/latest/advanced-usage.html#tls-warnings\n",
      "  warnings.warn(\n"
     ]
    },
    {
     "name": "stdout",
     "output_type": "stream",
     "text": [
      "==========================================================\n",
      "\n",
      "Question No = 116\n",
      "Question = Is this plan available online?\n"
     ]
    },
    {
     "name": "stderr",
     "output_type": "stream",
     "text": [
      "/Users/hema/opt/anaconda3/envs/DND/lib/python3.10/site-packages/urllib3/connectionpool.py:1099: InsecureRequestWarning: Unverified HTTPS request is being made to host 'api.us-south.discovery.watson.cloud.ibm.com'. Adding certificate verification is strongly advised. See: https://urllib3.readthedocs.io/en/latest/advanced-usage.html#tls-warnings\n",
      "  warnings.warn(\n"
     ]
    },
    {
     "name": "stdout",
     "output_type": "stream",
     "text": [
      "==========================================================\n",
      "\n",
      "Question No = 117\n",
      "Question = Can I buy  this plan on my mobile phone?\n"
     ]
    },
    {
     "name": "stderr",
     "output_type": "stream",
     "text": [
      "/Users/hema/opt/anaconda3/envs/DND/lib/python3.10/site-packages/urllib3/connectionpool.py:1099: InsecureRequestWarning: Unverified HTTPS request is being made to host 'api.us-south.discovery.watson.cloud.ibm.com'. Adding certificate verification is strongly advised. See: https://urllib3.readthedocs.io/en/latest/advanced-usage.html#tls-warnings\n",
      "  warnings.warn(\n"
     ]
    },
    {
     "name": "stdout",
     "output_type": "stream",
     "text": [
      "==========================================================\n",
      "\n",
      "Question No = 118\n",
      "Question = Is MWPA applicable to this product?\n"
     ]
    },
    {
     "name": "stderr",
     "output_type": "stream",
     "text": [
      "/Users/hema/opt/anaconda3/envs/DND/lib/python3.10/site-packages/urllib3/connectionpool.py:1099: InsecureRequestWarning: Unverified HTTPS request is being made to host 'api.us-south.discovery.watson.cloud.ibm.com'. Adding certificate verification is strongly advised. See: https://urllib3.readthedocs.io/en/latest/advanced-usage.html#tls-warnings\n",
      "  warnings.warn(\n"
     ]
    },
    {
     "name": "stdout",
     "output_type": "stream",
     "text": [
      "==========================================================\n",
      "\n",
      "Question No = 119\n",
      "Question = Is death due to suicide included in this plan?\n"
     ]
    },
    {
     "name": "stderr",
     "output_type": "stream",
     "text": [
      "/Users/hema/opt/anaconda3/envs/DND/lib/python3.10/site-packages/urllib3/connectionpool.py:1099: InsecureRequestWarning: Unverified HTTPS request is being made to host 'api.us-south.discovery.watson.cloud.ibm.com'. Adding certificate verification is strongly advised. See: https://urllib3.readthedocs.io/en/latest/advanced-usage.html#tls-warnings\n",
      "  warnings.warn(\n"
     ]
    },
    {
     "name": "stdout",
     "output_type": "stream",
     "text": [
      "==========================================================\n",
      "\n",
      "Question No = 120\n",
      "Question = Is suicide covered under this product?\n"
     ]
    },
    {
     "name": "stderr",
     "output_type": "stream",
     "text": [
      "/Users/hema/opt/anaconda3/envs/DND/lib/python3.10/site-packages/urllib3/connectionpool.py:1099: InsecureRequestWarning: Unverified HTTPS request is being made to host 'api.us-south.discovery.watson.cloud.ibm.com'. Adding certificate verification is strongly advised. See: https://urllib3.readthedocs.io/en/latest/advanced-usage.html#tls-warnings\n",
      "  warnings.warn(\n"
     ]
    },
    {
     "name": "stdout",
     "output_type": "stream",
     "text": [
      "==========================================================\n",
      "\n",
      "Question No = 121\n",
      "Question = Will I be covered for suicide?\n"
     ]
    },
    {
     "name": "stderr",
     "output_type": "stream",
     "text": [
      "/Users/hema/opt/anaconda3/envs/DND/lib/python3.10/site-packages/urllib3/connectionpool.py:1099: InsecureRequestWarning: Unverified HTTPS request is being made to host 'api.us-south.discovery.watson.cloud.ibm.com'. Adding certificate verification is strongly advised. See: https://urllib3.readthedocs.io/en/latest/advanced-usage.html#tls-warnings\n",
      "  warnings.warn(\n"
     ]
    },
    {
     "name": "stdout",
     "output_type": "stream",
     "text": [
      "==========================================================\n",
      "\n",
      "Question No = 122\n",
      "Question = Does this plan cover suicide?\n"
     ]
    },
    {
     "name": "stderr",
     "output_type": "stream",
     "text": [
      "/Users/hema/opt/anaconda3/envs/DND/lib/python3.10/site-packages/urllib3/connectionpool.py:1099: InsecureRequestWarning: Unverified HTTPS request is being made to host 'api.us-south.discovery.watson.cloud.ibm.com'. Adding certificate verification is strongly advised. See: https://urllib3.readthedocs.io/en/latest/advanced-usage.html#tls-warnings\n",
      "  warnings.warn(\n"
     ]
    },
    {
     "name": "stdout",
     "output_type": "stream",
     "text": [
      "==========================================================\n",
      "\n",
      "Question No = 123\n",
      "Question = Do I get covered for suicide if I buy this plan?\n"
     ]
    },
    {
     "name": "stderr",
     "output_type": "stream",
     "text": [
      "/Users/hema/opt/anaconda3/envs/DND/lib/python3.10/site-packages/urllib3/connectionpool.py:1099: InsecureRequestWarning: Unverified HTTPS request is being made to host 'api.us-south.discovery.watson.cloud.ibm.com'. Adding certificate verification is strongly advised. See: https://urllib3.readthedocs.io/en/latest/advanced-usage.html#tls-warnings\n",
      "  warnings.warn(\n"
     ]
    },
    {
     "name": "stdout",
     "output_type": "stream",
     "text": [
      "==========================================================\n",
      "\n",
      "Question No = 124\n",
      "Question = Do you cover suicide?\n"
     ]
    },
    {
     "name": "stderr",
     "output_type": "stream",
     "text": [
      "/Users/hema/opt/anaconda3/envs/DND/lib/python3.10/site-packages/urllib3/connectionpool.py:1099: InsecureRequestWarning: Unverified HTTPS request is being made to host 'api.us-south.discovery.watson.cloud.ibm.com'. Adding certificate verification is strongly advised. See: https://urllib3.readthedocs.io/en/latest/advanced-usage.html#tls-warnings\n",
      "  warnings.warn(\n"
     ]
    },
    {
     "name": "stdout",
     "output_type": "stream",
     "text": [
      "==========================================================\n",
      "\n",
      "Question No = 125\n",
      "Question = At what age can I start this plan?\n"
     ]
    },
    {
     "name": "stderr",
     "output_type": "stream",
     "text": [
      "/Users/hema/opt/anaconda3/envs/DND/lib/python3.10/site-packages/urllib3/connectionpool.py:1099: InsecureRequestWarning: Unverified HTTPS request is being made to host 'api.us-south.discovery.watson.cloud.ibm.com'. Adding certificate verification is strongly advised. See: https://urllib3.readthedocs.io/en/latest/advanced-usage.html#tls-warnings\n",
      "  warnings.warn(\n"
     ]
    },
    {
     "name": "stdout",
     "output_type": "stream",
     "text": [
      "==========================================================\n",
      "\n",
      "Question No = 126\n",
      "Question = What is the minimum age for this plan?\n"
     ]
    },
    {
     "name": "stderr",
     "output_type": "stream",
     "text": [
      "/Users/hema/opt/anaconda3/envs/DND/lib/python3.10/site-packages/urllib3/connectionpool.py:1099: InsecureRequestWarning: Unverified HTTPS request is being made to host 'api.us-south.discovery.watson.cloud.ibm.com'. Adding certificate verification is strongly advised. See: https://urllib3.readthedocs.io/en/latest/advanced-usage.html#tls-warnings\n",
      "  warnings.warn(\n"
     ]
    },
    {
     "name": "stdout",
     "output_type": "stream",
     "text": [
      "==========================================================\n",
      "\n",
      "Question No = 127\n",
      "Question = What is age at entry for this product?\n"
     ]
    },
    {
     "name": "stderr",
     "output_type": "stream",
     "text": [
      "/Users/hema/opt/anaconda3/envs/DND/lib/python3.10/site-packages/urllib3/connectionpool.py:1099: InsecureRequestWarning: Unverified HTTPS request is being made to host 'api.us-south.discovery.watson.cloud.ibm.com'. Adding certificate verification is strongly advised. See: https://urllib3.readthedocs.io/en/latest/advanced-usage.html#tls-warnings\n",
      "  warnings.warn(\n"
     ]
    },
    {
     "name": "stdout",
     "output_type": "stream",
     "text": [
      "==========================================================\n",
      "\n",
      "Question No = 128\n",
      "Question = What is the maximum age under this product??\n"
     ]
    },
    {
     "name": "stderr",
     "output_type": "stream",
     "text": [
      "/Users/hema/opt/anaconda3/envs/DND/lib/python3.10/site-packages/urllib3/connectionpool.py:1099: InsecureRequestWarning: Unverified HTTPS request is being made to host 'api.us-south.discovery.watson.cloud.ibm.com'. Adding certificate verification is strongly advised. See: https://urllib3.readthedocs.io/en/latest/advanced-usage.html#tls-warnings\n",
      "  warnings.warn(\n"
     ]
    },
    {
     "name": "stdout",
     "output_type": "stream",
     "text": [
      "==========================================================\n",
      "\n",
      "Question No = 129\n",
      "Question = How soon can this plan start?\n"
     ]
    },
    {
     "name": "stderr",
     "output_type": "stream",
     "text": [
      "/Users/hema/opt/anaconda3/envs/DND/lib/python3.10/site-packages/urllib3/connectionpool.py:1099: InsecureRequestWarning: Unverified HTTPS request is being made to host 'api.us-south.discovery.watson.cloud.ibm.com'. Adding certificate verification is strongly advised. See: https://urllib3.readthedocs.io/en/latest/advanced-usage.html#tls-warnings\n",
      "  warnings.warn(\n"
     ]
    },
    {
     "name": "stdout",
     "output_type": "stream",
     "text": [
      "==========================================================\n",
      "\n",
      "Question No = 130\n",
      "Question = How much premium do I have to pay?\n"
     ]
    },
    {
     "name": "stderr",
     "output_type": "stream",
     "text": [
      "/Users/hema/opt/anaconda3/envs/DND/lib/python3.10/site-packages/urllib3/connectionpool.py:1099: InsecureRequestWarning: Unverified HTTPS request is being made to host 'api.us-south.discovery.watson.cloud.ibm.com'. Adding certificate verification is strongly advised. See: https://urllib3.readthedocs.io/en/latest/advanced-usage.html#tls-warnings\n",
      "  warnings.warn(\n"
     ]
    },
    {
     "name": "stdout",
     "output_type": "stream",
     "text": [
      "==========================================================\n",
      "\n",
      "Question No = 131\n",
      "Question = What is the premium amount that I will have to pay?\n"
     ]
    },
    {
     "name": "stderr",
     "output_type": "stream",
     "text": [
      "/Users/hema/opt/anaconda3/envs/DND/lib/python3.10/site-packages/urllib3/connectionpool.py:1099: InsecureRequestWarning: Unverified HTTPS request is being made to host 'api.us-south.discovery.watson.cloud.ibm.com'. Adding certificate verification is strongly advised. See: https://urllib3.readthedocs.io/en/latest/advanced-usage.html#tls-warnings\n",
      "  warnings.warn(\n"
     ]
    },
    {
     "name": "stdout",
     "output_type": "stream",
     "text": [
      "==========================================================\n",
      "\n",
      "Question No = 132\n",
      "Question = What is the minimum premium for this product?\n"
     ]
    },
    {
     "name": "stderr",
     "output_type": "stream",
     "text": [
      "/Users/hema/opt/anaconda3/envs/DND/lib/python3.10/site-packages/urllib3/connectionpool.py:1099: InsecureRequestWarning: Unverified HTTPS request is being made to host 'api.us-south.discovery.watson.cloud.ibm.com'. Adding certificate verification is strongly advised. See: https://urllib3.readthedocs.io/en/latest/advanced-usage.html#tls-warnings\n",
      "  warnings.warn(\n"
     ]
    },
    {
     "name": "stdout",
     "output_type": "stream",
     "text": [
      "==========================================================\n",
      "\n",
      "Question No = 133\n",
      "Question = How much do I have to pay?\n"
     ]
    },
    {
     "name": "stderr",
     "output_type": "stream",
     "text": [
      "/Users/hema/opt/anaconda3/envs/DND/lib/python3.10/site-packages/urllib3/connectionpool.py:1099: InsecureRequestWarning: Unverified HTTPS request is being made to host 'api.us-south.discovery.watson.cloud.ibm.com'. Adding certificate verification is strongly advised. See: https://urllib3.readthedocs.io/en/latest/advanced-usage.html#tls-warnings\n",
      "  warnings.warn(\n"
     ]
    },
    {
     "name": "stdout",
     "output_type": "stream",
     "text": [
      "==========================================================\n",
      "\n",
      "Question No = 134\n",
      "Question = How much Critical IllnessÂ Benefit can I choose?\n"
     ]
    },
    {
     "name": "stderr",
     "output_type": "stream",
     "text": [
      "/Users/hema/opt/anaconda3/envs/DND/lib/python3.10/site-packages/urllib3/connectionpool.py:1099: InsecureRequestWarning: Unverified HTTPS request is being made to host 'api.us-south.discovery.watson.cloud.ibm.com'. Adding certificate verification is strongly advised. See: https://urllib3.readthedocs.io/en/latest/advanced-usage.html#tls-warnings\n",
      "  warnings.warn(\n"
     ]
    },
    {
     "name": "stdout",
     "output_type": "stream",
     "text": [
      "==========================================================\n",
      "\n",
      "Question No = 135\n",
      "Question = What is  the maximum cover amount for critical illness?\n"
     ]
    },
    {
     "name": "stderr",
     "output_type": "stream",
     "text": [
      "/Users/hema/opt/anaconda3/envs/DND/lib/python3.10/site-packages/urllib3/connectionpool.py:1099: InsecureRequestWarning: Unverified HTTPS request is being made to host 'api.us-south.discovery.watson.cloud.ibm.com'. Adding certificate verification is strongly advised. See: https://urllib3.readthedocs.io/en/latest/advanced-usage.html#tls-warnings\n",
      "  warnings.warn(\n"
     ]
    },
    {
     "name": "stdout",
     "output_type": "stream",
     "text": [
      "==========================================================\n",
      "\n",
      "Question No = 136\n",
      "Question = What is the minimum cover amount for critical illness?\n"
     ]
    },
    {
     "name": "stderr",
     "output_type": "stream",
     "text": [
      "/Users/hema/opt/anaconda3/envs/DND/lib/python3.10/site-packages/urllib3/connectionpool.py:1099: InsecureRequestWarning: Unverified HTTPS request is being made to host 'api.us-south.discovery.watson.cloud.ibm.com'. Adding certificate verification is strongly advised. See: https://urllib3.readthedocs.io/en/latest/advanced-usage.html#tls-warnings\n",
      "  warnings.warn(\n"
     ]
    },
    {
     "name": "stdout",
     "output_type": "stream",
     "text": [
      "==========================================================\n",
      "\n",
      "Question No = 137\n",
      "Question = How much critical illenss cover can I take?\n"
     ]
    },
    {
     "name": "stderr",
     "output_type": "stream",
     "text": [
      "/Users/hema/opt/anaconda3/envs/DND/lib/python3.10/site-packages/urllib3/connectionpool.py:1099: InsecureRequestWarning: Unverified HTTPS request is being made to host 'api.us-south.discovery.watson.cloud.ibm.com'. Adding certificate verification is strongly advised. See: https://urllib3.readthedocs.io/en/latest/advanced-usage.html#tls-warnings\n",
      "  warnings.warn(\n"
     ]
    },
    {
     "name": "stdout",
     "output_type": "stream",
     "text": [
      "==========================================================\n",
      "\n",
      "Question No = 138\n",
      "Question = When do I receive Critical illness pay-out?\n"
     ]
    },
    {
     "name": "stderr",
     "output_type": "stream",
     "text": [
      "/Users/hema/opt/anaconda3/envs/DND/lib/python3.10/site-packages/urllib3/connectionpool.py:1099: InsecureRequestWarning: Unverified HTTPS request is being made to host 'api.us-south.discovery.watson.cloud.ibm.com'. Adding certificate verification is strongly advised. See: https://urllib3.readthedocs.io/en/latest/advanced-usage.html#tls-warnings\n",
      "  warnings.warn(\n"
     ]
    },
    {
     "name": "stdout",
     "output_type": "stream",
     "text": [
      "==========================================================\n",
      "\n",
      "Question No = 139\n",
      "Question = When can I claim critical illness benefit?\n"
     ]
    },
    {
     "name": "stderr",
     "output_type": "stream",
     "text": [
      "/Users/hema/opt/anaconda3/envs/DND/lib/python3.10/site-packages/urllib3/connectionpool.py:1099: InsecureRequestWarning: Unverified HTTPS request is being made to host 'api.us-south.discovery.watson.cloud.ibm.com'. Adding certificate verification is strongly advised. See: https://urllib3.readthedocs.io/en/latest/advanced-usage.html#tls-warnings\n",
      "  warnings.warn(\n"
     ]
    },
    {
     "name": "stdout",
     "output_type": "stream",
     "text": [
      "==========================================================\n",
      "\n",
      "Question No = 140\n",
      "Question = When can I get critical illness pay-out?\n"
     ]
    },
    {
     "name": "stderr",
     "output_type": "stream",
     "text": [
      "/Users/hema/opt/anaconda3/envs/DND/lib/python3.10/site-packages/urllib3/connectionpool.py:1099: InsecureRequestWarning: Unverified HTTPS request is being made to host 'api.us-south.discovery.watson.cloud.ibm.com'. Adding certificate verification is strongly advised. See: https://urllib3.readthedocs.io/en/latest/advanced-usage.html#tls-warnings\n",
      "  warnings.warn(\n"
     ]
    },
    {
     "name": "stdout",
     "output_type": "stream",
     "text": [
      "==========================================================\n",
      "\n",
      "tsv file with questions and query results created\n",
      "Number of questions processed = 140\n"
     ]
    }
   ],
   "source": [
    "output_file = open(\"./training_file.tsv\", \"w\")\n",
    "writer = csv.writer(output_file, delimiter=\"\\t\")\n",
    "try:\n",
    "    project_id = 'acfe53ea-a6e5-4c1d-a05c-352a145a4ca3'\n",
    "\n",
    "    with open(\"./Questions.txt\", encoding=\"Windows 1252\") as questions:\n",
    "        noOfQuestions = 0\n",
    "        for line in questions:\n",
    "            print(\"Question No = \" + str(noOfQuestions + 1))\n",
    "            question = line.replace(\"\\n\", \"\")\n",
    "            print(\"Question = \" + question)\n",
    "\n",
    "            question = \"%s\" % (question)\n",
    "\n",
    "            # run Discovery query to get results from untrained service\n",
    "            result = discovery.query(\n",
    "                project_id=project_id,\n",
    "                query=question,\n",
    "                count=5\n",
    "            ).get_result()\n",
    "\n",
    "            #print(\"Query Response = \" + json.dumps(result))\n",
    "\n",
    "            # create a row for each query and results\n",
    "            result_list = [question]\n",
    "            for resultDoc in result[\"results\"]:\n",
    "                id = resultDoc[\"document_id\"]\n",
    "                text = resultDoc[\"text\"]\n",
    "                if(len(text) > 1000):\n",
    "                    text = text[:1000]\n",
    "                # leave a space to enter a relevance label for each doc\n",
    "                result_list.extend([id, text, ' '])\n",
    "\n",
    "            # write the row to the file\n",
    "            writer.writerow(result_list)\n",
    "            noOfQuestions = noOfQuestions + 1\n",
    "            print(\"==========================================================\")\n",
    "            print(\"\")\n",
    "    print(\"tsv file with questions and query results created\")\n",
    "    print(\"Number of questions processed = \" + str(noOfQuestions))\n",
    "    output_file.close()\n",
    "except Exception as e:\n",
    "    print(\"Exception occurred ####### \")\n",
    "    print(e)\n"
   ]
  },
  {
   "cell_type": "code",
   "execution_count": null,
   "id": "efb502e7-fa00-4917-aa86-986af1e7492d",
   "metadata": {},
   "outputs": [],
   "source": []
  }
 ],
 "metadata": {
  "kernelspec": {
   "display_name": "Python 3 (ipykernel)",
   "language": "python",
   "name": "python3"
  },
  "language_info": {
   "codemirror_mode": {
    "name": "ipython",
    "version": 3
   },
   "file_extension": ".py",
   "mimetype": "text/x-python",
   "name": "python",
   "nbconvert_exporter": "python",
   "pygments_lexer": "ipython3",
   "version": "3.10.13"
  }
 },
 "nbformat": 4,
 "nbformat_minor": 5
}
