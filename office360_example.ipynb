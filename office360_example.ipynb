{
 "cells": [
  {
   "cell_type": "code",
   "execution_count": 2,
   "metadata": {},
   "outputs": [],
   "source": [
    "from office365.runtime.auth.authentication_context import AuthenticationContext\n",
    "from office365.sharepoint.client_context import ClientContext\n",
    "from office365.sharepoint.userprofiles.people_manager import PeopleManager\n",
    "\n"
   ]
  },
  {
   "cell_type": "code",
   "execution_count": 14,
   "metadata": {},
   "outputs": [],
   "source": [
    "\n",
    "host = 'https://ops.hub.videotron.com/'\n",
    "username = \"videotron\\\\sysshppelastic\"\n",
    "pwd = \"HPuT87?-BuwHH7jr\"\n",
    "\n",
    "def get_user_profile(email):\n",
    "    try:\n",
    "        # Authenticate with SharePoint\n",
    "        auth_context = AuthenticationContext(host)\n",
    "        if auth_context.acquire_token_for_user(username, pwd):\n",
    "            ctx = ClientContext(host, auth_context)\n",
    "            people_manager = PeopleManager(ctx)\n",
    "\n",
    "            # Fetch user profile by email\n",
    "            user_profile = people_manager.get_properties_for(email)\n",
    "            ctx.execute_query()\n",
    "\n",
    "            return user_profile.properties\n",
    "        else:\n",
    "            print(\"Failed to authenticate with SharePoint\")\n",
    "            return None\n",
    "    except Exception as e:\n",
    "        print(f\"An error occurred: {e}\")\n",
    "        return None\n"
   ]
  },
  {
   "cell_type": "code",
   "execution_count": 16,
   "metadata": {},
   "outputs": [
    {
     "name": "stderr",
     "output_type": "stream",
     "text": [
      "Cannot get binary security token for from https://login.microsoftonline.com/extSTS.srf\n"
     ]
    },
    {
     "name": "stdout",
     "output_type": "stream",
     "text": [
      "An error occurred: Cannot get binary security token for from https://login.microsoftonline.com/extSTS.srf\n"
     ]
    }
   ],
   "source": [
    "get_user_profile(\"sysshppelastic@videotron.com\")"
   ]
  },
  {
   "cell_type": "code",
   "execution_count": 3,
   "metadata": {},
   "outputs": [
    {
     "name": "stdout",
     "output_type": "stream",
     "text": [
      "<office365.sharepoint.userprofiles.people_manager.PeopleManager object at 0x7feb00d562f0>\n"
     ]
    }
   ],
   "source": [
    "\n",
    "host = 'https://ops.hub.videotron.com/'\n",
    "username = \"videotron\\\\sysshppelastic\"\n",
    "pwd = \"HPuT87?-BuwHH7jr\"\n",
    "\n",
    "auth_context = AuthenticationContext(host)\n",
    "if auth_context.acquire_token_for_user(username, pwd):\n",
    "    ctx = ClientContext(host, auth_context)\n",
    "    people_manager = PeopleManager(ctx)\n",
    "    print(people_manager)"
   ]
  },
  {
   "cell_type": "code",
   "execution_count": 8,
   "metadata": {},
   "outputs": [
    {
     "name": "stderr",
     "output_type": "stream",
     "text": [
      "Cannot get binary security token for from https://login.microsoftonline.com/extSTS.srf\n"
     ]
    },
    {
     "ename": "ValueError",
     "evalue": "Cannot get binary security token for from https://login.microsoftonline.com/extSTS.srf",
     "output_type": "error",
     "traceback": [
      "\u001b[0;31m---------------------------------------------------------------------------\u001b[0m",
      "\u001b[0;31mValueError\u001b[0m                                Traceback (most recent call last)",
      "Cell \u001b[0;32mIn[8], line 2\u001b[0m\n\u001b[1;32m      1\u001b[0m profile \u001b[38;5;241m=\u001b[39m people_manager\u001b[38;5;241m.\u001b[39mget_properties_for(username)\n\u001b[0;32m----> 2\u001b[0m \u001b[43mctx\u001b[49m\u001b[38;5;241;43m.\u001b[39;49m\u001b[43mexecute_query\u001b[49m\u001b[43m(\u001b[49m\u001b[43m)\u001b[49m\n",
      "File \u001b[0;32m~/opt/anaconda3/envs/DND/lib/python3.10/site-packages/office365/runtime/client_runtime_context.py:173\u001b[0m, in \u001b[0;36mClientRuntimeContext.execute_query\u001b[0;34m(self)\u001b[0m\n\u001b[1;32m    171\u001b[0m \u001b[38;5;28;01mwhile\u001b[39;00m \u001b[38;5;28mself\u001b[39m\u001b[38;5;241m.\u001b[39mhas_pending_request:\n\u001b[1;32m    172\u001b[0m     qry \u001b[38;5;241m=\u001b[39m \u001b[38;5;28mself\u001b[39m\u001b[38;5;241m.\u001b[39m_get_next_query()\n\u001b[0;32m--> 173\u001b[0m     \u001b[38;5;28;43mself\u001b[39;49m\u001b[38;5;241;43m.\u001b[39;49m\u001b[43mpending_request\u001b[49m\u001b[43m(\u001b[49m\u001b[43m)\u001b[49m\u001b[38;5;241;43m.\u001b[39;49m\u001b[43mexecute_query\u001b[49m\u001b[43m(\u001b[49m\u001b[43mqry\u001b[49m\u001b[43m)\u001b[49m\n\u001b[1;32m    174\u001b[0m \u001b[38;5;28;01mreturn\u001b[39;00m \u001b[38;5;28mself\u001b[39m\n",
      "File \u001b[0;32m~/opt/anaconda3/envs/DND/lib/python3.10/site-packages/office365/runtime/client_request.py:37\u001b[0m, in \u001b[0;36mClientRequest.execute_query\u001b[0;34m(self, query)\u001b[0m\n\u001b[1;32m     35\u001b[0m \u001b[38;5;28;01mtry\u001b[39;00m:\n\u001b[1;32m     36\u001b[0m     request \u001b[38;5;241m=\u001b[39m \u001b[38;5;28mself\u001b[39m\u001b[38;5;241m.\u001b[39mbuild_request(query)\n\u001b[0;32m---> 37\u001b[0m     response \u001b[38;5;241m=\u001b[39m \u001b[38;5;28;43mself\u001b[39;49m\u001b[38;5;241;43m.\u001b[39;49m\u001b[43mexecute_request_direct\u001b[49m\u001b[43m(\u001b[49m\u001b[43mrequest\u001b[49m\u001b[43m)\u001b[49m\n\u001b[1;32m     38\u001b[0m     \u001b[38;5;28mself\u001b[39m\u001b[38;5;241m.\u001b[39mprocess_response(response, query)\n\u001b[1;32m     39\u001b[0m     \u001b[38;5;28mself\u001b[39m\u001b[38;5;241m.\u001b[39mafterExecute\u001b[38;5;241m.\u001b[39mnotify(response)\n",
      "File \u001b[0;32m~/opt/anaconda3/envs/DND/lib/python3.10/site-packages/office365/runtime/client_request.py:46\u001b[0m, in \u001b[0;36mClientRequest.execute_request_direct\u001b[0;34m(self, request)\u001b[0m\n\u001b[1;32m     43\u001b[0m \u001b[38;5;28;01mdef\u001b[39;00m \u001b[38;5;21mexecute_request_direct\u001b[39m(\u001b[38;5;28mself\u001b[39m, request):\n\u001b[1;32m     44\u001b[0m     \u001b[38;5;66;03m# type: (RequestOptions) -> requests.Response\u001b[39;00m\n\u001b[1;32m     45\u001b[0m \u001b[38;5;250m    \u001b[39m\u001b[38;5;124;03m\"\"\"Execute the client request\"\"\"\u001b[39;00m\n\u001b[0;32m---> 46\u001b[0m     \u001b[38;5;28;43mself\u001b[39;49m\u001b[38;5;241;43m.\u001b[39;49m\u001b[43mbeforeExecute\u001b[49m\u001b[38;5;241;43m.\u001b[39;49m\u001b[43mnotify\u001b[49m\u001b[43m(\u001b[49m\u001b[43mrequest\u001b[49m\u001b[43m)\u001b[49m\n\u001b[1;32m     47\u001b[0m     \u001b[38;5;28;01mif\u001b[39;00m request\u001b[38;5;241m.\u001b[39mmethod \u001b[38;5;241m==\u001b[39m HttpMethod\u001b[38;5;241m.\u001b[39mPost:\n\u001b[1;32m     48\u001b[0m         \u001b[38;5;28;01mif\u001b[39;00m request\u001b[38;5;241m.\u001b[39mis_bytes \u001b[38;5;129;01mor\u001b[39;00m request\u001b[38;5;241m.\u001b[39mis_file:\n",
      "File \u001b[0;32m~/opt/anaconda3/envs/DND/lib/python3.10/site-packages/office365/runtime/types/event_handler.py:41\u001b[0m, in \u001b[0;36mEventHandler.notify\u001b[0;34m(self, *args, **kwargs)\u001b[0m\n\u001b[1;32m     39\u001b[0m \u001b[38;5;28;01mif\u001b[39;00m \u001b[38;5;28mself\u001b[39m\u001b[38;5;241m.\u001b[39m_once:\n\u001b[1;32m     40\u001b[0m     \u001b[38;5;28mself\u001b[39m\u001b[38;5;241m.\u001b[39m_listeners\u001b[38;5;241m.\u001b[39mremove(listener)\n\u001b[0;32m---> 41\u001b[0m \u001b[43mlistener\u001b[49m\u001b[43m(\u001b[49m\u001b[38;5;241;43m*\u001b[39;49m\u001b[43margs\u001b[49m\u001b[43m,\u001b[49m\u001b[43m \u001b[49m\u001b[38;5;241;43m*\u001b[39;49m\u001b[38;5;241;43m*\u001b[39;49m\u001b[43mkwargs\u001b[49m\u001b[43m)\u001b[49m\n",
      "File \u001b[0;32m~/opt/anaconda3/envs/DND/lib/python3.10/site-packages/office365/sharepoint/client_context.py:284\u001b[0m, in \u001b[0;36mClientContext._authenticate_request\u001b[0;34m(self, request)\u001b[0m\n\u001b[1;32m    281\u001b[0m \u001b[38;5;28;01mdef\u001b[39;00m \u001b[38;5;21m_authenticate_request\u001b[39m(\u001b[38;5;28mself\u001b[39m, request):\n\u001b[1;32m    282\u001b[0m     \u001b[38;5;66;03m# type: (RequestOptions) -> None\u001b[39;00m\n\u001b[1;32m    283\u001b[0m \u001b[38;5;250m    \u001b[39m\u001b[38;5;124;03m\"\"\"Authenticate request\"\"\"\u001b[39;00m\n\u001b[0;32m--> 284\u001b[0m     \u001b[38;5;28;43mself\u001b[39;49m\u001b[38;5;241;43m.\u001b[39;49m\u001b[43mauthentication_context\u001b[49m\u001b[38;5;241;43m.\u001b[39;49m\u001b[43mauthenticate_request\u001b[49m\u001b[43m(\u001b[49m\u001b[43mrequest\u001b[49m\u001b[43m)\u001b[49m\n",
      "File \u001b[0;32m~/opt/anaconda3/envs/DND/lib/python3.10/site-packages/office365/runtime/auth/authentication_context.py:249\u001b[0m, in \u001b[0;36mAuthenticationContext.authenticate_request\u001b[0;34m(self, request)\u001b[0m\n\u001b[1;32m    247\u001b[0m \u001b[38;5;28;01mif\u001b[39;00m \u001b[38;5;28mself\u001b[39m\u001b[38;5;241m.\u001b[39m_authenticate \u001b[38;5;129;01mis\u001b[39;00m \u001b[38;5;28;01mNone\u001b[39;00m:\n\u001b[1;32m    248\u001b[0m     \u001b[38;5;28;01mraise\u001b[39;00m \u001b[38;5;167;01mValueError\u001b[39;00m(\u001b[38;5;124m\"\u001b[39m\u001b[38;5;124mAuthentication credentials are missing or invalid\u001b[39m\u001b[38;5;124m\"\u001b[39m)\n\u001b[0;32m--> 249\u001b[0m \u001b[38;5;28;43mself\u001b[39;49m\u001b[38;5;241;43m.\u001b[39;49m\u001b[43m_authenticate\u001b[49m\u001b[43m(\u001b[49m\u001b[43mrequest\u001b[49m\u001b[43m)\u001b[49m\n",
      "File \u001b[0;32m~/opt/anaconda3/envs/DND/lib/python3.10/site-packages/office365/runtime/auth/authentication_context.py:222\u001b[0m, in \u001b[0;36mAuthenticationContext.acquire_token_for_user.<locals>._authenticate\u001b[0;34m(request)\u001b[0m\n\u001b[1;32m    221\u001b[0m \u001b[38;5;28;01mdef\u001b[39;00m \u001b[38;5;21m_authenticate\u001b[39m(request):\n\u001b[0;32m--> 222\u001b[0m     \u001b[43mprovider\u001b[49m\u001b[38;5;241;43m.\u001b[39;49m\u001b[43mauthenticate_request\u001b[49m\u001b[43m(\u001b[49m\u001b[43mrequest\u001b[49m\u001b[43m)\u001b[49m\n",
      "File \u001b[0;32m~/opt/anaconda3/envs/DND/lib/python3.10/site-packages/office365/runtime/auth/providers/saml_token_provider.py:85\u001b[0m, in \u001b[0;36mSamlTokenProvider.authenticate_request\u001b[0;34m(self, request)\u001b[0m\n\u001b[1;32m     81\u001b[0m \u001b[38;5;250m\u001b[39m\u001b[38;5;124;03m\"\"\"\u001b[39;00m\n\u001b[1;32m     82\u001b[0m \u001b[38;5;124;03mAuthenticate request handler\u001b[39;00m\n\u001b[1;32m     83\u001b[0m \u001b[38;5;124;03m\"\"\"\u001b[39;00m\n\u001b[1;32m     84\u001b[0m logger \u001b[38;5;241m=\u001b[39m \u001b[38;5;28mself\u001b[39m\u001b[38;5;241m.\u001b[39mlogger(\u001b[38;5;28mself\u001b[39m\u001b[38;5;241m.\u001b[39mauthenticate_request\u001b[38;5;241m.\u001b[39m\u001b[38;5;18m__name__\u001b[39m)\n\u001b[0;32m---> 85\u001b[0m \u001b[38;5;28;43mself\u001b[39;49m\u001b[38;5;241;43m.\u001b[39;49m\u001b[43mensure_authentication_cookie\u001b[49m\u001b[43m(\u001b[49m\u001b[43m)\u001b[49m\n\u001b[1;32m     86\u001b[0m logger\u001b[38;5;241m.\u001b[39mdebug_secrets(\u001b[38;5;28mself\u001b[39m\u001b[38;5;241m.\u001b[39m_cached_auth_cookies)\n\u001b[1;32m     87\u001b[0m cookie_header_value \u001b[38;5;241m=\u001b[39m \u001b[38;5;124m\"\u001b[39m\u001b[38;5;124m; \u001b[39m\u001b[38;5;124m\"\u001b[39m\u001b[38;5;241m.\u001b[39mjoin(\n\u001b[1;32m     88\u001b[0m     [\n\u001b[1;32m     89\u001b[0m         \u001b[38;5;124m\"\u001b[39m\u001b[38;5;124m=\u001b[39m\u001b[38;5;124m\"\u001b[39m\u001b[38;5;241m.\u001b[39mjoin([key, \u001b[38;5;28mstr\u001b[39m(val)])\n\u001b[1;32m     90\u001b[0m         \u001b[38;5;28;01mfor\u001b[39;00m key, val \u001b[38;5;129;01min\u001b[39;00m \u001b[38;5;28mself\u001b[39m\u001b[38;5;241m.\u001b[39m_cached_auth_cookies\u001b[38;5;241m.\u001b[39mitems()\n\u001b[1;32m     91\u001b[0m     ]\n\u001b[1;32m     92\u001b[0m )\n",
      "File \u001b[0;32m~/opt/anaconda3/envs/DND/lib/python3.10/site-packages/office365/runtime/auth/providers/saml_token_provider.py:97\u001b[0m, in \u001b[0;36mSamlTokenProvider.ensure_authentication_cookie\u001b[0;34m(self)\u001b[0m\n\u001b[1;32m     95\u001b[0m \u001b[38;5;28;01mdef\u001b[39;00m \u001b[38;5;21mensure_authentication_cookie\u001b[39m(\u001b[38;5;28mself\u001b[39m):\n\u001b[1;32m     96\u001b[0m     \u001b[38;5;28;01mif\u001b[39;00m \u001b[38;5;28mself\u001b[39m\u001b[38;5;241m.\u001b[39m_cached_auth_cookies \u001b[38;5;129;01mis\u001b[39;00m \u001b[38;5;28;01mNone\u001b[39;00m:\n\u001b[0;32m---> 97\u001b[0m         \u001b[38;5;28mself\u001b[39m\u001b[38;5;241m.\u001b[39m_cached_auth_cookies \u001b[38;5;241m=\u001b[39m \u001b[38;5;28;43mself\u001b[39;49m\u001b[38;5;241;43m.\u001b[39;49m\u001b[43mget_authentication_cookie\u001b[49m\u001b[43m(\u001b[49m\u001b[43m)\u001b[49m\n\u001b[1;32m     98\u001b[0m     \u001b[38;5;28;01mreturn\u001b[39;00m \u001b[38;5;28;01mTrue\u001b[39;00m\n",
      "File \u001b[0;32m~/opt/anaconda3/envs/DND/lib/python3.10/site-packages/office365/runtime/auth/providers/saml_token_provider.py:111\u001b[0m, in \u001b[0;36mSamlTokenProvider.get_authentication_cookie\u001b[0;34m(self)\u001b[0m\n\u001b[1;32m    109\u001b[0m         token \u001b[38;5;241m=\u001b[39m \u001b[38;5;28mself\u001b[39m\u001b[38;5;241m.\u001b[39m_acquire_service_token_from_adfs(user_realm\u001b[38;5;241m.\u001b[39mSTSAuthUrl)\n\u001b[1;32m    110\u001b[0m     \u001b[38;5;28;01melse\u001b[39;00m:\n\u001b[0;32m--> 111\u001b[0m         token \u001b[38;5;241m=\u001b[39m \u001b[38;5;28;43mself\u001b[39;49m\u001b[38;5;241;43m.\u001b[39;49m\u001b[43m_acquire_service_token\u001b[49m\u001b[43m(\u001b[49m\u001b[43m)\u001b[49m\n\u001b[1;32m    112\u001b[0m     \u001b[38;5;28;01mreturn\u001b[39;00m \u001b[38;5;28mself\u001b[39m\u001b[38;5;241m.\u001b[39m_get_authentication_cookie(token, user_realm\u001b[38;5;241m.\u001b[39mIsFederated)\n\u001b[1;32m    113\u001b[0m \u001b[38;5;28;01mexcept\u001b[39;00m requests\u001b[38;5;241m.\u001b[39mexceptions\u001b[38;5;241m.\u001b[39mRequestException \u001b[38;5;28;01mas\u001b[39;00m e:\n",
      "File \u001b[0;32m~/opt/anaconda3/envs/DND/lib/python3.10/site-packages/office365/runtime/auth/providers/saml_token_provider.py:212\u001b[0m, in \u001b[0;36mSamlTokenProvider._acquire_service_token\u001b[0;34m(self)\u001b[0m\n\u001b[1;32m    206\u001b[0m logger\u001b[38;5;241m.\u001b[39mdebug_secrets(\u001b[38;5;124m\"\u001b[39m\u001b[38;5;124moptions: \u001b[39m\u001b[38;5;132;01m%s\u001b[39;00m\u001b[38;5;124m\"\u001b[39m, payload)\n\u001b[1;32m    207\u001b[0m response \u001b[38;5;241m=\u001b[39m requests\u001b[38;5;241m.\u001b[39mpost(\n\u001b[1;32m    208\u001b[0m     \u001b[38;5;28mself\u001b[39m\u001b[38;5;241m.\u001b[39m_sts_profile\u001b[38;5;241m.\u001b[39msecurity_token_service_url,\n\u001b[1;32m    209\u001b[0m     data\u001b[38;5;241m=\u001b[39mpayload,\n\u001b[1;32m    210\u001b[0m     headers\u001b[38;5;241m=\u001b[39m{\u001b[38;5;124m\"\u001b[39m\u001b[38;5;124mContent-Type\u001b[39m\u001b[38;5;124m\"\u001b[39m: \u001b[38;5;124m\"\u001b[39m\u001b[38;5;124mapplication/x-www-form-urlencoded\u001b[39m\u001b[38;5;124m\"\u001b[39m},\n\u001b[1;32m    211\u001b[0m )\n\u001b[0;32m--> 212\u001b[0m token \u001b[38;5;241m=\u001b[39m \u001b[38;5;28;43mself\u001b[39;49m\u001b[38;5;241;43m.\u001b[39;49m\u001b[43m_process_service_token_response\u001b[49m\u001b[43m(\u001b[49m\u001b[43mresponse\u001b[49m\u001b[43m)\u001b[49m\n\u001b[1;32m    213\u001b[0m logger\u001b[38;5;241m.\u001b[39mdebug_secrets(\u001b[38;5;124m\"\u001b[39m\u001b[38;5;124msecurity token: \u001b[39m\u001b[38;5;132;01m%s\u001b[39;00m\u001b[38;5;124m\"\u001b[39m, token)\n\u001b[1;32m    214\u001b[0m \u001b[38;5;28;01mreturn\u001b[39;00m token\n",
      "File \u001b[0;32m~/opt/anaconda3/envs/DND/lib/python3.10/site-packages/office365/runtime/auth/providers/saml_token_provider.py:262\u001b[0m, in \u001b[0;36mSamlTokenProvider._process_service_token_response\u001b[0;34m(self, response)\u001b[0m\n\u001b[1;32m    258\u001b[0m     \u001b[38;5;28mself\u001b[39m\u001b[38;5;241m.\u001b[39merror \u001b[38;5;241m=\u001b[39m \u001b[38;5;124m\"\u001b[39m\u001b[38;5;124mCannot get binary security token for from \u001b[39m\u001b[38;5;132;01m{0}\u001b[39;00m\u001b[38;5;124m\"\u001b[39m\u001b[38;5;241m.\u001b[39mformat(\n\u001b[1;32m    259\u001b[0m         \u001b[38;5;28mself\u001b[39m\u001b[38;5;241m.\u001b[39m_sts_profile\u001b[38;5;241m.\u001b[39msecurity_token_service_url\n\u001b[1;32m    260\u001b[0m     )\n\u001b[1;32m    261\u001b[0m     logger\u001b[38;5;241m.\u001b[39merror(\u001b[38;5;28mself\u001b[39m\u001b[38;5;241m.\u001b[39merror)\n\u001b[0;32m--> 262\u001b[0m     \u001b[38;5;28;01mraise\u001b[39;00m \u001b[38;5;167;01mValueError\u001b[39;00m(\u001b[38;5;28mself\u001b[39m\u001b[38;5;241m.\u001b[39merror)\n\u001b[1;32m    263\u001b[0m logger\u001b[38;5;241m.\u001b[39mdebug_secrets(\u001b[38;5;124m\"\u001b[39m\u001b[38;5;124mtoken: \u001b[39m\u001b[38;5;132;01m%s\u001b[39;00m\u001b[38;5;124m\"\u001b[39m, token)\n\u001b[1;32m    264\u001b[0m \u001b[38;5;28;01mreturn\u001b[39;00m token\u001b[38;5;241m.\u001b[39mtext\n",
      "\u001b[0;31mValueError\u001b[0m: Cannot get binary security token for from https://login.microsoftonline.com/extSTS.srf"
     ]
    }
   ],
   "source": [
    "profile = people_manager.get_properties_for(username)\n",
    "ctx.execute_query()"
   ]
  },
  {
   "cell_type": "code",
   "execution_count": 13,
   "metadata": {},
   "outputs": [
    {
     "data": {
      "text/plain": [
       "{}"
      ]
     },
     "execution_count": 13,
     "metadata": {},
     "output_type": "execute_result"
    }
   ],
   "source": [
    "profile.properties"
   ]
  },
  {
   "cell_type": "code",
   "execution_count": null,
   "metadata": {},
   "outputs": [],
   "source": []
  }
 ],
 "metadata": {
  "kernelspec": {
   "display_name": "DND",
   "language": "python",
   "name": "python3"
  },
  "language_info": {
   "codemirror_mode": {
    "name": "ipython",
    "version": 3
   },
   "file_extension": ".py",
   "mimetype": "text/x-python",
   "name": "python",
   "nbconvert_exporter": "python",
   "pygments_lexer": "ipython3",
   "version": "3.10.13"
  }
 },
 "nbformat": 4,
 "nbformat_minor": 2
}
